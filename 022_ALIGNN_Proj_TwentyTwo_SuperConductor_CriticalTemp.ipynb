{
  "nbformat": 4,
  "nbformat_minor": 0,
  "metadata": {
    "colab": {
      "provenance": [],
      "collapsed_sections": [
        "kd0ncdO4PsXe",
        "YyRUN7HNZWCe",
        "5DlgpHHjZoWa",
        "3jldcXQNgNkZ",
        "VUrkNo5nmJcS",
        "U6XBVA10pcZo",
        "_zRMbXpiFWom"
      ],
      "toc_visible": true,
      "authorship_tag": "ABX9TyMCwHVihJkCT55FFRyDPVm4",
      "include_colab_link": true
    },
    "kernelspec": {
      "name": "python3",
      "display_name": "Python 3"
    },
    "language_info": {
      "name": "python"
    }
  },
  "cells": [
    {
      "cell_type": "markdown",
      "metadata": {
        "id": "view-in-github",
        "colab_type": "text"
      },
      "source": [
        "<a href=\"https://colab.research.google.com/github/ariahosseini/DeepML/blob/main/022_ALIGNN_Proj_TwentyTwo_SuperConductor_CriticalTemp.ipynb\" target=\"_parent\"><img src=\"https://colab.research.google.com/assets/colab-badge.svg\" alt=\"Open In Colab\"/></a>"
      ]
    },
    {
      "cell_type": "code",
      "source": [
        "!pip install -U jarvis-tools --quiet\n",
        "!pip install xformers==v0.0.22 --quiet"
      ],
      "metadata": {
        "id": "Xo37cToyS9Us",
        "colab": {
          "base_uri": "https://localhost:8080/"
        },
        "outputId": "55c073cb-1a9a-456c-9b4c-22dc107b831e"
      },
      "execution_count": null,
      "outputs": [
        {
          "output_type": "stream",
          "name": "stdout",
          "text": [
            "\u001b[2K     \u001b[90m━━━━━━━━━━━━━━━━━━━━━━━━━━━━━━━━━━━━━━━━\u001b[0m \u001b[32m976.2/976.2 kB\u001b[0m \u001b[31m4.2 MB/s\u001b[0m eta \u001b[36m0:00:00\u001b[0m\n",
            "\u001b[2K     \u001b[90m━━━━━━━━━━━━━━━━━━━━━━━━━━━━━━━━━━━━━━━━\u001b[0m \u001b[32m807.7/807.7 kB\u001b[0m \u001b[31m26.5 MB/s\u001b[0m eta \u001b[36m0:00:00\u001b[0m\n",
            "\u001b[2K     \u001b[90m━━━━━━━━━━━━━━━━━━━━━━━━━━━━━━━━━━━━━━━━\u001b[0m \u001b[32m8.7/8.7 MB\u001b[0m \u001b[31m32.8 MB/s\u001b[0m eta \u001b[36m0:00:00\u001b[0m\n",
            "\u001b[2K     \u001b[90m━━━━━━━━━━━━━━━━━━━━━━━━━━━━━━━━━━━━━━━━\u001b[0m \u001b[32m3.7/3.7 MB\u001b[0m \u001b[31m19.9 MB/s\u001b[0m eta \u001b[36m0:00:00\u001b[0m\n",
            "\u001b[?25h  Preparing metadata (setup.py) ... \u001b[?25l\u001b[?25hdone\n",
            "\u001b[2K     \u001b[90m━━━━━━━━━━━━━━━━━━━━━━━━━━━━━━━━━━━━━━━━\u001b[0m \u001b[32m250.8/250.8 kB\u001b[0m \u001b[31m4.7 MB/s\u001b[0m eta \u001b[36m0:00:00\u001b[0m\n",
            "\u001b[2K     \u001b[90m━━━━━━━━━━━━━━━━━━━━━━━━━━━━━━━━━━━━━━━━\u001b[0m \u001b[32m83.0/83.0 kB\u001b[0m \u001b[31m1.7 MB/s\u001b[0m eta \u001b[36m0:00:00\u001b[0m\n",
            "\u001b[?25h  Building wheel for paginate (setup.py) ... \u001b[?25l\u001b[?25hdone\n",
            "\u001b[2K     \u001b[90m━━━━━━━━━━━━━━━━━━━━━━━━━━━━━━━━━━━━━━━━\u001b[0m \u001b[32m211.6/211.6 MB\u001b[0m \u001b[31m3.5 MB/s\u001b[0m eta \u001b[36m0:00:00\u001b[0m\n",
            "\u001b[2K     \u001b[90m━━━━━━━━━━━━━━━━━━━━━━━━━━━━━━━━━━━━━━━━\u001b[0m \u001b[32m619.9/619.9 MB\u001b[0m \u001b[31m1.7 MB/s\u001b[0m eta \u001b[36m0:00:00\u001b[0m\n",
            "\u001b[2K     \u001b[90m━━━━━━━━━━━━━━━━━━━━━━━━━━━━━━━━━━━━━━━━\u001b[0m \u001b[32m21.0/21.0 MB\u001b[0m \u001b[31m4.9 MB/s\u001b[0m eta \u001b[36m0:00:00\u001b[0m\n",
            "\u001b[2K     \u001b[90m━━━━━━━━━━━━━━━━━━━━━━━━━━━━━━━━━━━━━━━━\u001b[0m \u001b[32m849.3/849.3 kB\u001b[0m \u001b[31m5.6 MB/s\u001b[0m eta \u001b[36m0:00:00\u001b[0m\n",
            "\u001b[2K     \u001b[90m━━━━━━━━━━━━━━━━━━━━━━━━━━━━━━━━━━━━━━━━\u001b[0m \u001b[32m11.8/11.8 MB\u001b[0m \u001b[31m6.4 MB/s\u001b[0m eta \u001b[36m0:00:00\u001b[0m\n",
            "\u001b[2K     \u001b[90m━━━━━━━━━━━━━━━━━━━━━━━━━━━━━━━━━━━━━━━━\u001b[0m \u001b[32m557.1/557.1 MB\u001b[0m \u001b[31m1.8 MB/s\u001b[0m eta \u001b[36m0:00:00\u001b[0m\n",
            "\u001b[2K     \u001b[90m━━━━━━━━━━━━━━━━━━━━━━━━━━━━━━━━━━━━━━━━\u001b[0m \u001b[32m317.1/317.1 MB\u001b[0m \u001b[31m3.5 MB/s\u001b[0m eta \u001b[36m0:00:00\u001b[0m\n",
            "\u001b[2K     \u001b[90m━━━━━━━━━━━━━━━━━━━━━━━━━━━━━━━━━━━━━━━━\u001b[0m \u001b[32m168.4/168.4 MB\u001b[0m \u001b[31m2.7 MB/s\u001b[0m eta \u001b[36m0:00:00\u001b[0m\n",
            "\u001b[2K     \u001b[90m━━━━━━━━━━━━━━━━━━━━━━━━━━━━━━━━━━━━━━━━\u001b[0m \u001b[32m54.6/54.6 MB\u001b[0m \u001b[31m9.5 MB/s\u001b[0m eta \u001b[36m0:00:00\u001b[0m\n",
            "\u001b[2K     \u001b[90m━━━━━━━━━━━━━━━━━━━━━━━━━━━━━━━━━━━━━━━━\u001b[0m \u001b[32m102.6/102.6 MB\u001b[0m \u001b[31m7.6 MB/s\u001b[0m eta \u001b[36m0:00:00\u001b[0m\n",
            "\u001b[2K     \u001b[90m━━━━━━━━━━━━━━━━━━━━━━━━━━━━━━━━━━━━━━━━\u001b[0m \u001b[32m173.2/173.2 MB\u001b[0m \u001b[31m5.2 MB/s\u001b[0m eta \u001b[36m0:00:00\u001b[0m\n",
            "\u001b[2K     \u001b[90m━━━━━━━━━━━━━━━━━━━━━━━━━━━━━━━━━━━━━━━━\u001b[0m \u001b[32m177.1/177.1 MB\u001b[0m \u001b[31m5.4 MB/s\u001b[0m eta \u001b[36m0:00:00\u001b[0m\n",
            "\u001b[2K     \u001b[90m━━━━━━━━━━━━━━━━━━━━━━━━━━━━━━━━━━━━━━━━\u001b[0m \u001b[32m98.6/98.6 kB\u001b[0m \u001b[31m7.8 MB/s\u001b[0m eta \u001b[36m0:00:00\u001b[0m\n",
            "\u001b[2K     \u001b[90m━━━━━━━━━━━━━━━━━━━━━━━━━━━━━━━━━━━━━━━━\u001b[0m \u001b[32m63.3/63.3 MB\u001b[0m \u001b[31m7.4 MB/s\u001b[0m eta \u001b[36m0:00:00\u001b[0m\n",
            "\u001b[2K     \u001b[90m━━━━━━━━━━━━━━━━━━━━━━━━━━━━━━━━━━━━━━━━\u001b[0m \u001b[32m161.0/161.0 kB\u001b[0m \u001b[31m14.2 MB/s\u001b[0m eta \u001b[36m0:00:00\u001b[0m\n",
            "\u001b[?25h  Installing build dependencies ... \u001b[?25l\u001b[?25hdone\n",
            "  Getting requirements to build wheel ... \u001b[?25l\u001b[?25hdone\n",
            "  Installing backend dependencies ... \u001b[?25l\u001b[?25hdone\n",
            "  Preparing metadata (pyproject.toml) ... \u001b[?25l\u001b[?25hdone\n",
            "  Building wheel for lit (pyproject.toml) ... \u001b[?25l\u001b[?25hdone\n",
            "\u001b[31mERROR: pip's dependency resolver does not currently take into account all the packages that are installed. This behaviour is the source of the following dependency conflicts.\n",
            "torchaudio 2.2.1+cu121 requires torch==2.2.1, but you have torch 2.0.1 which is incompatible.\n",
            "torchtext 0.17.1 requires torch==2.2.1, but you have torch 2.0.1 which is incompatible.\n",
            "torchvision 0.17.1+cu121 requires torch==2.2.1, but you have torch 2.0.1 which is incompatible.\u001b[0m\u001b[31m\n",
            "\u001b[0m"
          ]
        }
      ]
    },
    {
      "cell_type": "code",
      "source": [
        "!pip install --upgrade git+https://gitlab.com/ase/ase.git@master"
      ],
      "metadata": {
        "colab": {
          "base_uri": "https://localhost:8080/"
        },
        "id": "QIWT87WMG2QD",
        "outputId": "6492b5fb-1ce7-4c0b-aecd-1976853e1414"
      },
      "execution_count": null,
      "outputs": [
        {
          "output_type": "stream",
          "name": "stdout",
          "text": [
            "Collecting git+https://gitlab.com/ase/ase.git@master\n",
            "  Cloning https://gitlab.com/ase/ase.git (to revision master) to /tmp/pip-req-build-r6mzx47a\n",
            "  Running command git clone --filter=blob:none --quiet https://gitlab.com/ase/ase.git /tmp/pip-req-build-r6mzx47a\n",
            "  Resolved https://gitlab.com/ase/ase.git to commit 28a0a1f1988e3f06c2c887139103c573b74a066c\n",
            "  Installing build dependencies ... \u001b[?25l\u001b[?25hdone\n",
            "  Getting requirements to build wheel ... \u001b[?25l\u001b[?25hdone\n",
            "  Installing backend dependencies ... \u001b[?25l\u001b[?25hdone\n",
            "  Preparing metadata (pyproject.toml) ... \u001b[?25l\u001b[?25hdone\n",
            "Requirement already satisfied: numpy>=1.18.5 in /usr/local/lib/python3.10/dist-packages (from ase==3.23.0b1) (1.25.2)\n",
            "Requirement already satisfied: scipy>=1.6.0 in /usr/local/lib/python3.10/dist-packages (from ase==3.23.0b1) (1.11.4)\n",
            "Requirement already satisfied: matplotlib>=3.3.4 in /usr/local/lib/python3.10/dist-packages (from ase==3.23.0b1) (3.7.1)\n",
            "Requirement already satisfied: contourpy>=1.0.1 in /usr/local/lib/python3.10/dist-packages (from matplotlib>=3.3.4->ase==3.23.0b1) (1.2.0)\n",
            "Requirement already satisfied: cycler>=0.10 in /usr/local/lib/python3.10/dist-packages (from matplotlib>=3.3.4->ase==3.23.0b1) (0.12.1)\n",
            "Requirement already satisfied: fonttools>=4.22.0 in /usr/local/lib/python3.10/dist-packages (from matplotlib>=3.3.4->ase==3.23.0b1) (4.50.0)\n",
            "Requirement already satisfied: kiwisolver>=1.0.1 in /usr/local/lib/python3.10/dist-packages (from matplotlib>=3.3.4->ase==3.23.0b1) (1.4.5)\n",
            "Requirement already satisfied: packaging>=20.0 in /usr/local/lib/python3.10/dist-packages (from matplotlib>=3.3.4->ase==3.23.0b1) (24.0)\n",
            "Requirement already satisfied: pillow>=6.2.0 in /usr/local/lib/python3.10/dist-packages (from matplotlib>=3.3.4->ase==3.23.0b1) (9.4.0)\n",
            "Requirement already satisfied: pyparsing>=2.3.1 in /usr/local/lib/python3.10/dist-packages (from matplotlib>=3.3.4->ase==3.23.0b1) (3.1.2)\n",
            "Requirement already satisfied: python-dateutil>=2.7 in /usr/local/lib/python3.10/dist-packages (from matplotlib>=3.3.4->ase==3.23.0b1) (2.8.2)\n",
            "Requirement already satisfied: six>=1.5 in /usr/local/lib/python3.10/dist-packages (from python-dateutil>=2.7->matplotlib>=3.3.4->ase==3.23.0b1) (1.16.0)\n",
            "Building wheels for collected packages: ase\n",
            "  Building wheel for ase (pyproject.toml) ... \u001b[?25l\u001b[?25hdone\n",
            "  Created wheel for ase: filename=ase-3.23.0b1-py3-none-any.whl size=2699941 sha256=202751567d63526c455992bb001c291461612eb0ce06d569164118991c76c56a\n",
            "  Stored in directory: /tmp/pip-ephem-wheel-cache-e46ofu9_/wheels/01/fc/60/e6134958a4ba6921161034c849be512a068712df0013719724\n",
            "Successfully built ase\n",
            "Installing collected packages: ase\n",
            "Successfully installed ase-3.23.0b1\n"
          ]
        }
      ]
    },
    {
      "cell_type": "code",
      "source": [
        "%%time\n",
        "!pip install -q dgl==1.0.1+cu117 -f https://data.dgl.ai/wheels/cu117/repo.html\n",
        "!pip install -q alignn phonopy"
      ],
      "metadata": {
        "colab": {
          "base_uri": "https://localhost:8080/"
        },
        "id": "hMStTBa5bGsX",
        "outputId": "f645ae78-ea87-43dd-9dfb-6d4898a97309"
      },
      "execution_count": null,
      "outputs": [
        {
          "output_type": "stream",
          "name": "stdout",
          "text": [
            "\u001b[2K     \u001b[90m━━━━━━━━━━━━━━━━━━━━━━━━━━━━━━━━━━━━━━━━\u001b[0m \u001b[32m266.3/266.3 MB\u001b[0m \u001b[31m3.8 MB/s\u001b[0m eta \u001b[36m0:00:00\u001b[0m\n",
            "\u001b[2K     \u001b[90m━━━━━━━━━━━━━━━━━━━━━━━━━━━━━━━━━━━━━━━━\u001b[0m \u001b[32m105.4/105.4 kB\u001b[0m \u001b[31m1.3 MB/s\u001b[0m eta \u001b[36m0:00:00\u001b[0m\n",
            "\u001b[2K     \u001b[90m━━━━━━━━━━━━━━━━━━━━━━━━━━━━━━━━━━━━━━━━\u001b[0m \u001b[32m4.0/4.0 MB\u001b[0m \u001b[31m12.4 MB/s\u001b[0m eta \u001b[36m0:00:00\u001b[0m\n",
            "\u001b[?25h  Installing build dependencies ... \u001b[?25l\u001b[?25hdone\n",
            "  Getting requirements to build wheel ... \u001b[?25l\u001b[?25hdone\n",
            "  Preparing metadata (pyproject.toml) ... \u001b[?25l\u001b[?25hdone\n",
            "\u001b[2K     \u001b[90m━━━━━━━━━━━━━━━━━━━━━━━━━━━━━━━━━━━━━━━━\u001b[0m \u001b[32m57.6/57.6 kB\u001b[0m \u001b[31m5.4 MB/s\u001b[0m eta \u001b[36m0:00:00\u001b[0m\n",
            "\u001b[2K     \u001b[90m━━━━━━━━━━━━━━━━━━━━━━━━━━━━━━━━━━━━━━━━\u001b[0m \u001b[32m67.8/67.8 kB\u001b[0m \u001b[31m5.8 MB/s\u001b[0m eta \u001b[36m0:00:00\u001b[0m\n",
            "\u001b[2K     \u001b[90m━━━━━━━━━━━━━━━━━━━━━━━━━━━━━━━━━━━━━━━━\u001b[0m \u001b[32m62.7/62.7 kB\u001b[0m \u001b[31m5.1 MB/s\u001b[0m eta \u001b[36m0:00:00\u001b[0m\n",
            "\u001b[?25h  Building wheel for phonopy (pyproject.toml) ... \u001b[?25l\u001b[?25hdone\n",
            "CPU times: user 760 ms, sys: 71.3 ms, total: 831 ms\n",
            "Wall time: 1min 10s\n"
          ]
        }
      ]
    },
    {
      "cell_type": "code",
      "source": [
        "# utils\n",
        "import os, sys, itertools, requests, zipfile, io, tempfile, glob, time\n",
        "import json\n",
        "import pandas as pd\n",
        "import numpy as np\n",
        "# ase\n",
        "from ase import Atom, Atoms as AseAtoms\n",
        "from ase import data\n",
        "# torch\n",
        "import torch\n",
        "# jarvis\n",
        "from jarvis.core.atoms import Atoms\n",
        "from jarvis.analysis.diffraction.xrd import XRD\n",
        "from jarvis.io.vasp.inputs import Poscar\n",
        "from jarvis.io.vasp.outputs import Vasprun\n",
        "from jarvis.db.figshare import get_jid_data, data as jdata\n",
        "from jarvis.db.jsonutils import dumpjson, loadjson\n",
        "from jarvis.core.atoms import ase_to_atoms\n",
        "# alignn\n",
        "from alignn.models.alignn import ALIGNN, ALIGNNConfig\n",
        "from alignn.models.alignn_atomwise import ALIGNNAtomWise, ALIGNNAtomWiseConfig\n",
        "from alignn.graphs import Graph\n",
        "from alignn.ff.ff import (phonons, ForceField, AlignnAtomwiseCalculator,\n",
        "                          default_path, wt10_path,fd_path, alignnff_fmult)\n",
        "# vis\n",
        "import matplotlib.pyplot as plt"
      ],
      "metadata": {
        "id": "qo_Gh9nTZb69"
      },
      "execution_count": null,
      "outputs": []
    },
    {
      "cell_type": "code",
      "source": [
        "%matplotlib inline"
      ],
      "metadata": {
        "id": "xKxiH_ccn4tZ"
      },
      "execution_count": null,
      "outputs": []
    },
    {
      "cell_type": "code",
      "execution_count": null,
      "metadata": {
        "colab": {
          "base_uri": "https://localhost:8080/"
        },
        "id": "nHcHcST6a4PT",
        "outputId": "0ba8b0be-2256-436e-bac7-9a6b431533fd"
      },
      "outputs": [
        {
          "output_type": "stream",
          "name": "stdout",
          "text": [
            "nvcc: NVIDIA (R) Cuda compiler driver\n",
            "Copyright (c) 2005-2023 NVIDIA Corporation\n",
            "Built on Tue_Aug_15_22:02:13_PDT_2023\n",
            "Cuda compilation tools, release 12.2, V12.2.140\n",
            "Build cuda_12.2.r12.2/compiler.33191640_0\n"
          ]
        }
      ],
      "source": [
        "!nvcc --version"
      ]
    },
    {
      "cell_type": "code",
      "source": [
        "!mkdir SuperConductor_CriticalTemp\n",
        "!cd SuperConductor_CriticalTemp\n",
        "os.chdir(\"SuperConductor_CriticalTemp\")"
      ],
      "metadata": {
        "id": "YpH64HRevoyV"
      },
      "execution_count": null,
      "outputs": []
    },
    {
      "cell_type": "code",
      "source": [
        "data = {\n",
        "    \"version\": \"112bbedebdaecf59fb18e11c929080fb2f358246\",\n",
        "    \"dataset\": \"user_data\",\n",
        "    \"target\": \"target\",\n",
        "    \"atom_features\": \"cgcnn\",\n",
        "    \"neighbor_strategy\": \"k-nearest\",\n",
        "    \"id_tag\": \"jid\",\n",
        "    \"random_seed\": 123,\n",
        "    \"classification_threshold\": None,\n",
        "    \"n_val\": None,\n",
        "    \"n_test\": None,\n",
        "    \"n_train\": None,\n",
        "    \"train_ratio\": 0.8,\n",
        "    \"val_ratio\": 0.1,\n",
        "    \"test_ratio\": 0.1,\n",
        "    \"target_multiplication_factor\": None,\n",
        "    \"epochs\": 3,\n",
        "    \"batch_size\": 2,\n",
        "    \"weight_decay\": 1e-05,\n",
        "    \"learning_rate\": 0.001,\n",
        "    \"filename\": \"sample\",\n",
        "    \"warmup_steps\": 2000,\n",
        "    \"criterion\": \"mse\",\n",
        "    \"optimizer\": \"adamw\",\n",
        "    \"scheduler\": \"onecycle\",\n",
        "    \"pin_memory\": False,\n",
        "    \"save_dataloader\": False,\n",
        "    \"write_checkpoint\": True,\n",
        "    \"write_predictions\": True,\n",
        "    \"store_outputs\": True,\n",
        "    \"progress\": True,\n",
        "    \"log_tensorboard\": False,\n",
        "    \"standard_scalar_and_pca\": False,\n",
        "    \"use_canonize\": True,\n",
        "    \"num_workers\": 0,\n",
        "    \"cutoff\": 8.0,\n",
        "    \"max_neighbors\": 12,\n",
        "    \"keep_data_order\": False,\n",
        "    \"model\": {\n",
        "        \"name\": \"alignn\",\n",
        "        \"alignn_layers\": 4,\n",
        "        \"gcn_layers\": 4,\n",
        "        \"atom_input_features\": 92,\n",
        "        \"edge_input_features\": 80,\n",
        "        \"triplet_input_features\": 40,\n",
        "        \"embedding_features\": 64,\n",
        "        \"hidden_features\": 256,\n",
        "        \"output_features\": 1,\n",
        "        \"link\": \"identity\",\n",
        "        \"zero_inflated\": False,\n",
        "        \"classification\": False\n",
        "    }\n",
        "}\n",
        "file_path = \"config.json\"\n",
        "with open(file_path, \"w\") as json_file:\n",
        "    json.dump(data, json_file)"
      ],
      "metadata": {
        "id": "2GtFbxduqRZC"
      },
      "execution_count": null,
      "outputs": []
    },
    {
      "cell_type": "code",
      "source": [
        "outdir = \"./\"\n",
        "dft_3d = jdata(\"dft_3d\")\n",
        "prop = \"Tc_supercon\"  # \"optb88vdw_bandgap\"\n",
        "# max_samples = 50\n",
        "f = open(\"id_prop.csv\", \"w\")\n",
        "count = 0\n",
        "for i in dft_3d:\n",
        "    atoms = Atoms.from_dict(i[\"atoms\"])\n",
        "    jid = i[\"jid\"]\n",
        "    poscar_name = \"POSCAR-\" + jid + \".vasp\"\n",
        "    target = i[prop]\n",
        "    if target != \"na\":\n",
        "        atoms.write_poscar(poscar_name)\n",
        "        f.write(\"%s,%6f\\n\" % (poscar_name, target))\n",
        "        # count += 1\n",
        "        # if count == max_samples:\n",
        "        #    break\n",
        "f.close()"
      ],
      "metadata": {
        "colab": {
          "base_uri": "https://localhost:8080/"
        },
        "id": "tCNrLU2tqR6t",
        "outputId": "953ead5e-3b88-4ceb-c278-e23b72437dd2"
      },
      "execution_count": null,
      "outputs": [
        {
          "output_type": "stream",
          "name": "stdout",
          "text": [
            "Obtaining 3D dataset 76k ...\n",
            "Reference:https://www.nature.com/articles/s41524-020-00440-1\n",
            "Other versions:https://doi.org/10.6084/m9.figshare.6815699\n",
            "Loading the zipfile...\n",
            "Loading completed.\n"
          ]
        }
      ]
    },
    {
      "cell_type": "code",
      "source": [
        "!ls /usr/local/bin/*alignn*"
      ],
      "metadata": {
        "colab": {
          "base_uri": "https://localhost:8080/"
        },
        "id": "JdKZc7NQwWln",
        "outputId": "3d843ba0-901e-44f6-c21e-e98e7b0bbf50"
      },
      "execution_count": null,
      "outputs": [
        {
          "output_type": "stream",
          "name": "stdout",
          "text": [
            "/usr/local/bin/run_alignn_ff.py  /usr/local/bin/train_alignn.py\n"
          ]
        }
      ]
    },
    {
      "cell_type": "code",
      "source": [
        "%%time\n",
        "!train_alignn.py --root_dir \"./\" --config \"config.json\" --output_dir=temp"
      ],
      "metadata": {
        "colab": {
          "base_uri": "https://localhost:8080/"
        },
        "id": "S9NdwvSuqSIC",
        "outputId": "7053be0c-0677-4cfb-e6d7-d45d5d38ffa1"
      },
      "execution_count": null,
      "outputs": [
        {
          "output_type": "stream",
          "name": "stdout",
          "text": [
            "fatal: not a git repository (or any of the parent directories): .git\n",
            "id_prop_csv_file exists True\n",
            "Traceback (most recent call last):\n",
            "  File \"/usr/local/bin/train_alignn.py\", line 393, in <module>\n",
            "    train_for_folder(\n",
            "  File \"/usr/local/bin/train_alignn.py\", line 177, in train_for_folder\n",
            "    if config.model.calculate_gradient and config.model.gradwise_weight != 0:\n",
            "  File \"/usr/local/lib/python3.10/dist-packages/pydantic/main.py\", line 767, in __getattr__\n",
            "    raise AttributeError(f'{type(self).__name__!r} object has no attribute {item!r}')\n",
            "AttributeError: 'ALIGNNConfig' object has no attribute 'calculate_gradient'\n",
            "CPU times: user 81.2 ms, sys: 11.1 ms, total: 92.3 ms\n",
            "Wall time: 7.96 s\n"
          ]
        }
      ]
    },
    {
      "cell_type": "code",
      "source": [
        "data = pd.read_csv(\"temp/prediction_results_test_set.csv\", skiprows=1)\n",
        "x = data.iloc[:, 1]\n",
        "y = data.iloc[:, 2]\n",
        "line_values = np.linspace(min(x.min(), y.min()), max(x.max(), y.max()), 100)\n",
        "plt.plot(line_values, line_values, label=\"x=y Reference\", color=\"r\", linestyle=\"--\")\n",
        "plt.scatter(x, y)\n",
        "plt.xlabel(\"Target DFT Critical Temp (K)\")\n",
        "plt.ylabel(\"Predicted ALIGNN (Tc)\")\n",
        "plt.title(\"Prediction Results for Test Set\")\n",
        "plt.show()"
      ],
      "metadata": {
        "id": "FGZ5yFJlqSRM"
      },
      "execution_count": null,
      "outputs": []
    },
    {
      "cell_type": "code",
      "source": [
        "data = pd.read_csv(\"temp/prediction_results_train_set.csv\", skiprows=1)\n",
        "x = data.iloc[:, 0]\n",
        "y = data.iloc[:, 1]\n",
        "line_values = np.linspace(min(x.min(), y.min()), max(x.max(), y.max()), 100)\n",
        "plt.plot(line_values, line_values, label=\"x=y Reference\", color=\"r\", linestyle=\"--\")\n",
        "plt.scatter(x, y)\n",
        "plt.xlabel(\"Target DFT Critical Temp (K)\")\n",
        "plt.ylabel(\"Predicted ALIGNN (Tc)\")\n",
        "plt.title(\"Prediction Results for Training Set\")\n",
        "plt.show()"
      ],
      "metadata": {
        "id": "eNzvN7RZrJGo"
      },
      "execution_count": null,
      "outputs": []
    },
    {
      "cell_type": "code",
      "source": [
        "output_features =  1\n",
        "filename = 'temp/checkpoint_3.pt'\n",
        "device = \"cpu\"\n",
        "if torch.cuda.is_available():\n",
        "    device = torch.device(\"cuda\")\n",
        "model = ALIGNN(ALIGNNConfig(name=\"alignn\", output_features=output_features))\n",
        "model.load_state_dict(torch.load(filename, map_location=device)[\"model\"])\n",
        "model.eval()"
      ],
      "metadata": {
        "id": "dM_w0J6VrJLv"
      },
      "execution_count": null,
      "outputs": []
    },
    {
      "cell_type": "code",
      "source": [
        "dft_3d = data('dft_3d')\n",
        "df=pd.DataFrame(dft_3d)\n",
        "print(df.columns, len(df.columns))"
      ],
      "metadata": {
        "id": "p6QfdISVrJRv"
      },
      "execution_count": null,
      "outputs": []
    },
    {
      "cell_type": "code",
      "source": [
        "df1 = df[['optb88vdw_bandgap','magmom_outcar', 'ehull', 'atoms', 'jid']].replace('na',np.nan).dropna()"
      ],
      "metadata": {
        "id": "pA8UzoSRrzFE"
      },
      "execution_count": null,
      "outputs": []
    },
    {
      "cell_type": "code",
      "source": [
        "def has_element(atoms_dict = {}, my_element = 'H'):\n",
        "    atoms = Atoms.from_dict(atoms_dict)\n",
        "    elements = atoms.elements\n",
        "    if my_element in elements:\n",
        "        return True\n",
        "    else:\n",
        "        return np.nan\n",
        "df1['el'] = df1['atoms'].apply(lambda x: has_element(atoms_dict = x, my_element = 'H'))\n",
        "df1['formula'] = df1['atoms'].apply(lambda x: Atoms.from_dict(x).composition.reduced_formula)"
      ],
      "metadata": {
        "id": "a2KF3D5trzMx"
      },
      "execution_count": null,
      "outputs": []
    },
    {
      "cell_type": "code",
      "source": [
        "df2 = df1.dropna()"
      ],
      "metadata": {
        "id": "Oy9MLut1rzZa"
      },
      "execution_count": null,
      "outputs": []
    },
    {
      "cell_type": "code",
      "source": [
        "df2[(df2['optb88vdw_bandgap'] <= .1) & (df2['ehull'] <= .2) & (df2['magmom_outcar'] <= 0.05)]"
      ],
      "metadata": {
        "id": "u-Z4NHB3r6vc"
      },
      "execution_count": null,
      "outputs": []
    },
    {
      "cell_type": "code",
      "source": [
        "dat = get_jid_data(jid=\"JVASP-157789\", dataset=\"dft_3d\")\n",
        "atoms = Atoms.from_dict(dat[\"atoms\"])\n",
        "atoms.write_poscar('POSCAR-JVASP-157789')"
      ],
      "metadata": {
        "id": "rw-zCoMgr63f"
      },
      "execution_count": null,
      "outputs": []
    },
    {
      "cell_type": "code",
      "source": [
        "output_features = 1\n",
        "filename = 'temp/checkpoint_3.pt'\n",
        "device = \"cpu\"\n",
        "if torch.cuda.is_available():\n",
        "    device = torch.device(\"cuda\")\n",
        "model = ALIGNN(ALIGNNConfig(name=\"alignn\", output_features=output_features))\n",
        "model.load_state_dict(torch.load(filename, map_location=device)[\"model\"])\n",
        "model.eval()\n",
        "cutoff = 8.0\n",
        "model = model.to(device)\n",
        "max_neighbors = 12\n",
        "jids = [\"POSCAR-JVASP-157789\"]\n",
        "original_stdout = sys.stdout\n",
        "for i in jids:\n",
        "    atoms = Atoms.from_poscar(i)\n",
        "    g, lg = Graph.atom_dgl_multigraph(\n",
        "        atoms, cutoff=float(cutoff), max_neighbors=max_neighbors\n",
        "    )\n",
        "    out_data = (\n",
        "        model([g.to(device), lg.to(device)])\n",
        "        .detach()\n",
        "        .cpu()\n",
        "        .numpy()\n",
        "        .flatten()\n",
        "        .tolist()\n",
        "    )\n",
        "    print(i, out_data[0])"
      ],
      "metadata": {
        "id": "dtBRqKudr6-r"
      },
      "execution_count": null,
      "outputs": []
    },
    {
      "cell_type": "code",
      "source": [
        "!pretrained.py --model_name jv_supercon_tc_alignn --file_format poscar --file_path POSCAR-JVASP-157789"
      ],
      "metadata": {
        "id": "thL026mxr7Cp"
      },
      "execution_count": null,
      "outputs": []
    }
  ]
}