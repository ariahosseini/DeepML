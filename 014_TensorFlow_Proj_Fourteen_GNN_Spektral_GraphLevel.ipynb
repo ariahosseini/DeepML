{
  "nbformat": 4,
  "nbformat_minor": 0,
  "metadata": {
    "colab": {
      "provenance": [],
      "toc_visible": true,
      "authorship_tag": "ABX9TyPb5AresqTQKQEEwNM0+yVu",
      "include_colab_link": true
    },
    "kernelspec": {
      "name": "python3",
      "display_name": "Python 3"
    },
    "language_info": {
      "name": "python"
    }
  },
  "cells": [
    {
      "cell_type": "markdown",
      "metadata": {
        "id": "view-in-github",
        "colab_type": "text"
      },
      "source": [
        "<a href=\"https://colab.research.google.com/github/ariahosseini/DeepML/blob/main/014_TensorFlow_Proj_Fourteen_GNN_Spektral_GraphLevel.ipynb\" target=\"_parent\"><img src=\"https://colab.research.google.com/assets/colab-badge.svg\" alt=\"Open In Colab\"/></a>"
      ]
    },
    {
      "cell_type": "code",
      "execution_count": null,
      "metadata": {
        "id": "2rvusxE0zEGS"
      },
      "outputs": [],
      "source": [
        "# install\n",
        "# !pip install spektral\n",
        "# !pip install ogb"
      ]
    },
    {
      "cell_type": "code",
      "source": [
        "# utils\n",
        "import numpy as np\n",
        "import scipy.sparse as sp\n",
        "from tqdm import tqdm\n",
        "from ogb.graphproppred import Evaluator, GraphPropPredDataset\n",
        "# sklearn\n",
        "from sklearn.metrics.cluster import (completeness_score,\n",
        "                                     homogeneity_score,\n",
        "                                     v_measure_score)\n",
        "# tensorflow\n",
        "import tensorflow as tf\n",
        "from tensorflow.keras.layers import Dense, Input, Dropout\n",
        "from tensorflow.keras.losses import (CategoricalCrossentropy,\n",
        "                                     BinaryCrossentropy,\n",
        "                                     MeanSquaredError,\n",
        "                                     SparseCategoricalCrossentropy)\n",
        "from tensorflow.keras.models import Model\n",
        "from tensorflow.keras.metrics import categorical_accuracy, sparse_categorical_accuracy\n",
        "from tensorflow.keras.optimizers import Adam\n",
        "from tensorflow.keras.backend import clear_session\n",
        "from tensorflow.keras.callbacks import EarlyStopping\n",
        "from tensorflow.keras.regularizers import l2\n",
        "# spektral\n",
        "from spektral.data import Dataset, DisjointLoader, Graph, BatchLoader, MixedLoader\n",
        "from spektral.datasets import TUDataset, OGB, QM9\n",
        "from spektral.datasets.mnist import MNIST\n",
        "from spektral.datasets.citation import Cora\n",
        "from spektral.models import GeneralGNN\n",
        "from spektral.layers import (GCSConv, ECCConv, GlobalSumPool, GlobalAvgPool,\n",
        "                             GraphMasking, GINConv, MinCutPool, GCNConv)\n",
        "# from spektral.layers.convolutional import GCSConv\n",
        "# from spektral.layers.pooling import MinCutPool\n",
        "from spektral.transforms.normalize_adj import NormalizeAdj\n",
        "from spektral.utils.sparse import sp_matrix_to_sp_tensor\n",
        "from spektral.utils.convolution import normalized_adjacency\n",
        "# visual\n",
        "import matplotlib.pyplot as plt"
      ],
      "metadata": {
        "id": "C1NpccaQzQhd"
      },
      "execution_count": null,
      "outputs": []
    },
    {
      "cell_type": "code",
      "source": [
        "# physical_devices = tf.config.list_physical_devices(\"GPU\")\n",
        "# if len(physical_devices) > 0:\n",
        "#     tf.config.experimental.set_memory_growth(physical_devices[0], True)"
      ],
      "metadata": {
        "id": "GN35w4-75eye"
      },
      "execution_count": null,
      "outputs": []
    },
    {
      "cell_type": "markdown",
      "source": [
        "# PROTEINS Data General GNN"
      ],
      "metadata": {
        "id": "BAE53iuszWEn"
      }
    },
    {
      "cell_type": "code",
      "source": [
        "# config\n",
        "batch_size = 16\n",
        "learning_rate = 0.01\n",
        "epochs = 10"
      ],
      "metadata": {
        "id": "eCnElPm25QlY"
      },
      "execution_count": null,
      "outputs": []
    },
    {
      "cell_type": "code",
      "source": [
        "# load data\n",
        "data = TUDataset(\"PROTEINS\")"
      ],
      "metadata": {
        "colab": {
          "base_uri": "https://localhost:8080/"
        },
        "id": "D9yfd7jN5Qvg",
        "outputId": "08957a2b-cfb1-410c-835d-093f07d565c3"
      },
      "execution_count": null,
      "outputs": [
        {
          "output_type": "stream",
          "name": "stderr",
          "text": [
            "/usr/local/lib/python3.10/dist-packages/sklearn/preprocessing/_encoders.py:868: FutureWarning: `sparse` was renamed to `sparse_output` in version 1.2 and will be removed in 1.4. `sparse_output` is ignored unless you leave `sparse` to its default value.\n",
            "  warnings.warn(\n"
          ]
        },
        {
          "output_type": "stream",
          "name": "stdout",
          "text": [
            "Successfully loaded PROTEINS.\n"
          ]
        },
        {
          "output_type": "stream",
          "name": "stderr",
          "text": [
            "/usr/local/lib/python3.10/dist-packages/sklearn/preprocessing/_encoders.py:868: FutureWarning: `sparse` was renamed to `sparse_output` in version 1.2 and will be removed in 1.4. `sparse_output` is ignored unless you leave `sparse` to its default value.\n",
            "  warnings.warn(\n"
          ]
        }
      ]
    },
    {
      "cell_type": "code",
      "source": [
        "print(f\"Data set name: {data.name}\")\n",
        "print(f\"Data set type: {type(data)}\")\n",
        "print(f\"No. of graphs: {data.n_graphs}\")\n",
        "print(f\"No. of nodes: {data.n_nodes}\")\n",
        "print(f\"No. of classes: {data.n_labels}\")\n",
        "print(f\"No. of edge features: {data.n_edge_features}\")\n",
        "print(f\"No. of node features: {data.n_node_features}\")\n",
        "print(f\"Recap: {data.graphs}\")"
      ],
      "metadata": {
        "colab": {
          "base_uri": "https://localhost:8080/"
        },
        "id": "Akm0JrKqhkqC",
        "outputId": "0e53abe9-9366-4e22-dcf1-f46d3cc7d054"
      },
      "execution_count": null,
      "outputs": [
        {
          "output_type": "stream",
          "name": "stdout",
          "text": [
            "Data set name: PROTEINS\n",
            "Data set type: <class 'spektral.datasets.tudataset.TUDataset'>\n",
            "No. of graphs: 1113\n",
            "No. of nodes: None\n",
            "No. of classes: 2\n",
            "No. of edge features: None\n",
            "No. of node features: 4\n",
            "Recap: [Graph(n_nodes=42, n_node_features=4, n_edge_features=None, n_labels=2), Graph(n_nodes=27, n_node_features=4, n_edge_features=None, n_labels=2), Graph(n_nodes=10, n_node_features=4, n_edge_features=None, n_labels=2), Graph(n_nodes=24, n_node_features=4, n_edge_features=None, n_labels=2), Graph(n_nodes=11, n_node_features=4, n_edge_features=None, n_labels=2), Graph(n_nodes=336, n_node_features=4, n_edge_features=None, n_labels=2), Graph(n_nodes=108, n_node_features=4, n_edge_features=None, n_labels=2), Graph(n_nodes=154, n_node_features=4, n_edge_features=None, n_labels=2), Graph(n_nodes=19, n_node_features=4, n_edge_features=None, n_labels=2), Graph(n_nodes=11, n_node_features=4, n_edge_features=None, n_labels=2), Graph(n_nodes=20, n_node_features=4, n_edge_features=None, n_labels=2), Graph(n_nodes=52, n_node_features=4, n_edge_features=None, n_labels=2), Graph(n_nodes=21, n_node_features=4, n_edge_features=None, n_labels=2), Graph(n_nodes=44, n_node_features=4, n_edge_features=None, n_labels=2), Graph(n_nodes=20, n_node_features=4, n_edge_features=None, n_labels=2), Graph(n_nodes=40, n_node_features=4, n_edge_features=None, n_labels=2), Graph(n_nodes=23, n_node_features=4, n_edge_features=None, n_labels=2), Graph(n_nodes=285, n_node_features=4, n_edge_features=None, n_labels=2), Graph(n_nodes=56, n_node_features=4, n_edge_features=None, n_labels=2), Graph(n_nodes=27, n_node_features=4, n_edge_features=None, n_labels=2), Graph(n_nodes=481, n_node_features=4, n_edge_features=None, n_labels=2), Graph(n_nodes=54, n_node_features=4, n_edge_features=None, n_labels=2), Graph(n_nodes=67, n_node_features=4, n_edge_features=None, n_labels=2), Graph(n_nodes=12, n_node_features=4, n_edge_features=None, n_labels=2), Graph(n_nodes=36, n_node_features=4, n_edge_features=None, n_labels=2), Graph(n_nodes=126, n_node_features=4, n_edge_features=None, n_labels=2), Graph(n_nodes=98, n_node_features=4, n_edge_features=None, n_labels=2), Graph(n_nodes=39, n_node_features=4, n_edge_features=None, n_labels=2), Graph(n_nodes=53, n_node_features=4, n_edge_features=None, n_labels=2), Graph(n_nodes=47, n_node_features=4, n_edge_features=None, n_labels=2), Graph(n_nodes=45, n_node_features=4, n_edge_features=None, n_labels=2), Graph(n_nodes=16, n_node_features=4, n_edge_features=None, n_labels=2), Graph(n_nodes=58, n_node_features=4, n_edge_features=None, n_labels=2), Graph(n_nodes=14, n_node_features=4, n_edge_features=None, n_labels=2), Graph(n_nodes=27, n_node_features=4, n_edge_features=None, n_labels=2), Graph(n_nodes=23, n_node_features=4, n_edge_features=None, n_labels=2), Graph(n_nodes=38, n_node_features=4, n_edge_features=None, n_labels=2), Graph(n_nodes=45, n_node_features=4, n_edge_features=None, n_labels=2), Graph(n_nodes=33, n_node_features=4, n_edge_features=None, n_labels=2), Graph(n_nodes=89, n_node_features=4, n_edge_features=None, n_labels=2), Graph(n_nodes=50, n_node_features=4, n_edge_features=None, n_labels=2), Graph(n_nodes=15, n_node_features=4, n_edge_features=None, n_labels=2), Graph(n_nodes=101, n_node_features=4, n_edge_features=None, n_labels=2), Graph(n_nodes=21, n_node_features=4, n_edge_features=None, n_labels=2), Graph(n_nodes=25, n_node_features=4, n_edge_features=None, n_labels=2), Graph(n_nodes=32, n_node_features=4, n_edge_features=None, n_labels=2), Graph(n_nodes=72, n_node_features=4, n_edge_features=None, n_labels=2), Graph(n_nodes=19, n_node_features=4, n_edge_features=None, n_labels=2), Graph(n_nodes=34, n_node_features=4, n_edge_features=None, n_labels=2), Graph(n_nodes=39, n_node_features=4, n_edge_features=None, n_labels=2), Graph(n_nodes=11, n_node_features=4, n_edge_features=None, n_labels=2), Graph(n_nodes=31, n_node_features=4, n_edge_features=None, n_labels=2), Graph(n_nodes=180, n_node_features=4, n_edge_features=None, n_labels=2), Graph(n_nodes=23, n_node_features=4, n_edge_features=None, n_labels=2), Graph(n_nodes=20, n_node_features=4, n_edge_features=None, n_labels=2), Graph(n_nodes=36, n_node_features=4, n_edge_features=None, n_labels=2), Graph(n_nodes=57, n_node_features=4, n_edge_features=None, n_labels=2), Graph(n_nodes=34, n_node_features=4, n_edge_features=None, n_labels=2), Graph(n_nodes=19, n_node_features=4, n_edge_features=None, n_labels=2), Graph(n_nodes=43, n_node_features=4, n_edge_features=None, n_labels=2), Graph(n_nodes=20, n_node_features=4, n_edge_features=None, n_labels=2), Graph(n_nodes=23, n_node_features=4, n_edge_features=None, n_labels=2), Graph(n_nodes=28, n_node_features=4, n_edge_features=None, n_labels=2), Graph(n_nodes=122, n_node_features=4, n_edge_features=None, n_labels=2), Graph(n_nodes=22, n_node_features=4, n_edge_features=None, n_labels=2), Graph(n_nodes=70, n_node_features=4, n_edge_features=None, n_labels=2), Graph(n_nodes=50, n_node_features=4, n_edge_features=None, n_labels=2), Graph(n_nodes=10, n_node_features=4, n_edge_features=None, n_labels=2), Graph(n_nodes=27, n_node_features=4, n_edge_features=None, n_labels=2), Graph(n_nodes=26, n_node_features=4, n_edge_features=None, n_labels=2), Graph(n_nodes=41, n_node_features=4, n_edge_features=None, n_labels=2), Graph(n_nodes=19, n_node_features=4, n_edge_features=None, n_labels=2), Graph(n_nodes=22, n_node_features=4, n_edge_features=None, n_labels=2), Graph(n_nodes=72, n_node_features=4, n_edge_features=None, n_labels=2), Graph(n_nodes=76, n_node_features=4, n_edge_features=None, n_labels=2), Graph(n_nodes=6, n_node_features=4, n_edge_features=None, n_labels=2), Graph(n_nodes=620, n_node_features=4, n_edge_features=None, n_labels=2), Graph(n_nodes=59, n_node_features=4, n_edge_features=None, n_labels=2), Graph(n_nodes=38, n_node_features=4, n_edge_features=None, n_labels=2), Graph(n_nodes=23, n_node_features=4, n_edge_features=None, n_labels=2), Graph(n_nodes=21, n_node_features=4, n_edge_features=None, n_labels=2), Graph(n_nodes=23, n_node_features=4, n_edge_features=None, n_labels=2), Graph(n_nodes=31, n_node_features=4, n_edge_features=None, n_labels=2), Graph(n_nodes=16, n_node_features=4, n_edge_features=None, n_labels=2), Graph(n_nodes=23, n_node_features=4, n_edge_features=None, n_labels=2), Graph(n_nodes=7, n_node_features=4, n_edge_features=None, n_labels=2), Graph(n_nodes=26, n_node_features=4, n_edge_features=None, n_labels=2), Graph(n_nodes=38, n_node_features=4, n_edge_features=None, n_labels=2), Graph(n_nodes=22, n_node_features=4, n_edge_features=None, n_labels=2), Graph(n_nodes=25, n_node_features=4, n_edge_features=None, n_labels=2), Graph(n_nodes=170, n_node_features=4, n_edge_features=None, n_labels=2), Graph(n_nodes=186, n_node_features=4, n_edge_features=None, n_labels=2), Graph(n_nodes=58, n_node_features=4, n_edge_features=None, n_labels=2), Graph(n_nodes=14, n_node_features=4, n_edge_features=None, n_labels=2), Graph(n_nodes=12, n_node_features=4, n_edge_features=None, n_labels=2), Graph(n_nodes=15, n_node_features=4, n_edge_features=None, n_labels=2), Graph(n_nodes=60, n_node_features=4, n_edge_features=None, n_labels=2), Graph(n_nodes=22, n_node_features=4, n_edge_features=None, n_labels=2), Graph(n_nodes=88, n_node_features=4, n_edge_features=None, n_labels=2), Graph(n_nodes=33, n_node_features=4, n_edge_features=None, n_labels=2), Graph(n_nodes=50, n_node_features=4, n_edge_features=None, n_labels=2), Graph(n_nodes=60, n_node_features=4, n_edge_features=None, n_labels=2), Graph(n_nodes=54, n_node_features=4, n_edge_features=None, n_labels=2), Graph(n_nodes=24, n_node_features=4, n_edge_features=None, n_labels=2), Graph(n_nodes=38, n_node_features=4, n_edge_features=None, n_labels=2), Graph(n_nodes=11, n_node_features=4, n_edge_features=None, n_labels=2), Graph(n_nodes=244, n_node_features=4, n_edge_features=None, n_labels=2), Graph(n_nodes=80, n_node_features=4, n_edge_features=None, n_labels=2), Graph(n_nodes=22, n_node_features=4, n_edge_features=None, n_labels=2), Graph(n_nodes=28, n_node_features=4, n_edge_features=None, n_labels=2), Graph(n_nodes=23, n_node_features=4, n_edge_features=None, n_labels=2), Graph(n_nodes=113, n_node_features=4, n_edge_features=None, n_labels=2), Graph(n_nodes=18, n_node_features=4, n_edge_features=None, n_labels=2), Graph(n_nodes=21, n_node_features=4, n_edge_features=None, n_labels=2), Graph(n_nodes=37, n_node_features=4, n_edge_features=None, n_labels=2), Graph(n_nodes=41, n_node_features=4, n_edge_features=None, n_labels=2), Graph(n_nodes=51, n_node_features=4, n_edge_features=None, n_labels=2), Graph(n_nodes=34, n_node_features=4, n_edge_features=None, n_labels=2), Graph(n_nodes=54, n_node_features=4, n_edge_features=None, n_labels=2), Graph(n_nodes=25, n_node_features=4, n_edge_features=None, n_labels=2), Graph(n_nodes=32, n_node_features=4, n_edge_features=None, n_labels=2), Graph(n_nodes=24, n_node_features=4, n_edge_features=None, n_labels=2), Graph(n_nodes=62, n_node_features=4, n_edge_features=None, n_labels=2), Graph(n_nodes=156, n_node_features=4, n_edge_features=None, n_labels=2), Graph(n_nodes=38, n_node_features=4, n_edge_features=None, n_labels=2), Graph(n_nodes=22, n_node_features=4, n_edge_features=None, n_labels=2), Graph(n_nodes=19, n_node_features=4, n_edge_features=None, n_labels=2), Graph(n_nodes=27, n_node_features=4, n_edge_features=None, n_labels=2), Graph(n_nodes=13, n_node_features=4, n_edge_features=None, n_labels=2), Graph(n_nodes=55, n_node_features=4, n_edge_features=None, n_labels=2), Graph(n_nodes=38, n_node_features=4, n_edge_features=None, n_labels=2), Graph(n_nodes=16, n_node_features=4, n_edge_features=None, n_labels=2), Graph(n_nodes=20, n_node_features=4, n_edge_features=None, n_labels=2), Graph(n_nodes=34, n_node_features=4, n_edge_features=None, n_labels=2), Graph(n_nodes=49, n_node_features=4, n_edge_features=None, n_labels=2), Graph(n_nodes=54, n_node_features=4, n_edge_features=None, n_labels=2), Graph(n_nodes=23, n_node_features=4, n_edge_features=None, n_labels=2), Graph(n_nodes=77, n_node_features=4, n_edge_features=None, n_labels=2), Graph(n_nodes=69, n_node_features=4, n_edge_features=None, n_labels=2), Graph(n_nodes=122, n_node_features=4, n_edge_features=None, n_labels=2), Graph(n_nodes=28, n_node_features=4, n_edge_features=None, n_labels=2), Graph(n_nodes=51, n_node_features=4, n_edge_features=None, n_labels=2), Graph(n_nodes=99, n_node_features=4, n_edge_features=None, n_labels=2), Graph(n_nodes=136, n_node_features=4, n_edge_features=None, n_labels=2), Graph(n_nodes=30, n_node_features=4, n_edge_features=None, n_labels=2), Graph(n_nodes=34, n_node_features=4, n_edge_features=None, n_labels=2), Graph(n_nodes=29, n_node_features=4, n_edge_features=None, n_labels=2), Graph(n_nodes=45, n_node_features=4, n_edge_features=None, n_labels=2), Graph(n_nodes=23, n_node_features=4, n_edge_features=None, n_labels=2), Graph(n_nodes=44, n_node_features=4, n_edge_features=None, n_labels=2), Graph(n_nodes=18, n_node_features=4, n_edge_features=None, n_labels=2), Graph(n_nodes=19, n_node_features=4, n_edge_features=None, n_labels=2), Graph(n_nodes=30, n_node_features=4, n_edge_features=None, n_labels=2), Graph(n_nodes=126, n_node_features=4, n_edge_features=None, n_labels=2), Graph(n_nodes=58, n_node_features=4, n_edge_features=None, n_labels=2), Graph(n_nodes=35, n_node_features=4, n_edge_features=None, n_labels=2), Graph(n_nodes=54, n_node_features=4, n_edge_features=None, n_labels=2), Graph(n_nodes=82, n_node_features=4, n_edge_features=None, n_labels=2), Graph(n_nodes=31, n_node_features=4, n_edge_features=None, n_labels=2), Graph(n_nodes=48, n_node_features=4, n_edge_features=None, n_labels=2), Graph(n_nodes=188, n_node_features=4, n_edge_features=None, n_labels=2), Graph(n_nodes=133, n_node_features=4, n_edge_features=None, n_labels=2), Graph(n_nodes=40, n_node_features=4, n_edge_features=None, n_labels=2), Graph(n_nodes=39, n_node_features=4, n_edge_features=None, n_labels=2), Graph(n_nodes=94, n_node_features=4, n_edge_features=None, n_labels=2), Graph(n_nodes=35, n_node_features=4, n_edge_features=None, n_labels=2), Graph(n_nodes=11, n_node_features=4, n_edge_features=None, n_labels=2), Graph(n_nodes=87, n_node_features=4, n_edge_features=None, n_labels=2), Graph(n_nodes=16, n_node_features=4, n_edge_features=None, n_labels=2), Graph(n_nodes=26, n_node_features=4, n_edge_features=None, n_labels=2), Graph(n_nodes=19, n_node_features=4, n_edge_features=None, n_labels=2), Graph(n_nodes=75, n_node_features=4, n_edge_features=None, n_labels=2), Graph(n_nodes=21, n_node_features=4, n_edge_features=None, n_labels=2), Graph(n_nodes=27, n_node_features=4, n_edge_features=None, n_labels=2), Graph(n_nodes=80, n_node_features=4, n_edge_features=None, n_labels=2), Graph(n_nodes=15, n_node_features=4, n_edge_features=None, n_labels=2), Graph(n_nodes=33, n_node_features=4, n_edge_features=None, n_labels=2), Graph(n_nodes=152, n_node_features=4, n_edge_features=None, n_labels=2), Graph(n_nodes=39, n_node_features=4, n_edge_features=None, n_labels=2), Graph(n_nodes=229, n_node_features=4, n_edge_features=None, n_labels=2), Graph(n_nodes=124, n_node_features=4, n_edge_features=None, n_labels=2), Graph(n_nodes=39, n_node_features=4, n_edge_features=None, n_labels=2), Graph(n_nodes=73, n_node_features=4, n_edge_features=None, n_labels=2), Graph(n_nodes=76, n_node_features=4, n_edge_features=None, n_labels=2), Graph(n_nodes=57, n_node_features=4, n_edge_features=None, n_labels=2), Graph(n_nodes=71, n_node_features=4, n_edge_features=None, n_labels=2), Graph(n_nodes=36, n_node_features=4, n_edge_features=None, n_labels=2), Graph(n_nodes=14, n_node_features=4, n_edge_features=None, n_labels=2), Graph(n_nodes=77, n_node_features=4, n_edge_features=None, n_labels=2), Graph(n_nodes=24, n_node_features=4, n_edge_features=None, n_labels=2), Graph(n_nodes=189, n_node_features=4, n_edge_features=None, n_labels=2), Graph(n_nodes=20, n_node_features=4, n_edge_features=None, n_labels=2), Graph(n_nodes=31, n_node_features=4, n_edge_features=None, n_labels=2), Graph(n_nodes=63, n_node_features=4, n_edge_features=None, n_labels=2), Graph(n_nodes=72, n_node_features=4, n_edge_features=None, n_labels=2), Graph(n_nodes=36, n_node_features=4, n_edge_features=None, n_labels=2), Graph(n_nodes=14, n_node_features=4, n_edge_features=None, n_labels=2), Graph(n_nodes=148, n_node_features=4, n_edge_features=None, n_labels=2), Graph(n_nodes=54, n_node_features=4, n_edge_features=None, n_labels=2), Graph(n_nodes=139, n_node_features=4, n_edge_features=None, n_labels=2), Graph(n_nodes=52, n_node_features=4, n_edge_features=None, n_labels=2), Graph(n_nodes=96, n_node_features=4, n_edge_features=None, n_labels=2), Graph(n_nodes=61, n_node_features=4, n_edge_features=None, n_labels=2), Graph(n_nodes=12, n_node_features=4, n_edge_features=None, n_labels=2), Graph(n_nodes=12, n_node_features=4, n_edge_features=None, n_labels=2), Graph(n_nodes=14, n_node_features=4, n_edge_features=None, n_labels=2), Graph(n_nodes=55, n_node_features=4, n_edge_features=None, n_labels=2), Graph(n_nodes=42, n_node_features=4, n_edge_features=None, n_labels=2), Graph(n_nodes=66, n_node_features=4, n_edge_features=None, n_labels=2), Graph(n_nodes=88, n_node_features=4, n_edge_features=None, n_labels=2), Graph(n_nodes=60, n_node_features=4, n_edge_features=None, n_labels=2), Graph(n_nodes=19, n_node_features=4, n_edge_features=None, n_labels=2), Graph(n_nodes=43, n_node_features=4, n_edge_features=None, n_labels=2), Graph(n_nodes=43, n_node_features=4, n_edge_features=None, n_labels=2), Graph(n_nodes=24, n_node_features=4, n_edge_features=None, n_labels=2), Graph(n_nodes=36, n_node_features=4, n_edge_features=None, n_labels=2), Graph(n_nodes=51, n_node_features=4, n_edge_features=None, n_labels=2), Graph(n_nodes=23, n_node_features=4, n_edge_features=None, n_labels=2), Graph(n_nodes=30, n_node_features=4, n_edge_features=None, n_labels=2), Graph(n_nodes=37, n_node_features=4, n_edge_features=None, n_labels=2), Graph(n_nodes=18, n_node_features=4, n_edge_features=None, n_labels=2), Graph(n_nodes=12, n_node_features=4, n_edge_features=None, n_labels=2), Graph(n_nodes=40, n_node_features=4, n_edge_features=None, n_labels=2), Graph(n_nodes=59, n_node_features=4, n_edge_features=None, n_labels=2), Graph(n_nodes=66, n_node_features=4, n_edge_features=None, n_labels=2), Graph(n_nodes=28, n_node_features=4, n_edge_features=None, n_labels=2), Graph(n_nodes=47, n_node_features=4, n_edge_features=None, n_labels=2), Graph(n_nodes=152, n_node_features=4, n_edge_features=None, n_labels=2), Graph(n_nodes=26, n_node_features=4, n_edge_features=None, n_labels=2), Graph(n_nodes=17, n_node_features=4, n_edge_features=None, n_labels=2), Graph(n_nodes=39, n_node_features=4, n_edge_features=None, n_labels=2), Graph(n_nodes=36, n_node_features=4, n_edge_features=None, n_labels=2), Graph(n_nodes=273, n_node_features=4, n_edge_features=None, n_labels=2), Graph(n_nodes=78, n_node_features=4, n_edge_features=None, n_labels=2), Graph(n_nodes=47, n_node_features=4, n_edge_features=None, n_labels=2), Graph(n_nodes=116, n_node_features=4, n_edge_features=None, n_labels=2), Graph(n_nodes=22, n_node_features=4, n_edge_features=None, n_labels=2), Graph(n_nodes=46, n_node_features=4, n_edge_features=None, n_labels=2), Graph(n_nodes=43, n_node_features=4, n_edge_features=None, n_labels=2), Graph(n_nodes=105, n_node_features=4, n_edge_features=None, n_labels=2), Graph(n_nodes=29, n_node_features=4, n_edge_features=None, n_labels=2), Graph(n_nodes=30, n_node_features=4, n_edge_features=None, n_labels=2), Graph(n_nodes=38, n_node_features=4, n_edge_features=None, n_labels=2), Graph(n_nodes=41, n_node_features=4, n_edge_features=None, n_labels=2), Graph(n_nodes=504, n_node_features=4, n_edge_features=None, n_labels=2), Graph(n_nodes=33, n_node_features=4, n_edge_features=None, n_labels=2), Graph(n_nodes=36, n_node_features=4, n_edge_features=None, n_labels=2), Graph(n_nodes=27, n_node_features=4, n_edge_features=None, n_labels=2), Graph(n_nodes=35, n_node_features=4, n_edge_features=None, n_labels=2), Graph(n_nodes=64, n_node_features=4, n_edge_features=None, n_labels=2), Graph(n_nodes=32, n_node_features=4, n_edge_features=None, n_labels=2), Graph(n_nodes=11, n_node_features=4, n_edge_features=None, n_labels=2), Graph(n_nodes=136, n_node_features=4, n_edge_features=None, n_labels=2), Graph(n_nodes=27, n_node_features=4, n_edge_features=None, n_labels=2), Graph(n_nodes=50, n_node_features=4, n_edge_features=None, n_labels=2), Graph(n_nodes=20, n_node_features=4, n_edge_features=None, n_labels=2), Graph(n_nodes=33, n_node_features=4, n_edge_features=None, n_labels=2), Graph(n_nodes=32, n_node_features=4, n_edge_features=None, n_labels=2), Graph(n_nodes=69, n_node_features=4, n_edge_features=None, n_labels=2), Graph(n_nodes=28, n_node_features=4, n_edge_features=None, n_labels=2), Graph(n_nodes=46, n_node_features=4, n_edge_features=None, n_labels=2), Graph(n_nodes=208, n_node_features=4, n_edge_features=None, n_labels=2), Graph(n_nodes=30, n_node_features=4, n_edge_features=None, n_labels=2), Graph(n_nodes=48, n_node_features=4, n_edge_features=None, n_labels=2), Graph(n_nodes=28, n_node_features=4, n_edge_features=None, n_labels=2), Graph(n_nodes=40, n_node_features=4, n_edge_features=None, n_labels=2), Graph(n_nodes=38, n_node_features=4, n_edge_features=None, n_labels=2), Graph(n_nodes=108, n_node_features=4, n_edge_features=None, n_labels=2), Graph(n_nodes=31, n_node_features=4, n_edge_features=None, n_labels=2), Graph(n_nodes=35, n_node_features=4, n_edge_features=None, n_labels=2), Graph(n_nodes=38, n_node_features=4, n_edge_features=None, n_labels=2), Graph(n_nodes=36, n_node_features=4, n_edge_features=None, n_labels=2), Graph(n_nodes=36, n_node_features=4, n_edge_features=None, n_labels=2), Graph(n_nodes=105, n_node_features=4, n_edge_features=None, n_labels=2), Graph(n_nodes=33, n_node_features=4, n_edge_features=None, n_labels=2), Graph(n_nodes=226, n_node_features=4, n_edge_features=None, n_labels=2), Graph(n_nodes=17, n_node_features=4, n_edge_features=None, n_labels=2), Graph(n_nodes=71, n_node_features=4, n_edge_features=None, n_labels=2), Graph(n_nodes=20, n_node_features=4, n_edge_features=None, n_labels=2), Graph(n_nodes=28, n_node_features=4, n_edge_features=None, n_labels=2), Graph(n_nodes=48, n_node_features=4, n_edge_features=None, n_labels=2), Graph(n_nodes=246, n_node_features=4, n_edge_features=None, n_labels=2), Graph(n_nodes=28, n_node_features=4, n_edge_features=None, n_labels=2), Graph(n_nodes=117, n_node_features=4, n_edge_features=None, n_labels=2), Graph(n_nodes=63, n_node_features=4, n_edge_features=None, n_labels=2), Graph(n_nodes=48, n_node_features=4, n_edge_features=None, n_labels=2), Graph(n_nodes=40, n_node_features=4, n_edge_features=None, n_labels=2), Graph(n_nodes=95, n_node_features=4, n_edge_features=None, n_labels=2), Graph(n_nodes=34, n_node_features=4, n_edge_features=None, n_labels=2), Graph(n_nodes=14, n_node_features=4, n_edge_features=None, n_labels=2), Graph(n_nodes=21, n_node_features=4, n_edge_features=None, n_labels=2), Graph(n_nodes=44, n_node_features=4, n_edge_features=None, n_labels=2), Graph(n_nodes=111, n_node_features=4, n_edge_features=None, n_labels=2), Graph(n_nodes=23, n_node_features=4, n_edge_features=None, n_labels=2), Graph(n_nodes=60, n_node_features=4, n_edge_features=None, n_labels=2), Graph(n_nodes=99, n_node_features=4, n_edge_features=None, n_labels=2), Graph(n_nodes=34, n_node_features=4, n_edge_features=None, n_labels=2), Graph(n_nodes=32, n_node_features=4, n_edge_features=None, n_labels=2), Graph(n_nodes=27, n_node_features=4, n_edge_features=None, n_labels=2), Graph(n_nodes=42, n_node_features=4, n_edge_features=None, n_labels=2), Graph(n_nodes=96, n_node_features=4, n_edge_features=None, n_labels=2), Graph(n_nodes=17, n_node_features=4, n_edge_features=None, n_labels=2), Graph(n_nodes=60, n_node_features=4, n_edge_features=None, n_labels=2), Graph(n_nodes=21, n_node_features=4, n_edge_features=None, n_labels=2), Graph(n_nodes=79, n_node_features=4, n_edge_features=None, n_labels=2), Graph(n_nodes=74, n_node_features=4, n_edge_features=None, n_labels=2), Graph(n_nodes=88, n_node_features=4, n_edge_features=None, n_labels=2), Graph(n_nodes=34, n_node_features=4, n_edge_features=None, n_labels=2), Graph(n_nodes=328, n_node_features=4, n_edge_features=None, n_labels=2), Graph(n_nodes=153, n_node_features=4, n_edge_features=None, n_labels=2), Graph(n_nodes=24, n_node_features=4, n_edge_features=None, n_labels=2), Graph(n_nodes=28, n_node_features=4, n_edge_features=None, n_labels=2), Graph(n_nodes=20, n_node_features=4, n_edge_features=None, n_labels=2), Graph(n_nodes=17, n_node_features=4, n_edge_features=None, n_labels=2), Graph(n_nodes=159, n_node_features=4, n_edge_features=None, n_labels=2), Graph(n_nodes=11, n_node_features=4, n_edge_features=None, n_labels=2), Graph(n_nodes=25, n_node_features=4, n_edge_features=None, n_labels=2), Graph(n_nodes=30, n_node_features=4, n_edge_features=None, n_labels=2), Graph(n_nodes=22, n_node_features=4, n_edge_features=None, n_labels=2), Graph(n_nodes=81, n_node_features=4, n_edge_features=None, n_labels=2), Graph(n_nodes=38, n_node_features=4, n_edge_features=None, n_labels=2), Graph(n_nodes=94, n_node_features=4, n_edge_features=None, n_labels=2), Graph(n_nodes=12, n_node_features=4, n_edge_features=None, n_labels=2), Graph(n_nodes=24, n_node_features=4, n_edge_features=None, n_labels=2), Graph(n_nodes=36, n_node_features=4, n_edge_features=None, n_labels=2), Graph(n_nodes=50, n_node_features=4, n_edge_features=None, n_labels=2), Graph(n_nodes=30, n_node_features=4, n_edge_features=None, n_labels=2), Graph(n_nodes=62, n_node_features=4, n_edge_features=None, n_labels=2), Graph(n_nodes=63, n_node_features=4, n_edge_features=None, n_labels=2), Graph(n_nodes=22, n_node_features=4, n_edge_features=None, n_labels=2), Graph(n_nodes=32, n_node_features=4, n_edge_features=None, n_labels=2), Graph(n_nodes=17, n_node_features=4, n_edge_features=None, n_labels=2), Graph(n_nodes=26, n_node_features=4, n_edge_features=None, n_labels=2), Graph(n_nodes=22, n_node_features=4, n_edge_features=None, n_labels=2), Graph(n_nodes=14, n_node_features=4, n_edge_features=None, n_labels=2), Graph(n_nodes=22, n_node_features=4, n_edge_features=None, n_labels=2), Graph(n_nodes=55, n_node_features=4, n_edge_features=None, n_labels=2), Graph(n_nodes=50, n_node_features=4, n_edge_features=None, n_labels=2), Graph(n_nodes=32, n_node_features=4, n_edge_features=None, n_labels=2), Graph(n_nodes=70, n_node_features=4, n_edge_features=None, n_labels=2), Graph(n_nodes=88, n_node_features=4, n_edge_features=None, n_labels=2), Graph(n_nodes=16, n_node_features=4, n_edge_features=None, n_labels=2), Graph(n_nodes=18, n_node_features=4, n_edge_features=None, n_labels=2), Graph(n_nodes=54, n_node_features=4, n_edge_features=None, n_labels=2), Graph(n_nodes=18, n_node_features=4, n_edge_features=None, n_labels=2), Graph(n_nodes=14, n_node_features=4, n_edge_features=None, n_labels=2), Graph(n_nodes=15, n_node_features=4, n_edge_features=None, n_labels=2), Graph(n_nodes=62, n_node_features=4, n_edge_features=None, n_labels=2), Graph(n_nodes=60, n_node_features=4, n_edge_features=None, n_labels=2), Graph(n_nodes=24, n_node_features=4, n_edge_features=None, n_labels=2), Graph(n_nodes=9, n_node_features=4, n_edge_features=None, n_labels=2), Graph(n_nodes=44, n_node_features=4, n_edge_features=None, n_labels=2), Graph(n_nodes=30, n_node_features=4, n_edge_features=None, n_labels=2), Graph(n_nodes=48, n_node_features=4, n_edge_features=None, n_labels=2), Graph(n_nodes=20, n_node_features=4, n_edge_features=None, n_labels=2), Graph(n_nodes=29, n_node_features=4, n_edge_features=None, n_labels=2), Graph(n_nodes=42, n_node_features=4, n_edge_features=None, n_labels=2), Graph(n_nodes=12, n_node_features=4, n_edge_features=None, n_labels=2), Graph(n_nodes=27, n_node_features=4, n_edge_features=None, n_labels=2), Graph(n_nodes=38, n_node_features=4, n_edge_features=None, n_labels=2), Graph(n_nodes=23, n_node_features=4, n_edge_features=None, n_labels=2), Graph(n_nodes=101, n_node_features=4, n_edge_features=None, n_labels=2), Graph(n_nodes=50, n_node_features=4, n_edge_features=None, n_labels=2), Graph(n_nodes=21, n_node_features=4, n_edge_features=None, n_labels=2), Graph(n_nodes=26, n_node_features=4, n_edge_features=None, n_labels=2), Graph(n_nodes=8, n_node_features=4, n_edge_features=None, n_labels=2), Graph(n_nodes=23, n_node_features=4, n_edge_features=None, n_labels=2), Graph(n_nodes=18, n_node_features=4, n_edge_features=None, n_labels=2), Graph(n_nodes=27, n_node_features=4, n_edge_features=None, n_labels=2), Graph(n_nodes=32, n_node_features=4, n_edge_features=None, n_labels=2), Graph(n_nodes=48, n_node_features=4, n_edge_features=None, n_labels=2), Graph(n_nodes=52, n_node_features=4, n_edge_features=None, n_labels=2), Graph(n_nodes=15, n_node_features=4, n_edge_features=None, n_labels=2), Graph(n_nodes=31, n_node_features=4, n_edge_features=None, n_labels=2), Graph(n_nodes=125, n_node_features=4, n_edge_features=None, n_labels=2), Graph(n_nodes=27, n_node_features=4, n_edge_features=None, n_labels=2), Graph(n_nodes=34, n_node_features=4, n_edge_features=None, n_labels=2), Graph(n_nodes=82, n_node_features=4, n_edge_features=None, n_labels=2), Graph(n_nodes=32, n_node_features=4, n_edge_features=None, n_labels=2), Graph(n_nodes=37, n_node_features=4, n_edge_features=None, n_labels=2), Graph(n_nodes=8, n_node_features=4, n_edge_features=None, n_labels=2), Graph(n_nodes=69, n_node_features=4, n_edge_features=None, n_labels=2), Graph(n_nodes=21, n_node_features=4, n_edge_features=None, n_labels=2), Graph(n_nodes=32, n_node_features=4, n_edge_features=None, n_labels=2), Graph(n_nodes=34, n_node_features=4, n_edge_features=None, n_labels=2), Graph(n_nodes=25, n_node_features=4, n_edge_features=None, n_labels=2), Graph(n_nodes=72, n_node_features=4, n_edge_features=None, n_labels=2), Graph(n_nodes=23, n_node_features=4, n_edge_features=None, n_labels=2), Graph(n_nodes=25, n_node_features=4, n_edge_features=None, n_labels=2), Graph(n_nodes=23, n_node_features=4, n_edge_features=None, n_labels=2), Graph(n_nodes=23, n_node_features=4, n_edge_features=None, n_labels=2), Graph(n_nodes=27, n_node_features=4, n_edge_features=None, n_labels=2), Graph(n_nodes=36, n_node_features=4, n_edge_features=None, n_labels=2), Graph(n_nodes=26, n_node_features=4, n_edge_features=None, n_labels=2), Graph(n_nodes=21, n_node_features=4, n_edge_features=None, n_labels=2), Graph(n_nodes=20, n_node_features=4, n_edge_features=None, n_labels=2), Graph(n_nodes=7, n_node_features=4, n_edge_features=None, n_labels=2), Graph(n_nodes=64, n_node_features=4, n_edge_features=None, n_labels=2), Graph(n_nodes=74, n_node_features=4, n_edge_features=None, n_labels=2), Graph(n_nodes=73, n_node_features=4, n_edge_features=None, n_labels=2), Graph(n_nodes=33, n_node_features=4, n_edge_features=None, n_labels=2), Graph(n_nodes=34, n_node_features=4, n_edge_features=None, n_labels=2), Graph(n_nodes=30, n_node_features=4, n_edge_features=None, n_labels=2), Graph(n_nodes=43, n_node_features=4, n_edge_features=None, n_labels=2), Graph(n_nodes=123, n_node_features=4, n_edge_features=None, n_labels=2), Graph(n_nodes=42, n_node_features=4, n_edge_features=None, n_labels=2), Graph(n_nodes=16, n_node_features=4, n_edge_features=None, n_labels=2), Graph(n_nodes=37, n_node_features=4, n_edge_features=None, n_labels=2), Graph(n_nodes=10, n_node_features=4, n_edge_features=None, n_labels=2), Graph(n_nodes=7, n_node_features=4, n_edge_features=None, n_labels=2), Graph(n_nodes=36, n_node_features=4, n_edge_features=None, n_labels=2), Graph(n_nodes=32, n_node_features=4, n_edge_features=None, n_labels=2), Graph(n_nodes=7, n_node_features=4, n_edge_features=None, n_labels=2), Graph(n_nodes=24, n_node_features=4, n_edge_features=None, n_labels=2), Graph(n_nodes=23, n_node_features=4, n_edge_features=None, n_labels=2), Graph(n_nodes=20, n_node_features=4, n_edge_features=None, n_labels=2), Graph(n_nodes=9, n_node_features=4, n_edge_features=None, n_labels=2), Graph(n_nodes=11, n_node_features=4, n_edge_features=None, n_labels=2), Graph(n_nodes=43, n_node_features=4, n_edge_features=None, n_labels=2), Graph(n_nodes=40, n_node_features=4, n_edge_features=None, n_labels=2), Graph(n_nodes=88, n_node_features=4, n_edge_features=None, n_labels=2), Graph(n_nodes=20, n_node_features=4, n_edge_features=None, n_labels=2), Graph(n_nodes=84, n_node_features=4, n_edge_features=None, n_labels=2), Graph(n_nodes=27, n_node_features=4, n_edge_features=None, n_labels=2), Graph(n_nodes=59, n_node_features=4, n_edge_features=None, n_labels=2), Graph(n_nodes=15, n_node_features=4, n_edge_features=None, n_labels=2), Graph(n_nodes=18, n_node_features=4, n_edge_features=None, n_labels=2), Graph(n_nodes=64, n_node_features=4, n_edge_features=None, n_labels=2), Graph(n_nodes=94, n_node_features=4, n_edge_features=None, n_labels=2), Graph(n_nodes=39, n_node_features=4, n_edge_features=None, n_labels=2), Graph(n_nodes=38, n_node_features=4, n_edge_features=None, n_labels=2), Graph(n_nodes=93, n_node_features=4, n_edge_features=None, n_labels=2), Graph(n_nodes=94, n_node_features=4, n_edge_features=None, n_labels=2), Graph(n_nodes=38, n_node_features=4, n_edge_features=None, n_labels=2), Graph(n_nodes=21, n_node_features=4, n_edge_features=None, n_labels=2), Graph(n_nodes=47, n_node_features=4, n_edge_features=None, n_labels=2), Graph(n_nodes=26, n_node_features=4, n_edge_features=None, n_labels=2), Graph(n_nodes=96, n_node_features=4, n_edge_features=None, n_labels=2), Graph(n_nodes=85, n_node_features=4, n_edge_features=None, n_labels=2), Graph(n_nodes=14, n_node_features=4, n_edge_features=None, n_labels=2), Graph(n_nodes=48, n_node_features=4, n_edge_features=None, n_labels=2), Graph(n_nodes=46, n_node_features=4, n_edge_features=None, n_labels=2), Graph(n_nodes=12, n_node_features=4, n_edge_features=None, n_labels=2), Graph(n_nodes=19, n_node_features=4, n_edge_features=None, n_labels=2), Graph(n_nodes=23, n_node_features=4, n_edge_features=None, n_labels=2), Graph(n_nodes=10, n_node_features=4, n_edge_features=None, n_labels=2), Graph(n_nodes=35, n_node_features=4, n_edge_features=None, n_labels=2), Graph(n_nodes=22, n_node_features=4, n_edge_features=None, n_labels=2), Graph(n_nodes=23, n_node_features=4, n_edge_features=None, n_labels=2), Graph(n_nodes=11, n_node_features=4, n_edge_features=None, n_labels=2), Graph(n_nodes=4, n_node_features=4, n_edge_features=None, n_labels=2), Graph(n_nodes=31, n_node_features=4, n_edge_features=None, n_labels=2), Graph(n_nodes=29, n_node_features=4, n_edge_features=None, n_labels=2), Graph(n_nodes=30, n_node_features=4, n_edge_features=None, n_labels=2), Graph(n_nodes=30, n_node_features=4, n_edge_features=None, n_labels=2), Graph(n_nodes=15, n_node_features=4, n_edge_features=None, n_labels=2), Graph(n_nodes=31, n_node_features=4, n_edge_features=None, n_labels=2), Graph(n_nodes=82, n_node_features=4, n_edge_features=None, n_labels=2), Graph(n_nodes=29, n_node_features=4, n_edge_features=None, n_labels=2), Graph(n_nodes=84, n_node_features=4, n_edge_features=None, n_labels=2), Graph(n_nodes=85, n_node_features=4, n_edge_features=None, n_labels=2), Graph(n_nodes=40, n_node_features=4, n_edge_features=None, n_labels=2), Graph(n_nodes=21, n_node_features=4, n_edge_features=None, n_labels=2), Graph(n_nodes=75, n_node_features=4, n_edge_features=None, n_labels=2), Graph(n_nodes=24, n_node_features=4, n_edge_features=None, n_labels=2), Graph(n_nodes=71, n_node_features=4, n_edge_features=None, n_labels=2), Graph(n_nodes=80, n_node_features=4, n_edge_features=None, n_labels=2), Graph(n_nodes=70, n_node_features=4, n_edge_features=None, n_labels=2), Graph(n_nodes=39, n_node_features=4, n_edge_features=None, n_labels=2), Graph(n_nodes=35, n_node_features=4, n_edge_features=None, n_labels=2), Graph(n_nodes=86, n_node_features=4, n_edge_features=None, n_labels=2), Graph(n_nodes=37, n_node_features=4, n_edge_features=None, n_labels=2), Graph(n_nodes=12, n_node_features=4, n_edge_features=None, n_labels=2), Graph(n_nodes=20, n_node_features=4, n_edge_features=None, n_labels=2), Graph(n_nodes=23, n_node_features=4, n_edge_features=None, n_labels=2), Graph(n_nodes=180, n_node_features=4, n_edge_features=None, n_labels=2), Graph(n_nodes=59, n_node_features=4, n_edge_features=None, n_labels=2), Graph(n_nodes=22, n_node_features=4, n_edge_features=None, n_labels=2), Graph(n_nodes=19, n_node_features=4, n_edge_features=None, n_labels=2), Graph(n_nodes=34, n_node_features=4, n_edge_features=None, n_labels=2), Graph(n_nodes=116, n_node_features=4, n_edge_features=None, n_labels=2), Graph(n_nodes=44, n_node_features=4, n_edge_features=None, n_labels=2), Graph(n_nodes=16, n_node_features=4, n_edge_features=None, n_labels=2), Graph(n_nodes=38, n_node_features=4, n_edge_features=None, n_labels=2), Graph(n_nodes=55, n_node_features=4, n_edge_features=None, n_labels=2), Graph(n_nodes=27, n_node_features=4, n_edge_features=None, n_labels=2), Graph(n_nodes=17, n_node_features=4, n_edge_features=None, n_labels=2), Graph(n_nodes=59, n_node_features=4, n_edge_features=None, n_labels=2), Graph(n_nodes=148, n_node_features=4, n_edge_features=None, n_labels=2), Graph(n_nodes=84, n_node_features=4, n_edge_features=None, n_labels=2), Graph(n_nodes=41, n_node_features=4, n_edge_features=None, n_labels=2), Graph(n_nodes=157, n_node_features=4, n_edge_features=None, n_labels=2), Graph(n_nodes=50, n_node_features=4, n_edge_features=None, n_labels=2), Graph(n_nodes=151, n_node_features=4, n_edge_features=None, n_labels=2), Graph(n_nodes=30, n_node_features=4, n_edge_features=None, n_labels=2), Graph(n_nodes=21, n_node_features=4, n_edge_features=None, n_labels=2), Graph(n_nodes=126, n_node_features=4, n_edge_features=None, n_labels=2), Graph(n_nodes=27, n_node_features=4, n_edge_features=None, n_labels=2), Graph(n_nodes=27, n_node_features=4, n_edge_features=None, n_labels=2), Graph(n_nodes=98, n_node_features=4, n_edge_features=None, n_labels=2), Graph(n_nodes=43, n_node_features=4, n_edge_features=None, n_labels=2), Graph(n_nodes=23, n_node_features=4, n_edge_features=None, n_labels=2), Graph(n_nodes=80, n_node_features=4, n_edge_features=None, n_labels=2), Graph(n_nodes=30, n_node_features=4, n_edge_features=None, n_labels=2), Graph(n_nodes=52, n_node_features=4, n_edge_features=None, n_labels=2), Graph(n_nodes=9, n_node_features=4, n_edge_features=None, n_labels=2), Graph(n_nodes=22, n_node_features=4, n_edge_features=None, n_labels=2), Graph(n_nodes=56, n_node_features=4, n_edge_features=None, n_labels=2), Graph(n_nodes=32, n_node_features=4, n_edge_features=None, n_labels=2), Graph(n_nodes=66, n_node_features=4, n_edge_features=None, n_labels=2), Graph(n_nodes=54, n_node_features=4, n_edge_features=None, n_labels=2), Graph(n_nodes=23, n_node_features=4, n_edge_features=None, n_labels=2), Graph(n_nodes=16, n_node_features=4, n_edge_features=None, n_labels=2), Graph(n_nodes=6, n_node_features=4, n_edge_features=None, n_labels=2), Graph(n_nodes=27, n_node_features=4, n_edge_features=None, n_labels=2), Graph(n_nodes=36, n_node_features=4, n_edge_features=None, n_labels=2), Graph(n_nodes=8, n_node_features=4, n_edge_features=None, n_labels=2), Graph(n_nodes=30, n_node_features=4, n_edge_features=None, n_labels=2), Graph(n_nodes=42, n_node_features=4, n_edge_features=None, n_labels=2), Graph(n_nodes=38, n_node_features=4, n_edge_features=None, n_labels=2), Graph(n_nodes=36, n_node_features=4, n_edge_features=None, n_labels=2), Graph(n_nodes=16, n_node_features=4, n_edge_features=None, n_labels=2), Graph(n_nodes=42, n_node_features=4, n_edge_features=None, n_labels=2), Graph(n_nodes=21, n_node_features=4, n_edge_features=None, n_labels=2), Graph(n_nodes=40, n_node_features=4, n_edge_features=None, n_labels=2), Graph(n_nodes=19, n_node_features=4, n_edge_features=None, n_labels=2), Graph(n_nodes=20, n_node_features=4, n_edge_features=None, n_labels=2), Graph(n_nodes=22, n_node_features=4, n_edge_features=None, n_labels=2), Graph(n_nodes=16, n_node_features=4, n_edge_features=None, n_labels=2), Graph(n_nodes=14, n_node_features=4, n_edge_features=None, n_labels=2), Graph(n_nodes=41, n_node_features=4, n_edge_features=None, n_labels=2), Graph(n_nodes=31, n_node_features=4, n_edge_features=None, n_labels=2), Graph(n_nodes=58, n_node_features=4, n_edge_features=None, n_labels=2), Graph(n_nodes=24, n_node_features=4, n_edge_features=None, n_labels=2), Graph(n_nodes=24, n_node_features=4, n_edge_features=None, n_labels=2), Graph(n_nodes=18, n_node_features=4, n_edge_features=None, n_labels=2), Graph(n_nodes=24, n_node_features=4, n_edge_features=None, n_labels=2), Graph(n_nodes=103, n_node_features=4, n_edge_features=None, n_labels=2), Graph(n_nodes=20, n_node_features=4, n_edge_features=None, n_labels=2), Graph(n_nodes=17, n_node_features=4, n_edge_features=None, n_labels=2), Graph(n_nodes=18, n_node_features=4, n_edge_features=None, n_labels=2), Graph(n_nodes=32, n_node_features=4, n_edge_features=None, n_labels=2), Graph(n_nodes=6, n_node_features=4, n_edge_features=None, n_labels=2), Graph(n_nodes=58, n_node_features=4, n_edge_features=None, n_labels=2), Graph(n_nodes=28, n_node_features=4, n_edge_features=None, n_labels=2), Graph(n_nodes=14, n_node_features=4, n_edge_features=None, n_labels=2), Graph(n_nodes=39, n_node_features=4, n_edge_features=None, n_labels=2), Graph(n_nodes=10, n_node_features=4, n_edge_features=None, n_labels=2), Graph(n_nodes=22, n_node_features=4, n_edge_features=None, n_labels=2), Graph(n_nodes=26, n_node_features=4, n_edge_features=None, n_labels=2), Graph(n_nodes=11, n_node_features=4, n_edge_features=None, n_labels=2), Graph(n_nodes=66, n_node_features=4, n_edge_features=None, n_labels=2), Graph(n_nodes=48, n_node_features=4, n_edge_features=None, n_labels=2), Graph(n_nodes=144, n_node_features=4, n_edge_features=None, n_labels=2), Graph(n_nodes=24, n_node_features=4, n_edge_features=None, n_labels=2), Graph(n_nodes=41, n_node_features=4, n_edge_features=None, n_labels=2), Graph(n_nodes=23, n_node_features=4, n_edge_features=None, n_labels=2), Graph(n_nodes=19, n_node_features=4, n_edge_features=None, n_labels=2), Graph(n_nodes=16, n_node_features=4, n_edge_features=None, n_labels=2), Graph(n_nodes=34, n_node_features=4, n_edge_features=None, n_labels=2), Graph(n_nodes=30, n_node_features=4, n_edge_features=None, n_labels=2), Graph(n_nodes=24, n_node_features=4, n_edge_features=None, n_labels=2), Graph(n_nodes=20, n_node_features=4, n_edge_features=None, n_labels=2), Graph(n_nodes=17, n_node_features=4, n_edge_features=None, n_labels=2), Graph(n_nodes=82, n_node_features=4, n_edge_features=None, n_labels=2), Graph(n_nodes=17, n_node_features=4, n_edge_features=None, n_labels=2), Graph(n_nodes=47, n_node_features=4, n_edge_features=None, n_labels=2), Graph(n_nodes=42, n_node_features=4, n_edge_features=None, n_labels=2), Graph(n_nodes=15, n_node_features=4, n_edge_features=None, n_labels=2), Graph(n_nodes=96, n_node_features=4, n_edge_features=None, n_labels=2), Graph(n_nodes=56, n_node_features=4, n_edge_features=None, n_labels=2), Graph(n_nodes=30, n_node_features=4, n_edge_features=None, n_labels=2), Graph(n_nodes=13, n_node_features=4, n_edge_features=None, n_labels=2), Graph(n_nodes=19, n_node_features=4, n_edge_features=None, n_labels=2), Graph(n_nodes=66, n_node_features=4, n_edge_features=None, n_labels=2), Graph(n_nodes=7, n_node_features=4, n_edge_features=None, n_labels=2), Graph(n_nodes=24, n_node_features=4, n_edge_features=None, n_labels=2), Graph(n_nodes=91, n_node_features=4, n_edge_features=None, n_labels=2), Graph(n_nodes=30, n_node_features=4, n_edge_features=None, n_labels=2), Graph(n_nodes=147, n_node_features=4, n_edge_features=None, n_labels=2), Graph(n_nodes=27, n_node_features=4, n_edge_features=None, n_labels=2), Graph(n_nodes=100, n_node_features=4, n_edge_features=None, n_labels=2), Graph(n_nodes=30, n_node_features=4, n_edge_features=None, n_labels=2), Graph(n_nodes=14, n_node_features=4, n_edge_features=None, n_labels=2), Graph(n_nodes=30, n_node_features=4, n_edge_features=None, n_labels=2), Graph(n_nodes=134, n_node_features=4, n_edge_features=None, n_labels=2), Graph(n_nodes=34, n_node_features=4, n_edge_features=None, n_labels=2), Graph(n_nodes=90, n_node_features=4, n_edge_features=None, n_labels=2), Graph(n_nodes=74, n_node_features=4, n_edge_features=None, n_labels=2), Graph(n_nodes=32, n_node_features=4, n_edge_features=None, n_labels=2), Graph(n_nodes=16, n_node_features=4, n_edge_features=None, n_labels=2), Graph(n_nodes=22, n_node_features=4, n_edge_features=None, n_labels=2), Graph(n_nodes=20, n_node_features=4, n_edge_features=None, n_labels=2), Graph(n_nodes=26, n_node_features=4, n_edge_features=None, n_labels=2), Graph(n_nodes=25, n_node_features=4, n_edge_features=None, n_labels=2), Graph(n_nodes=68, n_node_features=4, n_edge_features=None, n_labels=2), Graph(n_nodes=23, n_node_features=4, n_edge_features=None, n_labels=2), Graph(n_nodes=36, n_node_features=4, n_edge_features=None, n_labels=2), Graph(n_nodes=40, n_node_features=4, n_edge_features=None, n_labels=2), Graph(n_nodes=58, n_node_features=4, n_edge_features=None, n_labels=2), Graph(n_nodes=46, n_node_features=4, n_edge_features=None, n_labels=2), Graph(n_nodes=13, n_node_features=4, n_edge_features=None, n_labels=2), Graph(n_nodes=83, n_node_features=4, n_edge_features=None, n_labels=2), Graph(n_nodes=21, n_node_features=4, n_edge_features=None, n_labels=2), Graph(n_nodes=16, n_node_features=4, n_edge_features=None, n_labels=2), Graph(n_nodes=33, n_node_features=4, n_edge_features=None, n_labels=2), Graph(n_nodes=7, n_node_features=4, n_edge_features=None, n_labels=2), Graph(n_nodes=23, n_node_features=4, n_edge_features=None, n_labels=2), Graph(n_nodes=58, n_node_features=4, n_edge_features=None, n_labels=2), Graph(n_nodes=133, n_node_features=4, n_edge_features=None, n_labels=2), Graph(n_nodes=15, n_node_features=4, n_edge_features=None, n_labels=2), Graph(n_nodes=146, n_node_features=4, n_edge_features=None, n_labels=2), Graph(n_nodes=55, n_node_features=4, n_edge_features=None, n_labels=2), Graph(n_nodes=14, n_node_features=4, n_edge_features=None, n_labels=2), Graph(n_nodes=59, n_node_features=4, n_edge_features=None, n_labels=2), Graph(n_nodes=30, n_node_features=4, n_edge_features=None, n_labels=2), Graph(n_nodes=69, n_node_features=4, n_edge_features=None, n_labels=2), Graph(n_nodes=17, n_node_features=4, n_edge_features=None, n_labels=2), Graph(n_nodes=43, n_node_features=4, n_edge_features=None, n_labels=2), Graph(n_nodes=22, n_node_features=4, n_edge_features=None, n_labels=2), Graph(n_nodes=59, n_node_features=4, n_edge_features=None, n_labels=2), Graph(n_nodes=162, n_node_features=4, n_edge_features=None, n_labels=2), Graph(n_nodes=17, n_node_features=4, n_edge_features=None, n_labels=2), Graph(n_nodes=31, n_node_features=4, n_edge_features=None, n_labels=2), Graph(n_nodes=46, n_node_features=4, n_edge_features=None, n_labels=2), Graph(n_nodes=20, n_node_features=4, n_edge_features=None, n_labels=2), Graph(n_nodes=95, n_node_features=4, n_edge_features=None, n_labels=2), Graph(n_nodes=20, n_node_features=4, n_edge_features=None, n_labels=2), Graph(n_nodes=39, n_node_features=4, n_edge_features=None, n_labels=2), Graph(n_nodes=19, n_node_features=4, n_edge_features=None, n_labels=2), Graph(n_nodes=67, n_node_features=4, n_edge_features=None, n_labels=2), Graph(n_nodes=26, n_node_features=4, n_edge_features=None, n_labels=2), Graph(n_nodes=31, n_node_features=4, n_edge_features=None, n_labels=2), Graph(n_nodes=60, n_node_features=4, n_edge_features=None, n_labels=2), Graph(n_nodes=52, n_node_features=4, n_edge_features=None, n_labels=2), Graph(n_nodes=27, n_node_features=4, n_edge_features=None, n_labels=2), Graph(n_nodes=14, n_node_features=4, n_edge_features=None, n_labels=2), Graph(n_nodes=10, n_node_features=4, n_edge_features=None, n_labels=2), Graph(n_nodes=20, n_node_features=4, n_edge_features=None, n_labels=2), Graph(n_nodes=108, n_node_features=4, n_edge_features=None, n_labels=2), Graph(n_nodes=59, n_node_features=4, n_edge_features=None, n_labels=2), Graph(n_nodes=18, n_node_features=4, n_edge_features=None, n_labels=2), Graph(n_nodes=26, n_node_features=4, n_edge_features=None, n_labels=2), Graph(n_nodes=102, n_node_features=4, n_edge_features=None, n_labels=2), Graph(n_nodes=131, n_node_features=4, n_edge_features=None, n_labels=2), Graph(n_nodes=56, n_node_features=4, n_edge_features=None, n_labels=2), Graph(n_nodes=24, n_node_features=4, n_edge_features=None, n_labels=2), Graph(n_nodes=24, n_node_features=4, n_edge_features=None, n_labels=2), Graph(n_nodes=70, n_node_features=4, n_edge_features=None, n_labels=2), Graph(n_nodes=14, n_node_features=4, n_edge_features=None, n_labels=2), Graph(n_nodes=31, n_node_features=4, n_edge_features=None, n_labels=2), Graph(n_nodes=31, n_node_features=4, n_edge_features=None, n_labels=2), Graph(n_nodes=18, n_node_features=4, n_edge_features=None, n_labels=2), Graph(n_nodes=61, n_node_features=4, n_edge_features=None, n_labels=2), Graph(n_nodes=30, n_node_features=4, n_edge_features=None, n_labels=2), Graph(n_nodes=96, n_node_features=4, n_edge_features=None, n_labels=2), Graph(n_nodes=87, n_node_features=4, n_edge_features=None, n_labels=2), Graph(n_nodes=18, n_node_features=4, n_edge_features=None, n_labels=2), Graph(n_nodes=22, n_node_features=4, n_edge_features=None, n_labels=2), Graph(n_nodes=168, n_node_features=4, n_edge_features=None, n_labels=2), Graph(n_nodes=23, n_node_features=4, n_edge_features=None, n_labels=2), Graph(n_nodes=13, n_node_features=4, n_edge_features=None, n_labels=2), Graph(n_nodes=43, n_node_features=4, n_edge_features=None, n_labels=2), Graph(n_nodes=32, n_node_features=4, n_edge_features=None, n_labels=2), Graph(n_nodes=11, n_node_features=4, n_edge_features=None, n_labels=2), Graph(n_nodes=98, n_node_features=4, n_edge_features=None, n_labels=2), Graph(n_nodes=32, n_node_features=4, n_edge_features=None, n_labels=2), Graph(n_nodes=10, n_node_features=4, n_edge_features=None, n_labels=2), Graph(n_nodes=31, n_node_features=4, n_edge_features=None, n_labels=2), Graph(n_nodes=14, n_node_features=4, n_edge_features=None, n_labels=2), Graph(n_nodes=13, n_node_features=4, n_edge_features=None, n_labels=2), Graph(n_nodes=13, n_node_features=4, n_edge_features=None, n_labels=2), Graph(n_nodes=16, n_node_features=4, n_edge_features=None, n_labels=2), Graph(n_nodes=24, n_node_features=4, n_edge_features=None, n_labels=2), Graph(n_nodes=10, n_node_features=4, n_edge_features=None, n_labels=2), Graph(n_nodes=18, n_node_features=4, n_edge_features=None, n_labels=2), Graph(n_nodes=6, n_node_features=4, n_edge_features=None, n_labels=2), Graph(n_nodes=20, n_node_features=4, n_edge_features=None, n_labels=2), Graph(n_nodes=5, n_node_features=4, n_edge_features=None, n_labels=2), Graph(n_nodes=8, n_node_features=4, n_edge_features=None, n_labels=2), Graph(n_nodes=112, n_node_features=4, n_edge_features=None, n_labels=2), Graph(n_nodes=11, n_node_features=4, n_edge_features=None, n_labels=2), Graph(n_nodes=6, n_node_features=4, n_edge_features=None, n_labels=2), Graph(n_nodes=26, n_node_features=4, n_edge_features=None, n_labels=2), Graph(n_nodes=30, n_node_features=4, n_edge_features=None, n_labels=2), Graph(n_nodes=14, n_node_features=4, n_edge_features=None, n_labels=2), Graph(n_nodes=109, n_node_features=4, n_edge_features=None, n_labels=2), Graph(n_nodes=9, n_node_features=4, n_edge_features=None, n_labels=2), Graph(n_nodes=18, n_node_features=4, n_edge_features=None, n_labels=2), Graph(n_nodes=18, n_node_features=4, n_edge_features=None, n_labels=2), Graph(n_nodes=27, n_node_features=4, n_edge_features=None, n_labels=2), Graph(n_nodes=20, n_node_features=4, n_edge_features=None, n_labels=2), Graph(n_nodes=8, n_node_features=4, n_edge_features=None, n_labels=2), Graph(n_nodes=18, n_node_features=4, n_edge_features=None, n_labels=2), Graph(n_nodes=44, n_node_features=4, n_edge_features=None, n_labels=2), Graph(n_nodes=14, n_node_features=4, n_edge_features=None, n_labels=2), Graph(n_nodes=17, n_node_features=4, n_edge_features=None, n_labels=2), Graph(n_nodes=21, n_node_features=4, n_edge_features=None, n_labels=2), Graph(n_nodes=38, n_node_features=4, n_edge_features=None, n_labels=2), Graph(n_nodes=20, n_node_features=4, n_edge_features=None, n_labels=2), Graph(n_nodes=4, n_node_features=4, n_edge_features=None, n_labels=2), Graph(n_nodes=40, n_node_features=4, n_edge_features=None, n_labels=2), Graph(n_nodes=94, n_node_features=4, n_edge_features=None, n_labels=2), Graph(n_nodes=53, n_node_features=4, n_edge_features=None, n_labels=2), Graph(n_nodes=13, n_node_features=4, n_edge_features=None, n_labels=2), Graph(n_nodes=7, n_node_features=4, n_edge_features=None, n_labels=2), Graph(n_nodes=6, n_node_features=4, n_edge_features=None, n_labels=2), Graph(n_nodes=10, n_node_features=4, n_edge_features=None, n_labels=2), Graph(n_nodes=27, n_node_features=4, n_edge_features=None, n_labels=2), Graph(n_nodes=10, n_node_features=4, n_edge_features=None, n_labels=2), Graph(n_nodes=9, n_node_features=4, n_edge_features=None, n_labels=2), Graph(n_nodes=5, n_node_features=4, n_edge_features=None, n_labels=2), Graph(n_nodes=22, n_node_features=4, n_edge_features=None, n_labels=2), Graph(n_nodes=12, n_node_features=4, n_edge_features=None, n_labels=2), Graph(n_nodes=47, n_node_features=4, n_edge_features=None, n_labels=2), Graph(n_nodes=11, n_node_features=4, n_edge_features=None, n_labels=2), Graph(n_nodes=42, n_node_features=4, n_edge_features=None, n_labels=2), Graph(n_nodes=10, n_node_features=4, n_edge_features=None, n_labels=2), Graph(n_nodes=10, n_node_features=4, n_edge_features=None, n_labels=2), Graph(n_nodes=21, n_node_features=4, n_edge_features=None, n_labels=2), Graph(n_nodes=10, n_node_features=4, n_edge_features=None, n_labels=2), Graph(n_nodes=18, n_node_features=4, n_edge_features=None, n_labels=2), Graph(n_nodes=15, n_node_features=4, n_edge_features=None, n_labels=2), Graph(n_nodes=13, n_node_features=4, n_edge_features=None, n_labels=2), Graph(n_nodes=60, n_node_features=4, n_edge_features=None, n_labels=2), Graph(n_nodes=41, n_node_features=4, n_edge_features=None, n_labels=2), Graph(n_nodes=5, n_node_features=4, n_edge_features=None, n_labels=2), Graph(n_nodes=15, n_node_features=4, n_edge_features=None, n_labels=2), Graph(n_nodes=16, n_node_features=4, n_edge_features=None, n_labels=2), Graph(n_nodes=9, n_node_features=4, n_edge_features=None, n_labels=2), Graph(n_nodes=24, n_node_features=4, n_edge_features=None, n_labels=2), Graph(n_nodes=8, n_node_features=4, n_edge_features=None, n_labels=2), Graph(n_nodes=12, n_node_features=4, n_edge_features=None, n_labels=2), Graph(n_nodes=6, n_node_features=4, n_edge_features=None, n_labels=2), Graph(n_nodes=38, n_node_features=4, n_edge_features=None, n_labels=2), Graph(n_nodes=25, n_node_features=4, n_edge_features=None, n_labels=2), Graph(n_nodes=14, n_node_features=4, n_edge_features=None, n_labels=2), Graph(n_nodes=12, n_node_features=4, n_edge_features=None, n_labels=2), Graph(n_nodes=35, n_node_features=4, n_edge_features=None, n_labels=2), Graph(n_nodes=42, n_node_features=4, n_edge_features=None, n_labels=2), Graph(n_nodes=24, n_node_features=4, n_edge_features=None, n_labels=2), Graph(n_nodes=29, n_node_features=4, n_edge_features=None, n_labels=2), Graph(n_nodes=10, n_node_features=4, n_edge_features=None, n_labels=2), Graph(n_nodes=6, n_node_features=4, n_edge_features=None, n_labels=2), Graph(n_nodes=16, n_node_features=4, n_edge_features=None, n_labels=2), Graph(n_nodes=22, n_node_features=4, n_edge_features=None, n_labels=2), Graph(n_nodes=46, n_node_features=4, n_edge_features=None, n_labels=2), Graph(n_nodes=4, n_node_features=4, n_edge_features=None, n_labels=2), Graph(n_nodes=10, n_node_features=4, n_edge_features=None, n_labels=2), Graph(n_nodes=38, n_node_features=4, n_edge_features=None, n_labels=2), Graph(n_nodes=15, n_node_features=4, n_edge_features=None, n_labels=2), Graph(n_nodes=4, n_node_features=4, n_edge_features=None, n_labels=2), Graph(n_nodes=11, n_node_features=4, n_edge_features=None, n_labels=2), Graph(n_nodes=15, n_node_features=4, n_edge_features=None, n_labels=2), Graph(n_nodes=16, n_node_features=4, n_edge_features=None, n_labels=2), Graph(n_nodes=13, n_node_features=4, n_edge_features=None, n_labels=2), Graph(n_nodes=16, n_node_features=4, n_edge_features=None, n_labels=2), Graph(n_nodes=64, n_node_features=4, n_edge_features=None, n_labels=2), Graph(n_nodes=140, n_node_features=4, n_edge_features=None, n_labels=2), Graph(n_nodes=11, n_node_features=4, n_edge_features=None, n_labels=2), Graph(n_nodes=150, n_node_features=4, n_edge_features=None, n_labels=2), Graph(n_nodes=39, n_node_features=4, n_edge_features=None, n_labels=2), Graph(n_nodes=33, n_node_features=4, n_edge_features=None, n_labels=2), Graph(n_nodes=6, n_node_features=4, n_edge_features=None, n_labels=2), Graph(n_nodes=13, n_node_features=4, n_edge_features=None, n_labels=2), Graph(n_nodes=10, n_node_features=4, n_edge_features=None, n_labels=2), Graph(n_nodes=46, n_node_features=4, n_edge_features=None, n_labels=2), Graph(n_nodes=10, n_node_features=4, n_edge_features=None, n_labels=2), Graph(n_nodes=13, n_node_features=4, n_edge_features=None, n_labels=2), Graph(n_nodes=51, n_node_features=4, n_edge_features=None, n_labels=2), Graph(n_nodes=15, n_node_features=4, n_edge_features=None, n_labels=2), Graph(n_nodes=39, n_node_features=4, n_edge_features=None, n_labels=2), Graph(n_nodes=22, n_node_features=4, n_edge_features=None, n_labels=2), Graph(n_nodes=22, n_node_features=4, n_edge_features=None, n_labels=2), Graph(n_nodes=10, n_node_features=4, n_edge_features=None, n_labels=2), Graph(n_nodes=27, n_node_features=4, n_edge_features=None, n_labels=2), Graph(n_nodes=15, n_node_features=4, n_edge_features=None, n_labels=2), Graph(n_nodes=24, n_node_features=4, n_edge_features=None, n_labels=2), Graph(n_nodes=12, n_node_features=4, n_edge_features=None, n_labels=2), Graph(n_nodes=9, n_node_features=4, n_edge_features=None, n_labels=2), Graph(n_nodes=44, n_node_features=4, n_edge_features=None, n_labels=2), Graph(n_nodes=22, n_node_features=4, n_edge_features=None, n_labels=2), Graph(n_nodes=33, n_node_features=4, n_edge_features=None, n_labels=2), Graph(n_nodes=15, n_node_features=4, n_edge_features=None, n_labels=2), Graph(n_nodes=9, n_node_features=4, n_edge_features=None, n_labels=2), Graph(n_nodes=34, n_node_features=4, n_edge_features=None, n_labels=2), Graph(n_nodes=10, n_node_features=4, n_edge_features=None, n_labels=2), Graph(n_nodes=20, n_node_features=4, n_edge_features=None, n_labels=2), Graph(n_nodes=26, n_node_features=4, n_edge_features=None, n_labels=2), Graph(n_nodes=9, n_node_features=4, n_edge_features=None, n_labels=2), Graph(n_nodes=65, n_node_features=4, n_edge_features=None, n_labels=2), Graph(n_nodes=8, n_node_features=4, n_edge_features=None, n_labels=2), Graph(n_nodes=21, n_node_features=4, n_edge_features=None, n_labels=2), Graph(n_nodes=29, n_node_features=4, n_edge_features=None, n_labels=2), Graph(n_nodes=22, n_node_features=4, n_edge_features=None, n_labels=2), Graph(n_nodes=23, n_node_features=4, n_edge_features=None, n_labels=2), Graph(n_nodes=17, n_node_features=4, n_edge_features=None, n_labels=2), Graph(n_nodes=8, n_node_features=4, n_edge_features=None, n_labels=2), Graph(n_nodes=13, n_node_features=4, n_edge_features=None, n_labels=2), Graph(n_nodes=26, n_node_features=4, n_edge_features=None, n_labels=2), Graph(n_nodes=45, n_node_features=4, n_edge_features=None, n_labels=2), Graph(n_nodes=39, n_node_features=4, n_edge_features=None, n_labels=2), Graph(n_nodes=52, n_node_features=4, n_edge_features=None, n_labels=2), Graph(n_nodes=25, n_node_features=4, n_edge_features=None, n_labels=2), Graph(n_nodes=35, n_node_features=4, n_edge_features=None, n_labels=2), Graph(n_nodes=10, n_node_features=4, n_edge_features=None, n_labels=2), Graph(n_nodes=12, n_node_features=4, n_edge_features=None, n_labels=2), Graph(n_nodes=6, n_node_features=4, n_edge_features=None, n_labels=2), Graph(n_nodes=28, n_node_features=4, n_edge_features=None, n_labels=2), Graph(n_nodes=32, n_node_features=4, n_edge_features=None, n_labels=2), Graph(n_nodes=13, n_node_features=4, n_edge_features=None, n_labels=2), Graph(n_nodes=24, n_node_features=4, n_edge_features=None, n_labels=2), Graph(n_nodes=24, n_node_features=4, n_edge_features=None, n_labels=2), Graph(n_nodes=35, n_node_features=4, n_edge_features=None, n_labels=2), Graph(n_nodes=11, n_node_features=4, n_edge_features=None, n_labels=2), Graph(n_nodes=9, n_node_features=4, n_edge_features=None, n_labels=2), Graph(n_nodes=19, n_node_features=4, n_edge_features=None, n_labels=2), Graph(n_nodes=16, n_node_features=4, n_edge_features=None, n_labels=2), Graph(n_nodes=17, n_node_features=4, n_edge_features=None, n_labels=2), Graph(n_nodes=22, n_node_features=4, n_edge_features=None, n_labels=2), Graph(n_nodes=10, n_node_features=4, n_edge_features=None, n_labels=2), Graph(n_nodes=21, n_node_features=4, n_edge_features=None, n_labels=2), Graph(n_nodes=29, n_node_features=4, n_edge_features=None, n_labels=2), Graph(n_nodes=20, n_node_features=4, n_edge_features=None, n_labels=2), Graph(n_nodes=7, n_node_features=4, n_edge_features=None, n_labels=2), Graph(n_nodes=18, n_node_features=4, n_edge_features=None, n_labels=2), Graph(n_nodes=15, n_node_features=4, n_edge_features=None, n_labels=2), Graph(n_nodes=17, n_node_features=4, n_edge_features=None, n_labels=2), Graph(n_nodes=74, n_node_features=4, n_edge_features=None, n_labels=2), Graph(n_nodes=46, n_node_features=4, n_edge_features=None, n_labels=2), Graph(n_nodes=6, n_node_features=4, n_edge_features=None, n_labels=2), Graph(n_nodes=11, n_node_features=4, n_edge_features=None, n_labels=2), Graph(n_nodes=70, n_node_features=4, n_edge_features=None, n_labels=2), Graph(n_nodes=20, n_node_features=4, n_edge_features=None, n_labels=2), Graph(n_nodes=5, n_node_features=4, n_edge_features=None, n_labels=2), Graph(n_nodes=78, n_node_features=4, n_edge_features=None, n_labels=2), Graph(n_nodes=15, n_node_features=4, n_edge_features=None, n_labels=2), Graph(n_nodes=28, n_node_features=4, n_edge_features=None, n_labels=2), Graph(n_nodes=149, n_node_features=4, n_edge_features=None, n_labels=2), Graph(n_nodes=63, n_node_features=4, n_edge_features=None, n_labels=2), Graph(n_nodes=23, n_node_features=4, n_edge_features=None, n_labels=2), Graph(n_nodes=27, n_node_features=4, n_edge_features=None, n_labels=2), Graph(n_nodes=36, n_node_features=4, n_edge_features=None, n_labels=2), Graph(n_nodes=43, n_node_features=4, n_edge_features=None, n_labels=2), Graph(n_nodes=52, n_node_features=4, n_edge_features=None, n_labels=2), Graph(n_nodes=30, n_node_features=4, n_edge_features=None, n_labels=2), Graph(n_nodes=8, n_node_features=4, n_edge_features=None, n_labels=2), Graph(n_nodes=23, n_node_features=4, n_edge_features=None, n_labels=2), Graph(n_nodes=20, n_node_features=4, n_edge_features=None, n_labels=2), Graph(n_nodes=5, n_node_features=4, n_edge_features=None, n_labels=2), Graph(n_nodes=20, n_node_features=4, n_edge_features=None, n_labels=2), Graph(n_nodes=8, n_node_features=4, n_edge_features=None, n_labels=2), Graph(n_nodes=33, n_node_features=4, n_edge_features=None, n_labels=2), Graph(n_nodes=16, n_node_features=4, n_edge_features=None, n_labels=2), Graph(n_nodes=14, n_node_features=4, n_edge_features=None, n_labels=2), Graph(n_nodes=23, n_node_features=4, n_edge_features=None, n_labels=2), Graph(n_nodes=11, n_node_features=4, n_edge_features=None, n_labels=2), Graph(n_nodes=84, n_node_features=4, n_edge_features=None, n_labels=2), Graph(n_nodes=7, n_node_features=4, n_edge_features=None, n_labels=2), Graph(n_nodes=14, n_node_features=4, n_edge_features=None, n_labels=2), Graph(n_nodes=15, n_node_features=4, n_edge_features=None, n_labels=2), Graph(n_nodes=10, n_node_features=4, n_edge_features=None, n_labels=2), Graph(n_nodes=56, n_node_features=4, n_edge_features=None, n_labels=2), Graph(n_nodes=93, n_node_features=4, n_edge_features=None, n_labels=2), Graph(n_nodes=32, n_node_features=4, n_edge_features=None, n_labels=2), Graph(n_nodes=11, n_node_features=4, n_edge_features=None, n_labels=2), Graph(n_nodes=8, n_node_features=4, n_edge_features=None, n_labels=2), Graph(n_nodes=6, n_node_features=4, n_edge_features=None, n_labels=2), Graph(n_nodes=12, n_node_features=4, n_edge_features=None, n_labels=2), Graph(n_nodes=24, n_node_features=4, n_edge_features=None, n_labels=2), Graph(n_nodes=12, n_node_features=4, n_edge_features=None, n_labels=2), Graph(n_nodes=24, n_node_features=4, n_edge_features=None, n_labels=2), Graph(n_nodes=34, n_node_features=4, n_edge_features=None, n_labels=2), Graph(n_nodes=22, n_node_features=4, n_edge_features=None, n_labels=2), Graph(n_nodes=21, n_node_features=4, n_edge_features=None, n_labels=2), Graph(n_nodes=7, n_node_features=4, n_edge_features=None, n_labels=2), Graph(n_nodes=8, n_node_features=4, n_edge_features=None, n_labels=2), Graph(n_nodes=34, n_node_features=4, n_edge_features=None, n_labels=2), Graph(n_nodes=66, n_node_features=4, n_edge_features=None, n_labels=2), Graph(n_nodes=5, n_node_features=4, n_edge_features=None, n_labels=2), Graph(n_nodes=17, n_node_features=4, n_edge_features=None, n_labels=2), Graph(n_nodes=8, n_node_features=4, n_edge_features=None, n_labels=2), Graph(n_nodes=25, n_node_features=4, n_edge_features=None, n_labels=2), Graph(n_nodes=17, n_node_features=4, n_edge_features=None, n_labels=2), Graph(n_nodes=58, n_node_features=4, n_edge_features=None, n_labels=2), Graph(n_nodes=28, n_node_features=4, n_edge_features=None, n_labels=2), Graph(n_nodes=46, n_node_features=4, n_edge_features=None, n_labels=2), Graph(n_nodes=24, n_node_features=4, n_edge_features=None, n_labels=2), Graph(n_nodes=15, n_node_features=4, n_edge_features=None, n_labels=2), Graph(n_nodes=9, n_node_features=4, n_edge_features=None, n_labels=2), Graph(n_nodes=5, n_node_features=4, n_edge_features=None, n_labels=2), Graph(n_nodes=21, n_node_features=4, n_edge_features=None, n_labels=2), Graph(n_nodes=8, n_node_features=4, n_edge_features=None, n_labels=2), Graph(n_nodes=12, n_node_features=4, n_edge_features=None, n_labels=2), Graph(n_nodes=19, n_node_features=4, n_edge_features=None, n_labels=2), Graph(n_nodes=5, n_node_features=4, n_edge_features=None, n_labels=2), Graph(n_nodes=8, n_node_features=4, n_edge_features=None, n_labels=2), Graph(n_nodes=24, n_node_features=4, n_edge_features=None, n_labels=2), Graph(n_nodes=46, n_node_features=4, n_edge_features=None, n_labels=2), Graph(n_nodes=10, n_node_features=4, n_edge_features=None, n_labels=2), Graph(n_nodes=11, n_node_features=4, n_edge_features=None, n_labels=2), Graph(n_nodes=19, n_node_features=4, n_edge_features=None, n_labels=2), Graph(n_nodes=20, n_node_features=4, n_edge_features=None, n_labels=2), Graph(n_nodes=20, n_node_features=4, n_edge_features=None, n_labels=2), Graph(n_nodes=11, n_node_features=4, n_edge_features=None, n_labels=2), Graph(n_nodes=10, n_node_features=4, n_edge_features=None, n_labels=2), Graph(n_nodes=4, n_node_features=4, n_edge_features=None, n_labels=2), Graph(n_nodes=19, n_node_features=4, n_edge_features=None, n_labels=2), Graph(n_nodes=33, n_node_features=4, n_edge_features=None, n_labels=2), Graph(n_nodes=62, n_node_features=4, n_edge_features=None, n_labels=2), Graph(n_nodes=8, n_node_features=4, n_edge_features=None, n_labels=2), Graph(n_nodes=40, n_node_features=4, n_edge_features=None, n_labels=2), Graph(n_nodes=12, n_node_features=4, n_edge_features=None, n_labels=2), Graph(n_nodes=9, n_node_features=4, n_edge_features=None, n_labels=2), Graph(n_nodes=53, n_node_features=4, n_edge_features=None, n_labels=2), Graph(n_nodes=21, n_node_features=4, n_edge_features=None, n_labels=2), Graph(n_nodes=20, n_node_features=4, n_edge_features=None, n_labels=2), Graph(n_nodes=45, n_node_features=4, n_edge_features=None, n_labels=2), Graph(n_nodes=13, n_node_features=4, n_edge_features=None, n_labels=2), Graph(n_nodes=50, n_node_features=4, n_edge_features=None, n_labels=2), Graph(n_nodes=6, n_node_features=4, n_edge_features=None, n_labels=2), Graph(n_nodes=12, n_node_features=4, n_edge_features=None, n_labels=2), Graph(n_nodes=12, n_node_features=4, n_edge_features=None, n_labels=2), Graph(n_nodes=36, n_node_features=4, n_edge_features=None, n_labels=2), Graph(n_nodes=31, n_node_features=4, n_edge_features=None, n_labels=2), Graph(n_nodes=34, n_node_features=4, n_edge_features=None, n_labels=2), Graph(n_nodes=8, n_node_features=4, n_edge_features=None, n_labels=2), Graph(n_nodes=19, n_node_features=4, n_edge_features=None, n_labels=2), Graph(n_nodes=11, n_node_features=4, n_edge_features=None, n_labels=2), Graph(n_nodes=8, n_node_features=4, n_edge_features=None, n_labels=2), Graph(n_nodes=7, n_node_features=4, n_edge_features=None, n_labels=2), Graph(n_nodes=23, n_node_features=4, n_edge_features=None, n_labels=2), Graph(n_nodes=14, n_node_features=4, n_edge_features=None, n_labels=2), Graph(n_nodes=15, n_node_features=4, n_edge_features=None, n_labels=2), Graph(n_nodes=27, n_node_features=4, n_edge_features=None, n_labels=2), Graph(n_nodes=5, n_node_features=4, n_edge_features=None, n_labels=2), Graph(n_nodes=56, n_node_features=4, n_edge_features=None, n_labels=2), Graph(n_nodes=11, n_node_features=4, n_edge_features=None, n_labels=2), Graph(n_nodes=20, n_node_features=4, n_edge_features=None, n_labels=2), Graph(n_nodes=8, n_node_features=4, n_edge_features=None, n_labels=2), Graph(n_nodes=9, n_node_features=4, n_edge_features=None, n_labels=2), Graph(n_nodes=22, n_node_features=4, n_edge_features=None, n_labels=2), Graph(n_nodes=7, n_node_features=4, n_edge_features=None, n_labels=2), Graph(n_nodes=40, n_node_features=4, n_edge_features=None, n_labels=2), Graph(n_nodes=10, n_node_features=4, n_edge_features=None, n_labels=2), Graph(n_nodes=54, n_node_features=4, n_edge_features=None, n_labels=2), Graph(n_nodes=72, n_node_features=4, n_edge_features=None, n_labels=2), Graph(n_nodes=30, n_node_features=4, n_edge_features=None, n_labels=2), Graph(n_nodes=14, n_node_features=4, n_edge_features=None, n_labels=2), Graph(n_nodes=4, n_node_features=4, n_edge_features=None, n_labels=2), Graph(n_nodes=8, n_node_features=4, n_edge_features=None, n_labels=2), Graph(n_nodes=12, n_node_features=4, n_edge_features=None, n_labels=2), Graph(n_nodes=26, n_node_features=4, n_edge_features=None, n_labels=2), Graph(n_nodes=18, n_node_features=4, n_edge_features=None, n_labels=2), Graph(n_nodes=27, n_node_features=4, n_edge_features=None, n_labels=2), Graph(n_nodes=45, n_node_features=4, n_edge_features=None, n_labels=2), Graph(n_nodes=9, n_node_features=4, n_edge_features=None, n_labels=2), Graph(n_nodes=20, n_node_features=4, n_edge_features=None, n_labels=2), Graph(n_nodes=7, n_node_features=4, n_edge_features=None, n_labels=2), Graph(n_nodes=4, n_node_features=4, n_edge_features=None, n_labels=2), Graph(n_nodes=10, n_node_features=4, n_edge_features=None, n_labels=2), Graph(n_nodes=15, n_node_features=4, n_edge_features=None, n_labels=2), Graph(n_nodes=10, n_node_features=4, n_edge_features=None, n_labels=2), Graph(n_nodes=26, n_node_features=4, n_edge_features=None, n_labels=2), Graph(n_nodes=5, n_node_features=4, n_edge_features=None, n_labels=2), Graph(n_nodes=16, n_node_features=4, n_edge_features=None, n_labels=2), Graph(n_nodes=29, n_node_features=4, n_edge_features=None, n_labels=2), Graph(n_nodes=20, n_node_features=4, n_edge_features=None, n_labels=2), Graph(n_nodes=24, n_node_features=4, n_edge_features=None, n_labels=2), Graph(n_nodes=6, n_node_features=4, n_edge_features=None, n_labels=2), Graph(n_nodes=9, n_node_features=4, n_edge_features=None, n_labels=2), Graph(n_nodes=18, n_node_features=4, n_edge_features=None, n_labels=2), Graph(n_nodes=6, n_node_features=4, n_edge_features=None, n_labels=2), Graph(n_nodes=9, n_node_features=4, n_edge_features=None, n_labels=2), Graph(n_nodes=10, n_node_features=4, n_edge_features=None, n_labels=2), Graph(n_nodes=5, n_node_features=4, n_edge_features=None, n_labels=2), Graph(n_nodes=6, n_node_features=4, n_edge_features=None, n_labels=2), Graph(n_nodes=10, n_node_features=4, n_edge_features=None, n_labels=2), Graph(n_nodes=38, n_node_features=4, n_edge_features=None, n_labels=2), Graph(n_nodes=32, n_node_features=4, n_edge_features=None, n_labels=2), Graph(n_nodes=7, n_node_features=4, n_edge_features=None, n_labels=2), Graph(n_nodes=17, n_node_features=4, n_edge_features=None, n_labels=2), Graph(n_nodes=17, n_node_features=4, n_edge_features=None, n_labels=2), Graph(n_nodes=4, n_node_features=4, n_edge_features=None, n_labels=2), Graph(n_nodes=15, n_node_features=4, n_edge_features=None, n_labels=2), Graph(n_nodes=77, n_node_features=4, n_edge_features=None, n_labels=2), Graph(n_nodes=16, n_node_features=4, n_edge_features=None, n_labels=2), Graph(n_nodes=58, n_node_features=4, n_edge_features=None, n_labels=2), Graph(n_nodes=36, n_node_features=4, n_edge_features=None, n_labels=2), Graph(n_nodes=20, n_node_features=4, n_edge_features=None, n_labels=2), Graph(n_nodes=47, n_node_features=4, n_edge_features=None, n_labels=2), Graph(n_nodes=23, n_node_features=4, n_edge_features=None, n_labels=2), Graph(n_nodes=11, n_node_features=4, n_edge_features=None, n_labels=2), Graph(n_nodes=60, n_node_features=4, n_edge_features=None, n_labels=2), Graph(n_nodes=14, n_node_features=4, n_edge_features=None, n_labels=2), Graph(n_nodes=9, n_node_features=4, n_edge_features=None, n_labels=2), Graph(n_nodes=22, n_node_features=4, n_edge_features=None, n_labels=2), Graph(n_nodes=9, n_node_features=4, n_edge_features=None, n_labels=2), Graph(n_nodes=12, n_node_features=4, n_edge_features=None, n_labels=2), Graph(n_nodes=15, n_node_features=4, n_edge_features=None, n_labels=2), Graph(n_nodes=5, n_node_features=4, n_edge_features=None, n_labels=2), Graph(n_nodes=27, n_node_features=4, n_edge_features=None, n_labels=2), Graph(n_nodes=5, n_node_features=4, n_edge_features=None, n_labels=2), Graph(n_nodes=40, n_node_features=4, n_edge_features=None, n_labels=2), Graph(n_nodes=25, n_node_features=4, n_edge_features=None, n_labels=2), Graph(n_nodes=53, n_node_features=4, n_edge_features=None, n_labels=2), Graph(n_nodes=55, n_node_features=4, n_edge_features=None, n_labels=2), Graph(n_nodes=14, n_node_features=4, n_edge_features=None, n_labels=2), Graph(n_nodes=57, n_node_features=4, n_edge_features=None, n_labels=2), Graph(n_nodes=15, n_node_features=4, n_edge_features=None, n_labels=2), Graph(n_nodes=25, n_node_features=4, n_edge_features=None, n_labels=2), Graph(n_nodes=44, n_node_features=4, n_edge_features=None, n_labels=2), Graph(n_nodes=5, n_node_features=4, n_edge_features=None, n_labels=2), Graph(n_nodes=6, n_node_features=4, n_edge_features=None, n_labels=2), Graph(n_nodes=6, n_node_features=4, n_edge_features=None, n_labels=2), Graph(n_nodes=22, n_node_features=4, n_edge_features=None, n_labels=2), Graph(n_nodes=26, n_node_features=4, n_edge_features=None, n_labels=2), Graph(n_nodes=80, n_node_features=4, n_edge_features=None, n_labels=2), Graph(n_nodes=36, n_node_features=4, n_edge_features=None, n_labels=2), Graph(n_nodes=11, n_node_features=4, n_edge_features=None, n_labels=2), Graph(n_nodes=40, n_node_features=4, n_edge_features=None, n_labels=2), Graph(n_nodes=13, n_node_features=4, n_edge_features=None, n_labels=2), Graph(n_nodes=5, n_node_features=4, n_edge_features=None, n_labels=2), Graph(n_nodes=16, n_node_features=4, n_edge_features=None, n_labels=2), Graph(n_nodes=90, n_node_features=4, n_edge_features=None, n_labels=2), Graph(n_nodes=9, n_node_features=4, n_edge_features=None, n_labels=2), Graph(n_nodes=24, n_node_features=4, n_edge_features=None, n_labels=2), Graph(n_nodes=41, n_node_features=4, n_edge_features=None, n_labels=2), Graph(n_nodes=34, n_node_features=4, n_edge_features=None, n_labels=2), Graph(n_nodes=14, n_node_features=4, n_edge_features=None, n_labels=2), Graph(n_nodes=7, n_node_features=4, n_edge_features=None, n_labels=2), Graph(n_nodes=17, n_node_features=4, n_edge_features=None, n_labels=2), Graph(n_nodes=19, n_node_features=4, n_edge_features=None, n_labels=2), Graph(n_nodes=10, n_node_features=4, n_edge_features=None, n_labels=2), Graph(n_nodes=34, n_node_features=4, n_edge_features=None, n_labels=2), Graph(n_nodes=56, n_node_features=4, n_edge_features=None, n_labels=2), Graph(n_nodes=24, n_node_features=4, n_edge_features=None, n_labels=2), Graph(n_nodes=33, n_node_features=4, n_edge_features=None, n_labels=2), Graph(n_nodes=34, n_node_features=4, n_edge_features=None, n_labels=2), Graph(n_nodes=20, n_node_features=4, n_edge_features=None, n_labels=2), Graph(n_nodes=5, n_node_features=4, n_edge_features=None, n_labels=2), Graph(n_nodes=4, n_node_features=4, n_edge_features=None, n_labels=2), Graph(n_nodes=8, n_node_features=4, n_edge_features=None, n_labels=2), Graph(n_nodes=18, n_node_features=4, n_edge_features=None, n_labels=2), Graph(n_nodes=4, n_node_features=4, n_edge_features=None, n_labels=2), Graph(n_nodes=13, n_node_features=4, n_edge_features=None, n_labels=2), Graph(n_nodes=4, n_node_features=4, n_edge_features=None, n_labels=2), Graph(n_nodes=18, n_node_features=4, n_edge_features=None, n_labels=2), Graph(n_nodes=11, n_node_features=4, n_edge_features=None, n_labels=2), Graph(n_nodes=22, n_node_features=4, n_edge_features=None, n_labels=2), Graph(n_nodes=12, n_node_features=4, n_edge_features=None, n_labels=2), Graph(n_nodes=32, n_node_features=4, n_edge_features=None, n_labels=2), Graph(n_nodes=20, n_node_features=4, n_edge_features=None, n_labels=2), Graph(n_nodes=16, n_node_features=4, n_edge_features=None, n_labels=2), Graph(n_nodes=5, n_node_features=4, n_edge_features=None, n_labels=2), Graph(n_nodes=6, n_node_features=4, n_edge_features=None, n_labels=2), Graph(n_nodes=10, n_node_features=4, n_edge_features=None, n_labels=2), Graph(n_nodes=6, n_node_features=4, n_edge_features=None, n_labels=2), Graph(n_nodes=6, n_node_features=4, n_edge_features=None, n_labels=2), Graph(n_nodes=24, n_node_features=4, n_edge_features=None, n_labels=2), Graph(n_nodes=24, n_node_features=4, n_edge_features=None, n_labels=2), Graph(n_nodes=7, n_node_features=4, n_edge_features=None, n_labels=2), Graph(n_nodes=18, n_node_features=4, n_edge_features=None, n_labels=2), Graph(n_nodes=17, n_node_features=4, n_edge_features=None, n_labels=2), Graph(n_nodes=8, n_node_features=4, n_edge_features=None, n_labels=2), Graph(n_nodes=64, n_node_features=4, n_edge_features=None, n_labels=2), Graph(n_nodes=14, n_node_features=4, n_edge_features=None, n_labels=2), Graph(n_nodes=9, n_node_features=4, n_edge_features=None, n_labels=2), Graph(n_nodes=11, n_node_features=4, n_edge_features=None, n_labels=2), Graph(n_nodes=8, n_node_features=4, n_edge_features=None, n_labels=2), Graph(n_nodes=33, n_node_features=4, n_edge_features=None, n_labels=2), Graph(n_nodes=17, n_node_features=4, n_edge_features=None, n_labels=2), Graph(n_nodes=96, n_node_features=4, n_edge_features=None, n_labels=2), Graph(n_nodes=14, n_node_features=4, n_edge_features=None, n_labels=2), Graph(n_nodes=16, n_node_features=4, n_edge_features=None, n_labels=2), Graph(n_nodes=72, n_node_features=4, n_edge_features=None, n_labels=2), Graph(n_nodes=22, n_node_features=4, n_edge_features=None, n_labels=2), Graph(n_nodes=6, n_node_features=4, n_edge_features=None, n_labels=2), Graph(n_nodes=6, n_node_features=4, n_edge_features=None, n_labels=2), Graph(n_nodes=8, n_node_features=4, n_edge_features=None, n_labels=2), Graph(n_nodes=15, n_node_features=4, n_edge_features=None, n_labels=2), Graph(n_nodes=7, n_node_features=4, n_edge_features=None, n_labels=2), Graph(n_nodes=14, n_node_features=4, n_edge_features=None, n_labels=2), Graph(n_nodes=26, n_node_features=4, n_edge_features=None, n_labels=2), Graph(n_nodes=8, n_node_features=4, n_edge_features=None, n_labels=2), Graph(n_nodes=27, n_node_features=4, n_edge_features=None, n_labels=2), Graph(n_nodes=24, n_node_features=4, n_edge_features=None, n_labels=2), Graph(n_nodes=13, n_node_features=4, n_edge_features=None, n_labels=2), Graph(n_nodes=4, n_node_features=4, n_edge_features=None, n_labels=2), Graph(n_nodes=38, n_node_features=4, n_edge_features=None, n_labels=2), Graph(n_nodes=21, n_node_features=4, n_edge_features=None, n_labels=2), Graph(n_nodes=10, n_node_features=4, n_edge_features=None, n_labels=2), Graph(n_nodes=21, n_node_features=4, n_edge_features=None, n_labels=2), Graph(n_nodes=7, n_node_features=4, n_edge_features=None, n_labels=2), Graph(n_nodes=18, n_node_features=4, n_edge_features=None, n_labels=2), Graph(n_nodes=12, n_node_features=4, n_edge_features=None, n_labels=2), Graph(n_nodes=6, n_node_features=4, n_edge_features=None, n_labels=2), Graph(n_nodes=11, n_node_features=4, n_edge_features=None, n_labels=2), Graph(n_nodes=10, n_node_features=4, n_edge_features=None, n_labels=2), Graph(n_nodes=29, n_node_features=4, n_edge_features=None, n_labels=2), Graph(n_nodes=36, n_node_features=4, n_edge_features=None, n_labels=2), Graph(n_nodes=7, n_node_features=4, n_edge_features=None, n_labels=2), Graph(n_nodes=20, n_node_features=4, n_edge_features=None, n_labels=2), Graph(n_nodes=16, n_node_features=4, n_edge_features=None, n_labels=2), Graph(n_nodes=4, n_node_features=4, n_edge_features=None, n_labels=2), Graph(n_nodes=6, n_node_features=4, n_edge_features=None, n_labels=2), Graph(n_nodes=5, n_node_features=4, n_edge_features=None, n_labels=2), Graph(n_nodes=22, n_node_features=4, n_edge_features=None, n_labels=2), Graph(n_nodes=5, n_node_features=4, n_edge_features=None, n_labels=2), Graph(n_nodes=15, n_node_features=4, n_edge_features=None, n_labels=2), Graph(n_nodes=16, n_node_features=4, n_edge_features=None, n_labels=2), Graph(n_nodes=5, n_node_features=4, n_edge_features=None, n_labels=2), Graph(n_nodes=40, n_node_features=4, n_edge_features=None, n_labels=2)]\n"
          ]
        }
      ]
    },
    {
      "cell_type": "code",
      "source": [
        "print(f\"Graph nodes' features:\\n{data[0].x}\")\n",
        "print(f\"Graph nodes' size:\\n{np.shape(data[0].x)}\")\n",
        "print(f\"Graph edges' features:\\n{data[0].e}\")\n",
        "print(f\"Graph adjacency matrix:\\n{data[0].a}\")\n",
        "print(f\"Graph labels:\\n{data[0].y}\")\n",
        "print(f\"Graph labels size:\\n{np.shape(data[0].y)}\")"
      ],
      "metadata": {
        "colab": {
          "base_uri": "https://localhost:8080/"
        },
        "id": "IA20tKNRh9pl",
        "outputId": "4034e85e-cb7f-4fa0-9fa0-79e6bfe8aac4"
      },
      "execution_count": null,
      "outputs": [
        {
          "output_type": "stream",
          "name": "stdout",
          "text": [
            "Graph nodes' features:\n",
            "[[23.  1.  0.  0.]\n",
            " [10.  1.  0.  0.]\n",
            " [25.  1.  0.  0.]\n",
            " [ 7.  1.  0.  0.]\n",
            " [12.  1.  0.  0.]\n",
            " [11.  1.  0.  0.]\n",
            " [ 5.  1.  0.  0.]\n",
            " [ 7.  1.  0.  0.]\n",
            " [ 9.  1.  0.  0.]\n",
            " [ 3.  1.  0.  0.]\n",
            " [ 6.  1.  0.  0.]\n",
            " [22.  1.  0.  0.]\n",
            " [ 8.  1.  0.  0.]\n",
            " [26.  1.  0.  0.]\n",
            " [ 7.  1.  0.  0.]\n",
            " [12.  1.  0.  0.]\n",
            " [11.  1.  0.  0.]\n",
            " [ 5.  1.  0.  0.]\n",
            " [ 7.  1.  0.  0.]\n",
            " [ 8.  1.  0.  0.]\n",
            " [ 3.  1.  0.  0.]\n",
            " [ 6.  1.  0.  0.]\n",
            " [ 3.  0.  1.  0.]\n",
            " [ 9.  0.  1.  0.]\n",
            " [10.  0.  1.  0.]\n",
            " [ 7.  0.  1.  0.]\n",
            " [10.  0.  1.  0.]\n",
            " [ 8.  0.  1.  0.]\n",
            " [ 5.  0.  1.  0.]\n",
            " [ 4.  0.  1.  0.]\n",
            " [ 3.  0.  1.  0.]\n",
            " [ 3.  0.  1.  0.]\n",
            " [ 3.  0.  1.  0.]\n",
            " [ 9.  0.  1.  0.]\n",
            " [10.  0.  1.  0.]\n",
            " [ 7.  0.  1.  0.]\n",
            " [10.  0.  1.  0.]\n",
            " [ 8.  0.  1.  0.]\n",
            " [ 5.  0.  1.  0.]\n",
            " [ 4.  0.  1.  0.]\n",
            " [ 3.  0.  1.  0.]\n",
            " [ 3.  0.  1.  0.]]\n",
            "Graph nodes' size:\n",
            "(42, 4)\n",
            "Graph edges' features:\n",
            "None\n",
            "Graph adjacency matrix:\n",
            "  (0, 11)\t1.0\n",
            "  (0, 22)\t1.0\n",
            "  (0, 32)\t1.0\n",
            "  (1, 23)\t1.0\n",
            "  (1, 31)\t1.0\n",
            "  (1, 41)\t1.0\n",
            "  (2, 24)\t1.0\n",
            "  (2, 29)\t1.0\n",
            "  (2, 34)\t1.0\n",
            "  (3, 4)\t1.0\n",
            "  (3, 28)\t1.0\n",
            "  (3, 29)\t1.0\n",
            "  (3, 38)\t1.0\n",
            "  (3, 39)\t1.0\n",
            "  (4, 3)\t1.0\n",
            "  (4, 14)\t1.0\n",
            "  (4, 28)\t1.0\n",
            "  (4, 29)\t1.0\n",
            "  (4, 38)\t1.0\n",
            "  (4, 39)\t1.0\n",
            "  (5, 6)\t1.0\n",
            "  (5, 7)\t1.0\n",
            "  (5, 26)\t1.0\n",
            "  (6, 5)\t1.0\n",
            "  (6, 7)\t1.0\n",
            "  :\t:\n",
            "  (35, 18)\t1.0\n",
            "  (35, 19)\t1.0\n",
            "  (36, 16)\t1.0\n",
            "  (36, 27)\t1.0\n",
            "  (36, 37)\t1.0\n",
            "  (37, 26)\t1.0\n",
            "  (37, 36)\t1.0\n",
            "  (37, 38)\t1.0\n",
            "  (38, 3)\t1.0\n",
            "  (38, 4)\t1.0\n",
            "  (38, 15)\t1.0\n",
            "  (38, 37)\t1.0\n",
            "  (39, 3)\t1.0\n",
            "  (39, 4)\t1.0\n",
            "  (39, 13)\t1.0\n",
            "  (39, 14)\t1.0\n",
            "  (40, 22)\t1.0\n",
            "  (40, 32)\t1.0\n",
            "  (40, 41)\t1.0\n",
            "  (41, 1)\t1.0\n",
            "  (41, 12)\t1.0\n",
            "  (41, 23)\t1.0\n",
            "  (41, 31)\t1.0\n",
            "  (41, 33)\t1.0\n",
            "  (41, 40)\t1.0\n",
            "Graph labels:\n",
            "[1. 0.]\n",
            "Graph labels size:\n",
            "(2,)\n"
          ]
        }
      ]
    },
    {
      "cell_type": "code",
      "source": [
        "# split data\n",
        "np.random.shuffle(data)\n",
        "split = int(0.8 * len(data))\n",
        "data_train, data_test = data[:split], data[split:]"
      ],
      "metadata": {
        "colab": {
          "base_uri": "https://localhost:8080/"
        },
        "id": "t8sgon6l5Q3V",
        "outputId": "fe8f787f-996c-4549-a253-0589a7f0bd5d"
      },
      "execution_count": null,
      "outputs": [
        {
          "output_type": "stream",
          "name": "stderr",
          "text": [
            "<ipython-input-72-165aa5cc3c3c>:2: UserWarning: you are shuffling a 'TUDataset' object which is not a subclass of 'Sequence'; `shuffle` is not guaranteed to behave correctly. E.g., non-numpy array/tensor objects with view semantics may contain duplicates after shuffling.\n",
            "  np.random.shuffle(data)\n"
          ]
        }
      ]
    },
    {
      "cell_type": "code",
      "source": [
        "# data loaders\n",
        "loader_train = DisjointLoader(data_train, batch_size=batch_size, epochs=epochs)\n",
        "loader_test = DisjointLoader(data_test, batch_size=batch_size)"
      ],
      "metadata": {
        "id": "yxXvhGom6Qox"
      },
      "execution_count": null,
      "outputs": []
    },
    {
      "cell_type": "code",
      "source": [
        "# signatures\n",
        "loader_train.tf_signature()"
      ],
      "metadata": {
        "colab": {
          "base_uri": "https://localhost:8080/"
        },
        "id": "KIykuf_tjL47",
        "outputId": "356296e6-669d-4d1e-d90e-c6e993c1854c"
      },
      "execution_count": null,
      "outputs": [
        {
          "output_type": "execute_result",
          "data": {
            "text/plain": [
              "((TensorSpec(shape=(None, 4), dtype=tf.float64, name=None),\n",
              "  SparseTensorSpec(TensorShape([None, None]), tf.float64),\n",
              "  TensorSpec(shape=(None,), dtype=tf.int64, name=None)),\n",
              " TensorSpec(shape=(None, 2), dtype=tf.float64, name=None))"
            ]
          },
          "metadata": {},
          "execution_count": 74
        }
      ]
    },
    {
      "cell_type": "code",
      "source": [
        "# build model\n",
        "model = GeneralGNN(data.n_labels, activation=\"softmax\")\n",
        "optimizer = Adam(learning_rate)\n",
        "loss_func = CategoricalCrossentropy()"
      ],
      "metadata": {
        "id": "fHEs3Kzr6Qzs"
      },
      "execution_count": null,
      "outputs": []
    },
    {
      "cell_type": "code",
      "source": [
        "# fit model\n",
        "@tf.function(input_signature=loader_train.tf_signature(), experimental_relax_shapes=True)\n",
        "def train_step(inputs, target):\n",
        "    with tf.GradientTape() as tape:\n",
        "        predictions = model(inputs, training=True)\n",
        "        loss = loss_func(target, predictions) + sum(model.losses)\n",
        "    gradients = tape.gradient(loss, model.trainable_variables)\n",
        "    optimizer.apply_gradients(zip(gradients, model.trainable_variables))\n",
        "    acc = tf.reduce_mean(categorical_accuracy(target, predictions))\n",
        "    return loss, acc\n",
        "\n",
        "def evaluate(loader):\n",
        "    output = []\n",
        "    step = 0\n",
        "    while step < loader.steps_per_epoch:\n",
        "        step += 1\n",
        "        inputs, target = loader.__next__()\n",
        "        pred = model(inputs, training=False)\n",
        "        outs = (loss_func(target, pred), tf.reduce_mean(categorical_accuracy(target, pred)), len(target))\n",
        "        output.append(outs)\n",
        "        if step == loader.steps_per_epoch:\n",
        "            output = np.array(output)\n",
        "            return np.average(output[:, :-1], 0, weights=output[:, -1])\n",
        "epoch = step = 0\n",
        "results = []\n",
        "for batch in loader_train:\n",
        "    step += 1\n",
        "    loss, acc = train_step(*batch)\n",
        "    results.append((loss, acc))\n",
        "    if step == loader_train.steps_per_epoch:\n",
        "        step = 0\n",
        "        epoch += 1\n",
        "        results_test = evaluate(loader_test)\n",
        "        print(\"Ep. {} - Loss: {:.3f} - Acc: {:.3f} - Test loss: {:.3f} - Test acc: {:.3f}\".format(epoch, *np.mean(results, 0), *results_test))\n",
        "        results = []"
      ],
      "metadata": {
        "colab": {
          "base_uri": "https://localhost:8080/"
        },
        "id": "trsktaQ96UQy",
        "outputId": "ffb4ab73-70b3-4222-fdf8-a13d1da128a7"
      },
      "execution_count": null,
      "outputs": [
        {
          "output_type": "stream",
          "name": "stderr",
          "text": [
            "/usr/local/lib/python3.10/dist-packages/spektral/data/utils.py:221: UserWarning: you are shuffling a 'TUDataset' object which is not a subclass of 'Sequence'; `shuffle` is not guaranteed to behave correctly. E.g., non-numpy array/tensor objects with view semantics may contain duplicates after shuffling.\n",
            "  np.random.shuffle(a)\n"
          ]
        },
        {
          "output_type": "stream",
          "name": "stdout",
          "text": [
            "Ep. 1 - Loss: 0.606 - Acc: 0.678 - Test loss: 5.767 - Test acc: 0.453\n",
            "Ep. 2 - Loss: 0.559 - Acc: 0.726 - Test loss: 1.211 - Test acc: 0.475\n",
            "Ep. 3 - Loss: 0.544 - Acc: 0.718 - Test loss: 1.600 - Test acc: 0.457\n",
            "Ep. 4 - Loss: 0.516 - Acc: 0.745 - Test loss: 0.590 - Test acc: 0.731\n",
            "Ep. 5 - Loss: 0.532 - Acc: 0.741 - Test loss: 0.600 - Test acc: 0.673\n",
            "Ep. 6 - Loss: 0.518 - Acc: 0.739 - Test loss: 0.876 - Test acc: 0.444\n",
            "Ep. 7 - Loss: 0.522 - Acc: 0.745 - Test loss: 0.589 - Test acc: 0.691\n",
            "Ep. 8 - Loss: 0.503 - Acc: 0.758 - Test loss: 0.592 - Test acc: 0.713\n",
            "Ep. 9 - Loss: 0.509 - Acc: 0.756 - Test loss: 0.593 - Test acc: 0.682\n",
            "Ep. 10 - Loss: 0.495 - Acc: 0.763 - Test loss: 0.606 - Test acc: 0.677\n"
          ]
        }
      ]
    },
    {
      "cell_type": "code",
      "source": [
        "# evaluate model\n",
        "results_test = evaluate(loader_test)\n",
        "print(\"Final results - Loss: {:.3f} - Acc: {:.3f}\".format(*results_test))"
      ],
      "metadata": {
        "colab": {
          "base_uri": "https://localhost:8080/"
        },
        "id": "ufo2_q_n5Q7Q",
        "outputId": "1d2a5123-b9aa-452c-b01c-137cda139144"
      },
      "execution_count": null,
      "outputs": [
        {
          "output_type": "stream",
          "name": "stdout",
          "text": [
            "Final results - Loss: 0.606 - Acc: 0.677\n"
          ]
        }
      ]
    },
    {
      "cell_type": "markdown",
      "source": [
        "# Custom Dataset"
      ],
      "metadata": {
        "id": "8UOVRSdRzWhh"
      }
    },
    {
      "cell_type": "code",
      "source": [
        "# config\n",
        "learning_rate = 1e-2  # learning rate\n",
        "epochs = 400  # number of training epochs\n",
        "patience = 10  # patience for early stopping\n",
        "batch_size = 32  # batch size"
      ],
      "metadata": {
        "id": "2hdXFQe197Jc"
      },
      "execution_count": null,
      "outputs": []
    },
    {
      "cell_type": "code",
      "source": [
        "# load data\n",
        "class MyDataset(Dataset):\n",
        "    \"\"\"\n",
        "    A dataset of random colored graphs.\n",
        "    The task is to classify each graph with the color which occurs the most in its nodes.\n",
        "    The graphs have \"n_colors\" colors, of at least \"n_min\" and at most \"n_max\" nodes connected with probability \"p\".\n",
        "    \"\"\"\n",
        "    def __init__(self, n_samples, n_colors=3, n_min=10, n_max=100, p=0.1, **kwargs):\n",
        "        self.n_samples = n_samples\n",
        "        self.n_colors = n_colors\n",
        "        self.n_min = n_min\n",
        "        self.n_max = n_max\n",
        "        self.p = p\n",
        "        super().__init__(**kwargs)\n",
        "\n",
        "    def read(self):\n",
        "        def make_graph():\n",
        "            n = np.random.randint(self.n_min, self.n_max)\n",
        "            colors = np.random.randint(0, self.n_colors, size=n)\n",
        "            x = np.zeros((n, self.n_colors))\n",
        "            x[np.arange(n), colors] = 1 # node features\n",
        "            a = np.random.rand(n, n) <= self.p\n",
        "            a = np.maximum(a, a.T).astype(int)\n",
        "            a = sp.csr_matrix(a) # edges\n",
        "            y = np.zeros((self.n_colors,))\n",
        "            color_counts = x.sum(0)\n",
        "            y[np.argmax(color_counts)] = 1 # labels\n",
        "            return Graph(x=x, a=a, y=y)\n",
        "        return [make_graph() for _ in range(self.n_samples)] # list of Graph objects\n",
        "data = MyDataset(1000, transforms=NormalizeAdj())"
      ],
      "metadata": {
        "id": "gLnS7Es_CIQ_"
      },
      "execution_count": null,
      "outputs": []
    },
    {
      "cell_type": "code",
      "source": [
        "# train/valid/test split\n",
        "idxs = np.random.permutation(len(data))\n",
        "split_valid, split_test = int(0.8 * len(data)), int(0.9 * len(data))\n",
        "idx_train, idx_valid, idx_test = np.split(idxs, [split_valid, split_test])\n",
        "data_train = data[idx_train]\n",
        "data_valid = data[idx_valid]\n",
        "data_test = data[idx_test]"
      ],
      "metadata": {
        "id": "d225L_mCCIZ2"
      },
      "execution_count": null,
      "outputs": []
    },
    {
      "cell_type": "code",
      "source": [
        "# data loaders\n",
        "loader_train = DisjointLoader(data_train, batch_size=batch_size, epochs=epochs)\n",
        "loader_valid = DisjointLoader(data_valid, batch_size=batch_size)\n",
        "loader_test = DisjointLoader(data_test, batch_size=batch_size)"
      ],
      "metadata": {
        "id": "Eka2pMA-CIeS"
      },
      "execution_count": null,
      "outputs": []
    },
    {
      "cell_type": "code",
      "source": [
        "# build model\n",
        "class Net(Model):\n",
        "    def __init__(self):\n",
        "        super().__init__()\n",
        "        self.conv1 = GCSConv(32, activation=\"relu\")\n",
        "        self.conv2 = GCSConv(32, activation=\"relu\")\n",
        "        self.conv3 = GCSConv(32, activation=\"relu\")\n",
        "        self.global_pool = GlobalAvgPool()\n",
        "        self.dense = Dense(data.n_labels, activation=\"softmax\")\n",
        "\n",
        "    def call(self, inputs):\n",
        "        x, a, i = inputs\n",
        "        x = self.conv1([x, a])\n",
        "        x = self.conv2([x, a])\n",
        "        x = self.conv3([x, a])\n",
        "        output = self.global_pool([x, i])\n",
        "        output = self.dense(output)\n",
        "        return output\n",
        "\n",
        "model = Net()\n",
        "optimizer = Adam(learning_rate=learning_rate)\n",
        "loss_fn = CategoricalCrossentropy()"
      ],
      "metadata": {
        "id": "DcGADZNQC0hz"
      },
      "execution_count": null,
      "outputs": []
    },
    {
      "cell_type": "code",
      "source": [
        "# fit model\n",
        "@tf.function(input_signature=loader_train.tf_signature(), experimental_relax_shapes=True)\n",
        "def train_step(inputs, target):\n",
        "    with tf.GradientTape() as tape:\n",
        "        predictions = model(inputs, training=True)\n",
        "        loss = loss_fn(target, predictions) + sum(model.losses)\n",
        "    gradients = tape.gradient(loss, model.trainable_variables)\n",
        "    optimizer.apply_gradients(zip(gradients, model.trainable_variables))\n",
        "    acc = tf.reduce_mean(categorical_accuracy(target, predictions))\n",
        "    return loss, acc\n",
        "\n",
        "def evaluate(loader):\n",
        "    output = []\n",
        "    step = 0\n",
        "    while step < loader.steps_per_epoch:\n",
        "        step += 1\n",
        "        inputs, target = loader.__next__()\n",
        "        pred = model(inputs, training=False)\n",
        "        outs = (loss_fn(target, pred), tf.reduce_mean(categorical_accuracy(target, pred)), len(target))\n",
        "        output.append(outs)\n",
        "        if step == loader.steps_per_epoch:\n",
        "            output = np.array(output)\n",
        "            return np.average(output[:, :-1], 0, weights=output[:, -1])\n",
        "\n",
        "epoch = step = 0\n",
        "best_val_loss = np.inf\n",
        "best_weights = None\n",
        "patience = patience\n",
        "results = []\n",
        "for batch in loader_train:\n",
        "    step += 1\n",
        "    loss, acc = train_step(*batch)\n",
        "    results.append((loss, acc))\n",
        "    if step == loader_train.steps_per_epoch:\n",
        "        step = 0\n",
        "        epoch += 1\n",
        "        val_loss, val_acc = evaluate(loader_valid)\n",
        "        print(\"Ep. {} - Loss: {:.3f} - Acc: {:.3f} - Val loss: {:.3f} - Val acc: {:.3f}\".format(epoch, *np.mean(results, 0), val_loss, val_acc))\n",
        "        # check if loss improved for early stopping\n",
        "        if val_loss < best_val_loss:\n",
        "            best_val_loss = val_loss\n",
        "            patience = patience\n",
        "            print(\"New best val_loss {:.3f}\".format(val_loss))\n",
        "            best_weights = model.get_weights()\n",
        "        else:\n",
        "            patience -= 1\n",
        "            if patience == 0:\n",
        "                print(\"Early stopping (best val_loss: {})\".format(best_val_loss))\n",
        "                break\n",
        "        results = []\n",
        "model.set_weights(best_weights)  # Load best model\n",
        "test_loss, test_acc = evaluate(loader_test)\n",
        "print(\"Done. Test loss: {:.4f}. Test acc: {:.2f}\".format(test_loss, test_acc))"
      ],
      "metadata": {
        "colab": {
          "base_uri": "https://localhost:8080/"
        },
        "id": "gMVaCU1t97Q4",
        "outputId": "40db05dc-3c63-478a-b934-b9158475aad0"
      },
      "execution_count": null,
      "outputs": [
        {
          "output_type": "stream",
          "name": "stderr",
          "text": [
            "/usr/local/lib/python3.10/dist-packages/spektral/data/utils.py:221: UserWarning: you are shuffling a 'MyDataset' object which is not a subclass of 'Sequence'; `shuffle` is not guaranteed to behave correctly. E.g., non-numpy array/tensor objects with view semantics may contain duplicates after shuffling.\n",
            "  np.random.shuffle(a)\n",
            "/usr/local/lib/python3.10/dist-packages/keras/src/initializers/initializers.py:120: UserWarning: The initializer GlorotUniform is unseeded and being called multiple times, which will return identical values each time (even if the initializer is unseeded). Please update your code to provide a seed to the initializer, or avoid using the same initializer instance more than once.\n",
            "  warnings.warn(\n"
          ]
        },
        {
          "output_type": "stream",
          "name": "stdout",
          "text": [
            "Ep. 1 - Loss: 1.021 - Acc: 0.480 - Val loss: 0.846 - Val acc: 0.590\n",
            "New best val_loss 0.846\n",
            "Ep. 2 - Loss: 0.623 - Acc: 0.757 - Val loss: 0.495 - Val acc: 0.830\n",
            "New best val_loss 0.495\n",
            "Ep. 3 - Loss: 0.443 - Acc: 0.800 - Val loss: 0.400 - Val acc: 0.870\n",
            "New best val_loss 0.400\n",
            "Ep. 4 - Loss: 0.295 - Acc: 0.890 - Val loss: 0.292 - Val acc: 0.920\n",
            "New best val_loss 0.292\n",
            "Ep. 5 - Loss: 0.300 - Acc: 0.875 - Val loss: 0.547 - Val acc: 0.780\n",
            "Ep. 6 - Loss: 0.300 - Acc: 0.870 - Val loss: 0.316 - Val acc: 0.880\n",
            "Ep. 7 - Loss: 0.237 - Acc: 0.906 - Val loss: 0.259 - Val acc: 0.930\n",
            "New best val_loss 0.259\n",
            "Ep. 8 - Loss: 0.270 - Acc: 0.882 - Val loss: 0.469 - Val acc: 0.770\n",
            "Ep. 9 - Loss: 0.270 - Acc: 0.891 - Val loss: 0.312 - Val acc: 0.850\n",
            "Ep. 10 - Loss: 0.270 - Acc: 0.882 - Val loss: 0.293 - Val acc: 0.870\n",
            "Ep. 11 - Loss: 0.272 - Acc: 0.895 - Val loss: 0.220 - Val acc: 0.940\n",
            "New best val_loss 0.220\n",
            "Ep. 12 - Loss: 0.264 - Acc: 0.887 - Val loss: 0.504 - Val acc: 0.750\n",
            "Ep. 13 - Loss: 0.288 - Acc: 0.885 - Val loss: 0.221 - Val acc: 0.940\n",
            "Ep. 14 - Loss: 0.245 - Acc: 0.892 - Val loss: 0.274 - Val acc: 0.890\n",
            "Ep. 15 - Loss: 0.278 - Acc: 0.884 - Val loss: 0.227 - Val acc: 0.930\n",
            "Ep. 16 - Loss: 0.236 - Acc: 0.911 - Val loss: 0.264 - Val acc: 0.920\n",
            "Early stopping (best val_loss: 0.2202037262916565)\n",
            "Done. Test loss: 0.1885. Test acc: 0.94\n"
          ]
        }
      ]
    },
    {
      "cell_type": "markdown",
      "source": [
        "# OGB Mol HIV Clf (Edge Attributes)"
      ],
      "metadata": {
        "id": "9jF4Jn8qzW5N"
      }
    },
    {
      "cell_type": "code",
      "source": [
        "# config\n",
        "learning_rate = 1e-3  # learning rate\n",
        "epochs = 2  # number of training epochs\n",
        "batch_size = 32  # batch size"
      ],
      "metadata": {
        "id": "56FYZhxGzQs5"
      },
      "execution_count": null,
      "outputs": []
    },
    {
      "cell_type": "code",
      "source": [
        "# load data\n",
        "dataset_name = \"ogbg-molhiv\"\n",
        "ogb_dataset = GraphPropPredDataset(name=dataset_name)\n",
        "dataset = OGB(ogb_dataset)"
      ],
      "metadata": {
        "id": "kXHDcIOhJ-ba",
        "colab": {
          "base_uri": "https://localhost:8080/"
        },
        "outputId": "180ba9fb-ab73-420e-e303-69bd306861ee"
      },
      "execution_count": null,
      "outputs": [
        {
          "output_type": "stream",
          "name": "stdout",
          "text": [
            "Downloading http://snap.stanford.edu/ogb/data/graphproppred/csv_mol_download/hiv.zip\n"
          ]
        },
        {
          "output_type": "stream",
          "name": "stderr",
          "text": [
            "Downloaded 0.00 GB: 100%|██████████| 3/3 [00:00<00:00,  6.49it/s]\n"
          ]
        },
        {
          "output_type": "stream",
          "name": "stdout",
          "text": [
            "Extracting dataset/hiv.zip\n",
            "Loading necessary files...\n",
            "This might take a while.\n",
            "Processing graphs...\n"
          ]
        },
        {
          "output_type": "stream",
          "name": "stderr",
          "text": [
            "100%|██████████| 41127/41127 [00:00<00:00, 76829.68it/s]\n"
          ]
        },
        {
          "output_type": "stream",
          "name": "stdout",
          "text": [
            "Saving...\n"
          ]
        }
      ]
    },
    {
      "cell_type": "code",
      "source": [
        "# params\n",
        "num_feats = dataset.n_node_features  # dimension of node features\n",
        "num_edges = dataset.n_edge_features  # dimension of edge features\n",
        "num_labels = dataset.n_labels  # dimension of the target"
      ],
      "metadata": {
        "id": "hrTD3ZJEJ-kx"
      },
      "execution_count": null,
      "outputs": []
    },
    {
      "cell_type": "code",
      "source": [
        "# train/test split\n",
        "idx = ogb_dataset.get_idx_split()\n",
        "idx_train, idx_valid, idx_test = idx[\"train\"], idx[\"valid\"], idx[\"test\"]\n",
        "dataset_train = dataset[idx_train]\n",
        "dataset_valid = dataset[idx_valid]\n",
        "dataset_test = dataset[idx_test]"
      ],
      "metadata": {
        "id": "vjsNWcxgKDjw"
      },
      "execution_count": null,
      "outputs": []
    },
    {
      "cell_type": "code",
      "source": [
        "# loaders\n",
        "loader_train = DisjointLoader(dataset_train, batch_size=batch_size, epochs=epochs)\n",
        "loader_test = DisjointLoader(dataset_test, batch_size=batch_size, epochs=1)"
      ],
      "metadata": {
        "id": "utBNrP5tKSmb"
      },
      "execution_count": null,
      "outputs": []
    },
    {
      "cell_type": "code",
      "source": [
        "# build model\n",
        "Nodes_input = Input(shape=(num_feats,))\n",
        "Adj_input = Input(shape=(None,), sparse=True)\n",
        "Edges_input = Input(shape=(num_edges,))\n",
        "Ind_input = Input(shape=(), dtype=tf.int64)\n",
        "X = ECCConv(32, activation=\"relu\")([Nodes_input, Adj_input, Edges_input])\n",
        "X = ECCConv(32, activation=\"relu\")([Nodes_input, Adj_input, Edges_input])\n",
        "X = GlobalSumPool()([X, Ind_input])\n",
        "output = Dense(num_labels, activation=\"sigmoid\")(X)\n",
        "# model\n",
        "model = Model(inputs=[Nodes_input, Adj_input, Edges_input, Ind_input], outputs=output)\n",
        "optimizer = Adam(learning_rate)\n",
        "loss_fn = BinaryCrossentropy()"
      ],
      "metadata": {
        "id": "UNALQHmeKaXy"
      },
      "execution_count": null,
      "outputs": []
    },
    {
      "cell_type": "code",
      "source": [
        "# fit model\n",
        "@tf.function(input_signature=loader_train.tf_signature(), experimental_relax_shapes=True)\n",
        "def train_step(inputs, target):\n",
        "    with tf.GradientTape() as tape:\n",
        "        predictions = model(inputs, training=True)\n",
        "        loss = loss_fn(target, predictions) + sum(model.losses)\n",
        "    gradients = tape.gradient(loss, model.trainable_variables)\n",
        "    optimizer.apply_gradients(zip(gradients, model.trainable_variables))\n",
        "    return loss\n",
        "\n",
        "step = loss = 0\n",
        "for batch in loader_train:\n",
        "    step += 1\n",
        "    loss += train_step(*batch)\n",
        "    if step == loader_train.steps_per_epoch:\n",
        "        step = 0\n",
        "        print(\"Loss: {}\".format(loss / loader_train.steps_per_epoch))\n",
        "        loss = 0"
      ],
      "metadata": {
        "colab": {
          "base_uri": "https://localhost:8080/"
        },
        "id": "5vOWAKOQKadV",
        "outputId": "d83a8331-ab20-47e1-da30-fa9eaec856a1"
      },
      "execution_count": null,
      "outputs": [
        {
          "output_type": "stream",
          "name": "stderr",
          "text": [
            "/usr/local/lib/python3.10/dist-packages/spektral/data/utils.py:221: UserWarning: you are shuffling a 'OGB' object which is not a subclass of 'Sequence'; `shuffle` is not guaranteed to behave correctly. E.g., non-numpy array/tensor objects with view semantics may contain duplicates after shuffling.\n",
            "  np.random.shuffle(a)\n"
          ]
        },
        {
          "output_type": "stream",
          "name": "stdout",
          "text": [
            "Loss: 0.7644172310829163\n",
            "Loss: 0.29914745688438416\n"
          ]
        }
      ]
    },
    {
      "cell_type": "code",
      "source": [
        "# evaluate model\n",
        "print(\"Testing model\")\n",
        "evaluator = Evaluator(name=dataset_name)\n",
        "y_true = []\n",
        "y_pred = []\n",
        "for batch in loader_test:\n",
        "    inputs, target = batch\n",
        "    p = model(inputs, training=False)\n",
        "    y_true.append(target)\n",
        "    y_pred.append(p.numpy())\n",
        "y_true = np.vstack(y_true)\n",
        "y_pred = np.vstack(y_pred)\n",
        "model_loss = loss_fn(y_true, y_pred)\n",
        "ogb_score = evaluator.eval({\"y_true\": y_true, \"y_pred\": y_pred})\n",
        "print(\"Done. Test loss: {:.4f}. ROC-AUC: {:.2f}\".format(model_loss, ogb_score[\"rocauc\"]))"
      ],
      "metadata": {
        "colab": {
          "base_uri": "https://localhost:8080/"
        },
        "id": "RUSXJmG5zQ1g",
        "outputId": "2c4b6a18-8c41-4544-fbe0-3a82d03f24d0"
      },
      "execution_count": null,
      "outputs": [
        {
          "output_type": "stream",
          "name": "stdout",
          "text": [
            "Testing model\n"
          ]
        },
        {
          "output_type": "stream",
          "name": "stderr",
          "text": [
            "/usr/local/lib/python3.10/dist-packages/spektral/data/utils.py:221: UserWarning: you are shuffling a 'OGB' object which is not a subclass of 'Sequence'; `shuffle` is not guaranteed to behave correctly. E.g., non-numpy array/tensor objects with view semantics may contain duplicates after shuffling.\n",
            "  np.random.shuffle(a)\n"
          ]
        },
        {
          "output_type": "stream",
          "name": "stdout",
          "text": [
            "Done. Test loss: 0.4085. ROC-AUC: 0.28\n"
          ]
        }
      ]
    },
    {
      "cell_type": "markdown",
      "source": [
        "# QM9 Reg With ECC (Custom Training Loop)"
      ],
      "metadata": {
        "id": "RNPPy1NHMIG7"
      }
    },
    {
      "cell_type": "code",
      "source": [
        "# config\n",
        "learning_rate = 1e-3  # learning rate\n",
        "epochs = 20  # number of training epochs\n",
        "batch_size = 32  # batch size"
      ],
      "metadata": {
        "id": "oduOW9iKM1px"
      },
      "execution_count": null,
      "outputs": []
    },
    {
      "cell_type": "code",
      "source": [
        "# load data\n",
        "dataset = QM9(amount=1000)"
      ],
      "metadata": {
        "colab": {
          "base_uri": "https://localhost:8080/"
        },
        "id": "dFZ1mS7dM10H",
        "outputId": "5268d5ca-1523-47d1-93b6-9a1ecd5c3623"
      },
      "execution_count": null,
      "outputs": [
        {
          "output_type": "stream",
          "name": "stdout",
          "text": [
            "Downloading data from https://deepchemdata.s3-us-west-1.amazonaws.com/datasets/gdb9.tar.gz\n",
            "44852087/44852087 [==============================] - 2s 0us/step\n",
            "Loading QM9 dataset.\n",
            "Reading SDF\n"
          ]
        },
        {
          "output_type": "stream",
          "name": "stderr",
          "text": [
            "100%|██████████████████████████████████████| 1000/1000 [00:01<00:00, 604.60it/s]\n"
          ]
        }
      ]
    },
    {
      "cell_type": "code",
      "source": [
        "# params\n",
        "num_node_feats = dataset.n_node_features  # dimension of node features\n",
        "num_edge_feats = dataset.n_edge_features  # dimension of edge features\n",
        "num_labels = dataset.n_labels  # dimension of the target"
      ],
      "metadata": {
        "id": "vflDrbgvfFzl"
      },
      "execution_count": null,
      "outputs": []
    },
    {
      "cell_type": "code",
      "source": [
        "# train/test split\n",
        "idxs = np.random.permutation(len(dataset))\n",
        "split = int(0.9 * len(dataset))\n",
        "idx_train, idx_test = np.split(idxs, [split])\n",
        "dataset_train, dataset_test = dataset[idx_train], dataset[idx_test]"
      ],
      "metadata": {
        "id": "MuY5V5sBfF8q"
      },
      "execution_count": null,
      "outputs": []
    },
    {
      "cell_type": "code",
      "source": [
        "# loaders\n",
        "loader_train = DisjointLoader(dataset_train, batch_size=batch_size, epochs=epochs)\n",
        "loader_test = DisjointLoader(dataset_test, batch_size=batch_size, epochs=1)"
      ],
      "metadata": {
        "id": "TsXg3xAIfilS"
      },
      "execution_count": null,
      "outputs": []
    },
    {
      "cell_type": "code",
      "source": [
        "# build model\n",
        "class Net(Model):\n",
        "    def __init__(self):\n",
        "        super().__init__()\n",
        "        self.conv1 = ECCConv(32, activation=\"relu\")\n",
        "        self.conv2 = ECCConv(32, activation=\"relu\")\n",
        "        self.global_pool = GlobalSumPool()\n",
        "        self.dense = Dense(num_labels)\n",
        "\n",
        "    def call(self, inputs):\n",
        "        x, a, e, i = inputs\n",
        "        x = self.conv1([x, a, e])\n",
        "        x = self.conv2([x, a, e])\n",
        "        output = self.global_pool([x, i])\n",
        "        output = self.dense(output)\n",
        "        return output\n",
        "model = Net()\n",
        "optimizer = Adam(learning_rate)\n",
        "loss_fn = MeanSquaredError()"
      ],
      "metadata": {
        "id": "NoLwVC5jfGC7"
      },
      "execution_count": null,
      "outputs": []
    },
    {
      "cell_type": "code",
      "source": [
        "# fit model\n",
        "@tf.function(input_signature=loader_train.tf_signature(), experimental_relax_shapes=True)\n",
        "def train_step(inputs, target):\n",
        "    with tf.GradientTape() as tape:\n",
        "        predictions = model(inputs, training=True)\n",
        "        loss = loss_fn(target, predictions) + sum(model.losses)\n",
        "    gradients = tape.gradient(loss, model.trainable_variables)\n",
        "    optimizer.apply_gradients(zip(gradients, model.trainable_variables))\n",
        "    return loss\n",
        "step = loss = 0\n",
        "for batch in loader_train:\n",
        "    step += 1\n",
        "    loss += train_step(*batch)\n",
        "    if step == loader_train.steps_per_epoch:\n",
        "        step = 0\n",
        "        print(\"Loss: {}\".format(loss / loader_train.steps_per_epoch))\n",
        "        loss = 0"
      ],
      "metadata": {
        "colab": {
          "base_uri": "https://localhost:8080/"
        },
        "id": "9YUObmV2fLGo",
        "outputId": "8df17d8e-5161-4648-ac65-aa0486ce2a17"
      },
      "execution_count": null,
      "outputs": [
        {
          "output_type": "stream",
          "name": "stderr",
          "text": [
            "/usr/local/lib/python3.10/dist-packages/spektral/data/utils.py:221: UserWarning: you are shuffling a 'QM9' object which is not a subclass of 'Sequence'; `shuffle` is not guaranteed to behave correctly. E.g., non-numpy array/tensor objects with view semantics may contain duplicates after shuffling.\n",
            "  np.random.shuffle(a)\n",
            "/usr/local/lib/python3.10/dist-packages/tensorflow/python/autograph/impl/api.py:371: UserWarning: The adjacency matrix of dtype <dtype: 'int64'> is incompatible with the dtype of the node features <dtype: 'float32'> and has been automatically cast to <dtype: 'float32'>.\n",
            "  return py_builtins.overload_of(f)(*args)\n"
          ]
        },
        {
          "output_type": "stream",
          "name": "stdout",
          "text": [
            "Loss: 22115854.0\n",
            "Loss: 22055086.0\n",
            "Loss: 21920856.0\n",
            "Loss: 21822152.0\n",
            "Loss: 21800426.0\n",
            "Loss: 21794390.0\n",
            "Loss: 21791298.0\n",
            "Loss: 21789060.0\n",
            "Loss: 21786364.0\n",
            "Loss: 21784574.0\n",
            "Loss: 21781888.0\n",
            "Loss: 21779386.0\n",
            "Loss: 21776378.0\n",
            "Loss: 21773476.0\n",
            "Loss: 21770846.0\n",
            "Loss: 21766544.0\n",
            "Loss: 21764332.0\n",
            "Loss: 21759198.0\n",
            "Loss: 21756552.0\n",
            "Loss: 21750520.0\n"
          ]
        }
      ]
    },
    {
      "cell_type": "code",
      "source": [
        "# evaluate model\n",
        "print(\"Testing model\")\n",
        "loss = 0\n",
        "for batch in loader_test:\n",
        "    inputs, target = batch\n",
        "    predictions = model(inputs, training=False)\n",
        "    loss += loss_fn(target, predictions)\n",
        "loss /= loader_test.steps_per_epoch\n",
        "print(\"Done. Test loss: {}\".format(loss))"
      ],
      "metadata": {
        "colab": {
          "base_uri": "https://localhost:8080/"
        },
        "id": "TUlTpZMdfLRD",
        "outputId": "0ef3f814-8bc6-4150-8152-82692d57f5bd"
      },
      "execution_count": null,
      "outputs": [
        {
          "output_type": "stream",
          "name": "stdout",
          "text": [
            "Testing model\n",
            "Done. Test loss: 10660.388671875\n"
          ]
        },
        {
          "output_type": "stream",
          "name": "stderr",
          "text": [
            "/usr/local/lib/python3.10/dist-packages/spektral/layers/convolutional/conv.py:98: UserWarning: The adjacency matrix of dtype <dtype: 'int64'> is incompatible with the dtype of the node features <dtype: 'float32'> and has been automatically cast to <dtype: 'float32'>.\n",
            "  warnings.warn(\n"
          ]
        }
      ]
    },
    {
      "cell_type": "markdown",
      "source": [
        "# QM9 Reg With ECC (Batch Mode)"
      ],
      "metadata": {
        "id": "xkPdL6l1gGLe"
      }
    },
    {
      "cell_type": "code",
      "source": [
        "# config\n",
        "learning_rate = 1e-3  # learning rate\n",
        "epochs = 10  # number of training epochs\n",
        "batch_size = 32  # batch size"
      ],
      "metadata": {
        "id": "nozuYyJihASF"
      },
      "execution_count": null,
      "outputs": []
    },
    {
      "cell_type": "code",
      "source": [
        "# Load data\n",
        "dataset = QM9(amount=1000)"
      ],
      "metadata": {
        "colab": {
          "base_uri": "https://localhost:8080/"
        },
        "id": "hmdGjvkYhAba",
        "outputId": "4702548d-2724-4ae6-cb91-c405d8507bee"
      },
      "execution_count": null,
      "outputs": [
        {
          "output_type": "stream",
          "name": "stdout",
          "text": [
            "Loading QM9 dataset.\n",
            "Reading SDF\n"
          ]
        },
        {
          "output_type": "stream",
          "name": "stderr",
          "text": [
            "100%|██████████████████████████████████████| 1000/1000 [00:01<00:00, 893.16it/s]\n"
          ]
        }
      ]
    },
    {
      "cell_type": "code",
      "source": [
        "# params\n",
        "num_node_feats = dataset.n_node_features  # dimension of node features\n",
        "num_edge_feats = dataset.n_edge_features  # dimension of edge features\n",
        "num_labels = dataset.n_labels  # dimension of the target"
      ],
      "metadata": {
        "id": "_X2A7xuWhDzW"
      },
      "execution_count": null,
      "outputs": []
    },
    {
      "cell_type": "code",
      "source": [
        "# train/test split\n",
        "idxs = np.random.permutation(len(dataset))\n",
        "split = int(0.9 * len(dataset))\n",
        "idx_tr, idx_te = np.split(idxs, [split])\n",
        "dataset_train, dataset_test = dataset[idx_train], dataset[idx_test]"
      ],
      "metadata": {
        "id": "2oHeVV-bhD8K"
      },
      "execution_count": null,
      "outputs": []
    },
    {
      "cell_type": "code",
      "source": [
        "# build model\n",
        "class Net(Model):\n",
        "    def __init__(self):\n",
        "        super().__init__()\n",
        "        self.masking = GraphMasking()\n",
        "        self.conv1 = ECCConv(32, activation=\"relu\")\n",
        "        self.conv2 = ECCConv(32, activation=\"relu\")\n",
        "        self.global_pool = GlobalSumPool()\n",
        "        self.dense = Dense(num_labels)\n",
        "\n",
        "    def call(self, inputs):\n",
        "        x, a, e = inputs\n",
        "        x = self.masking(x)\n",
        "        x = self.conv1([x, a, e])\n",
        "        x = self.conv2([x, a, e])\n",
        "        output = self.global_pool(x)\n",
        "        output = self.dense(output)\n",
        "        return output\n",
        "\n",
        "model = Net()\n",
        "optimizer = Adam(learning_rate)\n",
        "model.compile(optimizer=optimizer, loss=\"mse\")"
      ],
      "metadata": {
        "id": "679w6_XRhAkh"
      },
      "execution_count": null,
      "outputs": []
    },
    {
      "cell_type": "code",
      "source": [
        "# fit model\n",
        "loader_train = BatchLoader(dataset_train, batch_size=batch_size, mask=True)\n",
        "model.fit(loader_train.load(), steps_per_epoch=loader_train.steps_per_epoch, epochs=epochs)"
      ],
      "metadata": {
        "colab": {
          "base_uri": "https://localhost:8080/"
        },
        "id": "X7jRnOQbhLGL",
        "outputId": "05ed04a4-302f-480e-8bac-17c3316d3729"
      },
      "execution_count": null,
      "outputs": [
        {
          "output_type": "stream",
          "name": "stderr",
          "text": [
            "/usr/local/lib/python3.10/dist-packages/spektral/data/utils.py:221: UserWarning: you are shuffling a 'QM9' object which is not a subclass of 'Sequence'; `shuffle` is not guaranteed to behave correctly. E.g., non-numpy array/tensor objects with view semantics may contain duplicates after shuffling.\n",
            "  np.random.shuffle(a)\n",
            "/usr/local/lib/python3.10/dist-packages/spektral/layers/convolutional/conv.py:98: UserWarning: The adjacency matrix of dtype <dtype: 'int64'> is incompatible with the dtype of the node features <dtype: 'float32'> and has been automatically cast to <dtype: 'float32'>.\n",
            "  warnings.warn(\n"
          ]
        },
        {
          "output_type": "stream",
          "name": "stdout",
          "text": [
            "Epoch 1/10\n"
          ]
        },
        {
          "output_type": "stream",
          "name": "stderr",
          "text": [
            "/usr/local/lib/python3.10/dist-packages/tensorflow/python/autograph/impl/api.py:371: UserWarning: The adjacency matrix of dtype <dtype: 'int64'> is incompatible with the dtype of the node features <dtype: 'float32'> and has been automatically cast to <dtype: 'float32'>.\n",
            "  return py_builtins.overload_of(f)(*args)\n"
          ]
        },
        {
          "output_type": "stream",
          "name": "stdout",
          "text": [
            "29/29 [==============================] - 8s 222ms/step - loss: 22791982.0000\n",
            "Epoch 2/10\n",
            "29/29 [==============================] - 6s 199ms/step - loss: 22733690.0000\n",
            "Epoch 3/10\n",
            "29/29 [==============================] - 7s 237ms/step - loss: 22594506.0000\n",
            "Epoch 4/10\n",
            "29/29 [==============================] - 6s 197ms/step - loss: 22488068.0000\n",
            "Epoch 5/10\n",
            "29/29 [==============================] - 7s 233ms/step - loss: 22473446.0000\n",
            "Epoch 6/10\n",
            "29/29 [==============================] - 6s 196ms/step - loss: 22469818.0000\n",
            "Epoch 7/10\n",
            "29/29 [==============================] - 7s 233ms/step - loss: 22466960.0000\n",
            "Epoch 8/10\n",
            "29/29 [==============================] - 6s 196ms/step - loss: 22464852.0000\n",
            "Epoch 9/10\n",
            "29/29 [==============================] - 7s 231ms/step - loss: 22464928.0000\n",
            "Epoch 10/10\n",
            "29/29 [==============================] - 6s 199ms/step - loss: 22459590.0000\n"
          ]
        },
        {
          "output_type": "execute_result",
          "data": {
            "text/plain": [
              "<keras.src.callbacks.History at 0x7a03c009d360>"
            ]
          },
          "metadata": {},
          "execution_count": 37
        }
      ]
    },
    {
      "cell_type": "code",
      "source": [
        "# evaluate model\n",
        "print(\"Testing model\")\n",
        "loader_test = BatchLoader(dataset_test, batch_size=batch_size, mask=True)\n",
        "loss = model.evaluate(loader_te.load(), steps=loader_test.steps_per_epoch)\n",
        "print(\"Done. Test loss: {}\".format(loss))"
      ],
      "metadata": {
        "colab": {
          "base_uri": "https://localhost:8080/"
        },
        "id": "3UQkHeNIgqta",
        "outputId": "679e4ba9-3bfc-4936-df9e-15e5c1c8f8e2"
      },
      "execution_count": null,
      "outputs": [
        {
          "output_type": "stream",
          "name": "stdout",
          "text": [
            "Testing model\n",
            "4/4 [==============================] - 1s 58ms/step - loss: 12110.3447\n",
            "Done. Test loss: 12110.3447265625\n"
          ]
        }
      ]
    },
    {
      "cell_type": "markdown",
      "source": [
        "# TUDataset Clf With GIN"
      ],
      "metadata": {
        "id": "_q6HSAZdh2lc"
      }
    },
    {
      "cell_type": "code",
      "source": [
        "# config\n",
        "learning_rate = 1e-3  # learning rate\n",
        "channels = 128  # hidden units\n",
        "layers = 3  # GIN layers\n",
        "epochs = 10  # number of training epochs\n",
        "batch_size = 32  # batch size"
      ],
      "metadata": {
        "id": "nl37J58SkYst"
      },
      "execution_count": null,
      "outputs": []
    },
    {
      "cell_type": "code",
      "source": [
        "# load data\n",
        "dataset = TUDataset(\"PROTEINS\", clean=True)"
      ],
      "metadata": {
        "colab": {
          "base_uri": "https://localhost:8080/"
        },
        "id": "tm22sXzXkY1N",
        "outputId": "366e4a9a-40c2-4043-fbb3-dba0be6d5e90"
      },
      "execution_count": null,
      "outputs": [
        {
          "output_type": "stream",
          "name": "stdout",
          "text": [
            "Downloading PROTEINS dataset (clean).\n"
          ]
        },
        {
          "output_type": "stream",
          "name": "stderr",
          "text": [
            "100%|████████████████████████████████████████| 433k/433k [00:00<00:00, 5.18MB/s]\n",
            "/usr/local/lib/python3.10/dist-packages/sklearn/preprocessing/_encoders.py:868: FutureWarning: `sparse` was renamed to `sparse_output` in version 1.2 and will be removed in 1.4. `sparse_output` is ignored unless you leave `sparse` to its default value.\n",
            "  warnings.warn(\n"
          ]
        },
        {
          "output_type": "stream",
          "name": "stdout",
          "text": [
            "Successfully loaded PROTEINS.\n"
          ]
        },
        {
          "output_type": "stream",
          "name": "stderr",
          "text": [
            "/usr/local/lib/python3.10/dist-packages/sklearn/preprocessing/_encoders.py:868: FutureWarning: `sparse` was renamed to `sparse_output` in version 1.2 and will be removed in 1.4. `sparse_output` is ignored unless you leave `sparse` to its default value.\n",
            "  warnings.warn(\n"
          ]
        }
      ]
    },
    {
      "cell_type": "code",
      "source": [
        "# params\n",
        "num_feats = dataset.n_node_features  # dimension of node features\n",
        "num_labels = dataset.n_labels  # dimension of the target"
      ],
      "metadata": {
        "id": "Pt9Wbp1MkY8_"
      },
      "execution_count": null,
      "outputs": []
    },
    {
      "cell_type": "code",
      "source": [
        "# train/test split\n",
        "idxs = np.random.permutation(len(dataset))\n",
        "split = int(0.9 * len(dataset))\n",
        "idx_train, idx_test = np.split(idxs, [split])\n",
        "dataset_train, dataset_test = dataset[idx_train], dataset[idx_test]"
      ],
      "metadata": {
        "id": "oiOkDFghknM3"
      },
      "execution_count": null,
      "outputs": []
    },
    {
      "cell_type": "code",
      "source": [
        "# loaders\n",
        "loader_train = DisjointLoader(dataset_train, batch_size=batch_size, epochs=epochs)\n",
        "loader_test = DisjointLoader(dataset_test, batch_size=batch_size, epochs=1)"
      ],
      "metadata": {
        "id": "bBIv1iyEknR1"
      },
      "execution_count": null,
      "outputs": []
    },
    {
      "cell_type": "code",
      "source": [
        "# build model\n",
        "class GIN0(Model):\n",
        "    def __init__(self, channels, n_layers):\n",
        "        super().__init__()\n",
        "        self.conv1 = GINConv(channels, epsilon=0, mlp_hidden=[channels, channels])\n",
        "        self.convs = []\n",
        "        for _ in range(1, n_layers):\n",
        "            self.convs.append(GINConv(channels, epsilon=0, mlp_hidden=[channels, channels]))\n",
        "        self.pool = GlobalAvgPool()\n",
        "        self.dense1 = Dense(channels, activation=\"relu\")\n",
        "        self.dropout = Dropout(0.5)\n",
        "        self.dense2 = Dense(num_labels, activation=\"softmax\")\n",
        "\n",
        "    def call(self, inputs):\n",
        "        x, a, i = inputs\n",
        "        x = self.conv1([x, a])\n",
        "        for conv in self.convs:\n",
        "            x = conv([x, a])\n",
        "        x = self.pool([x, i])\n",
        "        x = self.dense1(x)\n",
        "        x = self.dropout(x)\n",
        "        return self.dense2(x)\n",
        "\n",
        "model = GIN0(channels, layers)\n",
        "optimizer = Adam(learning_rate)\n",
        "loss_fn = CategoricalCrossentropy()"
      ],
      "metadata": {
        "id": "0IoGgZbyktI0"
      },
      "execution_count": null,
      "outputs": []
    },
    {
      "cell_type": "code",
      "source": [
        "# fit model\n",
        "@tf.function(input_signature=loader_train.tf_signature(), experimental_relax_shapes=True)\n",
        "def train_step(inputs, target):\n",
        "    with tf.GradientTape() as tape:\n",
        "        predictions = model(inputs, training=True)\n",
        "        loss = loss_fn(target, predictions) + sum(model.losses)\n",
        "    gradients = tape.gradient(loss, model.trainable_variables)\n",
        "    optimizer.apply_gradients(zip(gradients, model.trainable_variables))\n",
        "    acc = tf.reduce_mean(categorical_accuracy(target, predictions))\n",
        "    return loss, acc\n",
        "\n",
        "epoch = step = 0\n",
        "results = []\n",
        "for batch in loader_train:\n",
        "    step += 1\n",
        "    loss, acc = train_step(*batch)\n",
        "    results.append((loss, acc))\n",
        "    if step == loader_train.steps_per_epoch:\n",
        "        step = 0\n",
        "        epoch += 1\n",
        "        print(\"Ep. {} - Loss: {}. Acc: {}\".format(epoch, *np.mean(results, 0)))\n",
        "        results = []"
      ],
      "metadata": {
        "colab": {
          "base_uri": "https://localhost:8080/"
        },
        "id": "Ptv0DT4MiMpA",
        "outputId": "dd95a361-2467-43d7-8034-2650a704327c"
      },
      "execution_count": null,
      "outputs": [
        {
          "output_type": "stream",
          "name": "stderr",
          "text": [
            "/usr/local/lib/python3.10/dist-packages/spektral/data/utils.py:221: UserWarning: you are shuffling a 'TUDataset' object which is not a subclass of 'Sequence'; `shuffle` is not guaranteed to behave correctly. E.g., non-numpy array/tensor objects with view semantics may contain duplicates after shuffling.\n",
            "  np.random.shuffle(a)\n",
            "/usr/local/lib/python3.10/dist-packages/keras/src/initializers/initializers.py:120: UserWarning: The initializer GlorotUniform is unseeded and being called multiple times, which will return identical values each time (even if the initializer is unseeded). Please update your code to provide a seed to the initializer, or avoid using the same initializer instance more than once.\n",
            "  warnings.warn(\n"
          ]
        },
        {
          "output_type": "stream",
          "name": "stdout",
          "text": [
            "Ep. 1 - Loss: 0.7328217625617981. Acc: 0.640281617641449\n",
            "Ep. 2 - Loss: 0.6843549609184265. Acc: 0.6753090620040894\n",
            "Ep. 3 - Loss: 0.6694830656051636. Acc: 0.6709306836128235\n",
            "Ep. 4 - Loss: 0.5705536603927612. Acc: 0.7260473966598511\n",
            "Ep. 5 - Loss: 0.6184412240982056. Acc: 0.7099072337150574\n",
            "Ep. 6 - Loss: 0.6134802103042603. Acc: 0.7088770866394043\n",
            "Ep. 7 - Loss: 0.591161847114563. Acc: 0.7127403616905212\n",
            "Ep. 8 - Loss: 0.6021036505699158. Acc: 0.7177197337150574\n",
            "Ep. 9 - Loss: 0.5704256296157837. Acc: 0.7261332273483276\n",
            "Ep. 10 - Loss: 0.5586482286453247. Acc: 0.7172905206680298\n"
          ]
        }
      ]
    },
    {
      "cell_type": "code",
      "source": [
        "# evaluate model\n",
        "results = []\n",
        "for batch in loader_test:\n",
        "    inputs, target = batch\n",
        "    predictions = model(inputs, training=False)\n",
        "    results.append((loss_fn(target, predictions), tf.reduce_mean(categorical_accuracy(target, predictions))))\n",
        "print(\"Done. Test loss: {}. Test acc: {}\".format(*np.mean(results, 0)))"
      ],
      "metadata": {
        "colab": {
          "base_uri": "https://localhost:8080/"
        },
        "id": "YWnpqOXmiMx3",
        "outputId": "6d39df43-0ada-4028-b945-0312a23a7ac6"
      },
      "execution_count": null,
      "outputs": [
        {
          "output_type": "stream",
          "name": "stdout",
          "text": [
            "Done. Test loss: 1.0085724592208862. Test acc: 0.5703125\n"
          ]
        }
      ]
    },
    {
      "cell_type": "markdown",
      "source": [
        "# TUDataset Clf With MinCut Pooling"
      ],
      "metadata": {
        "id": "RT5IW6HoiG9t"
      }
    },
    {
      "cell_type": "code",
      "source": [
        "# config\n",
        "learning_rate = 1e-3  # learning rate\n",
        "epochs = 10  # number of training epochs\n",
        "batch_size = 32  # batch size"
      ],
      "metadata": {
        "id": "hQYfKvJwm_4i"
      },
      "execution_count": null,
      "outputs": []
    },
    {
      "cell_type": "code",
      "source": [
        "# load data\n",
        "dataset = TUDataset(\"PROTEINS\", clean=True)"
      ],
      "metadata": {
        "colab": {
          "base_uri": "https://localhost:8080/"
        },
        "id": "VKrTBa6Lnbh-",
        "outputId": "9f15c5cd-78e1-4f32-d592-8a71c502a28c"
      },
      "execution_count": null,
      "outputs": [
        {
          "output_type": "stream",
          "name": "stderr",
          "text": [
            "/usr/local/lib/python3.10/dist-packages/sklearn/preprocessing/_encoders.py:868: FutureWarning: `sparse` was renamed to `sparse_output` in version 1.2 and will be removed in 1.4. `sparse_output` is ignored unless you leave `sparse` to its default value.\n",
            "  warnings.warn(\n"
          ]
        },
        {
          "output_type": "stream",
          "name": "stdout",
          "text": [
            "Successfully loaded PROTEINS.\n"
          ]
        },
        {
          "output_type": "stream",
          "name": "stderr",
          "text": [
            "/usr/local/lib/python3.10/dist-packages/sklearn/preprocessing/_encoders.py:868: FutureWarning: `sparse` was renamed to `sparse_output` in version 1.2 and will be removed in 1.4. `sparse_output` is ignored unless you leave `sparse` to its default value.\n",
            "  warnings.warn(\n"
          ]
        }
      ]
    },
    {
      "cell_type": "code",
      "source": [
        "# params\n",
        "max_num_nodes = max(graph.n_nodes for graph in dataset)\n",
        "num_node_feats = dataset.n_node_features  # dimension of node features\n",
        "num_edge_feats = dataset.n_edge_features  # dimension of edge features\n",
        "num_labels = dataset.n_labels  # dimension of the target"
      ],
      "metadata": {
        "id": "lbTiO07znbm3"
      },
      "execution_count": null,
      "outputs": []
    },
    {
      "cell_type": "code",
      "source": [
        "# train/test split\n",
        "idxs = np.random.permutation(len(dataset))\n",
        "split_valid, split_test = int(0.8 * len(dataset)), int(0.9 * len(dataset))\n",
        "idx_train, idx_valid, idx_test = np.split(idxs, [split_valid, split_test])\n",
        "dataset_train = dataset[idx_train]\n",
        "dataset_valid = dataset[idx_valid]\n",
        "dataset_test = dataset[idx_test]"
      ],
      "metadata": {
        "id": "KF0LT9bknbrb"
      },
      "execution_count": null,
      "outputs": []
    },
    {
      "cell_type": "code",
      "source": [
        "# loaders\n",
        "loader_train = BatchLoader(dataset_train, batch_size=batch_size, mask=True)\n",
        "loader_valid = BatchLoader(dataset_valid, batch_size=batch_size, mask=True)\n",
        "loader_test = BatchLoader(dataset_test, batch_size=batch_size, mask=True)"
      ],
      "metadata": {
        "id": "C050FK0nnyWd"
      },
      "execution_count": null,
      "outputs": []
    },
    {
      "cell_type": "code",
      "source": [
        "# build model\n",
        "class Net(Model):\n",
        "    def __init__(self):\n",
        "        super().__init__()\n",
        "        self.mask = GraphMasking()\n",
        "        self.conv1 = GCSConv(32, activation=\"relu\")\n",
        "        self.pool = MinCutPool(max_num_nodes // 2)\n",
        "        self.conv2 = GCSConv(32, activation=\"relu\")\n",
        "        self.global_pool = GlobalSumPool()\n",
        "        self.dense1 = Dense(num_labels)\n",
        "\n",
        "    def call(self, inputs):\n",
        "        x, a = inputs\n",
        "        x = self.mask(x)\n",
        "        x = self.conv1([x, a])\n",
        "        x_pool, a_pool = self.pool([x, a])\n",
        "        x_pool = self.conv2([x_pool, a_pool])\n",
        "        output = self.global_pool(x_pool)\n",
        "        output = self.dense1(output)\n",
        "        return output\n",
        "model = Net()\n",
        "opt = Adam(learning_rate=learning_rate)\n",
        "model.compile(optimizer=opt, loss=\"categorical_crossentropy\", metrics=[\"acc\"])"
      ],
      "metadata": {
        "id": "h-cLwwErnyex"
      },
      "execution_count": null,
      "outputs": []
    },
    {
      "cell_type": "code",
      "source": [
        "# fit model\n",
        "model.fit(\n",
        "    loader_train.load(),\n",
        "    steps_per_epoch=loader_train.steps_per_epoch,\n",
        "    epochs=epochs,\n",
        "    validation_data=loader_valid,\n",
        "    validation_steps=loader_valid.steps_per_epoch,\n",
        "    callbacks=[EarlyStopping(patience=10, restore_best_weights=True)]\n",
        "    )"
      ],
      "metadata": {
        "colab": {
          "base_uri": "https://localhost:8080/"
        },
        "id": "ftZiPuhmnADH",
        "outputId": "1641b292-c9fa-4028-85eb-5c297522ee71"
      },
      "execution_count": null,
      "outputs": [
        {
          "output_type": "stream",
          "name": "stderr",
          "text": [
            "/usr/local/lib/python3.10/dist-packages/spektral/data/utils.py:221: UserWarning: you are shuffling a 'TUDataset' object which is not a subclass of 'Sequence'; `shuffle` is not guaranteed to behave correctly. E.g., non-numpy array/tensor objects with view semantics may contain duplicates after shuffling.\n",
            "  np.random.shuffle(a)\n",
            "/usr/local/lib/python3.10/dist-packages/keras/src/initializers/initializers.py:120: UserWarning: The initializer GlorotUniform is unseeded and being called multiple times, which will return identical values each time (even if the initializer is unseeded). Please update your code to provide a seed to the initializer, or avoid using the same initializer instance more than once.\n",
            "  warnings.warn(\n"
          ]
        },
        {
          "output_type": "stream",
          "name": "stdout",
          "text": [
            "Epoch 1/10\n",
            "25/25 [==============================] - 20s 655ms/step - loss: 1.0720 - acc: 0.6462 - val_loss: 1.0302 - val_acc: 0.6495\n",
            "Epoch 2/10\n",
            "25/25 [==============================] - 15s 588ms/step - loss: 1.0261 - acc: 0.6474 - val_loss: 0.9853 - val_acc: 0.7010\n",
            "Epoch 3/10\n",
            "25/25 [==============================] - 15s 613ms/step - loss: 1.0165 - acc: 0.6474 - val_loss: 1.0042 - val_acc: 0.6495\n",
            "Epoch 4/10\n",
            "25/25 [==============================] - 14s 561ms/step - loss: 1.0117 - acc: 0.6474 - val_loss: 0.9802 - val_acc: 0.6701\n",
            "Epoch 5/10\n",
            "25/25 [==============================] - 15s 539ms/step - loss: 1.0045 - acc: 0.6474 - val_loss: 0.9840 - val_acc: 0.6598\n",
            "Epoch 6/10\n",
            "25/25 [==============================] - 14s 545ms/step - loss: 0.9995 - acc: 0.6513 - val_loss: 0.9648 - val_acc: 0.7113\n",
            "Epoch 7/10\n",
            "25/25 [==============================] - 15s 596ms/step - loss: 0.9861 - acc: 0.6705 - val_loss: 0.9454 - val_acc: 0.6701\n",
            "Epoch 8/10\n",
            "25/25 [==============================] - 15s 623ms/step - loss: 0.9741 - acc: 0.6795 - val_loss: 0.9143 - val_acc: 0.7423\n",
            "Epoch 9/10\n",
            "25/25 [==============================] - 16s 596ms/step - loss: 0.9666 - acc: 0.6923 - val_loss: 0.8867 - val_acc: 0.7629\n",
            "Epoch 10/10\n",
            "25/25 [==============================] - 14s 572ms/step - loss: 0.9662 - acc: 0.6974 - val_loss: 0.8625 - val_acc: 0.7320\n"
          ]
        },
        {
          "output_type": "execute_result",
          "data": {
            "text/plain": [
              "<keras.src.callbacks.History at 0x7a03c1337190>"
            ]
          },
          "metadata": {},
          "execution_count": 53
        }
      ]
    },
    {
      "cell_type": "code",
      "source": [
        "# evaluate model\n",
        "print(\"Testing model\")\n",
        "loss, acc = model.evaluate(loader_test.load(), steps=loader_test.steps_per_epoch)\n",
        "print(\"Done. Test loss: {}. Test acc: {}\".format(loss, acc))"
      ],
      "metadata": {
        "colab": {
          "base_uri": "https://localhost:8080/"
        },
        "id": "FP8BwE-VnAL-",
        "outputId": "c275a973-6afa-43ba-a8c3-5efcdf6903b6"
      },
      "execution_count": null,
      "outputs": [
        {
          "output_type": "stream",
          "name": "stdout",
          "text": [
            "Testing model\n",
            "4/4 [==============================] - 1s 198ms/step - loss: 0.9283 - acc: 0.7245\n",
            "Done. Test loss: 0.9282967448234558. Test acc: 0.7244898080825806\n"
          ]
        }
      ]
    }
  ]
}