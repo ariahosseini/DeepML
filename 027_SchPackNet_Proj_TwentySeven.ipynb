{
  "nbformat": 4,
  "nbformat_minor": 0,
  "metadata": {
    "colab": {
      "provenance": [],
      "toc_visible": true,
      "authorship_tag": "ABX9TyM8OIB+XzIWeftc2LL2c11Y",
      "include_colab_link": true
    },
    "kernelspec": {
      "name": "python3",
      "display_name": "Python 3"
    },
    "language_info": {
      "name": "python"
    }
  },
  "cells": [
    {
      "cell_type": "markdown",
      "metadata": {
        "id": "view-in-github",
        "colab_type": "text"
      },
      "source": [
        "<a href=\"https://colab.research.google.com/github/ariahosseini/DeepML/blob/main/027_SchPackNet_Proj_TwentySeven.ipynb\" target=\"_parent\"><img src=\"https://colab.research.google.com/assets/colab-badge.svg\" alt=\"Open In Colab\"/></a>"
      ]
    },
    {
      "cell_type": "code",
      "execution_count": null,
      "metadata": {
        "id": "ElH-iD2NKbrx"
      },
      "outputs": [],
      "source": [
        "!pip install --upgrade schnetpack"
      ]
    },
    {
      "cell_type": "markdown",
      "source": [
        "## Prepare and Load Data"
      ],
      "metadata": {
        "id": "-H1QdCgFKn-U"
      }
    },
    {
      "cell_type": "code",
      "source": [
        "import os\n",
        "import numpy as np\n",
        "from ase import Atoms"
      ],
      "metadata": {
        "id": "_dX2cWcoMVSE"
      },
      "execution_count": null,
      "outputs": []
    },
    {
      "cell_type": "code",
      "source": [
        "from schnetpack.data import ASEAtomsData\n",
        "from schnetpack.datasets import QM9\n",
        "from schnetpack.transform import ASENeighborList\n",
        "import schnetpack as spk\n",
        "import schnetpack.transform as trn"
      ],
      "metadata": {
        "id": "fhn-nBRVLF0v"
      },
      "execution_count": null,
      "outputs": []
    },
    {
      "cell_type": "code",
      "source": [
        "qm9data = QM9(\n",
        "    './qm9.db',\n",
        "    batch_size=10,\n",
        "    num_train=110000,\n",
        "    num_val=10000,\n",
        "    split_file='./split_qm9.npz',\n",
        "    transforms=[ASENeighborList(cutoff=5.)]\n",
        ")\n",
        "qm9data.prepare_data()\n",
        "qm9data.setup()"
      ],
      "metadata": {
        "colab": {
          "base_uri": "https://localhost:8080/"
        },
        "id": "h5W2dJ4lLGAk",
        "outputId": "8d8a8fa3-6203-41dd-db16-8b518e986cfb"
      },
      "execution_count": null,
      "outputs": [
        {
          "output_type": "stream",
          "name": "stderr",
          "text": [
            "100%|██████████| 133885/133885 [03:00<00:00, 739.72it/s]\n"
          ]
        }
      ]
    },
    {
      "cell_type": "code",
      "source": [
        "print('Number of reference calculations:', len(qm9data.dataset))\n",
        "print('Number of train data:', len(qm9data.train_dataset))\n",
        "print('Number of validation data:', len(qm9data.val_dataset))\n",
        "print('Number of test data:', len(qm9data.test_dataset))\n",
        "print('Available properties:')\n",
        "\n",
        "for p in qm9data.dataset.available_properties:\n",
        "    print('-', p)"
      ],
      "metadata": {
        "id": "Wmsb7G2RLGMG"
      },
      "execution_count": null,
      "outputs": []
    },
    {
      "cell_type": "code",
      "source": [
        "example = qm9data.dataset[0]\n",
        "print('Properties:')\n",
        "for k, v in example.items():\n",
        "    print('-', k, ':', v.shape)"
      ],
      "metadata": {
        "id": "UVsgd2JHLGRu"
      },
      "execution_count": null,
      "outputs": []
    },
    {
      "cell_type": "code",
      "source": [
        "for batch in qm9data.val_dataloader():\n",
        "    print(batch.keys())\n",
        "    break"
      ],
      "metadata": {
        "id": "m1wBAphIL_de"
      },
      "execution_count": null,
      "outputs": []
    },
    {
      "cell_type": "code",
      "source": [
        "print('System index:', batch['_idx_m'])\n",
        "print('Center atom index:', batch['_idx_i'])\n",
        "print('Neighbor atom index:', batch['_idx_j'])"
      ],
      "metadata": {
        "id": "BjOnYNeFL_oZ"
      },
      "execution_count": null,
      "outputs": []
    },
    {
      "cell_type": "code",
      "source": [
        "print('Total energy at 0K:', batch[QM9.U0])\n",
        "print('HOMO:', batch[QM9.homo])"
      ],
      "metadata": {
        "id": "SUaYDy2sL_yF"
      },
      "execution_count": null,
      "outputs": []
    },
    {
      "cell_type": "code",
      "source": [
        "if not os.path.exists('./uracil_dft.npz'):\n",
        "    !wget http://quantum-machine.org/gdml/data/npz/md17_uracil.npz"
      ],
      "metadata": {
        "id": "Ejmt76SWL_9v"
      },
      "execution_count": null,
      "outputs": []
    },
    {
      "cell_type": "code",
      "source": [
        "# load atoms from npz file. Here, we only parse the first 10 molecules\n",
        "data = np.load('./md17_uracil.npz')\n",
        "numbers = data[\"z\"]\n",
        "atoms_list = []\n",
        "property_list = []\n",
        "for positions, energies, forces in zip(data[\"R\"], data[\"E\"], data[\"F\"]):\n",
        "    ats = Atoms(positions=positions, numbers=numbers)\n",
        "    properties = {'energy': energies, 'forces': forces}\n",
        "    property_list.append(properties)\n",
        "    atoms_list.append(ats)\n",
        "\n",
        "print('Properties:', property_list[0])"
      ],
      "metadata": {
        "id": "_c49YG6vMd0L"
      },
      "execution_count": null,
      "outputs": []
    },
    {
      "cell_type": "code",
      "source": [
        "%rm './new_dataset.db'\n",
        "new_dataset = ASEAtomsData.create(\n",
        "    './new_dataset.db',\n",
        "    distance_unit='Ang',\n",
        "    property_unit_dict={'energy':'kcal/mol', 'forces':'kcal/mol/Ang'}\n",
        ")\n",
        "new_dataset.add_systems(property_list, atoms_list)"
      ],
      "metadata": {
        "id": "GTx40seqMd_j"
      },
      "execution_count": null,
      "outputs": []
    },
    {
      "cell_type": "code",
      "source": [
        "# calculate this at the same level of theory as your data\n",
        "atomref = {'energy': [314.0, 0.0, 0.0, 0.0]} # atomref value for hydrogen: 314.0\n",
        "# the supplied list is ordered by atomic number, e.g.:\n",
        "atomref_hydrogen= atomref['energy'][1]\n",
        "# dataset = ASEAtomsData.create(\n",
        "#     './new_dataset.db',\n",
        "#     distance_unit='Ang',\n",
        "#     property_unit_dict={'energy':'kcal/mol'},\n",
        "#     atomref=atomref\n",
        "# )"
      ],
      "metadata": {
        "id": "we5ALpIRMeEt"
      },
      "execution_count": null,
      "outputs": []
    },
    {
      "cell_type": "code",
      "source": [
        "print('Number of reference calculations:', len(new_dataset))\n",
        "print('Available properties:')\n",
        "\n",
        "for p in new_dataset.available_properties:\n",
        "    print('-', p)\n",
        "print()\n",
        "\n",
        "example = new_dataset[0]\n",
        "print('Properties of molecule with id 0:')\n",
        "\n",
        "for k, v in example.items():\n",
        "    print('-', k, ':', v.shape)"
      ],
      "metadata": {
        "id": "XVZI6V8VMeKD"
      },
      "execution_count": null,
      "outputs": []
    },
    {
      "cell_type": "code",
      "source": [
        "custom_data = spk.data.AtomsDataModule(\n",
        "    './new_dataset.db',\n",
        "    batch_size=10,\n",
        "    distance_unit='Ang',\n",
        "    property_units={'energy':'kcal/mol', 'forces':'kcal/mol/Ang'},\n",
        "    num_train=1000,\n",
        "    num_val=100,\n",
        "    transforms=[\n",
        "        trn.ASENeighborList(cutoff=5.),\n",
        "        trn.RemoveOffsets(\"energy\", remove_mean=True, remove_atomrefs=False),\n",
        "        trn.CastTo32()\n",
        "    ],\n",
        "    num_workers=1,\n",
        "    pin_memory=True, # set to false, when not using a GPU\n",
        ")\n",
        "custom_data.prepare_data()\n",
        "custom_data.setup()"
      ],
      "metadata": {
        "id": "kA0CDoC4MeNv"
      },
      "execution_count": null,
      "outputs": []
    },
    {
      "cell_type": "markdown",
      "source": [
        "# New Section"
      ],
      "metadata": {
        "id": "GkVZj2XBNFmf"
      }
    }
  ]
}