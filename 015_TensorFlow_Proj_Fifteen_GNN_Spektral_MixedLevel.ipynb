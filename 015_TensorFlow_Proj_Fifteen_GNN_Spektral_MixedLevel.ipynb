{
  "nbformat": 4,
  "nbformat_minor": 0,
  "metadata": {
    "colab": {
      "provenance": [],
      "toc_visible": true,
      "authorship_tag": "ABX9TyOKyuSDbY73e+jI07E0uHmV",
      "include_colab_link": true
    },
    "kernelspec": {
      "name": "python3",
      "display_name": "Python 3"
    },
    "language_info": {
      "name": "python"
    }
  },
  "cells": [
    {
      "cell_type": "markdown",
      "metadata": {
        "id": "view-in-github",
        "colab_type": "text"
      },
      "source": [
        "<a href=\"https://colab.research.google.com/github/ariahosseini/DeepML/blob/main/015_TensorFlow_Proj_Fifteen_GNN_Spektral_MixedLevel.ipynb\" target=\"_parent\"><img src=\"https://colab.research.google.com/assets/colab-badge.svg\" alt=\"Open In Colab\"/></a>"
      ]
    },
    {
      "cell_type": "code",
      "execution_count": null,
      "metadata": {
        "id": "2rvusxE0zEGS"
      },
      "outputs": [],
      "source": [
        "# install\n",
        "!pip install spektral\n",
        "!pip install ogb"
      ]
    },
    {
      "cell_type": "code",
      "source": [
        "# utils\n",
        "import numpy as np\n",
        "import scipy.sparse as sp\n",
        "from tqdm import tqdm\n",
        "from ogb.graphproppred import Evaluator, GraphPropPredDataset\n",
        "# sklearn\n",
        "from sklearn.metrics.cluster import (completeness_score,\n",
        "                                     homogeneity_score,\n",
        "                                     v_measure_score)\n",
        "# tensorflow\n",
        "import tensorflow as tf\n",
        "from tensorflow.keras.layers import Dense, Input, Dropout\n",
        "from tensorflow.keras.losses import (CategoricalCrossentropy,\n",
        "                                     BinaryCrossentropy,\n",
        "                                     MeanSquaredError,\n",
        "                                     SparseCategoricalCrossentropy)\n",
        "from tensorflow.keras.models import Model\n",
        "from tensorflow.keras.metrics import categorical_accuracy, sparse_categorical_accuracy\n",
        "from tensorflow.keras.optimizers import Adam\n",
        "from tensorflow.keras.backend import clear_session\n",
        "from tensorflow.keras.callbacks import EarlyStopping\n",
        "from tensorflow.keras.regularizers import l2\n",
        "# spektral\n",
        "from spektral.data import Dataset, DisjointLoader, Graph, BatchLoader, MixedLoader\n",
        "from spektral.datasets import TUDataset, OGB, QM9\n",
        "from spektral.datasets.mnist import MNIST\n",
        "from spektral.datasets.citation import Cora\n",
        "from spektral.models import GeneralGNN\n",
        "from spektral.layers import (GCSConv, ECCConv, GlobalSumPool, GlobalAvgPool,\n",
        "                             GraphMasking, GINConv, MinCutPool, GCNConv)\n",
        "# from spektral.layers.convolutional import GCSConv\n",
        "# from spektral.layers.pooling import MinCutPool\n",
        "from spektral.transforms.normalize_adj import NormalizeAdj\n",
        "from spektral.utils.sparse import sp_matrix_to_sp_tensor\n",
        "from spektral.utils.convolution import normalized_adjacency\n",
        "# visual\n",
        "import matplotlib.pyplot as plt"
      ],
      "metadata": {
        "id": "C1NpccaQzQhd"
      },
      "execution_count": null,
      "outputs": []
    },
    {
      "cell_type": "code",
      "source": [
        "# physical_devices = tf.config.list_physical_devices(\"GPU\")\n",
        "# if len(physical_devices) > 0:\n",
        "#     tf.config.experimental.set_memory_growth(physical_devices[0], True)"
      ],
      "metadata": {
        "id": "GN35w4-75eye"
      },
      "execution_count": null,
      "outputs": []
    },
    {
      "cell_type": "markdown",
      "source": [
        "# Graph Signal Clf MNIST (Mixed Mode)"
      ],
      "metadata": {
        "id": "C0xvtF-JomcW"
      }
    },
    {
      "cell_type": "code",
      "source": [
        "# params\n",
        "batch_size = 32  # batch size\n",
        "epochs = 10  # number of training epochs\n",
        "patience = 10  # patience for early stopping\n",
        "l2_reg = 5e-4  # regularization rate for l2"
      ],
      "metadata": {
        "id": "lHo9O-XXqdqN"
      },
      "execution_count": null,
      "outputs": []
    },
    {
      "cell_type": "code",
      "source": [
        "# load data\n",
        "data = MNIST()\n",
        "data.a = GCNConv.preprocess(data.a)\n",
        "data.a = sp_matrix_to_sp_tensor(data.a) # create filter for GCN and convert to sparse tensor"
      ],
      "metadata": {
        "id": "9Jpiyc3jqdvv"
      },
      "execution_count": null,
      "outputs": []
    },
    {
      "cell_type": "code",
      "source": [
        "# train/valid/test split\n",
        "n = 10000\n",
        "data_train, data_test = data[:-n], data[-n:]\n",
        "np.random.shuffle(data_train)\n",
        "data_train, data_valid = data_train[:-n], data_train[-n:]"
      ],
      "metadata": {
        "colab": {
          "base_uri": "https://localhost:8080/"
        },
        "id": "mUwo7zDLqnTS",
        "outputId": "bc4ecd8d-ccd5-42b6-aa7c-ac7f8fad1864"
      },
      "execution_count": null,
      "outputs": [
        {
          "output_type": "stream",
          "name": "stderr",
          "text": [
            "<ipython-input-74-db79d486c122>:4: UserWarning: you are shuffling a 'MNIST' object which is not a subclass of 'Sequence'; `shuffle` is not guaranteed to behave correctly. E.g., non-numpy array/tensor objects with view semantics may contain duplicates after shuffling.\n",
            "  np.random.shuffle(data_train)\n"
          ]
        }
      ]
    },
    {
      "cell_type": "code",
      "source": [
        "# loaders\n",
        "loader_train = MixedLoader(data_train, batch_size=batch_size, epochs=epochs)\n",
        "loader_valid = MixedLoader(data_valid, batch_size=batch_size)\n",
        "loader_test = MixedLoader(data_test, batch_size=batch_size)"
      ],
      "metadata": {
        "id": "wutWVNGbqnc6"
      },
      "execution_count": null,
      "outputs": []
    },
    {
      "cell_type": "code",
      "source": [
        "# build model\n",
        "class Net(Model):\n",
        "    def __init__(self, **kwargs):\n",
        "        super().__init__(**kwargs)\n",
        "        self.conv1 = GCNConv(32, activation=\"elu\", kernel_regularizer=l2(l2_reg))\n",
        "        self.conv2 = GCNConv(32, activation=\"elu\", kernel_regularizer=l2(l2_reg))\n",
        "        self.flatten = GlobalSumPool()\n",
        "        self.fc1 = Dense(512, activation=\"relu\")\n",
        "        self.fc2 = Dense(10, activation=\"softmax\")  # MNIST has ten classes\n",
        "\n",
        "    def call(self, inputs):\n",
        "        x, a = inputs\n",
        "        x = self.conv1([x, a])\n",
        "        x = self.conv2([x, a])\n",
        "        output = self.flatten(x)\n",
        "        output = self.fc1(output)\n",
        "        output = self.fc2(output)\n",
        "        return output"
      ],
      "metadata": {
        "id": "W9PQ-AilqnmS"
      },
      "execution_count": null,
      "outputs": []
    },
    {
      "cell_type": "code",
      "source": [
        "# create model\n",
        "model = Net()\n",
        "optimizer = Adam()\n",
        "loss_fn = SparseCategoricalCrossentropy()"
      ],
      "metadata": {
        "id": "wNC96LpuvJ51"
      },
      "execution_count": null,
      "outputs": []
    },
    {
      "cell_type": "code",
      "source": [
        "# funcs\n",
        "@tf.function\n",
        "def train_on_batch(inputs, target):\n",
        "    with tf.GradientTape() as tape:\n",
        "        predictions = model(inputs, training=True)\n",
        "        loss = loss_fn(target, predictions) + sum(model.losses)\n",
        "        acc = tf.reduce_mean(sparse_categorical_accuracy(target, predictions))\n",
        "    gradients = tape.gradient(loss, model.trainable_variables)\n",
        "    optimizer.apply_gradients(zip(gradients, model.trainable_variables))\n",
        "    return loss, acc\n",
        "\n",
        "def evaluate(loader):\n",
        "    results, step = [], 0\n",
        "    for batch in loader:\n",
        "        step += 1\n",
        "        inputs, target = batch\n",
        "        predictions = model(inputs, training=False)\n",
        "        loss = loss_fn(target, predictions)\n",
        "        acc = tf.reduce_mean(sparse_categorical_accuracy(target, predictions))\n",
        "        results.append((loss, acc, len(target)))\n",
        "        if step == loader.steps_per_epoch:\n",
        "            results = np.array(results)\n",
        "            return np.average(results[:, :-1], 0, weights=results[:, -1])"
      ],
      "metadata": {
        "id": "mY4zP1ygrUYj"
      },
      "execution_count": null,
      "outputs": []
    },
    {
      "cell_type": "code",
      "source": [
        "# train\n",
        "best_val_loss = 1e6-1\n",
        "current_patience = patience\n",
        "step = 0\n",
        "results_train = []\n",
        "for batch in loader_train:\n",
        "    step += 1\n",
        "    inputs, target = batch\n",
        "    loss, acc = train_on_batch(inputs, target)\n",
        "    results_train.append((loss, acc, len(target)))\n",
        "    if step == loader_train.steps_per_epoch:\n",
        "        results_valid = evaluate(loader_valid)\n",
        "        if results_valid[0] < best_val_loss:\n",
        "            best_val_loss = results_valid[0]\n",
        "            current_patience = patience\n",
        "            results_test = evaluate(loader_test)\n",
        "        else:\n",
        "            current_patience -= 1\n",
        "            if current_patience == 0:\n",
        "                print(\"Early stopping\")\n",
        "                break\n",
        "        results_train = np.array(results_train)\n",
        "        results_train = np.average(results_train[:, :-1], 0, weights=results_train[:, -1])\n",
        "        print(\n",
        "            \"Train loss: {:.4f}, acc: {:.4f} | \"\n",
        "            \"Valid loss: {:.4f}, acc: {:.4f} | \"\n",
        "            \"Test loss: {:.4f}, acc: {:.4f}\".format(*results_train, *results_valid, *results_test)\n",
        "            )\n",
        "        results_train = []\n",
        "        step = 0"
      ],
      "metadata": {
        "colab": {
          "base_uri": "https://localhost:8080/"
        },
        "id": "0RKm9W9Gqd5H",
        "outputId": "c8bccb27-a576-4f86-a5de-5972aa494be2"
      },
      "execution_count": null,
      "outputs": [
        {
          "output_type": "stream",
          "name": "stderr",
          "text": [
            "/usr/local/lib/python3.10/dist-packages/spektral/data/utils.py:221: UserWarning: you are shuffling a 'MNIST' object which is not a subclass of 'Sequence'; `shuffle` is not guaranteed to behave correctly. E.g., non-numpy array/tensor objects with view semantics may contain duplicates after shuffling.\n",
            "  np.random.shuffle(a)\n"
          ]
        },
        {
          "output_type": "stream",
          "name": "stdout",
          "text": [
            "Train loss: 2.1822, acc: 0.2123 | Valid loss: 2.0385, acc: 0.2325 | Test loss: 2.0506, acc: 0.2267\n",
            "Train loss: 2.0359, acc: 0.2388 | Valid loss: 1.8805, acc: 0.2862 | Test loss: 1.8728, acc: 0.2896\n",
            "Train loss: 1.8582, acc: 0.2976 | Valid loss: 1.7940, acc: 0.3158 | Test loss: 1.7864, acc: 0.3134\n",
            "Train loss: 1.8261, acc: 0.3116 | Valid loss: 1.8009, acc: 0.3156 | Test loss: 1.7864, acc: 0.3134\n",
            "Train loss: 1.8193, acc: 0.3109 | Valid loss: 1.7975, acc: 0.3164 | Test loss: 1.7864, acc: 0.3134\n",
            "Train loss: 1.8087, acc: 0.3158 | Valid loss: 1.7892, acc: 0.3227 | Test loss: 1.7838, acc: 0.3172\n",
            "Train loss: 1.8078, acc: 0.3132 | Valid loss: 1.8588, acc: 0.2985 | Test loss: 1.7838, acc: 0.3172\n",
            "Train loss: 1.8020, acc: 0.3135 | Valid loss: 1.7872, acc: 0.3210 | Test loss: 1.7785, acc: 0.3177\n",
            "Train loss: 1.7984, acc: 0.3167 | Valid loss: 1.7977, acc: 0.3195 | Test loss: 1.7785, acc: 0.3177\n",
            "Train loss: 1.7989, acc: 0.3175 | Valid loss: 1.7863, acc: 0.3222 | Test loss: 1.7791, acc: 0.3173\n"
          ]
        }
      ]
    },
    {
      "cell_type": "markdown",
      "source": [
        "# Node Clustering On Citation Networks With MinCut Pooling (Unsupervised)"
      ],
      "metadata": {
        "id": "YPra1N-1wdT3"
      }
    },
    {
      "cell_type": "code",
      "source": [
        "@tf.function\n",
        "def train_step(inputs):\n",
        "    with tf.GradientTape() as tape:\n",
        "        _, S_pool = model(inputs, training=True)\n",
        "        loss = sum(model.losses)\n",
        "    gradients = tape.gradient(loss, model.trainable_variables)\n",
        "    opt.apply_gradients(zip(gradients, model.trainable_variables))\n",
        "    return model.losses[0], model.losses[1], S_pool"
      ],
      "metadata": {
        "id": "U5Wk1uYYwmzC"
      },
      "execution_count": null,
      "outputs": []
    },
    {
      "cell_type": "code",
      "source": [
        "np.random.seed(1)"
      ],
      "metadata": {
        "id": "RfrRfecXwm-c"
      },
      "execution_count": null,
      "outputs": []
    },
    {
      "cell_type": "code",
      "source": [
        "epochs = 10  # training iterations\n",
        "lr = 5e-4  # learning rate"
      ],
      "metadata": {
        "id": "kZiVRHLpwnJJ"
      },
      "execution_count": null,
      "outputs": []
    },
    {
      "cell_type": "code",
      "source": [
        "# load data\n",
        "dataset = Cora()\n",
        "adj, nodes, labels = dataset[0].a, dataset[0].x, dataset[0].y\n",
        "adj_norm = normalized_adjacency(adj)\n",
        "adj_norm = sp_matrix_to_sp_tensor(adj_norm)\n",
        "num_feats = dataset.n_node_features\n",
        "labels = np.argmax(labels, axis=-1)\n",
        "num_clusters = labels.max() + 1"
      ],
      "metadata": {
        "colab": {
          "base_uri": "https://localhost:8080/"
        },
        "id": "P5zW4aBVy_KR",
        "outputId": "9ec1d5b2-13c2-46ee-8ddb-eee760b1905e"
      },
      "execution_count": null,
      "outputs": [
        {
          "output_type": "stream",
          "name": "stderr",
          "text": [
            "/usr/local/lib/python3.10/dist-packages/scipy/sparse/_index.py:143: SparseEfficiencyWarning: Changing the sparsity structure of a csr_matrix is expensive. lil_matrix is more efficient.\n",
            "  self._set_arrayXarray(i, j, x)\n"
          ]
        }
      ]
    },
    {
      "cell_type": "code",
      "source": [
        "# model\n",
        "node_input = Input(shape=(num_feats,), name=\"node_input\")\n",
        "adj_input = Input(shape=(None,), name=\"adj_input\", sparse=True)\n",
        "x = GCSConv(16, activation=\"elu\")([node_input, adj_input])\n",
        "x_out, adj_out, s_out = MinCutPool(num_clusters, return_selection=True)([x, adj_input])\n",
        "model = Model([node_input, adj_input], [x_out, s_out])"
      ],
      "metadata": {
        "colab": {
          "base_uri": "https://localhost:8080/"
        },
        "id": "mUXYA-JWy_TG",
        "outputId": "c7f0d8ae-3e5a-4476-b2ca-a779ab3b496d"
      },
      "execution_count": null,
      "outputs": [
        {
          "output_type": "stream",
          "name": "stderr",
          "text": [
            "/usr/local/lib/python3.10/dist-packages/keras/src/initializers/initializers.py:120: UserWarning: The initializer GlorotUniform is unseeded and being called multiple times, which will return identical values each time (even if the initializer is unseeded). Please update your code to provide a seed to the initializer, or avoid using the same initializer instance more than once.\n",
            "  warnings.warn(\n"
          ]
        }
      ]
    },
    {
      "cell_type": "code",
      "source": [
        "# train\n",
        "inputs = [nodes, adj_norm]\n",
        "opt = Adam(learning_rate=lr)\n",
        "loss_history = []\n",
        "nmi_history = []\n",
        "for _ in tqdm(range(epochs)):\n",
        "    outs = train_step(inputs)\n",
        "    outs = [o.numpy() for o in outs]\n",
        "    loss_history.append((outs[0], outs[1], (outs[0] + outs[1])))\n",
        "    s_out = np.argmax(outs[2], axis=-1)\n",
        "    nmi_history.append(v_measure_score(labels, s_out))\n",
        "loss_history = np.array(loss_history)"
      ],
      "metadata": {
        "colab": {
          "base_uri": "https://localhost:8080/"
        },
        "id": "Eq1NbxFzy_b9",
        "outputId": "c151d27d-a71a-492b-ec95-064500534291"
      },
      "execution_count": null,
      "outputs": [
        {
          "output_type": "stream",
          "name": "stderr",
          "text": [
            "100%|██████████| 10/10 [00:01<00:00,  7.10it/s]\n"
          ]
        }
      ]
    },
    {
      "cell_type": "code",
      "source": [
        "# results\n",
        "_, s_out = model(inputs, training=False)\n",
        "s_out = np.argmax(s_out, axis=-1)\n",
        "homo_score = homogeneity_score(labels, s_out)\n",
        "comp_score = completeness_score(labels, s_out)\n",
        "nmi = v_measure_score(labels, s_out)\n",
        "print(\"Homogeneity: {:.3f}; Completeness: {:.3f}; NMI: {:.3f}\".format(homo_score, comp_score, nmi))"
      ],
      "metadata": {
        "colab": {
          "base_uri": "https://localhost:8080/"
        },
        "id": "4s3TCAJ6wnTC",
        "outputId": "15cc4313-bf6d-4cec-acd1-0f375184e465"
      },
      "execution_count": null,
      "outputs": [
        {
          "output_type": "stream",
          "name": "stdout",
          "text": [
            "Homogeneity: 0.055; Completeness: 0.054; NMI: 0.054\n"
          ]
        }
      ]
    },
    {
      "cell_type": "code",
      "source": [
        "# plots\n",
        "plt.figure(figsize=(10, 5))\n",
        "plt.subplot(121)\n",
        "plt.plot(loss_history[:, 0], label=\"Ortho. loss\")\n",
        "plt.plot(loss_history[:, 1], label=\"MinCUT loss\")\n",
        "plt.plot(loss_history[:, 2], label=\"Total loss\")\n",
        "plt.legend()\n",
        "plt.ylabel(\"Loss\")\n",
        "plt.xlabel(\"Iteration\")\n",
        "plt.subplot(122)\n",
        "plt.plot(nmi_history, label=\"NMI\")\n",
        "plt.legend()\n",
        "plt.ylabel(\"NMI\")\n",
        "plt.xlabel(\"Iteration\")\n",
        "plt.show()"
      ],
      "metadata": {
        "colab": {
          "base_uri": "https://localhost:8080/",
          "height": 470
        },
        "id": "iRVrh0avzIgG",
        "outputId": "8d923f01-f4ca-4444-f351-7f30745e5954"
      },
      "execution_count": null,
      "outputs": [
        {
          "output_type": "display_data",
          "data": {
            "text/plain": [
              "<Figure size 1000x500 with 2 Axes>"
            ],
            "image/png": "[encoded data removed]"
          },
          "metadata": {}
        }
      ]
    }
  ]
}