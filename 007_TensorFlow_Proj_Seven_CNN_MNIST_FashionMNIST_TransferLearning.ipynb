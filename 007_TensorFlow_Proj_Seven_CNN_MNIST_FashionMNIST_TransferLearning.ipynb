{
  "nbformat": 4,
  "nbformat_minor": 0,
  "metadata": {
    "colab": {
      "provenance": [],
      "toc_visible": true,
      "gpuType": "T4",
      "collapsed_sections": [
        "4PWkgQPHymL5",
        "iIidKV7AyvWa",
        "iq9IhAujy6UM",
        "2XUQma0Ay7V7",
        "tkqdYIZvsGmL",
        "WlrDE4oDsXMk",
        "KRtPMdl501Jz"
      ],
      "authorship_tag": "ABX9TyMLv06+IgXwNm/4H/vd8paf",
      "include_colab_link": true
    },
    "kernelspec": {
      "name": "python3",
      "display_name": "Python 3"
    },
    "language_info": {
      "name": "python"
    },
    "accelerator": "GPU"
  },
  "cells": [
    {
      "cell_type": "markdown",
      "metadata": {
        "id": "view-in-github",
        "colab_type": "text"
      },
      "source": [
        "<a href=\"https://colab.research.google.com/github/ariahosseini/DeepML/blob/main/007_TensorFlow_Proj_Seven_CNN_MNIST_FashionMNIST_TransferLearning.ipynb\" target=\"_parent\"><img src=\"https://colab.research.google.com/assets/colab-badge.svg\" alt=\"Open In Colab\"/></a>"
      ]
    },
    {
      "cell_type": "markdown",
      "source": [
        "### Preprocess"
      ],
      "metadata": {
        "id": "4PWkgQPHymL5"
      }
    },
    {
      "cell_type": "code",
      "execution_count": null,
      "metadata": {
        "id": "VI3dA235yUwy"
      },
      "outputs": [],
      "source": [
        "import os, sys\n",
        "import numpy as np\n",
        "import pandas as pd\n",
        "import seaborn as sns\n",
        "import matplotlib.pyplot as plt\n",
        "from collections import Counter\n",
        "from google.colab import drive\n",
        "from sklearn.metrics import classification_report,confusion_matrix\n",
        "from tensorflow import one_hot\n",
        "from tensorflow.config import list_physical_devices, experimental\n",
        "from tensorflow.keras import Model, Sequential, layers, callbacks, applications, optimizers\n",
        "from tensorflow.keras.datasets import mnist, fashion_mnist\n",
        "from tensorflow.keras.utils import plot_model, to_categorical, image_dataset_from_directory\n",
        "from tensorflow.keras.callbacks import  ModelCheckpoint, EarlyStopping\n",
        "from tensorflow.keras.metrics import Precision, AUC"
      ]
    },
    {
      "cell_type": "code",
      "source": [
        "physical_devices = list_physical_devices(\"GPU\")\n",
        "experimental.set_memory_growth(physical_devices[0], True)"
      ],
      "metadata": {
        "id": "BDWHKtGwA_Iy"
      },
      "execution_count": null,
      "outputs": []
    },
    {
      "cell_type": "code",
      "source": [
        "drive.mount('/content/drive')"
      ],
      "metadata": {
        "id": "K6d1TYW3A_EG",
        "colab": {
          "base_uri": "https://localhost:8080/"
        },
        "outputId": "76a00cc7-9fa1-467b-afae-102e139c310d"
      },
      "execution_count": null,
      "outputs": [
        {
          "output_type": "stream",
          "name": "stdout",
          "text": [
            "Drive already mounted at /content/drive; to attempt to forcibly remount, call drive.mount(\"/content/drive\", force_remount=True).\n"
          ]
        }
      ]
    },
    {
      "cell_type": "markdown",
      "source": [
        "### MNISt Date Base"
      ],
      "metadata": {
        "id": "iIidKV7AyvWa"
      }
    },
    {
      "cell_type": "code",
      "source": [
        "(x_train, y_train), (x_test, y_test) = mnist.load_data()"
      ],
      "metadata": {
        "id": "vyxPaJ4kzvLf"
      },
      "execution_count": null,
      "outputs": []
    },
    {
      "cell_type": "code",
      "source": [
        "print(\"x_train:\", x_train.shape, type(x_train))\n",
        "print(\"y_train:\", y_train.shape, type(y_train))\n",
        "print(\"x_test:\", x_test.shape, type(x_test))\n",
        "print(\"y_test:\", y_test.shape, type(y_test))"
      ],
      "metadata": {
        "colab": {
          "base_uri": "https://localhost:8080/"
        },
        "id": "c6vSpCc8z7Mr",
        "outputId": "28a7af60-7fe5-4023-b75a-43b9e7a4e38a"
      },
      "execution_count": null,
      "outputs": [
        {
          "output_type": "stream",
          "name": "stdout",
          "text": [
            "x_train: (60000, 28, 28) <class 'numpy.ndarray'>\n",
            "y_train: (60000,) <class 'numpy.ndarray'>\n",
            "x_test: (10000, 28, 28) <class 'numpy.ndarray'>\n",
            "y_test: (10000,) <class 'numpy.ndarray'>\n"
          ]
        }
      ]
    },
    {
      "cell_type": "code",
      "source": [
        "plt.figure(figsize=(4,4))\n",
        "plt.imshow(x_train[0], cmap=\"Greys\")\n",
        "plt.show()"
      ],
      "metadata": {
        "colab": {
          "base_uri": "https://localhost:8080/",
          "height": 368
        },
        "id": "9vXZh4k_1Beu",
        "outputId": "559e3c8a-ec32-4fea-9cd1-51b616b739ec"
      },
      "execution_count": null,
      "outputs": [
        {
          "output_type": "display_data",
          "data": {
            "text/plain": [
              "<Figure size 400x400 with 1 Axes>"
            ],
            "image/png": "[encoded data removed]"
          },
          "metadata": {}
        }
      ]
    },
    {
      "cell_type": "code",
      "source": [
        "plt.figure(figsize=(4,3))\n",
        "plt.hist(y_train, bins=10, width=0.5)"
      ],
      "metadata": {
        "colab": {
          "base_uri": "https://localhost:8080/",
          "height": 367
        },
        "id": "U37ze9ER13rv",
        "outputId": "1b75b0bb-619d-4ea8-fa50-4ca7f36d510d"
      },
      "execution_count": null,
      "outputs": [
        {
          "output_type": "execute_result",
          "data": {
            "text/plain": [
              "(array([5923., 6742., 5958., 6131., 5842., 5421., 5918., 6265., 5851.,\n",
              "        5949.]),\n",
              " array([0. , 0.9, 1.8, 2.7, 3.6, 4.5, 5.4, 6.3, 7.2, 8.1, 9. ]),\n",
              " <BarContainer object of 10 artists>)"
            ]
          },
          "metadata": {},
          "execution_count": 9
        },
        {
          "output_type": "display_data",
          "data": {
            "text/plain": [
              "<Figure size 400x300 with 1 Axes>"
            ],
            "image/png": "[encoded data removed]"
          },
          "metadata": {}
        }
      ]
    },
    {
      "cell_type": "code",
      "source": [
        "plt.figure(figsize=(4,3))\n",
        "plt.hist(y_test, bins=10, width=0.5)"
      ],
      "metadata": {
        "colab": {
          "base_uri": "https://localhost:8080/",
          "height": 364
        },
        "id": "MoUeGQNR2ByS",
        "outputId": "975d97f8-77c7-4478-cc02-d0bdd832e477"
      },
      "execution_count": null,
      "outputs": [
        {
          "output_type": "execute_result",
          "data": {
            "text/plain": [
              "(array([ 980., 1135., 1032., 1010.,  982.,  892.,  958., 1028.,  974.,\n",
              "        1009.]),\n",
              " array([0. , 0.9, 1.8, 2.7, 3.6, 4.5, 5.4, 6.3, 7.2, 8.1, 9. ]),\n",
              " <BarContainer object of 10 artists>)"
            ]
          },
          "metadata": {},
          "execution_count": 10
        },
        {
          "output_type": "display_data",
          "data": {
            "text/plain": [
              "<Figure size 400x300 with 1 Axes>"
            ],
            "image/png": "[encoded data removed]"
          },
          "metadata": {}
        }
      ]
    },
    {
      "cell_type": "code",
      "source": [
        "def ConvNet_builder():\n",
        "  inputs = layers.Input(shape=(x_train.shape[1],x_train.shape[2],1), name=\"input_layer\")\n",
        "  feature = layers.Conv2D(filters=32, kernel_size=(3,3), strides=(1,1), padding=\"valid\",\n",
        "                          activation=\"relu\", name=\"first_conv_layer\")(inputs)\n",
        "  feature = layers.MaxPool2D(pool_size=(2,2), name=\"first_pool_layer\")(feature)\n",
        "  feature = layers.Conv2D(filters=64, kernel_size=(3,3), strides=(1,1), padding=\"valid\",\n",
        "                          activation=\"relu\", name=\"second_conv_layer\")(feature)\n",
        "  feature = layers.MaxPool2D(pool_size=(2,2), name=\"second_pool_layer\")(feature)\n",
        "  feature = layers.Conv2D(filters=32, kernel_size=(3,3), strides=(1,1), padding=\"valid\",\n",
        "                          activation=\"relu\", name=\"third_conv_layer\")(feature)\n",
        "  feature = layers.Flatten(name=\"flatten_layer\")(feature)\n",
        "  feature = layers.Dense(units=64, activation=\"relu\", name=\"first_dense_layer\")(feature)\n",
        "  outputs = layers.Dense(units=10, activation=\"softmax\", name=\"output_layer\")(feature)\n",
        "  model = Model(inputs=inputs, outputs=outputs, name=\"cnn_arc\")\n",
        "  model.compile(optimizer=\"rmsprop\", loss=\"sparse_categorical_crossentropy\", metrics=[\"accuracy\"])\n",
        "  return model"
      ],
      "metadata": {
        "id": "q73FWIIk2_a6"
      },
      "execution_count": null,
      "outputs": []
    },
    {
      "cell_type": "code",
      "source": [
        "model = ConvNet_builder()\n",
        "model.summary()"
      ],
      "metadata": {
        "colab": {
          "base_uri": "https://localhost:8080/"
        },
        "id": "Sw__GMU_3TdW",
        "outputId": "ba46e05c-940a-426d-f20e-c96c561de0fb"
      },
      "execution_count": null,
      "outputs": [
        {
          "output_type": "stream",
          "name": "stdout",
          "text": [
            "Model: \"cnn_arc\"\n",
            "_________________________________________________________________\n",
            " Layer (type)                Output Shape              Param #   \n",
            "=================================================================\n",
            " input_layer (InputLayer)    [(None, 28, 28, 1)]       0         \n",
            "                                                                 \n",
            " first_conv_layer (Conv2D)   (None, 26, 26, 32)        320       \n",
            "                                                                 \n",
            " first_pool_layer (MaxPooli  (None, 13, 13, 32)        0         \n",
            " ng2D)                                                           \n",
            "                                                                 \n",
            " second_conv_layer (Conv2D)  (None, 11, 11, 64)        18496     \n",
            "                                                                 \n",
            " second_pool_layer (MaxPool  (None, 5, 5, 64)          0         \n",
            " ing2D)                                                          \n",
            "                                                                 \n",
            " third_conv_layer (Conv2D)   (None, 3, 3, 32)          18464     \n",
            "                                                                 \n",
            " flatten_layer (Flatten)     (None, 288)               0         \n",
            "                                                                 \n",
            " first_dense_layer (Dense)   (None, 64)                18496     \n",
            "                                                                 \n",
            " output_layer (Dense)        (None, 10)                650       \n",
            "                                                                 \n",
            "=================================================================\n",
            "Total params: 56426 (220.41 KB)\n",
            "Trainable params: 56426 (220.41 KB)\n",
            "Non-trainable params: 0 (0.00 Byte)\n",
            "_________________________________________________________________\n"
          ]
        }
      ]
    },
    {
      "cell_type": "code",
      "source": [
        "model_callbacks = [callbacks.EarlyStopping(monitor='val_loss', patience=10, verbose=0, mode='auto'),\n",
        "                   callbacks.ModelCheckpoint(filepath=\"mnist_cnn.h5\",save_best_only=True, monitor=\"val_loss\")]\n",
        "history = model.fit(x=x_train, y=y_train, validation_split=0.2, epochs=30,\n",
        "                    batch_size=64, callbacks=[model_callbacks])"
      ],
      "metadata": {
        "colab": {
          "base_uri": "https://localhost:8080/"
        },
        "id": "Vxyu-iRy4TDt",
        "outputId": "4d93c375-36fc-44a6-ac7a-4d96ca851c6c"
      },
      "execution_count": null,
      "outputs": [
        {
          "output_type": "stream",
          "name": "stdout",
          "text": [
            "Epoch 1/30\n",
            "750/750 [==============================] - 17s 6ms/step - loss: 0.4328 - accuracy: 0.9133 - val_loss: 0.0922 - val_accuracy: 0.9764\n",
            "Epoch 2/30\n",
            " 39/750 [>.............................] - ETA: 2s - loss: 0.0743 - accuracy: 0.9792"
          ]
        },
        {
          "output_type": "stream",
          "name": "stderr",
          "text": [
            "/usr/local/lib/python3.10/dist-packages/keras/src/engine/training.py:3000: UserWarning: You are saving your model as an HDF5 file via `model.save()`. This file format is considered legacy. We recommend using instead the native Keras format, e.g. `model.save('my_model.keras')`.\n",
            "  saving_api.save_model(\n"
          ]
        },
        {
          "output_type": "stream",
          "name": "stdout",
          "text": [
            "750/750 [==============================] - 3s 4ms/step - loss: 0.0745 - accuracy: 0.9784 - val_loss: 0.0730 - val_accuracy: 0.9796\n",
            "Epoch 3/30\n",
            "750/750 [==============================] - 3s 4ms/step - loss: 0.0544 - accuracy: 0.9844 - val_loss: 0.0613 - val_accuracy: 0.9838\n",
            "Epoch 4/30\n",
            "750/750 [==============================] - 6s 8ms/step - loss: 0.0425 - accuracy: 0.9878 - val_loss: 0.0902 - val_accuracy: 0.9813\n",
            "Epoch 5/30\n",
            "750/750 [==============================] - 6s 9ms/step - loss: 0.0363 - accuracy: 0.9898 - val_loss: 0.0542 - val_accuracy: 0.9858\n",
            "Epoch 6/30\n",
            "750/750 [==============================] - 6s 8ms/step - loss: 0.0321 - accuracy: 0.9909 - val_loss: 0.0643 - val_accuracy: 0.9862\n",
            "Epoch 7/30\n",
            "750/750 [==============================] - 4s 5ms/step - loss: 0.0285 - accuracy: 0.9925 - val_loss: 0.0730 - val_accuracy: 0.9873\n",
            "Epoch 8/30\n",
            "750/750 [==============================] - 3s 4ms/step - loss: 0.0265 - accuracy: 0.9929 - val_loss: 0.0713 - val_accuracy: 0.9861\n",
            "Epoch 9/30\n",
            "750/750 [==============================] - 3s 5ms/step - loss: 0.0236 - accuracy: 0.9938 - val_loss: 0.0735 - val_accuracy: 0.9870\n",
            "Epoch 10/30\n",
            "750/750 [==============================] - 4s 5ms/step - loss: 0.0202 - accuracy: 0.9946 - val_loss: 0.0950 - val_accuracy: 0.9866\n",
            "Epoch 11/30\n",
            "750/750 [==============================] - 4s 5ms/step - loss: 0.0214 - accuracy: 0.9947 - val_loss: 0.0908 - val_accuracy: 0.9880\n",
            "Epoch 12/30\n",
            "750/750 [==============================] - 4s 6ms/step - loss: 0.0211 - accuracy: 0.9951 - val_loss: 0.1066 - val_accuracy: 0.9864\n",
            "Epoch 13/30\n",
            "750/750 [==============================] - 3s 4ms/step - loss: 0.0214 - accuracy: 0.9959 - val_loss: 0.1149 - val_accuracy: 0.9882\n",
            "Epoch 14/30\n",
            "750/750 [==============================] - 4s 6ms/step - loss: 0.0196 - accuracy: 0.9960 - val_loss: 0.1135 - val_accuracy: 0.9886\n",
            "Epoch 15/30\n",
            "750/750 [==============================] - 3s 5ms/step - loss: 0.0200 - accuracy: 0.9960 - val_loss: 0.1268 - val_accuracy: 0.9875\n"
          ]
        }
      ]
    },
    {
      "cell_type": "code",
      "source": [
        "model.evaluate(x_test, y_test)"
      ],
      "metadata": {
        "colab": {
          "base_uri": "https://localhost:8080/"
        },
        "id": "pCQ4VduMUlVR",
        "outputId": "cd7bbe22-7996-4db0-e003-6bfbc6656dc4"
      },
      "execution_count": null,
      "outputs": [
        {
          "output_type": "stream",
          "name": "stdout",
          "text": [
            "313/313 [==============================] - 3s 8ms/step - loss: 0.1009 - accuracy: 0.9894\n"
          ]
        },
        {
          "output_type": "execute_result",
          "data": {
            "text/plain": [
              "[0.10093296319246292, 0.9894000291824341]"
            ]
          },
          "metadata": {},
          "execution_count": 16
        }
      ]
    },
    {
      "cell_type": "code",
      "source": [
        "plot_model(model)"
      ],
      "metadata": {
        "colab": {
          "base_uri": "https://localhost:8080/",
          "height": 856
        },
        "id": "GJ5l-o4rVCLq",
        "outputId": "316c23d2-243f-4278-8a2f-73f7d02d1e41"
      },
      "execution_count": null,
      "outputs": [
        {
          "output_type": "execute_result",
          "data": {
            "image/png": "[encoded data removed]",
            "text/plain": [
              "<IPython.core.display.Image object>"
            ]
          },
          "metadata": {},
          "execution_count": 24
        }
      ]
    },
    {
      "cell_type": "code",
      "source": [
        "print(model.metrics_names)"
      ],
      "metadata": {
        "colab": {
          "base_uri": "https://localhost:8080/"
        },
        "id": "-ZjUXsW5U7vd",
        "outputId": "cd13c4cd-3f3b-475a-a134-57c052319954"
      },
      "execution_count": null,
      "outputs": [
        {
          "output_type": "stream",
          "name": "stdout",
          "text": [
            "['loss', 'accuracy']\n"
          ]
        }
      ]
    },
    {
      "cell_type": "code",
      "source": [
        "metrics = pd.DataFrame(history.history)\n",
        "metrics"
      ],
      "metadata": {
        "colab": {
          "base_uri": "https://localhost:8080/",
          "height": 520
        },
        "id": "OO4AvtfKV0sI",
        "outputId": "cfe1c528-514f-40e4-fad6-22d9265a0905"
      },
      "execution_count": null,
      "outputs": [
        {
          "output_type": "execute_result",
          "data": {
            "text/plain": [
              "        loss  accuracy  val_loss  val_accuracy\n",
              "0   0.432795  0.913250  0.092185      0.976417\n",
              "1   0.074532  0.978396  0.072993      0.979583\n",
              "2   0.054366  0.984438  0.061318      0.983833\n",
              "3   0.042493  0.987792  0.090233      0.981333\n",
              "4   0.036330  0.989812  0.054188      0.985750\n",
              "5   0.032114  0.990937  0.064304      0.986167\n",
              "6   0.028504  0.992500  0.073045      0.987333\n",
              "7   0.026520  0.992896  0.071308      0.986083\n",
              "8   0.023640  0.993833  0.073535      0.987000\n",
              "9   0.020239  0.994583  0.094978      0.986583\n",
              "10  0.021356  0.994708  0.090780      0.988000\n",
              "11  0.021147  0.995062  0.106594      0.986417\n",
              "12  0.021438  0.995917  0.114898      0.988167\n",
              "13  0.019572  0.995958  0.113489      0.988583\n",
              "14  0.019977  0.996021  0.126775      0.987500"
            ],
            "text/html": [
              "\n",
              "  <div id=\"df-241b7f7a-5aa5-4161-bd2b-159d2b5c78e7\" class=\"colab-df-container\">\n",
              "    <div>\n",
              "<style scoped>\n",
              "    .dataframe tbody tr th:only-of-type {\n",
              "        vertical-align: middle;\n",
              "    }\n",
              "\n",
              "    .dataframe tbody tr th {\n",
              "        vertical-align: top;\n",
              "    }\n",
              "\n",
              "    .dataframe thead th {\n",
              "        text-align: right;\n",
              "    }\n",
              "</style>\n",
              "<table border=\"1\" class=\"dataframe\">\n",
              "  <thead>\n",
              "    <tr style=\"text-align: right;\">\n",
              "      <th></th>\n",
              "      <th>loss</th>\n",
              "      <th>accuracy</th>\n",
              "      <th>val_loss</th>\n",
              "      <th>val_accuracy</th>\n",
              "    </tr>\n",
              "  </thead>\n",
              "  <tbody>\n",
              "    <tr>\n",
              "      <th>0</th>\n",
              "      <td>0.432795</td>\n",
              "      <td>0.913250</td>\n",
              "      <td>0.092185</td>\n",
              "      <td>0.976417</td>\n",
              "    </tr>\n",
              "    <tr>\n",
              "      <th>1</th>\n",
              "      <td>0.074532</td>\n",
              "      <td>0.978396</td>\n",
              "      <td>0.072993</td>\n",
              "      <td>0.979583</td>\n",
              "    </tr>\n",
              "    <tr>\n",
              "      <th>2</th>\n",
              "      <td>0.054366</td>\n",
              "      <td>0.984438</td>\n",
              "      <td>0.061318</td>\n",
              "      <td>0.983833</td>\n",
              "    </tr>\n",
              "    <tr>\n",
              "      <th>3</th>\n",
              "      <td>0.042493</td>\n",
              "      <td>0.987792</td>\n",
              "      <td>0.090233</td>\n",
              "      <td>0.981333</td>\n",
              "    </tr>\n",
              "    <tr>\n",
              "      <th>4</th>\n",
              "      <td>0.036330</td>\n",
              "      <td>0.989812</td>\n",
              "      <td>0.054188</td>\n",
              "      <td>0.985750</td>\n",
              "    </tr>\n",
              "    <tr>\n",
              "      <th>5</th>\n",
              "      <td>0.032114</td>\n",
              "      <td>0.990937</td>\n",
              "      <td>0.064304</td>\n",
              "      <td>0.986167</td>\n",
              "    </tr>\n",
              "    <tr>\n",
              "      <th>6</th>\n",
              "      <td>0.028504</td>\n",
              "      <td>0.992500</td>\n",
              "      <td>0.073045</td>\n",
              "      <td>0.987333</td>\n",
              "    </tr>\n",
              "    <tr>\n",
              "      <th>7</th>\n",
              "      <td>0.026520</td>\n",
              "      <td>0.992896</td>\n",
              "      <td>0.071308</td>\n",
              "      <td>0.986083</td>\n",
              "    </tr>\n",
              "    <tr>\n",
              "      <th>8</th>\n",
              "      <td>0.023640</td>\n",
              "      <td>0.993833</td>\n",
              "      <td>0.073535</td>\n",
              "      <td>0.987000</td>\n",
              "    </tr>\n",
              "    <tr>\n",
              "      <th>9</th>\n",
              "      <td>0.020239</td>\n",
              "      <td>0.994583</td>\n",
              "      <td>0.094978</td>\n",
              "      <td>0.986583</td>\n",
              "    </tr>\n",
              "    <tr>\n",
              "      <th>10</th>\n",
              "      <td>0.021356</td>\n",
              "      <td>0.994708</td>\n",
              "      <td>0.090780</td>\n",
              "      <td>0.988000</td>\n",
              "    </tr>\n",
              "    <tr>\n",
              "      <th>11</th>\n",
              "      <td>0.021147</td>\n",
              "      <td>0.995062</td>\n",
              "      <td>0.106594</td>\n",
              "      <td>0.986417</td>\n",
              "    </tr>\n",
              "    <tr>\n",
              "      <th>12</th>\n",
              "      <td>0.021438</td>\n",
              "      <td>0.995917</td>\n",
              "      <td>0.114898</td>\n",
              "      <td>0.988167</td>\n",
              "    </tr>\n",
              "    <tr>\n",
              "      <th>13</th>\n",
              "      <td>0.019572</td>\n",
              "      <td>0.995958</td>\n",
              "      <td>0.113489</td>\n",
              "      <td>0.988583</td>\n",
              "    </tr>\n",
              "    <tr>\n",
              "      <th>14</th>\n",
              "      <td>0.019977</td>\n",
              "      <td>0.996021</td>\n",
              "      <td>0.126775</td>\n",
              "      <td>0.987500</td>\n",
              "    </tr>\n",
              "  </tbody>\n",
              "</table>\n",
              "</div>\n",
              "    <div class=\"colab-df-buttons\">\n",
              "\n",
              "  <div class=\"colab-df-container\">\n",
              "    <button class=\"colab-df-convert\" onclick=\"convertToInteractive('df-241b7f7a-5aa5-4161-bd2b-159d2b5c78e7')\"\n",
              "            title=\"Convert this dataframe to an interactive table.\"\n",
              "            style=\"display:none;\">\n",
              "\n",
              "  <svg xmlns=\"http://www.w3.org/2000/svg\" height=\"24px\" viewBox=\"0 -960 960 960\">\n",
              "    <path d=\"M120-120v-720h720v720H120Zm60-500h600v-160H180v160Zm220 220h160v-160H400v160Zm0 220h160v-160H400v160ZM180-400h160v-160H180v160Zm440 0h160v-160H620v160ZM180-180h160v-160H180v160Zm440 0h160v-160H620v160Z\"/>\n",
              "  </svg>\n",
              "    </button>\n",
              "\n",
              "  <style>\n",
              "    .colab-df-container {\n",
              "      display:flex;\n",
              "      gap: 12px;\n",
              "    }\n",
              "\n",
              "    .colab-df-convert {\n",
              "      background-color: #E8F0FE;\n",
              "      border: none;\n",
              "      border-radius: 50%;\n",
              "      cursor: pointer;\n",
              "      display: none;\n",
              "      fill: #1967D2;\n",
              "      height: 32px;\n",
              "      padding: 0 0 0 0;\n",
              "      width: 32px;\n",
              "    }\n",
              "\n",
              "    .colab-df-convert:hover {\n",
              "      background-color: #E2EBFA;\n",
              "      box-shadow: 0px 1px 2px rgba(60, 64, 67, 0.3), 0px 1px 3px 1px rgba(60, 64, 67, 0.15);\n",
              "      fill: #174EA6;\n",
              "    }\n",
              "\n",
              "    .colab-df-buttons div {\n",
              "      margin-bottom: 4px;\n",
              "    }\n",
              "\n",
              "    [theme=dark] .colab-df-convert {\n",
              "      background-color: #3B4455;\n",
              "      fill: #D2E3FC;\n",
              "    }\n",
              "\n",
              "    [theme=dark] .colab-df-convert:hover {\n",
              "      background-color: #434B5C;\n",
              "      box-shadow: 0px 1px 3px 1px rgba(0, 0, 0, 0.15);\n",
              "      filter: drop-shadow(0px 1px 2px rgba(0, 0, 0, 0.3));\n",
              "      fill: #FFFFFF;\n",
              "    }\n",
              "  </style>\n",
              "\n",
              "    <script>\n",
              "      const buttonEl =\n",
              "        document.querySelector('#df-241b7f7a-5aa5-4161-bd2b-159d2b5c78e7 button.colab-df-convert');\n",
              "      buttonEl.style.display =\n",
              "        google.colab.kernel.accessAllowed ? 'block' : 'none';\n",
              "\n",
              "      async function convertToInteractive(key) {\n",
              "        const element = document.querySelector('#df-241b7f7a-5aa5-4161-bd2b-159d2b5c78e7');\n",
              "        const dataTable =\n",
              "          await google.colab.kernel.invokeFunction('convertToInteractive',\n",
              "                                                    [key], {});\n",
              "        if (!dataTable) return;\n",
              "\n",
              "        const docLinkHtml = 'Like what you see? Visit the ' +\n",
              "          '<a target=\"_blank\" href=https://colab.research.google.com/notebooks/data_table.ipynb>data table notebook</a>'\n",
              "          + ' to learn more about interactive tables.';\n",
              "        element.innerHTML = '';\n",
              "        dataTable['output_type'] = 'display_data';\n",
              "        await google.colab.output.renderOutput(dataTable, element);\n",
              "        const docLink = document.createElement('div');\n",
              "        docLink.innerHTML = docLinkHtml;\n",
              "        element.appendChild(docLink);\n",
              "      }\n",
              "    </script>\n",
              "  </div>\n",
              "\n",
              "\n",
              "<div id=\"df-eb922ed9-8526-4a27-97e5-e1d51a49ae4a\">\n",
              "  <button class=\"colab-df-quickchart\" onclick=\"quickchart('df-eb922ed9-8526-4a27-97e5-e1d51a49ae4a')\"\n",
              "            title=\"Suggest charts.\"\n",
              "            style=\"display:none;\">\n",
              "\n",
              "<svg xmlns=\"http://www.w3.org/2000/svg\" height=\"24px\"viewBox=\"0 0 24 24\"\n",
              "     width=\"24px\">\n",
              "    <g>\n",
              "        <path d=\"M19 3H5c-1.1 0-2 .9-2 2v14c0 1.1.9 2 2 2h14c1.1 0 2-.9 2-2V5c0-1.1-.9-2-2-2zM9 17H7v-7h2v7zm4 0h-2V7h2v10zm4 0h-2v-4h2v4z\"/>\n",
              "    </g>\n",
              "</svg>\n",
              "  </button>\n",
              "\n",
              "<style>\n",
              "  .colab-df-quickchart {\n",
              "      --bg-color: #E8F0FE;\n",
              "      --fill-color: #1967D2;\n",
              "      --hover-bg-color: #E2EBFA;\n",
              "      --hover-fill-color: #174EA6;\n",
              "      --disabled-fill-color: #AAA;\n",
              "      --disabled-bg-color: #DDD;\n",
              "  }\n",
              "\n",
              "  [theme=dark] .colab-df-quickchart {\n",
              "      --bg-color: #3B4455;\n",
              "      --fill-color: #D2E3FC;\n",
              "      --hover-bg-color: #434B5C;\n",
              "      --hover-fill-color: #FFFFFF;\n",
              "      --disabled-bg-color: #3B4455;\n",
              "      --disabled-fill-color: #666;\n",
              "  }\n",
              "\n",
              "  .colab-df-quickchart {\n",
              "    background-color: var(--bg-color);\n",
              "    border: none;\n",
              "    border-radius: 50%;\n",
              "    cursor: pointer;\n",
              "    display: none;\n",
              "    fill: var(--fill-color);\n",
              "    height: 32px;\n",
              "    padding: 0;\n",
              "    width: 32px;\n",
              "  }\n",
              "\n",
              "  .colab-df-quickchart:hover {\n",
              "    background-color: var(--hover-bg-color);\n",
              "    box-shadow: 0 1px 2px rgba(60, 64, 67, 0.3), 0 1px 3px 1px rgba(60, 64, 67, 0.15);\n",
              "    fill: var(--button-hover-fill-color);\n",
              "  }\n",
              "\n",
              "  .colab-df-quickchart-complete:disabled,\n",
              "  .colab-df-quickchart-complete:disabled:hover {\n",
              "    background-color: var(--disabled-bg-color);\n",
              "    fill: var(--disabled-fill-color);\n",
              "    box-shadow: none;\n",
              "  }\n",
              "\n",
              "  .colab-df-spinner {\n",
              "    border: 2px solid var(--fill-color);\n",
              "    border-color: transparent;\n",
              "    border-bottom-color: var(--fill-color);\n",
              "    animation:\n",
              "      spin 1s steps(1) infinite;\n",
              "  }\n",
              "\n",
              "  @keyframes spin {\n",
              "    0% {\n",
              "      border-color: transparent;\n",
              "      border-bottom-color: var(--fill-color);\n",
              "      border-left-color: var(--fill-color);\n",
              "    }\n",
              "    20% {\n",
              "      border-color: transparent;\n",
              "      border-left-color: var(--fill-color);\n",
              "      border-top-color: var(--fill-color);\n",
              "    }\n",
              "    30% {\n",
              "      border-color: transparent;\n",
              "      border-left-color: var(--fill-color);\n",
              "      border-top-color: var(--fill-color);\n",
              "      border-right-color: var(--fill-color);\n",
              "    }\n",
              "    40% {\n",
              "      border-color: transparent;\n",
              "      border-right-color: var(--fill-color);\n",
              "      border-top-color: var(--fill-color);\n",
              "    }\n",
              "    60% {\n",
              "      border-color: transparent;\n",
              "      border-right-color: var(--fill-color);\n",
              "    }\n",
              "    80% {\n",
              "      border-color: transparent;\n",
              "      border-right-color: var(--fill-color);\n",
              "      border-bottom-color: var(--fill-color);\n",
              "    }\n",
              "    90% {\n",
              "      border-color: transparent;\n",
              "      border-bottom-color: var(--fill-color);\n",
              "    }\n",
              "  }\n",
              "</style>\n",
              "\n",
              "  <script>\n",
              "    async function quickchart(key) {\n",
              "      const quickchartButtonEl =\n",
              "        document.querySelector('#' + key + ' button');\n",
              "      quickchartButtonEl.disabled = true;  // To prevent multiple clicks.\n",
              "      quickchartButtonEl.classList.add('colab-df-spinner');\n",
              "      try {\n",
              "        const charts = await google.colab.kernel.invokeFunction(\n",
              "            'suggestCharts', [key], {});\n",
              "      } catch (error) {\n",
              "        console.error('Error during call to suggestCharts:', error);\n",
              "      }\n",
              "      quickchartButtonEl.classList.remove('colab-df-spinner');\n",
              "      quickchartButtonEl.classList.add('colab-df-quickchart-complete');\n",
              "    }\n",
              "    (() => {\n",
              "      let quickchartButtonEl =\n",
              "        document.querySelector('#df-eb922ed9-8526-4a27-97e5-e1d51a49ae4a button');\n",
              "      quickchartButtonEl.style.display =\n",
              "        google.colab.kernel.accessAllowed ? 'block' : 'none';\n",
              "    })();\n",
              "  </script>\n",
              "</div>\n",
              "    </div>\n",
              "  </div>\n"
            ]
          },
          "metadata": {},
          "execution_count": 26
        }
      ]
    },
    {
      "cell_type": "code",
      "source": [
        "plt.figure(figsize=(12, 3))\n",
        "ax_one = plt.subplot(1, 2, 1)\n",
        "plt.plot(metrics[\"loss\"], label= \"Train set\", color='g', linewidth=2)\n",
        "plt.plot(metrics[\"val_loss\"], label= \"Validation set\", color='b', linewidth=2)\n",
        "plt.ylabel(\"Loss\", fontsize=14)\n",
        "plt.xlabel(\"Epoch\", fontsize=14)\n",
        "plt.grid(True, linestyle='--', alpha=0.7)\n",
        "plt.legend()\n",
        "plt.tight_layout()\n",
        "ax_two = plt.subplot(1, 2, 2)\n",
        "plt.plot(metrics[\"accuracy\"], label= \"Train set\", color='g', linewidth=2)\n",
        "plt.plot(metrics[\"val_accuracy\"], label= \"Validation set\", color='b', linewidth=2)\n",
        "plt.ylabel(\"Accuracy\", fontsize=14)\n",
        "plt.xlabel(\"Epoch\", fontsize=14)\n",
        "plt.grid(True, linestyle='--', alpha=0.7)\n",
        "plt.legend()\n",
        "plt.tight_layout()"
      ],
      "metadata": {
        "colab": {
          "base_uri": "https://localhost:8080/",
          "height": 535
        },
        "id": "qfjJjUSUV2EM",
        "outputId": "f724ec7c-8d50-4fb2-a448-6fa9bf27058b"
      },
      "execution_count": null,
      "outputs": [
        {
          "output_type": "error",
          "ename": "NameError",
          "evalue": "ignored",
          "traceback": [
            "\u001b[0;31m---------------------------------------------------------------------------\u001b[0m",
            "\u001b[0;31mNameError\u001b[0m                                 Traceback (most recent call last)",
            "\u001b[0;32m<ipython-input-72-b0c703aa6f50>\u001b[0m in \u001b[0;36m<cell line: 3>\u001b[0;34m()\u001b[0m\n\u001b[1;32m      1\u001b[0m \u001b[0mplt\u001b[0m\u001b[0;34m.\u001b[0m\u001b[0mfigure\u001b[0m\u001b[0;34m(\u001b[0m\u001b[0mfigsize\u001b[0m\u001b[0;34m=\u001b[0m\u001b[0;34m(\u001b[0m\u001b[0;36m12\u001b[0m\u001b[0;34m,\u001b[0m \u001b[0;36m3\u001b[0m\u001b[0;34m)\u001b[0m\u001b[0;34m)\u001b[0m\u001b[0;34m\u001b[0m\u001b[0;34m\u001b[0m\u001b[0m\n\u001b[1;32m      2\u001b[0m \u001b[0max_one\u001b[0m \u001b[0;34m=\u001b[0m \u001b[0mplt\u001b[0m\u001b[0;34m.\u001b[0m\u001b[0msubplot\u001b[0m\u001b[0;34m(\u001b[0m\u001b[0;36m1\u001b[0m\u001b[0;34m,\u001b[0m \u001b[0;36m2\u001b[0m\u001b[0;34m,\u001b[0m \u001b[0;36m1\u001b[0m\u001b[0;34m)\u001b[0m\u001b[0;34m\u001b[0m\u001b[0;34m\u001b[0m\u001b[0m\n\u001b[0;32m----> 3\u001b[0;31m \u001b[0mplt\u001b[0m\u001b[0;34m.\u001b[0m\u001b[0mplot\u001b[0m\u001b[0;34m(\u001b[0m\u001b[0mmetrics\u001b[0m\u001b[0;34m[\u001b[0m\u001b[0;34m\"loss\"\u001b[0m\u001b[0;34m]\u001b[0m\u001b[0;34m,\u001b[0m \u001b[0mlabel\u001b[0m\u001b[0;34m=\u001b[0m \u001b[0;34m\"Train set\"\u001b[0m\u001b[0;34m,\u001b[0m \u001b[0mcolor\u001b[0m\u001b[0;34m=\u001b[0m\u001b[0;34m'g'\u001b[0m\u001b[0;34m,\u001b[0m \u001b[0mlinewidth\u001b[0m\u001b[0;34m=\u001b[0m\u001b[0;36m2\u001b[0m\u001b[0;34m)\u001b[0m\u001b[0;34m\u001b[0m\u001b[0;34m\u001b[0m\u001b[0m\n\u001b[0m\u001b[1;32m      4\u001b[0m \u001b[0mplt\u001b[0m\u001b[0;34m.\u001b[0m\u001b[0mplot\u001b[0m\u001b[0;34m(\u001b[0m\u001b[0mmetrics\u001b[0m\u001b[0;34m[\u001b[0m\u001b[0;34m\"val_loss\"\u001b[0m\u001b[0;34m]\u001b[0m\u001b[0;34m,\u001b[0m \u001b[0mlabel\u001b[0m\u001b[0;34m=\u001b[0m \u001b[0;34m\"Validation set\"\u001b[0m\u001b[0;34m,\u001b[0m \u001b[0mcolor\u001b[0m\u001b[0;34m=\u001b[0m\u001b[0;34m'b'\u001b[0m\u001b[0;34m,\u001b[0m \u001b[0mlinewidth\u001b[0m\u001b[0;34m=\u001b[0m\u001b[0;36m2\u001b[0m\u001b[0;34m)\u001b[0m\u001b[0;34m\u001b[0m\u001b[0;34m\u001b[0m\u001b[0m\n\u001b[1;32m      5\u001b[0m \u001b[0mplt\u001b[0m\u001b[0;34m.\u001b[0m\u001b[0mylabel\u001b[0m\u001b[0;34m(\u001b[0m\u001b[0;34m\"Loss\"\u001b[0m\u001b[0;34m,\u001b[0m \u001b[0mfontsize\u001b[0m\u001b[0;34m=\u001b[0m\u001b[0;36m14\u001b[0m\u001b[0;34m)\u001b[0m\u001b[0;34m\u001b[0m\u001b[0;34m\u001b[0m\u001b[0m\n",
            "\u001b[0;31mNameError\u001b[0m: name 'metrics' is not defined"
          ]
        },
        {
          "output_type": "display_data",
          "data": {
            "text/plain": [
              "<Figure size 1200x300 with 1 Axes>"
            ],
            "image/png": "[encoded data removed]"
          },
          "metadata": {}
        }
      ]
    },
    {
      "cell_type": "code",
      "source": [
        "pred = model.predict(x_test)\n",
        "pred = np.argmax(pred, axis=1)"
      ],
      "metadata": {
        "colab": {
          "base_uri": "https://localhost:8080/"
        },
        "id": "1dioM26OV2HU",
        "outputId": "e2aa3de4-06e1-4e66-e1a5-1d0792d4fe47"
      },
      "execution_count": null,
      "outputs": [
        {
          "output_type": "stream",
          "name": "stdout",
          "text": [
            "313/313 [==============================] - 1s 2ms/step\n"
          ]
        }
      ]
    },
    {
      "cell_type": "code",
      "source": [
        "print(classification_report(y_test,pred))"
      ],
      "metadata": {
        "colab": {
          "base_uri": "https://localhost:8080/"
        },
        "id": "ItGa3J98V2Ke",
        "outputId": "b0c7f464-c490-402c-f03a-c690572ececc"
      },
      "execution_count": null,
      "outputs": [
        {
          "output_type": "stream",
          "name": "stdout",
          "text": [
            "              precision    recall  f1-score   support\n",
            "\n",
            "           0       0.99      0.99      0.99       980\n",
            "           1       0.99      0.99      0.99      1135\n",
            "           2       0.99      0.99      0.99      1032\n",
            "           3       0.97      1.00      0.98      1010\n",
            "           4       0.99      1.00      0.99       982\n",
            "           5       0.99      0.99      0.99       892\n",
            "           6       1.00      0.99      0.99       958\n",
            "           7       0.98      0.99      0.98      1028\n",
            "           8       1.00      0.98      0.99       974\n",
            "           9       0.99      0.98      0.99      1009\n",
            "\n",
            "    accuracy                           0.99     10000\n",
            "   macro avg       0.99      0.99      0.99     10000\n",
            "weighted avg       0.99      0.99      0.99     10000\n",
            "\n"
          ]
        }
      ]
    },
    {
      "cell_type": "code",
      "source": [
        "conf_mat = confusion_matrix(y_test,pred)\n",
        "conf_mat"
      ],
      "metadata": {
        "colab": {
          "base_uri": "https://localhost:8080/"
        },
        "id": "ILaqHVHgV2NF",
        "outputId": "e3f1339f-bb0e-4c2a-fddc-f94bbdb539f8"
      },
      "execution_count": null,
      "outputs": [
        {
          "output_type": "execute_result",
          "data": {
            "text/plain": [
              "array([[ 969,    2,    1,    0,    0,    0,    3,    3,    2,    0],\n",
              "       [   0, 1125,    2,    5,    0,    0,    0,    3,    0,    0],\n",
              "       [   0,    0, 1026,    1,    0,    0,    0,    5,    0,    0],\n",
              "       [   0,    1,    0, 1005,    0,    2,    0,    2,    0,    0],\n",
              "       [   1,    0,    1,    0,  979,    0,    0,    0,    0,    1],\n",
              "       [   0,    0,    0,    9,    0,  882,    1,    0,    0,    0],\n",
              "       [   3,    2,    1,    0,    2,    2,  946,    0,    2,    0],\n",
              "       [   0,    2,    6,    2,    1,    0,    0, 1014,    0,    3],\n",
              "       [   1,    0,    1,    6,    0,    2,    0,    2,  959,    3],\n",
              "       [   0,    0,    2,    3,    6,    4,    0,    5,    0,  989]])"
            ]
          },
          "metadata": {},
          "execution_count": 35
        }
      ]
    },
    {
      "cell_type": "code",
      "source": [
        "plt.figure(figsize=(10,6))\n",
        "sns.heatmap(conf_mat,annot=True, fmt='g')"
      ],
      "metadata": {
        "colab": {
          "base_uri": "https://localhost:8080/",
          "height": 540
        },
        "id": "f3q62iRGXIYO",
        "outputId": "da47fd50-c306-4539-fd83-8b17166314e1"
      },
      "execution_count": null,
      "outputs": [
        {
          "output_type": "execute_result",
          "data": {
            "text/plain": [
              "<Axes: >"
            ]
          },
          "metadata": {},
          "execution_count": 42
        },
        {
          "output_type": "display_data",
          "data": {
            "text/plain": [
              "<Figure size 1000x600 with 2 Axes>"
            ],
            "image/png": "[encoded data removed]"
          },
          "metadata": {}
        }
      ]
    },
    {
      "cell_type": "code",
      "source": [
        "misclf_img = [i for i, img in enumerate(y_test!=pred) if img==True]\n",
        "len(misclf_img)"
      ],
      "metadata": {
        "colab": {
          "base_uri": "https://localhost:8080/"
        },
        "id": "iaP5aMOpXT4L",
        "outputId": "43bc2176-f260-415a-d30b-24fe29b79fbf"
      },
      "execution_count": null,
      "outputs": [
        {
          "output_type": "execute_result",
          "data": {
            "text/plain": [
              "106"
            ]
          },
          "metadata": {},
          "execution_count": 44
        }
      ]
    },
    {
      "cell_type": "code",
      "source": [
        "plt.figure(figsize=(10,10))\n",
        "true_label = []\n",
        "wrong_pred = []\n",
        "for idx , num in enumerate(misclf_img[:9]):\n",
        "  ax = plt.subplot(3,3,idx+1)\n",
        "  plt.imshow(x_test[num])\n",
        "  true_label.append(y_test[num])\n",
        "  wrong_pred.append(pred[num])\n",
        "plt.show()\n",
        "print(\"\\ntrue_label\", true_label)\n",
        "print(\"wrong_pred\", wrong_pred)"
      ],
      "metadata": {
        "colab": {
          "base_uri": "https://localhost:8080/",
          "height": 887
        },
        "id": "FpljbLvWYNMT",
        "outputId": "5a98ae54-f8a6-4467-c2fd-43c6ff6aca97"
      },
      "execution_count": null,
      "outputs": [
        {
          "output_type": "display_data",
          "data": {
            "text/plain": [
              "<Figure size 1000x1000 with 9 Axes>"
            ],
            "image/png": "[encoded data removed]"
          },
          "metadata": {}
        },
        {
          "output_type": "stream",
          "name": "stdout",
          "text": [
            "\n",
            "true_label [5, 8, 6, 8, 1, 2, 5, 1, 7]\n",
            "wrong_pred [3, 3, 0, 2, 3, 7, 3, 7, 3]\n"
          ]
        }
      ]
    },
    {
      "cell_type": "markdown",
      "source": [
        "### Fashion MNISt Date Base"
      ],
      "metadata": {
        "id": "iq9IhAujy6UM"
      }
    },
    {
      "cell_type": "code",
      "source": [
        "(x_train, y_train), (x_test, y_test) = fashion_mnist.load_data()"
      ],
      "metadata": {
        "id": "nvjc_enGfATo"
      },
      "execution_count": null,
      "outputs": []
    },
    {
      "cell_type": "code",
      "source": [
        "print(\"x_train:\", x_train.shape, type(x_train))\n",
        "print(\"y_train:\", y_train.shape, type(y_train))\n",
        "print(\"x_test:\", x_test.shape, type(x_test))\n",
        "print(\"y_test:\", y_test.shape, type(y_test))"
      ],
      "metadata": {
        "colab": {
          "base_uri": "https://localhost:8080/"
        },
        "id": "IEEEWliwgT8_",
        "outputId": "fbc0949c-6ff5-4e42-9500-426801388a94"
      },
      "execution_count": null,
      "outputs": [
        {
          "output_type": "stream",
          "name": "stdout",
          "text": [
            "x_train: (60000, 28, 28) <class 'numpy.ndarray'>\n",
            "y_train: (60000,) <class 'numpy.ndarray'>\n",
            "x_test: (10000, 28, 28) <class 'numpy.ndarray'>\n",
            "y_test: (10000,) <class 'numpy.ndarray'>\n"
          ]
        }
      ]
    },
    {
      "cell_type": "code",
      "source": [
        "plt.figure(figsize=(4,4))\n",
        "plt.imshow(x_train[0], cmap=\"Greys\")\n",
        "plt.show()"
      ],
      "metadata": {
        "colab": {
          "base_uri": "https://localhost:8080/",
          "height": 368
        },
        "id": "D3HwzYWzgfn5",
        "outputId": "a15ca38b-c165-4da9-a539-f873aa41aeee"
      },
      "execution_count": null,
      "outputs": [
        {
          "output_type": "display_data",
          "data": {
            "text/plain": [
              "<Figure size 400x400 with 1 Axes>"
            ],
            "image/png": "[encoded data removed]"
          },
          "metadata": {}
        }
      ]
    },
    {
      "cell_type": "code",
      "source": [
        "Counter(y_train)"
      ],
      "metadata": {
        "colab": {
          "base_uri": "https://localhost:8080/"
        },
        "id": "5rHqCUUSgf_X",
        "outputId": "4aba7d31-f701-44b4-ef60-04fea525344d"
      },
      "execution_count": null,
      "outputs": [
        {
          "output_type": "execute_result",
          "data": {
            "text/plain": [
              "Counter({9: 6000,\n",
              "         0: 6000,\n",
              "         3: 6000,\n",
              "         2: 6000,\n",
              "         7: 6000,\n",
              "         5: 6000,\n",
              "         1: 6000,\n",
              "         6: 6000,\n",
              "         4: 6000,\n",
              "         8: 6000})"
            ]
          },
          "metadata": {},
          "execution_count": 8
        }
      ]
    },
    {
      "cell_type": "code",
      "source": [
        "plt.figure(figsize=(4,3))\n",
        "plt.hist(y_train, bins=10, width=0.5)"
      ],
      "metadata": {
        "colab": {
          "base_uri": "https://localhost:8080/",
          "height": 364
        },
        "id": "0wFkLu6HggCT",
        "outputId": "bbe1a2c3-3cbf-4b09-e3e0-6acb6a1847cb"
      },
      "execution_count": null,
      "outputs": [
        {
          "output_type": "execute_result",
          "data": {
            "text/plain": [
              "(array([6000., 6000., 6000., 6000., 6000., 6000., 6000., 6000., 6000.,\n",
              "        6000.]),\n",
              " array([0. , 0.9, 1.8, 2.7, 3.6, 4.5, 5.4, 6.3, 7.2, 8.1, 9. ]),\n",
              " <BarContainer object of 10 artists>)"
            ]
          },
          "metadata": {},
          "execution_count": 9
        },
        {
          "output_type": "display_data",
          "data": {
            "text/plain": [
              "<Figure size 400x300 with 1 Axes>"
            ],
            "image/png": "[encoded data removed]"
          },
          "metadata": {}
        }
      ]
    },
    {
      "cell_type": "code",
      "source": [
        "plt.figure(figsize=(4,3))\n",
        "plt.hist(y_test, bins=10, width=0.5)"
      ],
      "metadata": {
        "colab": {
          "base_uri": "https://localhost:8080/",
          "height": 364
        },
        "id": "mVlb5K3wggFI",
        "outputId": "da1b742e-c0eb-4e2c-f4c7-99264b94a30f"
      },
      "execution_count": null,
      "outputs": [
        {
          "output_type": "execute_result",
          "data": {
            "text/plain": [
              "(array([1000., 1000., 1000., 1000., 1000., 1000., 1000., 1000., 1000.,\n",
              "        1000.]),\n",
              " array([0. , 0.9, 1.8, 2.7, 3.6, 4.5, 5.4, 6.3, 7.2, 8.1, 9. ]),\n",
              " <BarContainer object of 10 artists>)"
            ]
          },
          "metadata": {},
          "execution_count": 10
        },
        {
          "output_type": "display_data",
          "data": {
            "text/plain": [
              "<Figure size 400x300 with 1 Axes>"
            ],
            "image/png": "[encoded data removed]"
          },
          "metadata": {}
        }
      ]
    },
    {
      "cell_type": "code",
      "source": [
        "x_train = x_train.reshape((x_train.shape[0], x_train.shape[1], x_train.shape[2], 1))\n",
        "x_train = x_train / 255.0\n",
        "x_test = x_test.reshape((x_test.shape[0], x_test.shape[1], x_test.shape[2], 1))\n",
        "x_test = x_test / 255.0"
      ],
      "metadata": {
        "id": "5djQGaqBggIO"
      },
      "execution_count": null,
      "outputs": []
    },
    {
      "cell_type": "code",
      "source": [
        "y_train_enc = to_categorical(y_train, num_classes=10)\n",
        "y_test_enc = to_categorical(y_test, num_classes=10)"
      ],
      "metadata": {
        "id": "_y2CnHX1ggK0"
      },
      "execution_count": null,
      "outputs": []
    },
    {
      "cell_type": "code",
      "source": [
        "def ConvNetBuilder():\n",
        "\n",
        "  augmentation = Sequential(\n",
        "    [\n",
        "        layers.RandomFlip(\"horizontal\"),\n",
        "        layers.RandomRotation(0.1),\n",
        "        layers.RandomZoom(0.2),\n",
        "    ], name=\"augmentation\")\n",
        "\n",
        "  inputs = layers.Input(shape=x_train.shape[1:], name=\"input_layer\")\n",
        "  feature = augmentation(inputs)\n",
        "  feature = layers.Conv2D(filters=32, kernel_size=(2,2), strides=(1, 1),\n",
        "                          padding='valid', activation=\"relu\", use_bias=True,\n",
        "                          name=\"first_convnet\")(feature)\n",
        "  feature = layers.MaxPool2D(pool_size=(2, 2), strides=None, padding='valid',\n",
        "                             name=\"first_pool\")(feature)\n",
        "  feature = layers.Conv2D(filters=64, kernel_size=(2,2), strides=(1, 1),\n",
        "                          padding='valid', activation=\"relu\", use_bias=True,\n",
        "                          name=\"second_convnet\")(feature)\n",
        "  feature = layers.AvgPool2D(pool_size=(2, 2), strides=None, padding='valid',\n",
        "                             name=\"second_pool\")(feature)\n",
        "  feature = layers.Conv2D(filters=64, kernel_size=(2,2), strides=(1, 1),\n",
        "                          padding='valid', activation=\"relu\", use_bias=True,\n",
        "                          name=\"third_convnet\")(feature)\n",
        "  feature = layers.MaxPool2D(pool_size=(2, 2), strides=None, padding='valid',\n",
        "                             name=\"third_pool\")(feature)\n",
        "  feature = layers.Flatten(name=\"flatten_layer\")(feature)\n",
        "  feature = layers.Dense(units=32, activation=\"relu\", name=\"first_dense_layer\")(feature)\n",
        "  feature = layers.Dropout(rate=0.2, name=\"first_dropout_layer\")(feature)\n",
        "  outputs = layers.Dense(units=10, activation=\"softmax\", name=\"output_layer\")(feature)\n",
        "  model = Model(inputs=inputs, outputs=outputs, name=\"ConvNet\")\n",
        "  model.compile(optimizer='rmsprop', loss='categorical_crossentropy',\n",
        "                metrics=[Precision(), AUC(), \"accuracy\"])\n",
        "  return model\n"
      ],
      "metadata": {
        "id": "ozJcWb6Nk5mk"
      },
      "execution_count": null,
      "outputs": []
    },
    {
      "cell_type": "code",
      "source": [
        "model = ConvNetBuilder()\n",
        "model.summary()"
      ],
      "metadata": {
        "colab": {
          "base_uri": "https://localhost:8080/"
        },
        "id": "LBfDODhVk5qQ",
        "outputId": "20884859-0643-4379-dc2a-c58fecb31c63"
      },
      "execution_count": null,
      "outputs": [
        {
          "output_type": "stream",
          "name": "stdout",
          "text": [
            "Model: \"ConvNet\"\n",
            "_________________________________________________________________\n",
            " Layer (type)                Output Shape              Param #   \n",
            "=================================================================\n",
            " input_layer (InputLayer)    [(None, 28, 28, 1)]       0         \n",
            "                                                                 \n",
            " augmentation (Sequential)   (None, 28, 28, 1)         0         \n",
            "                                                                 \n",
            " first_convnet (Conv2D)      (None, 27, 27, 32)        160       \n",
            "                                                                 \n",
            " first_pool (MaxPooling2D)   (None, 13, 13, 32)        0         \n",
            "                                                                 \n",
            " second_convnet (Conv2D)     (None, 12, 12, 64)        8256      \n",
            "                                                                 \n",
            " second_pool (AveragePoolin  (None, 6, 6, 64)          0         \n",
            " g2D)                                                            \n",
            "                                                                 \n",
            " third_convnet (Conv2D)      (None, 5, 5, 64)          16448     \n",
            "                                                                 \n",
            " third_pool (MaxPooling2D)   (None, 2, 2, 64)          0         \n",
            "                                                                 \n",
            " flatten_layer (Flatten)     (None, 256)               0         \n",
            "                                                                 \n",
            " first_dense_layer (Dense)   (None, 32)                8224      \n",
            "                                                                 \n",
            " first_dropout_layer (Dropo  (None, 32)                0         \n",
            " ut)                                                             \n",
            "                                                                 \n",
            " output_layer (Dense)        (None, 10)                330       \n",
            "                                                                 \n",
            "=================================================================\n",
            "Total params: 33418 (130.54 KB)\n",
            "Trainable params: 33418 (130.54 KB)\n",
            "Non-trainable params: 0 (0.00 Byte)\n",
            "_________________________________________________________________\n"
          ]
        }
      ]
    },
    {
      "cell_type": "code",
      "source": [
        "callbacks_list = [EarlyStopping(monitor='loss', patience=3)]\n",
        "monitor = model.fit(x=x_train, y=y_train_enc, validation_split=0.2,\n",
        "          epochs=10, batch_size=128, callbacks=callbacks_list)"
      ],
      "metadata": {
        "colab": {
          "base_uri": "https://localhost:8080/"
        },
        "id": "cKbaaVnmk5uP",
        "outputId": "73c4738b-a61b-4022-9c8b-366e5b39dc10"
      },
      "execution_count": null,
      "outputs": [
        {
          "output_type": "stream",
          "name": "stdout",
          "text": [
            "Epoch 1/10\n",
            "375/375 [==============================] - 7s 8ms/step - loss: 1.3042 - precision: 0.7676 - auc: 0.9038 - accuracy: 0.5105 - val_loss: 0.7989 - val_precision: 0.8427 - val_auc: 0.9642 - val_accuracy: 0.6934\n",
            "Epoch 2/10\n",
            "375/375 [==============================] - 2s 6ms/step - loss: 0.9206 - precision: 0.8103 - auc: 0.9521 - accuracy: 0.6558 - val_loss: 0.8296 - val_precision: 0.7903 - val_auc: 0.9599 - val_accuracy: 0.6882\n",
            "Epoch 3/10\n",
            "375/375 [==============================] - 3s 8ms/step - loss: 0.8325 - precision: 0.8207 - auc: 0.9605 - accuracy: 0.6839 - val_loss: 0.7534 - val_precision: 0.8020 - val_auc: 0.9668 - val_accuracy: 0.7060\n",
            "Epoch 4/10\n",
            "375/375 [==============================] - 3s 8ms/step - loss: 0.7838 - precision: 0.8287 - auc: 0.9648 - accuracy: 0.7037 - val_loss: 0.8039 - val_precision: 0.7777 - val_auc: 0.9621 - val_accuracy: 0.7104\n",
            "Epoch 5/10\n",
            "375/375 [==============================] - 2s 7ms/step - loss: 0.7434 - precision: 0.8301 - auc: 0.9681 - accuracy: 0.7192 - val_loss: 0.7326 - val_precision: 0.8061 - val_auc: 0.9683 - val_accuracy: 0.7321\n",
            "Epoch 6/10\n",
            "375/375 [==============================] - 3s 7ms/step - loss: 0.7192 - precision: 0.8294 - auc: 0.9701 - accuracy: 0.7293 - val_loss: 0.6618 - val_precision: 0.8204 - val_auc: 0.9736 - val_accuracy: 0.7595\n",
            "Epoch 7/10\n",
            "375/375 [==============================] - 2s 6ms/step - loss: 0.6903 - precision: 0.8324 - auc: 0.9723 - accuracy: 0.7413 - val_loss: 0.6738 - val_precision: 0.8051 - val_auc: 0.9732 - val_accuracy: 0.7436\n",
            "Epoch 8/10\n",
            "375/375 [==============================] - 3s 8ms/step - loss: 0.6683 - precision: 0.8370 - auc: 0.9740 - accuracy: 0.7493 - val_loss: 0.6353 - val_precision: 0.8200 - val_auc: 0.9757 - val_accuracy: 0.7634\n",
            "Epoch 9/10\n",
            "375/375 [==============================] - 3s 8ms/step - loss: 0.6508 - precision: 0.8394 - auc: 0.9751 - accuracy: 0.7573 - val_loss: 0.6421 - val_precision: 0.8119 - val_auc: 0.9753 - val_accuracy: 0.7622\n",
            "Epoch 10/10\n",
            "375/375 [==============================] - 2s 6ms/step - loss: 0.6335 - precision: 0.8424 - auc: 0.9763 - accuracy: 0.7656 - val_loss: 0.6292 - val_precision: 0.8131 - val_auc: 0.9759 - val_accuracy: 0.7673\n"
          ]
        }
      ]
    },
    {
      "cell_type": "code",
      "source": [
        "metrics = pd.DataFrame(monitor.history)\n",
        "metrics"
      ],
      "metadata": {
        "colab": {
          "base_uri": "https://localhost:8080/",
          "height": 363
        },
        "id": "2y4Mc3zvMrpl",
        "outputId": "72952686-2183-42d9-cbba-c357793badf6"
      },
      "execution_count": null,
      "outputs": [
        {
          "output_type": "execute_result",
          "data": {
            "text/plain": [
              "       loss  precision       auc  accuracy  val_loss  val_precision   val_auc  \\\n",
              "0  1.304161   0.767610  0.903841  0.510479  0.798930       0.842742  0.964238   \n",
              "1  0.920594   0.810345  0.952079  0.655771  0.829570       0.790346  0.959921   \n",
              "2  0.832457   0.820730  0.960512  0.683917  0.753403       0.801986  0.966826   \n",
              "3  0.783841   0.828729  0.964778  0.703729  0.803925       0.777721  0.962147   \n",
              "4  0.743432   0.830103  0.968147  0.719208  0.732556       0.806118  0.968326   \n",
              "5  0.719202   0.829355  0.970052  0.729333  0.661849       0.820413  0.973642   \n",
              "6  0.690347   0.832376  0.972288  0.741292  0.673798       0.805060  0.973242   \n",
              "7  0.668254   0.836967  0.973967  0.749292  0.635318       0.819973  0.975733   \n",
              "8  0.650810   0.839386  0.975133  0.757292  0.642051       0.811851  0.975320   \n",
              "9  0.633506   0.842438  0.976328  0.765646  0.629214       0.813123  0.975862   \n",
              "\n",
              "   val_accuracy  \n",
              "0      0.693417  \n",
              "1      0.688167  \n",
              "2      0.706000  \n",
              "3      0.710417  \n",
              "4      0.732083  \n",
              "5      0.759500  \n",
              "6      0.743583  \n",
              "7      0.763417  \n",
              "8      0.762167  \n",
              "9      0.767250  "
            ],
            "text/html": [
              "\n",
              "  <div id=\"df-9c8b28fe-4bc2-4837-9d67-77bf8677c07e\" class=\"colab-df-container\">\n",
              "    <div>\n",
              "<style scoped>\n",
              "    .dataframe tbody tr th:only-of-type {\n",
              "        vertical-align: middle;\n",
              "    }\n",
              "\n",
              "    .dataframe tbody tr th {\n",
              "        vertical-align: top;\n",
              "    }\n",
              "\n",
              "    .dataframe thead th {\n",
              "        text-align: right;\n",
              "    }\n",
              "</style>\n",
              "<table border=\"1\" class=\"dataframe\">\n",
              "  <thead>\n",
              "    <tr style=\"text-align: right;\">\n",
              "      <th></th>\n",
              "      <th>loss</th>\n",
              "      <th>precision</th>\n",
              "      <th>auc</th>\n",
              "      <th>accuracy</th>\n",
              "      <th>val_loss</th>\n",
              "      <th>val_precision</th>\n",
              "      <th>val_auc</th>\n",
              "      <th>val_accuracy</th>\n",
              "    </tr>\n",
              "  </thead>\n",
              "  <tbody>\n",
              "    <tr>\n",
              "      <th>0</th>\n",
              "      <td>1.304161</td>\n",
              "      <td>0.767610</td>\n",
              "      <td>0.903841</td>\n",
              "      <td>0.510479</td>\n",
              "      <td>0.798930</td>\n",
              "      <td>0.842742</td>\n",
              "      <td>0.964238</td>\n",
              "      <td>0.693417</td>\n",
              "    </tr>\n",
              "    <tr>\n",
              "      <th>1</th>\n",
              "      <td>0.920594</td>\n",
              "      <td>0.810345</td>\n",
              "      <td>0.952079</td>\n",
              "      <td>0.655771</td>\n",
              "      <td>0.829570</td>\n",
              "      <td>0.790346</td>\n",
              "      <td>0.959921</td>\n",
              "      <td>0.688167</td>\n",
              "    </tr>\n",
              "    <tr>\n",
              "      <th>2</th>\n",
              "      <td>0.832457</td>\n",
              "      <td>0.820730</td>\n",
              "      <td>0.960512</td>\n",
              "      <td>0.683917</td>\n",
              "      <td>0.753403</td>\n",
              "      <td>0.801986</td>\n",
              "      <td>0.966826</td>\n",
              "      <td>0.706000</td>\n",
              "    </tr>\n",
              "    <tr>\n",
              "      <th>3</th>\n",
              "      <td>0.783841</td>\n",
              "      <td>0.828729</td>\n",
              "      <td>0.964778</td>\n",
              "      <td>0.703729</td>\n",
              "      <td>0.803925</td>\n",
              "      <td>0.777721</td>\n",
              "      <td>0.962147</td>\n",
              "      <td>0.710417</td>\n",
              "    </tr>\n",
              "    <tr>\n",
              "      <th>4</th>\n",
              "      <td>0.743432</td>\n",
              "      <td>0.830103</td>\n",
              "      <td>0.968147</td>\n",
              "      <td>0.719208</td>\n",
              "      <td>0.732556</td>\n",
              "      <td>0.806118</td>\n",
              "      <td>0.968326</td>\n",
              "      <td>0.732083</td>\n",
              "    </tr>\n",
              "    <tr>\n",
              "      <th>5</th>\n",
              "      <td>0.719202</td>\n",
              "      <td>0.829355</td>\n",
              "      <td>0.970052</td>\n",
              "      <td>0.729333</td>\n",
              "      <td>0.661849</td>\n",
              "      <td>0.820413</td>\n",
              "      <td>0.973642</td>\n",
              "      <td>0.759500</td>\n",
              "    </tr>\n",
              "    <tr>\n",
              "      <th>6</th>\n",
              "      <td>0.690347</td>\n",
              "      <td>0.832376</td>\n",
              "      <td>0.972288</td>\n",
              "      <td>0.741292</td>\n",
              "      <td>0.673798</td>\n",
              "      <td>0.805060</td>\n",
              "      <td>0.973242</td>\n",
              "      <td>0.743583</td>\n",
              "    </tr>\n",
              "    <tr>\n",
              "      <th>7</th>\n",
              "      <td>0.668254</td>\n",
              "      <td>0.836967</td>\n",
              "      <td>0.973967</td>\n",
              "      <td>0.749292</td>\n",
              "      <td>0.635318</td>\n",
              "      <td>0.819973</td>\n",
              "      <td>0.975733</td>\n",
              "      <td>0.763417</td>\n",
              "    </tr>\n",
              "    <tr>\n",
              "      <th>8</th>\n",
              "      <td>0.650810</td>\n",
              "      <td>0.839386</td>\n",
              "      <td>0.975133</td>\n",
              "      <td>0.757292</td>\n",
              "      <td>0.642051</td>\n",
              "      <td>0.811851</td>\n",
              "      <td>0.975320</td>\n",
              "      <td>0.762167</td>\n",
              "    </tr>\n",
              "    <tr>\n",
              "      <th>9</th>\n",
              "      <td>0.633506</td>\n",
              "      <td>0.842438</td>\n",
              "      <td>0.976328</td>\n",
              "      <td>0.765646</td>\n",
              "      <td>0.629214</td>\n",
              "      <td>0.813123</td>\n",
              "      <td>0.975862</td>\n",
              "      <td>0.767250</td>\n",
              "    </tr>\n",
              "  </tbody>\n",
              "</table>\n",
              "</div>\n",
              "    <div class=\"colab-df-buttons\">\n",
              "\n",
              "  <div class=\"colab-df-container\">\n",
              "    <button class=\"colab-df-convert\" onclick=\"convertToInteractive('df-9c8b28fe-4bc2-4837-9d67-77bf8677c07e')\"\n",
              "            title=\"Convert this dataframe to an interactive table.\"\n",
              "            style=\"display:none;\">\n",
              "\n",
              "  <svg xmlns=\"http://www.w3.org/2000/svg\" height=\"24px\" viewBox=\"0 -960 960 960\">\n",
              "    <path d=\"M120-120v-720h720v720H120Zm60-500h600v-160H180v160Zm220 220h160v-160H400v160Zm0 220h160v-160H400v160ZM180-400h160v-160H180v160Zm440 0h160v-160H620v160ZM180-180h160v-160H180v160Zm440 0h160v-160H620v160Z\"/>\n",
              "  </svg>\n",
              "    </button>\n",
              "\n",
              "  <style>\n",
              "    .colab-df-container {\n",
              "      display:flex;\n",
              "      gap: 12px;\n",
              "    }\n",
              "\n",
              "    .colab-df-convert {\n",
              "      background-color: #E8F0FE;\n",
              "      border: none;\n",
              "      border-radius: 50%;\n",
              "      cursor: pointer;\n",
              "      display: none;\n",
              "      fill: #1967D2;\n",
              "      height: 32px;\n",
              "      padding: 0 0 0 0;\n",
              "      width: 32px;\n",
              "    }\n",
              "\n",
              "    .colab-df-convert:hover {\n",
              "      background-color: #E2EBFA;\n",
              "      box-shadow: 0px 1px 2px rgba(60, 64, 67, 0.3), 0px 1px 3px 1px rgba(60, 64, 67, 0.15);\n",
              "      fill: #174EA6;\n",
              "    }\n",
              "\n",
              "    .colab-df-buttons div {\n",
              "      margin-bottom: 4px;\n",
              "    }\n",
              "\n",
              "    [theme=dark] .colab-df-convert {\n",
              "      background-color: #3B4455;\n",
              "      fill: #D2E3FC;\n",
              "    }\n",
              "\n",
              "    [theme=dark] .colab-df-convert:hover {\n",
              "      background-color: #434B5C;\n",
              "      box-shadow: 0px 1px 3px 1px rgba(0, 0, 0, 0.15);\n",
              "      filter: drop-shadow(0px 1px 2px rgba(0, 0, 0, 0.3));\n",
              "      fill: #FFFFFF;\n",
              "    }\n",
              "  </style>\n",
              "\n",
              "    <script>\n",
              "      const buttonEl =\n",
              "        document.querySelector('#df-9c8b28fe-4bc2-4837-9d67-77bf8677c07e button.colab-df-convert');\n",
              "      buttonEl.style.display =\n",
              "        google.colab.kernel.accessAllowed ? 'block' : 'none';\n",
              "\n",
              "      async function convertToInteractive(key) {\n",
              "        const element = document.querySelector('#df-9c8b28fe-4bc2-4837-9d67-77bf8677c07e');\n",
              "        const dataTable =\n",
              "          await google.colab.kernel.invokeFunction('convertToInteractive',\n",
              "                                                    [key], {});\n",
              "        if (!dataTable) return;\n",
              "\n",
              "        const docLinkHtml = 'Like what you see? Visit the ' +\n",
              "          '<a target=\"_blank\" href=https://colab.research.google.com/notebooks/data_table.ipynb>data table notebook</a>'\n",
              "          + ' to learn more about interactive tables.';\n",
              "        element.innerHTML = '';\n",
              "        dataTable['output_type'] = 'display_data';\n",
              "        await google.colab.output.renderOutput(dataTable, element);\n",
              "        const docLink = document.createElement('div');\n",
              "        docLink.innerHTML = docLinkHtml;\n",
              "        element.appendChild(docLink);\n",
              "      }\n",
              "    </script>\n",
              "  </div>\n",
              "\n",
              "\n",
              "<div id=\"df-446bde42-b69e-4800-9b82-15f17b2f7e14\">\n",
              "  <button class=\"colab-df-quickchart\" onclick=\"quickchart('df-446bde42-b69e-4800-9b82-15f17b2f7e14')\"\n",
              "            title=\"Suggest charts.\"\n",
              "            style=\"display:none;\">\n",
              "\n",
              "<svg xmlns=\"http://www.w3.org/2000/svg\" height=\"24px\"viewBox=\"0 0 24 24\"\n",
              "     width=\"24px\">\n",
              "    <g>\n",
              "        <path d=\"M19 3H5c-1.1 0-2 .9-2 2v14c0 1.1.9 2 2 2h14c1.1 0 2-.9 2-2V5c0-1.1-.9-2-2-2zM9 17H7v-7h2v7zm4 0h-2V7h2v10zm4 0h-2v-4h2v4z\"/>\n",
              "    </g>\n",
              "</svg>\n",
              "  </button>\n",
              "\n",
              "<style>\n",
              "  .colab-df-quickchart {\n",
              "      --bg-color: #E8F0FE;\n",
              "      --fill-color: #1967D2;\n",
              "      --hover-bg-color: #E2EBFA;\n",
              "      --hover-fill-color: #174EA6;\n",
              "      --disabled-fill-color: #AAA;\n",
              "      --disabled-bg-color: #DDD;\n",
              "  }\n",
              "\n",
              "  [theme=dark] .colab-df-quickchart {\n",
              "      --bg-color: #3B4455;\n",
              "      --fill-color: #D2E3FC;\n",
              "      --hover-bg-color: #434B5C;\n",
              "      --hover-fill-color: #FFFFFF;\n",
              "      --disabled-bg-color: #3B4455;\n",
              "      --disabled-fill-color: #666;\n",
              "  }\n",
              "\n",
              "  .colab-df-quickchart {\n",
              "    background-color: var(--bg-color);\n",
              "    border: none;\n",
              "    border-radius: 50%;\n",
              "    cursor: pointer;\n",
              "    display: none;\n",
              "    fill: var(--fill-color);\n",
              "    height: 32px;\n",
              "    padding: 0;\n",
              "    width: 32px;\n",
              "  }\n",
              "\n",
              "  .colab-df-quickchart:hover {\n",
              "    background-color: var(--hover-bg-color);\n",
              "    box-shadow: 0 1px 2px rgba(60, 64, 67, 0.3), 0 1px 3px 1px rgba(60, 64, 67, 0.15);\n",
              "    fill: var(--button-hover-fill-color);\n",
              "  }\n",
              "\n",
              "  .colab-df-quickchart-complete:disabled,\n",
              "  .colab-df-quickchart-complete:disabled:hover {\n",
              "    background-color: var(--disabled-bg-color);\n",
              "    fill: var(--disabled-fill-color);\n",
              "    box-shadow: none;\n",
              "  }\n",
              "\n",
              "  .colab-df-spinner {\n",
              "    border: 2px solid var(--fill-color);\n",
              "    border-color: transparent;\n",
              "    border-bottom-color: var(--fill-color);\n",
              "    animation:\n",
              "      spin 1s steps(1) infinite;\n",
              "  }\n",
              "\n",
              "  @keyframes spin {\n",
              "    0% {\n",
              "      border-color: transparent;\n",
              "      border-bottom-color: var(--fill-color);\n",
              "      border-left-color: var(--fill-color);\n",
              "    }\n",
              "    20% {\n",
              "      border-color: transparent;\n",
              "      border-left-color: var(--fill-color);\n",
              "      border-top-color: var(--fill-color);\n",
              "    }\n",
              "    30% {\n",
              "      border-color: transparent;\n",
              "      border-left-color: var(--fill-color);\n",
              "      border-top-color: var(--fill-color);\n",
              "      border-right-color: var(--fill-color);\n",
              "    }\n",
              "    40% {\n",
              "      border-color: transparent;\n",
              "      border-right-color: var(--fill-color);\n",
              "      border-top-color: var(--fill-color);\n",
              "    }\n",
              "    60% {\n",
              "      border-color: transparent;\n",
              "      border-right-color: var(--fill-color);\n",
              "    }\n",
              "    80% {\n",
              "      border-color: transparent;\n",
              "      border-right-color: var(--fill-color);\n",
              "      border-bottom-color: var(--fill-color);\n",
              "    }\n",
              "    90% {\n",
              "      border-color: transparent;\n",
              "      border-bottom-color: var(--fill-color);\n",
              "    }\n",
              "  }\n",
              "</style>\n",
              "\n",
              "  <script>\n",
              "    async function quickchart(key) {\n",
              "      const quickchartButtonEl =\n",
              "        document.querySelector('#' + key + ' button');\n",
              "      quickchartButtonEl.disabled = true;  // To prevent multiple clicks.\n",
              "      quickchartButtonEl.classList.add('colab-df-spinner');\n",
              "      try {\n",
              "        const charts = await google.colab.kernel.invokeFunction(\n",
              "            'suggestCharts', [key], {});\n",
              "      } catch (error) {\n",
              "        console.error('Error during call to suggestCharts:', error);\n",
              "      }\n",
              "      quickchartButtonEl.classList.remove('colab-df-spinner');\n",
              "      quickchartButtonEl.classList.add('colab-df-quickchart-complete');\n",
              "    }\n",
              "    (() => {\n",
              "      let quickchartButtonEl =\n",
              "        document.querySelector('#df-446bde42-b69e-4800-9b82-15f17b2f7e14 button');\n",
              "      quickchartButtonEl.style.display =\n",
              "        google.colab.kernel.accessAllowed ? 'block' : 'none';\n",
              "    })();\n",
              "  </script>\n",
              "</div>\n",
              "    </div>\n",
              "  </div>\n"
            ]
          },
          "metadata": {},
          "execution_count": 16
        }
      ]
    },
    {
      "cell_type": "code",
      "source": [
        "plt.figure(figsize=(12, 6))\n",
        "plt.subplot(2, 2, 1)\n",
        "plt.plot(metrics[\"loss\"], label= \"Train set\", color='g', linewidth=2)\n",
        "plt.plot(metrics[\"val_loss\"], label= \"Validation set\", color='b', linewidth=2)\n",
        "plt.ylabel(\"Loss\", fontsize=14)\n",
        "plt.xlabel(\"Epoch\", fontsize=14)\n",
        "plt.grid(True, linestyle='--', alpha=0.7)\n",
        "plt.legend()\n",
        "plt.tight_layout()\n",
        "plt.subplot(2, 2, 2)\n",
        "plt.plot(metrics[\"accuracy\"], label= \"Train set\", color='g', linewidth=2)\n",
        "plt.plot(metrics[\"val_accuracy\"], label= \"Validation set\", color='b', linewidth=2)\n",
        "plt.ylabel(\"Accuracy\", fontsize=14)\n",
        "plt.xlabel(\"Epoch\", fontsize=14)\n",
        "plt.grid(True, linestyle='--', alpha=0.7)\n",
        "plt.legend()\n",
        "plt.tight_layout()\n",
        "plt.subplot(2, 2, 3)\n",
        "plt.plot(metrics[\"precision\"], label= \"Train set\", color='g', linewidth=2)\n",
        "plt.plot(metrics[\"val_precision\"], label= \"Validation set\", color='b', linewidth=2)\n",
        "plt.ylabel(\"Precision\", fontsize=14)\n",
        "plt.xlabel(\"Epoch\", fontsize=14)\n",
        "plt.grid(True, linestyle='--', alpha=0.7)\n",
        "plt.legend()\n",
        "plt.tight_layout()\n",
        "plt.subplot(2, 2, 4)\n",
        "plt.plot(metrics[\"auc\"], label= \"Train set\", color='g', linewidth=2)\n",
        "plt.plot(metrics[\"val_auc\"], label= \"Validation set\", color='b', linewidth=2)\n",
        "plt.ylabel(\"AUC\", fontsize=14)\n",
        "plt.xlabel(\"Epoch\", fontsize=14)\n",
        "plt.grid(True, linestyle='--', alpha=0.7)\n",
        "plt.legend()\n",
        "plt.tight_layout()"
      ],
      "metadata": {
        "colab": {
          "base_uri": "https://localhost:8080/",
          "height": 569
        },
        "id": "i1ZIfV3Jk5x5",
        "outputId": "63096b09-094e-4b71-f820-eb5633b9144f"
      },
      "execution_count": null,
      "outputs": [
        {
          "output_type": "display_data",
          "data": {
            "text/plain": [
              "<Figure size 1200x600 with 4 Axes>"
            ],
            "image/png": "[encoded data removed]"
          },
          "metadata": {}
        }
      ]
    },
    {
      "cell_type": "code",
      "source": [
        "pred = np.argmax(model.predict(x_test), axis=1)\n",
        "print(classification_report(y_test, pred))\n",
        "confusion_matrix(y_test, pred)"
      ],
      "metadata": {
        "colab": {
          "base_uri": "https://localhost:8080/"
        },
        "id": "CHkhBtSwk50-",
        "outputId": "a5bda3f8-4065-4fe5-8114-dde79a15ef42"
      },
      "execution_count": null,
      "outputs": [
        {
          "output_type": "stream",
          "name": "stdout",
          "text": [
            "313/313 [==============================] - 1s 3ms/step\n",
            "              precision    recall  f1-score   support\n",
            "\n",
            "           0       0.78      0.74      0.76      1000\n",
            "           1       0.97      0.95      0.96      1000\n",
            "           2       0.70      0.73      0.71      1000\n",
            "           3       0.82      0.75      0.79      1000\n",
            "           4       0.65      0.56      0.60      1000\n",
            "           5       0.73      0.96      0.83      1000\n",
            "           6       0.45      0.56      0.50      1000\n",
            "           7       0.92      0.64      0.76      1000\n",
            "           8       0.91      0.94      0.92      1000\n",
            "           9       0.93      0.91      0.92      1000\n",
            "\n",
            "    accuracy                           0.77     10000\n",
            "   macro avg       0.79      0.77      0.77     10000\n",
            "weighted avg       0.79      0.77      0.77     10000\n",
            "\n"
          ]
        },
        {
          "output_type": "execute_result",
          "data": {
            "text/plain": [
              "array([[738,   1,  47,  57,  18,   4, 110,   0,  25,   0],\n",
              "       [  3, 951,   1,  23,  14,   0,   5,   0,   3,   0],\n",
              "       [ 12,   1, 728,   6, 100,   0, 148,   0,   5,   0],\n",
              "       [ 48,  20,  40, 752,  48,   8,  71,   1,  12,   0],\n",
              "       [  2,   2,  82,  29, 558,   1, 315,   0,  11,   0],\n",
              "       [  0,   0,   0,   6,   1, 964,   0,  12,  11,   6],\n",
              "       [137,   1, 137,  38, 106,   0, 556,   0,  25,   0],\n",
              "       [  0,   0,   0,   0,   0, 292,   0, 641,   1,  66],\n",
              "       [  2,   0,  11,   1,  10,   5,  27,   5, 938,   1],\n",
              "       [  0,   0,   0,   3,   1,  52,   1,  37,   1, 905]])"
            ]
          },
          "metadata": {},
          "execution_count": 23
        }
      ]
    },
    {
      "cell_type": "markdown",
      "source": [
        "### Transfer Learning"
      ],
      "metadata": {
        "id": "2XUQma0Ay7V7"
      }
    },
    {
      "cell_type": "markdown",
      "source": [
        "#### Base Model"
      ],
      "metadata": {
        "id": "tkqdYIZvsGmL"
      }
    },
    {
      "cell_type": "code",
      "source": [
        "os.getcwd()"
      ],
      "metadata": {
        "colab": {
          "base_uri": "https://localhost:8080/",
          "height": 36
        },
        "id": "JnXZEe44nwFh",
        "outputId": "c7245c13-14e7-4d80-fdeb-6ae5ec531c38"
      },
      "execution_count": null,
      "outputs": [
        {
          "output_type": "execute_result",
          "data": {
            "text/plain": [
              "'/content'"
            ],
            "application/vnd.google.colaboratory.intrinsic+json": {
              "type": "string"
            }
          },
          "metadata": {},
          "execution_count": 5
        }
      ]
    },
    {
      "cell_type": "code",
      "source": [
        "working_dir = \"/content/drive/MyDrive/DataSets/dogs-vs-cats\"\n",
        "os.listdir(working_dir)"
      ],
      "metadata": {
        "colab": {
          "base_uri": "https://localhost:8080/"
        },
        "id": "itFfppsfnwIy",
        "outputId": "657c3adc-ece9-423b-db94-38dfe5e87c6a"
      },
      "execution_count": null,
      "outputs": [
        {
          "output_type": "execute_result",
          "data": {
            "text/plain": [
              "['train', 'valid', 'test']"
            ]
          },
          "metadata": {},
          "execution_count": 6
        }
      ]
    },
    {
      "cell_type": "code",
      "source": [
        "os.chdir(working_dir)\n",
        "assert os.getcwd() == working_dir"
      ],
      "metadata": {
        "id": "Nu34pzoUnwMW"
      },
      "execution_count": null,
      "outputs": []
    },
    {
      "cell_type": "code",
      "source": [
        "train_dataset = image_dataset_from_directory(directory=\"train\", labels='inferred', label_mode='int',\n",
        "                                             color_mode='rgb', batch_size=32, image_size=(180, 180), shuffle=True)\n",
        "validation_dataset = image_dataset_from_directory(directory=\"valid\", labels='inferred', label_mode='int',\n",
        "                                             color_mode='rgb', batch_size=32, image_size=(180, 180), shuffle=True)\n",
        "test_dataset = image_dataset_from_directory(directory=\"test\", labels='inferred', label_mode='int',\n",
        "                                             color_mode='rgb', batch_size=32, image_size=(180, 180), shuffle=True)"
      ],
      "metadata": {
        "colab": {
          "base_uri": "https://localhost:8080/"
        },
        "id": "qMJ-Nh2fnwPg",
        "outputId": "b13b4a5b-ed2a-48b5-89d6-799c344df709"
      },
      "execution_count": null,
      "outputs": [
        {
          "output_type": "stream",
          "name": "stdout",
          "text": [
            "Found 996 files belonging to 2 classes.\n",
            "Found 200 files belonging to 2 classes.\n",
            "Found 200 files belonging to 2 classes.\n"
          ]
        }
      ]
    },
    {
      "cell_type": "code",
      "source": [
        "for data_batch, labels_batch in train_dataset:\n",
        "  print(\"data batch:\", data_batch.shape, type(data_batch))\n",
        "  print(\"labels batch:\", labels_batch.shape, type(labels_batch))\n",
        "  break"
      ],
      "metadata": {
        "colab": {
          "base_uri": "https://localhost:8080/"
        },
        "id": "Fq8pxd1hnwTL",
        "outputId": "bdce01fe-488e-4abc-b9bc-98eabb280561"
      },
      "execution_count": null,
      "outputs": [
        {
          "output_type": "stream",
          "name": "stdout",
          "text": [
            "data batch: (32, 180, 180, 3) <class 'tensorflow.python.framework.ops.EagerTensor'>\n",
            "labels batch: (32,) <class 'tensorflow.python.framework.ops.EagerTensor'>\n"
          ]
        }
      ]
    },
    {
      "cell_type": "code",
      "source": [
        "labels_batch"
      ],
      "metadata": {
        "colab": {
          "base_uri": "https://localhost:8080/"
        },
        "id": "uBtINHsfnwWR",
        "outputId": "0b38e41c-0eaf-40f1-ca50-1dc087999e35"
      },
      "execution_count": null,
      "outputs": [
        {
          "output_type": "execute_result",
          "data": {
            "text/plain": [
              "<tf.Tensor: shape=(32,), dtype=int32, numpy=\n",
              "array([0, 0, 1, 0, 1, 0, 0, 1, 0, 1, 0, 0, 1, 1, 0, 0, 1, 1, 1, 1, 0, 0,\n",
              "       0, 1, 0, 0, 0, 1, 0, 0, 0, 0], dtype=int32)>"
            ]
          },
          "metadata": {},
          "execution_count": 10
        }
      ]
    },
    {
      "cell_type": "code",
      "source": [
        "def CNN_Builder():\n",
        "  augmentation = Sequential(\n",
        "    [\n",
        "        layers.RandomFlip(\"horizontal\"),\n",
        "        layers.RandomRotation(0.1),\n",
        "        layers.RandomZoom(0.2),\n",
        "    ], name=\"augmentation\")\n",
        "  inputs = layers.Input(shape=(180, 180, 3), name=\"input_layer\")\n",
        "  feature = augmentation(inputs)\n",
        "  feature = layers.Rescaling(1./255, name=\"rescale\")(feature)\n",
        "  feature = layers.Conv2D(filters=32, kernel_size=(2,2), strides=(1, 1),\n",
        "                          padding='valid', activation=\"relu\", use_bias=True,\n",
        "                          name=\"first_convnet\")(feature)\n",
        "  feature = layers.MaxPool2D(pool_size=(2, 2), strides=None, padding='valid',\n",
        "                             name=\"first_pool\")(feature)\n",
        "  feature = layers.Conv2D(filters=64, kernel_size=(2,2), strides=(1, 1),\n",
        "                          padding='valid', activation=\"relu\", use_bias=True,\n",
        "                          name=\"second_convnet\")(feature)\n",
        "  feature = layers.AvgPool2D(pool_size=(2, 2), strides=None, padding='valid',\n",
        "                             name=\"second_pool\")(feature)\n",
        "  feature = layers.Conv2D(filters=64, kernel_size=(2,2), strides=(1, 1),\n",
        "                          padding='valid', activation=\"relu\", use_bias=True,\n",
        "                          name=\"third_convnet\")(feature)\n",
        "  feature = layers.MaxPool2D(pool_size=(2, 2), strides=None, padding='valid',\n",
        "                             name=\"third_pool\")(feature)\n",
        "  feature = layers.Flatten(name=\"flatten_layer\")(feature)\n",
        "  feature = layers.Dense(units=32, activation=\"relu\", name=\"first_dense_layer\")(feature)\n",
        "  feature = layers.Dropout(rate=0.2, name=\"first_dropout_layer\")(feature)\n",
        "  outputs = layers.Dense(units=1, activation=\"sigmoid\", name=\"output_layer\")(feature)\n",
        "  model = Model(inputs=inputs, outputs=outputs, name=\"ConvNet\")\n",
        "  model.compile(optimizer='rmsprop', loss='binary_crossentropy',\n",
        "                metrics=[\"accuracy\"])\n",
        "  return model"
      ],
      "metadata": {
        "id": "dBP1rwJonwZ7"
      },
      "execution_count": null,
      "outputs": []
    },
    {
      "cell_type": "code",
      "source": [
        "model = CNN_Builder()\n",
        "model.summary()"
      ],
      "metadata": {
        "colab": {
          "base_uri": "https://localhost:8080/"
        },
        "id": "tNgoMX2Dnwdj",
        "outputId": "87a85e8d-19ff-44bf-aaf4-9e0aaeb94a57"
      },
      "execution_count": null,
      "outputs": [
        {
          "output_type": "stream",
          "name": "stdout",
          "text": [
            "Model: \"ConvNet\"\n",
            "_________________________________________________________________\n",
            " Layer (type)                Output Shape              Param #   \n",
            "=================================================================\n",
            " input_layer (InputLayer)    [(None, 180, 180, 3)]     0         \n",
            "                                                                 \n",
            " augmentation (Sequential)   (None, 180, 180, 3)       0         \n",
            "                                                                 \n",
            " rescale (Rescaling)         (None, 180, 180, 3)       0         \n",
            "                                                                 \n",
            " first_convnet (Conv2D)      (None, 179, 179, 32)      416       \n",
            "                                                                 \n",
            " first_pool (MaxPooling2D)   (None, 89, 89, 32)        0         \n",
            "                                                                 \n",
            " second_convnet (Conv2D)     (None, 88, 88, 64)        8256      \n",
            "                                                                 \n",
            " second_pool (AveragePoolin  (None, 44, 44, 64)        0         \n",
            " g2D)                                                            \n",
            "                                                                 \n",
            " third_convnet (Conv2D)      (None, 43, 43, 64)        16448     \n",
            "                                                                 \n",
            " third_pool (MaxPooling2D)   (None, 21, 21, 64)        0         \n",
            "                                                                 \n",
            " flatten_layer (Flatten)     (None, 28224)             0         \n",
            "                                                                 \n",
            " first_dense_layer (Dense)   (None, 32)                903200    \n",
            "                                                                 \n",
            " first_dropout_layer (Dropo  (None, 32)                0         \n",
            " ut)                                                             \n",
            "                                                                 \n",
            " output_layer (Dense)        (None, 1)                 33        \n",
            "                                                                 \n",
            "=================================================================\n",
            "Total params: 928353 (3.54 MB)\n",
            "Trainable params: 928353 (3.54 MB)\n",
            "Non-trainable params: 0 (0.00 Byte)\n",
            "_________________________________________________________________\n"
          ]
        }
      ]
    },
    {
      "cell_type": "code",
      "source": [
        "callbacks_list = [EarlyStopping(monitor='loss', patience=3)]\n",
        "monitor = model.fit(train_dataset, validation_data=validation_dataset,\n",
        "                    epochs=100, callbacks=callbacks_list)"
      ],
      "metadata": {
        "colab": {
          "base_uri": "https://localhost:8080/"
        },
        "id": "VWZvlRKy0XEU",
        "outputId": "40875393-8444-4dcc-9ad3-b1a07013fed2"
      },
      "execution_count": null,
      "outputs": [
        {
          "output_type": "stream",
          "name": "stdout",
          "text": [
            "Epoch 1/100\n",
            "32/32 [==============================] - 9s 160ms/step - loss: 0.7767 - accuracy: 0.4980 - val_loss: 0.6932 - val_accuracy: 0.5000\n",
            "Epoch 2/100\n",
            "32/32 [==============================] - 5s 130ms/step - loss: 0.6922 - accuracy: 0.5221 - val_loss: 0.7716 - val_accuracy: 0.5000\n",
            "Epoch 3/100\n",
            "32/32 [==============================] - 5s 112ms/step - loss: 0.6958 - accuracy: 0.5452 - val_loss: 0.7064 - val_accuracy: 0.5000\n",
            "Epoch 4/100\n",
            "32/32 [==============================] - 5s 148ms/step - loss: 0.6890 - accuracy: 0.5522 - val_loss: 0.6733 - val_accuracy: 0.6450\n",
            "Epoch 5/100\n",
            "32/32 [==============================] - 3s 73ms/step - loss: 0.6815 - accuracy: 0.5663 - val_loss: 0.6944 - val_accuracy: 0.5250\n",
            "Epoch 6/100\n",
            "32/32 [==============================] - 5s 101ms/step - loss: 0.6848 - accuracy: 0.5582 - val_loss: 0.7017 - val_accuracy: 0.5100\n",
            "Epoch 7/100\n",
            "32/32 [==============================] - 3s 73ms/step - loss: 0.6748 - accuracy: 0.5743 - val_loss: 0.7332 - val_accuracy: 0.5250\n",
            "Epoch 8/100\n",
            "32/32 [==============================] - 3s 82ms/step - loss: 0.6729 - accuracy: 0.5803 - val_loss: 0.6539 - val_accuracy: 0.6350\n",
            "Epoch 9/100\n",
            "32/32 [==============================] - 3s 81ms/step - loss: 0.6629 - accuracy: 0.5884 - val_loss: 0.7127 - val_accuracy: 0.5350\n",
            "Epoch 10/100\n",
            "32/32 [==============================] - 3s 79ms/step - loss: 0.6639 - accuracy: 0.5924 - val_loss: 0.6448 - val_accuracy: 0.6250\n",
            "Epoch 11/100\n",
            "32/32 [==============================] - 3s 78ms/step - loss: 0.6499 - accuracy: 0.5934 - val_loss: 0.6473 - val_accuracy: 0.6300\n",
            "Epoch 12/100\n",
            "32/32 [==============================] - 4s 97ms/step - loss: 0.6484 - accuracy: 0.6255 - val_loss: 0.7584 - val_accuracy: 0.5350\n",
            "Epoch 13/100\n",
            "32/32 [==============================] - 3s 72ms/step - loss: 0.6526 - accuracy: 0.6084 - val_loss: 0.6826 - val_accuracy: 0.5600\n",
            "Epoch 14/100\n",
            "32/32 [==============================] - 3s 75ms/step - loss: 0.6401 - accuracy: 0.6185 - val_loss: 0.6215 - val_accuracy: 0.6600\n",
            "Epoch 15/100\n",
            "32/32 [==============================] - 5s 129ms/step - loss: 0.6244 - accuracy: 0.6506 - val_loss: 0.6596 - val_accuracy: 0.5850\n",
            "Epoch 16/100\n",
            "32/32 [==============================] - 4s 92ms/step - loss: 0.6217 - accuracy: 0.6365 - val_loss: 0.6052 - val_accuracy: 0.7000\n",
            "Epoch 17/100\n",
            "32/32 [==============================] - 3s 75ms/step - loss: 0.6200 - accuracy: 0.6285 - val_loss: 0.5955 - val_accuracy: 0.6950\n",
            "Epoch 18/100\n",
            "32/32 [==============================] - 4s 115ms/step - loss: 0.6214 - accuracy: 0.6396 - val_loss: 0.6110 - val_accuracy: 0.6900\n",
            "Epoch 19/100\n",
            "32/32 [==============================] - 4s 93ms/step - loss: 0.6179 - accuracy: 0.6295 - val_loss: 0.5882 - val_accuracy: 0.6800\n",
            "Epoch 20/100\n",
            "32/32 [==============================] - 4s 98ms/step - loss: 0.6182 - accuracy: 0.6556 - val_loss: 0.6409 - val_accuracy: 0.6500\n",
            "Epoch 21/100\n",
            "32/32 [==============================] - 3s 80ms/step - loss: 0.6072 - accuracy: 0.6386 - val_loss: 0.6102 - val_accuracy: 0.6500\n",
            "Epoch 22/100\n",
            "32/32 [==============================] - 4s 113ms/step - loss: 0.6058 - accuracy: 0.6496 - val_loss: 0.6389 - val_accuracy: 0.6100\n",
            "Epoch 23/100\n",
            "32/32 [==============================] - 3s 74ms/step - loss: 0.5934 - accuracy: 0.6606 - val_loss: 0.6804 - val_accuracy: 0.6200\n",
            "Epoch 24/100\n",
            "32/32 [==============================] - 3s 73ms/step - loss: 0.6020 - accuracy: 0.6687 - val_loss: 0.6207 - val_accuracy: 0.6500\n",
            "Epoch 25/100\n",
            "32/32 [==============================] - 3s 78ms/step - loss: 0.5823 - accuracy: 0.6878 - val_loss: 0.8233 - val_accuracy: 0.5500\n",
            "Epoch 26/100\n",
            "32/32 [==============================] - 3s 83ms/step - loss: 0.5781 - accuracy: 0.6888 - val_loss: 0.6372 - val_accuracy: 0.6650\n",
            "Epoch 27/100\n",
            "32/32 [==============================] - 3s 88ms/step - loss: 0.5634 - accuracy: 0.6938 - val_loss: 0.6110 - val_accuracy: 0.6850\n",
            "Epoch 28/100\n",
            "32/32 [==============================] - 7s 189ms/step - loss: 0.5585 - accuracy: 0.6958 - val_loss: 0.6107 - val_accuracy: 0.6900\n",
            "Epoch 29/100\n",
            "32/32 [==============================] - 3s 88ms/step - loss: 0.5586 - accuracy: 0.7118 - val_loss: 0.6742 - val_accuracy: 0.6700\n",
            "Epoch 30/100\n",
            "32/32 [==============================] - 4s 92ms/step - loss: 0.5491 - accuracy: 0.7058 - val_loss: 0.8242 - val_accuracy: 0.6500\n",
            "Epoch 31/100\n",
            "32/32 [==============================] - 5s 124ms/step - loss: 0.5584 - accuracy: 0.7118 - val_loss: 0.7455 - val_accuracy: 0.5800\n",
            "Epoch 32/100\n",
            "32/32 [==============================] - 3s 85ms/step - loss: 0.5647 - accuracy: 0.6797 - val_loss: 0.6347 - val_accuracy: 0.6450\n",
            "Epoch 33/100\n",
            "32/32 [==============================] - 3s 79ms/step - loss: 0.5521 - accuracy: 0.7149 - val_loss: 0.6280 - val_accuracy: 0.7000\n"
          ]
        }
      ]
    },
    {
      "cell_type": "code",
      "source": [
        "performance = pd.DataFrame(monitor.history)\n",
        "plt.figure(figsize=(12, 3))\n",
        "ax_one = plt.subplot(1, 2, 1)\n",
        "plt.plot(performance[\"loss\"], label= \"Train set\", color='g', linewidth=2)\n",
        "plt.plot(performance[\"val_loss\"], label= \"Validation set\", color='b', linewidth=2)\n",
        "plt.ylabel(\"Loss\", fontsize=14)\n",
        "plt.xlabel(\"Epoch\", fontsize=14)\n",
        "plt.grid(True, linestyle='--', alpha=0.7)\n",
        "plt.legend()\n",
        "plt.tight_layout()\n",
        "ax_two = plt.subplot(1, 2, 2)\n",
        "plt.plot(performance[\"accuracy\"], label= \"Train set\", color='g', linewidth=2)\n",
        "plt.plot(performance[\"val_accuracy\"], label= \"Validation set\", color='b', linewidth=2)\n",
        "plt.ylabel(\"Accuracy\", fontsize=14)\n",
        "plt.xlabel(\"Epoch\", fontsize=14)\n",
        "plt.grid(True, linestyle='--', alpha=0.7)\n",
        "plt.legend()\n",
        "plt.tight_layout()"
      ],
      "metadata": {
        "id": "VHHqNdTJ0XIj",
        "colab": {
          "base_uri": "https://localhost:8080/",
          "height": 288
        },
        "outputId": "2d674c30-1ea6-40be-9522-81240d0b812f"
      },
      "execution_count": null,
      "outputs": [
        {
          "output_type": "display_data",
          "data": {
            "text/plain": [
              "<Figure size 1200x300 with 2 Axes>"
            ],
            "image/png": "[encoded data removed]"
          },
          "metadata": {}
        }
      ]
    },
    {
      "cell_type": "code",
      "source": [
        "model.evaluate(test_dataset)"
      ],
      "metadata": {
        "id": "iVPzKyds0XLo",
        "colab": {
          "base_uri": "https://localhost:8080/"
        },
        "outputId": "b2c27f79-827f-4647-b1dc-bb723e0889cf"
      },
      "execution_count": null,
      "outputs": [
        {
          "output_type": "stream",
          "name": "stdout",
          "text": [
            "7/7 [==============================] - 40s 16ms/step - loss: 0.5145 - accuracy: 0.7500\n"
          ]
        },
        {
          "output_type": "execute_result",
          "data": {
            "text/plain": [
              "[0.514456570148468, 0.75]"
            ]
          },
          "metadata": {},
          "execution_count": 22
        }
      ]
    },
    {
      "cell_type": "markdown",
      "source": [
        "#### Feature Extraction Method"
      ],
      "metadata": {
        "id": "WlrDE4oDsXMk"
      }
    },
    {
      "cell_type": "code",
      "source": [
        "conv_base = applications.vgg16.VGG16(\n",
        "    weights=\"imagenet\",\n",
        "    include_top=False,\n",
        "    input_shape=(180, 180, 3))\n",
        "conv_base.summary()"
      ],
      "metadata": {
        "colab": {
          "base_uri": "https://localhost:8080/"
        },
        "id": "CWODdzYMsgGp",
        "outputId": "a5d955b0-da22-4c13-bca4-2f9c80528105"
      },
      "execution_count": null,
      "outputs": [
        {
          "output_type": "stream",
          "name": "stdout",
          "text": [
            "Model: \"vgg16\"\n",
            "_________________________________________________________________\n",
            " Layer (type)                Output Shape              Param #   \n",
            "=================================================================\n",
            " input_2 (InputLayer)        [(None, 180, 180, 3)]     0         \n",
            "                                                                 \n",
            " block1_conv1 (Conv2D)       (None, 180, 180, 64)      1792      \n",
            "                                                                 \n",
            " block1_conv2 (Conv2D)       (None, 180, 180, 64)      36928     \n",
            "                                                                 \n",
            " block1_pool (MaxPooling2D)  (None, 90, 90, 64)        0         \n",
            "                                                                 \n",
            " block2_conv1 (Conv2D)       (None, 90, 90, 128)       73856     \n",
            "                                                                 \n",
            " block2_conv2 (Conv2D)       (None, 90, 90, 128)       147584    \n",
            "                                                                 \n",
            " block2_pool (MaxPooling2D)  (None, 45, 45, 128)       0         \n",
            "                                                                 \n",
            " block3_conv1 (Conv2D)       (None, 45, 45, 256)       295168    \n",
            "                                                                 \n",
            " block3_conv2 (Conv2D)       (None, 45, 45, 256)       590080    \n",
            "                                                                 \n",
            " block3_conv3 (Conv2D)       (None, 45, 45, 256)       590080    \n",
            "                                                                 \n",
            " block3_pool (MaxPooling2D)  (None, 22, 22, 256)       0         \n",
            "                                                                 \n",
            " block4_conv1 (Conv2D)       (None, 22, 22, 512)       1180160   \n",
            "                                                                 \n",
            " block4_conv2 (Conv2D)       (None, 22, 22, 512)       2359808   \n",
            "                                                                 \n",
            " block4_conv3 (Conv2D)       (None, 22, 22, 512)       2359808   \n",
            "                                                                 \n",
            " block4_pool (MaxPooling2D)  (None, 11, 11, 512)       0         \n",
            "                                                                 \n",
            " block5_conv1 (Conv2D)       (None, 11, 11, 512)       2359808   \n",
            "                                                                 \n",
            " block5_conv2 (Conv2D)       (None, 11, 11, 512)       2359808   \n",
            "                                                                 \n",
            " block5_conv3 (Conv2D)       (None, 11, 11, 512)       2359808   \n",
            "                                                                 \n",
            " block5_pool (MaxPooling2D)  (None, 5, 5, 512)         0         \n",
            "                                                                 \n",
            "=================================================================\n",
            "Total params: 14714688 (56.13 MB)\n",
            "Trainable params: 14714688 (56.13 MB)\n",
            "Non-trainable params: 0 (0.00 Byte)\n",
            "_________________________________________________________________\n"
          ]
        }
      ]
    },
    {
      "cell_type": "code",
      "source": [
        "def get_features_and_labels(dataset):\n",
        "    features_list = []\n",
        "    labels_list = []\n",
        "    for images, labels in dataset:\n",
        "        preprocessed_images = applications.vgg16.preprocess_input(images)\n",
        "        features = conv_base.predict(preprocessed_images)\n",
        "        features_list.append(features)\n",
        "        labels_list.append(labels)\n",
        "    return np.concatenate(features_list), np.concatenate(labels_list)\n",
        "\n",
        "train_features, train_labels =  get_features_and_labels(train_dataset)\n",
        "val_features, val_labels =  get_features_and_labels(validation_dataset)\n",
        "test_features, test_labels =  get_features_and_labels(test_dataset)"
      ],
      "metadata": {
        "colab": {
          "base_uri": "https://localhost:8080/"
        },
        "id": "OKvaWHB7zAi3",
        "outputId": "ed567e31-5d4d-424b-cb45-a74eaa51d0de"
      },
      "execution_count": null,
      "outputs": [
        {
          "output_type": "stream",
          "name": "stdout",
          "text": [
            "1/1 [==============================] - 4s 4s/step\n",
            "1/1 [==============================] - 0s 45ms/step\n",
            "1/1 [==============================] - 0s 32ms/step\n",
            "1/1 [==============================] - 0s 47ms/step\n",
            "1/1 [==============================] - 0s 44ms/step\n",
            "1/1 [==============================] - 0s 34ms/step\n",
            "1/1 [==============================] - 0s 42ms/step\n",
            "1/1 [==============================] - 0s 53ms/step\n",
            "1/1 [==============================] - 0s 34ms/step\n",
            "1/1 [==============================] - 0s 36ms/step\n",
            "1/1 [==============================] - 0s 46ms/step\n",
            "1/1 [==============================] - 0s 38ms/step\n",
            "1/1 [==============================] - 0s 107ms/step\n",
            "1/1 [==============================] - 0s 74ms/step\n",
            "1/1 [==============================] - 0s 56ms/step\n",
            "1/1 [==============================] - 0s 75ms/step\n",
            "1/1 [==============================] - 0s 45ms/step\n",
            "1/1 [==============================] - 0s 32ms/step\n",
            "1/1 [==============================] - 0s 36ms/step\n",
            "1/1 [==============================] - 0s 32ms/step\n",
            "1/1 [==============================] - 0s 35ms/step\n",
            "1/1 [==============================] - 0s 26ms/step\n",
            "1/1 [==============================] - 0s 23ms/step\n",
            "1/1 [==============================] - 0s 24ms/step\n",
            "1/1 [==============================] - 0s 28ms/step\n",
            "1/1 [==============================] - 0s 25ms/step\n",
            "1/1 [==============================] - 0s 23ms/step\n",
            "1/1 [==============================] - 0s 23ms/step\n",
            "1/1 [==============================] - 0s 24ms/step\n",
            "1/1 [==============================] - 0s 22ms/step\n",
            "1/1 [==============================] - 0s 26ms/step\n",
            "1/1 [==============================] - 1s 914ms/step\n",
            "1/1 [==============================] - 0s 26ms/step\n",
            "1/1 [==============================] - 0s 22ms/step\n",
            "1/1 [==============================] - 0s 23ms/step\n",
            "1/1 [==============================] - 0s 25ms/step\n",
            "1/1 [==============================] - 0s 37ms/step\n",
            "1/1 [==============================] - 0s 25ms/step\n",
            "1/1 [==============================] - 1s 1s/step\n",
            "1/1 [==============================] - 0s 23ms/step\n",
            "1/1 [==============================] - 0s 23ms/step\n",
            "1/1 [==============================] - 0s 31ms/step\n",
            "1/1 [==============================] - 0s 24ms/step\n",
            "1/1 [==============================] - 0s 23ms/step\n",
            "1/1 [==============================] - 0s 23ms/step\n",
            "1/1 [==============================] - 0s 19ms/step\n"
          ]
        }
      ]
    },
    {
      "cell_type": "code",
      "source": [
        "inputs = layers.Input(shape=train_features.shape[1:])\n",
        "features = layers.Flatten()(inputs)\n",
        "features = layers.Dense(128)(features)\n",
        "features = layers.Dropout(0.5)(features)\n",
        "outputs = layers.Dense(1, activation=\"sigmoid\")(features)\n",
        "model = Model(inputs, outputs)\n",
        "model.compile(loss=\"binary_crossentropy\",\n",
        "              optimizer=\"rmsprop\",\n",
        "              metrics=[\"accuracy\"])\n",
        "model.summary()"
      ],
      "metadata": {
        "colab": {
          "base_uri": "https://localhost:8080/"
        },
        "id": "xBcX4xPyzo3S",
        "outputId": "58b352e9-d384-42bd-fac4-072cc09bf8ad"
      },
      "execution_count": null,
      "outputs": [
        {
          "output_type": "stream",
          "name": "stdout",
          "text": [
            "Model: \"model\"\n",
            "_________________________________________________________________\n",
            " Layer (type)                Output Shape              Param #   \n",
            "=================================================================\n",
            " input_4 (InputLayer)        [(None, 5, 5, 512)]       0         \n",
            "                                                                 \n",
            " flatten_1 (Flatten)         (None, 12800)             0         \n",
            "                                                                 \n",
            " dense_2 (Dense)             (None, 128)               1638528   \n",
            "                                                                 \n",
            " dropout_1 (Dropout)         (None, 128)               0         \n",
            "                                                                 \n",
            " dense_3 (Dense)             (None, 1)                 129       \n",
            "                                                                 \n",
            "=================================================================\n",
            "Total params: 1638657 (6.25 MB)\n",
            "Trainable params: 1638657 (6.25 MB)\n",
            "Non-trainable params: 0 (0.00 Byte)\n",
            "_________________________________________________________________\n"
          ]
        }
      ]
    },
    {
      "cell_type": "code",
      "source": [
        "monitor = model.fit(x=train_features, y=train_labels, epochs=20,\n",
        "                    validation_data=(val_features, val_labels))"
      ],
      "metadata": {
        "colab": {
          "base_uri": "https://localhost:8080/"
        },
        "id": "kzG3acBwz8LG",
        "outputId": "abd57495-933a-4e4f-9eaa-6de950abacb2"
      },
      "execution_count": null,
      "outputs": [
        {
          "output_type": "stream",
          "name": "stdout",
          "text": [
            "Epoch 1/20\n",
            "32/32 [==============================] - 1s 10ms/step - loss: 12.0708 - accuracy: 0.9006 - val_loss: 2.0097 - val_accuracy: 0.9850\n",
            "Epoch 2/20\n",
            "32/32 [==============================] - 0s 5ms/step - loss: 3.1580 - accuracy: 0.9719 - val_loss: 1.6005 - val_accuracy: 0.9850\n",
            "Epoch 3/20\n",
            "32/32 [==============================] - 0s 5ms/step - loss: 0.5276 - accuracy: 0.9970 - val_loss: 1.9830 - val_accuracy: 0.9900\n",
            "Epoch 4/20\n",
            "32/32 [==============================] - 0s 5ms/step - loss: 0.8761 - accuracy: 0.9900 - val_loss: 1.9209 - val_accuracy: 0.9900\n",
            "Epoch 5/20\n",
            "32/32 [==============================] - 0s 5ms/step - loss: 0.5269 - accuracy: 0.9930 - val_loss: 3.0628 - val_accuracy: 0.9800\n",
            "Epoch 6/20\n",
            "32/32 [==============================] - 0s 5ms/step - loss: 0.0796 - accuracy: 0.9960 - val_loss: 2.1148 - val_accuracy: 0.9850\n",
            "Epoch 7/20\n",
            "32/32 [==============================] - 0s 5ms/step - loss: 0.0177 - accuracy: 0.9990 - val_loss: 3.2570 - val_accuracy: 0.9800\n",
            "Epoch 8/20\n",
            "32/32 [==============================] - 0s 5ms/step - loss: 0.1294 - accuracy: 0.9980 - val_loss: 2.0278 - val_accuracy: 0.9800\n",
            "Epoch 9/20\n",
            "32/32 [==============================] - 0s 5ms/step - loss: 5.7760e-21 - accuracy: 1.0000 - val_loss: 2.0278 - val_accuracy: 0.9800\n",
            "Epoch 10/20\n",
            "32/32 [==============================] - 0s 5ms/step - loss: 6.2132e-23 - accuracy: 1.0000 - val_loss: 2.0278 - val_accuracy: 0.9800\n",
            "Epoch 11/20\n",
            "32/32 [==============================] - 0s 5ms/step - loss: 4.3028e-33 - accuracy: 1.0000 - val_loss: 2.0278 - val_accuracy: 0.9800\n",
            "Epoch 12/20\n",
            "32/32 [==============================] - 0s 5ms/step - loss: 0.0086 - accuracy: 0.9990 - val_loss: 1.1182 - val_accuracy: 0.9750\n",
            "Epoch 13/20\n",
            "32/32 [==============================] - 0s 6ms/step - loss: 0.2215 - accuracy: 0.9960 - val_loss: 0.1875 - val_accuracy: 0.9900\n",
            "Epoch 14/20\n",
            "32/32 [==============================] - 0s 7ms/step - loss: 3.0521e-06 - accuracy: 1.0000 - val_loss: 0.3135 - val_accuracy: 0.9950\n",
            "Epoch 15/20\n",
            "32/32 [==============================] - 0s 8ms/step - loss: 0.2850 - accuracy: 0.9950 - val_loss: 0.9619 - val_accuracy: 0.9950\n",
            "Epoch 16/20\n",
            "32/32 [==============================] - 0s 8ms/step - loss: 2.2655e-22 - accuracy: 1.0000 - val_loss: 0.9619 - val_accuracy: 0.9950\n",
            "Epoch 17/20\n",
            "32/32 [==============================] - 0s 7ms/step - loss: 0.1579 - accuracy: 0.9980 - val_loss: 0.7447 - val_accuracy: 0.9850\n",
            "Epoch 18/20\n",
            "32/32 [==============================] - 0s 8ms/step - loss: 1.4932e-10 - accuracy: 1.0000 - val_loss: 0.7447 - val_accuracy: 0.9850\n",
            "Epoch 19/20\n",
            "32/32 [==============================] - 0s 8ms/step - loss: 0.0433 - accuracy: 0.9980 - val_loss: 1.6105 - val_accuracy: 0.9750\n",
            "Epoch 20/20\n",
            "32/32 [==============================] - 0s 8ms/step - loss: 0.0517 - accuracy: 0.9970 - val_loss: 0.2691 - val_accuracy: 0.9900\n"
          ]
        }
      ]
    },
    {
      "cell_type": "code",
      "source": [
        "metrics = pd.DataFrame(monitor.history)\n",
        "metrics.head()"
      ],
      "metadata": {
        "colab": {
          "base_uri": "https://localhost:8080/",
          "height": 206
        },
        "id": "oWKaNV790eSt",
        "outputId": "045381cd-5dc9-4b85-a08d-8f44ad447c45"
      },
      "execution_count": null,
      "outputs": [
        {
          "output_type": "execute_result",
          "data": {
            "text/plain": [
              "        loss  accuracy  val_loss  val_accuracy\n",
              "0  12.070779  0.900602  2.009716         0.985\n",
              "1   3.158040  0.971888  1.600495         0.985\n",
              "2   0.527599  0.996988  1.983007         0.990\n",
              "3   0.876149  0.989960  1.920938         0.990\n",
              "4   0.526873  0.992972  3.062751         0.980"
            ],
            "text/html": [
              "\n",
              "  <div id=\"df-44916faf-9daf-4361-94a0-622a2ad7c643\" class=\"colab-df-container\">\n",
              "    <div>\n",
              "<style scoped>\n",
              "    .dataframe tbody tr th:only-of-type {\n",
              "        vertical-align: middle;\n",
              "    }\n",
              "\n",
              "    .dataframe tbody tr th {\n",
              "        vertical-align: top;\n",
              "    }\n",
              "\n",
              "    .dataframe thead th {\n",
              "        text-align: right;\n",
              "    }\n",
              "</style>\n",
              "<table border=\"1\" class=\"dataframe\">\n",
              "  <thead>\n",
              "    <tr style=\"text-align: right;\">\n",
              "      <th></th>\n",
              "      <th>loss</th>\n",
              "      <th>accuracy</th>\n",
              "      <th>val_loss</th>\n",
              "      <th>val_accuracy</th>\n",
              "    </tr>\n",
              "  </thead>\n",
              "  <tbody>\n",
              "    <tr>\n",
              "      <th>0</th>\n",
              "      <td>12.070779</td>\n",
              "      <td>0.900602</td>\n",
              "      <td>2.009716</td>\n",
              "      <td>0.985</td>\n",
              "    </tr>\n",
              "    <tr>\n",
              "      <th>1</th>\n",
              "      <td>3.158040</td>\n",
              "      <td>0.971888</td>\n",
              "      <td>1.600495</td>\n",
              "      <td>0.985</td>\n",
              "    </tr>\n",
              "    <tr>\n",
              "      <th>2</th>\n",
              "      <td>0.527599</td>\n",
              "      <td>0.996988</td>\n",
              "      <td>1.983007</td>\n",
              "      <td>0.990</td>\n",
              "    </tr>\n",
              "    <tr>\n",
              "      <th>3</th>\n",
              "      <td>0.876149</td>\n",
              "      <td>0.989960</td>\n",
              "      <td>1.920938</td>\n",
              "      <td>0.990</td>\n",
              "    </tr>\n",
              "    <tr>\n",
              "      <th>4</th>\n",
              "      <td>0.526873</td>\n",
              "      <td>0.992972</td>\n",
              "      <td>3.062751</td>\n",
              "      <td>0.980</td>\n",
              "    </tr>\n",
              "  </tbody>\n",
              "</table>\n",
              "</div>\n",
              "    <div class=\"colab-df-buttons\">\n",
              "\n",
              "  <div class=\"colab-df-container\">\n",
              "    <button class=\"colab-df-convert\" onclick=\"convertToInteractive('df-44916faf-9daf-4361-94a0-622a2ad7c643')\"\n",
              "            title=\"Convert this dataframe to an interactive table.\"\n",
              "            style=\"display:none;\">\n",
              "\n",
              "  <svg xmlns=\"http://www.w3.org/2000/svg\" height=\"24px\" viewBox=\"0 -960 960 960\">\n",
              "    <path d=\"M120-120v-720h720v720H120Zm60-500h600v-160H180v160Zm220 220h160v-160H400v160Zm0 220h160v-160H400v160ZM180-400h160v-160H180v160Zm440 0h160v-160H620v160ZM180-180h160v-160H180v160Zm440 0h160v-160H620v160Z\"/>\n",
              "  </svg>\n",
              "    </button>\n",
              "\n",
              "  <style>\n",
              "    .colab-df-container {\n",
              "      display:flex;\n",
              "      gap: 12px;\n",
              "    }\n",
              "\n",
              "    .colab-df-convert {\n",
              "      background-color: #E8F0FE;\n",
              "      border: none;\n",
              "      border-radius: 50%;\n",
              "      cursor: pointer;\n",
              "      display: none;\n",
              "      fill: #1967D2;\n",
              "      height: 32px;\n",
              "      padding: 0 0 0 0;\n",
              "      width: 32px;\n",
              "    }\n",
              "\n",
              "    .colab-df-convert:hover {\n",
              "      background-color: #E2EBFA;\n",
              "      box-shadow: 0px 1px 2px rgba(60, 64, 67, 0.3), 0px 1px 3px 1px rgba(60, 64, 67, 0.15);\n",
              "      fill: #174EA6;\n",
              "    }\n",
              "\n",
              "    .colab-df-buttons div {\n",
              "      margin-bottom: 4px;\n",
              "    }\n",
              "\n",
              "    [theme=dark] .colab-df-convert {\n",
              "      background-color: #3B4455;\n",
              "      fill: #D2E3FC;\n",
              "    }\n",
              "\n",
              "    [theme=dark] .colab-df-convert:hover {\n",
              "      background-color: #434B5C;\n",
              "      box-shadow: 0px 1px 3px 1px rgba(0, 0, 0, 0.15);\n",
              "      filter: drop-shadow(0px 1px 2px rgba(0, 0, 0, 0.3));\n",
              "      fill: #FFFFFF;\n",
              "    }\n",
              "  </style>\n",
              "\n",
              "    <script>\n",
              "      const buttonEl =\n",
              "        document.querySelector('#df-44916faf-9daf-4361-94a0-622a2ad7c643 button.colab-df-convert');\n",
              "      buttonEl.style.display =\n",
              "        google.colab.kernel.accessAllowed ? 'block' : 'none';\n",
              "\n",
              "      async function convertToInteractive(key) {\n",
              "        const element = document.querySelector('#df-44916faf-9daf-4361-94a0-622a2ad7c643');\n",
              "        const dataTable =\n",
              "          await google.colab.kernel.invokeFunction('convertToInteractive',\n",
              "                                                    [key], {});\n",
              "        if (!dataTable) return;\n",
              "\n",
              "        const docLinkHtml = 'Like what you see? Visit the ' +\n",
              "          '<a target=\"_blank\" href=https://colab.research.google.com/notebooks/data_table.ipynb>data table notebook</a>'\n",
              "          + ' to learn more about interactive tables.';\n",
              "        element.innerHTML = '';\n",
              "        dataTable['output_type'] = 'display_data';\n",
              "        await google.colab.output.renderOutput(dataTable, element);\n",
              "        const docLink = document.createElement('div');\n",
              "        docLink.innerHTML = docLinkHtml;\n",
              "        element.appendChild(docLink);\n",
              "      }\n",
              "    </script>\n",
              "  </div>\n",
              "\n",
              "\n",
              "<div id=\"df-d5c31dc3-48a8-44aa-a9b6-9bf6419d10ff\">\n",
              "  <button class=\"colab-df-quickchart\" onclick=\"quickchart('df-d5c31dc3-48a8-44aa-a9b6-9bf6419d10ff')\"\n",
              "            title=\"Suggest charts.\"\n",
              "            style=\"display:none;\">\n",
              "\n",
              "<svg xmlns=\"http://www.w3.org/2000/svg\" height=\"24px\"viewBox=\"0 0 24 24\"\n",
              "     width=\"24px\">\n",
              "    <g>\n",
              "        <path d=\"M19 3H5c-1.1 0-2 .9-2 2v14c0 1.1.9 2 2 2h14c1.1 0 2-.9 2-2V5c0-1.1-.9-2-2-2zM9 17H7v-7h2v7zm4 0h-2V7h2v10zm4 0h-2v-4h2v4z\"/>\n",
              "    </g>\n",
              "</svg>\n",
              "  </button>\n",
              "\n",
              "<style>\n",
              "  .colab-df-quickchart {\n",
              "      --bg-color: #E8F0FE;\n",
              "      --fill-color: #1967D2;\n",
              "      --hover-bg-color: #E2EBFA;\n",
              "      --hover-fill-color: #174EA6;\n",
              "      --disabled-fill-color: #AAA;\n",
              "      --disabled-bg-color: #DDD;\n",
              "  }\n",
              "\n",
              "  [theme=dark] .colab-df-quickchart {\n",
              "      --bg-color: #3B4455;\n",
              "      --fill-color: #D2E3FC;\n",
              "      --hover-bg-color: #434B5C;\n",
              "      --hover-fill-color: #FFFFFF;\n",
              "      --disabled-bg-color: #3B4455;\n",
              "      --disabled-fill-color: #666;\n",
              "  }\n",
              "\n",
              "  .colab-df-quickchart {\n",
              "    background-color: var(--bg-color);\n",
              "    border: none;\n",
              "    border-radius: 50%;\n",
              "    cursor: pointer;\n",
              "    display: none;\n",
              "    fill: var(--fill-color);\n",
              "    height: 32px;\n",
              "    padding: 0;\n",
              "    width: 32px;\n",
              "  }\n",
              "\n",
              "  .colab-df-quickchart:hover {\n",
              "    background-color: var(--hover-bg-color);\n",
              "    box-shadow: 0 1px 2px rgba(60, 64, 67, 0.3), 0 1px 3px 1px rgba(60, 64, 67, 0.15);\n",
              "    fill: var(--button-hover-fill-color);\n",
              "  }\n",
              "\n",
              "  .colab-df-quickchart-complete:disabled,\n",
              "  .colab-df-quickchart-complete:disabled:hover {\n",
              "    background-color: var(--disabled-bg-color);\n",
              "    fill: var(--disabled-fill-color);\n",
              "    box-shadow: none;\n",
              "  }\n",
              "\n",
              "  .colab-df-spinner {\n",
              "    border: 2px solid var(--fill-color);\n",
              "    border-color: transparent;\n",
              "    border-bottom-color: var(--fill-color);\n",
              "    animation:\n",
              "      spin 1s steps(1) infinite;\n",
              "  }\n",
              "\n",
              "  @keyframes spin {\n",
              "    0% {\n",
              "      border-color: transparent;\n",
              "      border-bottom-color: var(--fill-color);\n",
              "      border-left-color: var(--fill-color);\n",
              "    }\n",
              "    20% {\n",
              "      border-color: transparent;\n",
              "      border-left-color: var(--fill-color);\n",
              "      border-top-color: var(--fill-color);\n",
              "    }\n",
              "    30% {\n",
              "      border-color: transparent;\n",
              "      border-left-color: var(--fill-color);\n",
              "      border-top-color: var(--fill-color);\n",
              "      border-right-color: var(--fill-color);\n",
              "    }\n",
              "    40% {\n",
              "      border-color: transparent;\n",
              "      border-right-color: var(--fill-color);\n",
              "      border-top-color: var(--fill-color);\n",
              "    }\n",
              "    60% {\n",
              "      border-color: transparent;\n",
              "      border-right-color: var(--fill-color);\n",
              "    }\n",
              "    80% {\n",
              "      border-color: transparent;\n",
              "      border-right-color: var(--fill-color);\n",
              "      border-bottom-color: var(--fill-color);\n",
              "    }\n",
              "    90% {\n",
              "      border-color: transparent;\n",
              "      border-bottom-color: var(--fill-color);\n",
              "    }\n",
              "  }\n",
              "</style>\n",
              "\n",
              "  <script>\n",
              "    async function quickchart(key) {\n",
              "      const quickchartButtonEl =\n",
              "        document.querySelector('#' + key + ' button');\n",
              "      quickchartButtonEl.disabled = true;  // To prevent multiple clicks.\n",
              "      quickchartButtonEl.classList.add('colab-df-spinner');\n",
              "      try {\n",
              "        const charts = await google.colab.kernel.invokeFunction(\n",
              "            'suggestCharts', [key], {});\n",
              "      } catch (error) {\n",
              "        console.error('Error during call to suggestCharts:', error);\n",
              "      }\n",
              "      quickchartButtonEl.classList.remove('colab-df-spinner');\n",
              "      quickchartButtonEl.classList.add('colab-df-quickchart-complete');\n",
              "    }\n",
              "    (() => {\n",
              "      let quickchartButtonEl =\n",
              "        document.querySelector('#df-d5c31dc3-48a8-44aa-a9b6-9bf6419d10ff button');\n",
              "      quickchartButtonEl.style.display =\n",
              "        google.colab.kernel.accessAllowed ? 'block' : 'none';\n",
              "    })();\n",
              "  </script>\n",
              "</div>\n",
              "    </div>\n",
              "  </div>\n"
            ]
          },
          "metadata": {},
          "execution_count": 32
        }
      ]
    },
    {
      "cell_type": "code",
      "source": [
        "plt.figure(figsize=(12, 3))\n",
        "ax_one = plt.subplot(1, 2, 1)\n",
        "plt.plot(metrics[\"loss\"], label= \"Train set\", color='g', linewidth=2)\n",
        "plt.plot(metrics[\"val_loss\"], label= \"Validation set\", color='b', linewidth=2)\n",
        "plt.ylabel(\"Loss\", fontsize=14)\n",
        "plt.xlabel(\"Epoch\", fontsize=14)\n",
        "plt.grid(True, linestyle='--', alpha=0.7)\n",
        "plt.legend()\n",
        "plt.tight_layout()\n",
        "ax_two = plt.subplot(1, 2, 2)\n",
        "plt.plot(metrics[\"accuracy\"], label= \"Train set\", color='g', linewidth=2)\n",
        "plt.plot(metrics[\"val_accuracy\"], label= \"Validation set\", color='b', linewidth=2)\n",
        "plt.ylabel(\"Accuracy\", fontsize=14)\n",
        "plt.xlabel(\"Epoch\", fontsize=14)\n",
        "plt.grid(True, linestyle='--', alpha=0.7)\n",
        "plt.legend()\n",
        "plt.tight_layout()"
      ],
      "metadata": {
        "colab": {
          "base_uri": "https://localhost:8080/",
          "height": 289
        },
        "id": "MHeBsihJ0pSz",
        "outputId": "0da260b2-b5d2-4c18-bda9-4cfc8187c8c3"
      },
      "execution_count": null,
      "outputs": [
        {
          "output_type": "display_data",
          "data": {
            "text/plain": [
              "<Figure size 1200x300 with 2 Axes>"
            ],
            "image/png": "[encoded data removed]"
          },
          "metadata": {}
        }
      ]
    },
    {
      "cell_type": "code",
      "source": [
        "model.evaluate(test_features, test_labels)"
      ],
      "metadata": {
        "colab": {
          "base_uri": "https://localhost:8080/"
        },
        "id": "BqwzWwru0xpr",
        "outputId": "8d48b89f-25aa-4a15-ff69-94972a017a63"
      },
      "execution_count": null,
      "outputs": [
        {
          "output_type": "stream",
          "name": "stdout",
          "text": [
            "7/7 [==============================] - 0s 7ms/step - loss: 4.1771 - accuracy: 0.9650\n"
          ]
        },
        {
          "output_type": "execute_result",
          "data": {
            "text/plain": [
              "[4.177138805389404, 0.9649999737739563]"
            ]
          },
          "metadata": {},
          "execution_count": 34
        }
      ]
    },
    {
      "cell_type": "markdown",
      "source": [
        "#### Fine-tuning Method"
      ],
      "metadata": {
        "id": "KRtPMdl501Jz"
      }
    },
    {
      "cell_type": "code",
      "source": [
        "for layer in conv_base.layers[:-4]:\n",
        "    layer.trainable = False"
      ],
      "metadata": {
        "id": "gb5mqu7K07u2",
        "colab": {
          "base_uri": "https://localhost:8080/",
          "height": 164
        },
        "outputId": "2c241483-0cbe-4e05-b915-c4891eb18989"
      },
      "execution_count": 1,
      "outputs": [
        {
          "output_type": "error",
          "ename": "NameError",
          "evalue": "name 'conv_base' is not defined",
          "traceback": [
            "\u001b[0;31m---------------------------------------------------------------------------\u001b[0m",
            "\u001b[0;31mNameError\u001b[0m                                 Traceback (most recent call last)",
            "\u001b[0;32m<ipython-input-1-3d6643f74445>\u001b[0m in \u001b[0;36m<cell line: 1>\u001b[0;34m()\u001b[0m\n\u001b[0;32m----> 1\u001b[0;31m \u001b[0;32mfor\u001b[0m \u001b[0mlayer\u001b[0m \u001b[0;32min\u001b[0m \u001b[0mconv_base\u001b[0m\u001b[0;34m.\u001b[0m\u001b[0mlayers\u001b[0m\u001b[0;34m[\u001b[0m\u001b[0;34m:\u001b[0m\u001b[0;34m-\u001b[0m\u001b[0;36m4\u001b[0m\u001b[0;34m]\u001b[0m\u001b[0;34m:\u001b[0m\u001b[0;34m\u001b[0m\u001b[0;34m\u001b[0m\u001b[0m\n\u001b[0m\u001b[1;32m      2\u001b[0m     \u001b[0mlayer\u001b[0m\u001b[0;34m.\u001b[0m\u001b[0mtrainable\u001b[0m \u001b[0;34m=\u001b[0m \u001b[0;32mFalse\u001b[0m\u001b[0;34m\u001b[0m\u001b[0;34m\u001b[0m\u001b[0m\n",
            "\u001b[0;31mNameError\u001b[0m: name 'conv_base' is not defined"
          ]
        }
      ]
    },
    {
      "cell_type": "code",
      "source": [
        "inputs = layers.Input(shape=(180, 180, 3))\n",
        "features = applications.vgg16.preprocess_input(inputs)\n",
        "features = conv_base(features)\n",
        "features = layers.Flatten()(features)\n",
        "features = layers.Dense(128)(features)\n",
        "features = layers.Dropout(0.5)(features)\n",
        "outputs = layers.Dense(1, activation=\"sigmoid\")(features)\n",
        "model = Model(inputs, outputs, name=\"vgg16_fine_tuned\")\n",
        "model.compile(loss=\"binary_crossentropy\",\n",
        "              optimizer= optimizers.RMSprop(learning_rate=1e-5),\n",
        "              metrics=[\"accuracy\"])\n",
        "model.summary()"
      ],
      "metadata": {
        "colab": {
          "base_uri": "https://localhost:8080/",
          "height": 219
        },
        "id": "54m88_iT075P",
        "outputId": "629450a4-a36f-4fce-a72f-f36290befda5"
      },
      "execution_count": 2,
      "outputs": [
        {
          "output_type": "error",
          "ename": "NameError",
          "evalue": "name 'layers' is not defined",
          "traceback": [
            "\u001b[0;31m---------------------------------------------------------------------------\u001b[0m",
            "\u001b[0;31mNameError\u001b[0m                                 Traceback (most recent call last)",
            "\u001b[0;32m<ipython-input-2-159143758291>\u001b[0m in \u001b[0;36m<cell line: 1>\u001b[0;34m()\u001b[0m\n\u001b[0;32m----> 1\u001b[0;31m \u001b[0minputs\u001b[0m \u001b[0;34m=\u001b[0m \u001b[0mlayers\u001b[0m\u001b[0;34m.\u001b[0m\u001b[0mInput\u001b[0m\u001b[0;34m(\u001b[0m\u001b[0mshape\u001b[0m\u001b[0;34m=\u001b[0m\u001b[0;34m(\u001b[0m\u001b[0;36m180\u001b[0m\u001b[0;34m,\u001b[0m \u001b[0;36m180\u001b[0m\u001b[0;34m,\u001b[0m \u001b[0;36m3\u001b[0m\u001b[0;34m)\u001b[0m\u001b[0;34m)\u001b[0m\u001b[0;34m\u001b[0m\u001b[0;34m\u001b[0m\u001b[0m\n\u001b[0m\u001b[1;32m      2\u001b[0m \u001b[0mfeatures\u001b[0m \u001b[0;34m=\u001b[0m \u001b[0mapplications\u001b[0m\u001b[0;34m.\u001b[0m\u001b[0mvgg16\u001b[0m\u001b[0;34m.\u001b[0m\u001b[0mpreprocess_input\u001b[0m\u001b[0;34m(\u001b[0m\u001b[0minputs\u001b[0m\u001b[0;34m)\u001b[0m\u001b[0;34m\u001b[0m\u001b[0;34m\u001b[0m\u001b[0m\n\u001b[1;32m      3\u001b[0m \u001b[0mfeatures\u001b[0m \u001b[0;34m=\u001b[0m \u001b[0mconv_base\u001b[0m\u001b[0;34m(\u001b[0m\u001b[0mfeatures\u001b[0m\u001b[0;34m)\u001b[0m\u001b[0;34m\u001b[0m\u001b[0;34m\u001b[0m\u001b[0m\n\u001b[1;32m      4\u001b[0m \u001b[0mfeatures\u001b[0m \u001b[0;34m=\u001b[0m \u001b[0mlayers\u001b[0m\u001b[0;34m.\u001b[0m\u001b[0mFlatten\u001b[0m\u001b[0;34m(\u001b[0m\u001b[0;34m)\u001b[0m\u001b[0;34m(\u001b[0m\u001b[0mfeatures\u001b[0m\u001b[0;34m)\u001b[0m\u001b[0;34m\u001b[0m\u001b[0;34m\u001b[0m\u001b[0m\n\u001b[1;32m      5\u001b[0m \u001b[0mfeatures\u001b[0m \u001b[0;34m=\u001b[0m \u001b[0mlayers\u001b[0m\u001b[0;34m.\u001b[0m\u001b[0mDense\u001b[0m\u001b[0;34m(\u001b[0m\u001b[0;36m128\u001b[0m\u001b[0;34m)\u001b[0m\u001b[0;34m(\u001b[0m\u001b[0mfeatures\u001b[0m\u001b[0;34m)\u001b[0m\u001b[0;34m\u001b[0m\u001b[0;34m\u001b[0m\u001b[0m\n",
            "\u001b[0;31mNameError\u001b[0m: name 'layers' is not defined"
          ]
        }
      ]
    },
    {
      "cell_type": "code",
      "source": [
        "monitor = model.fit(train_dataset, epochs=20, validation_data=validation_dataset)"
      ],
      "metadata": {
        "id": "NZAm8SJv078V"
      },
      "execution_count": null,
      "outputs": []
    },
    {
      "cell_type": "code",
      "source": [
        "y_test = np.array([])\n",
        "pred = np.array([])\n",
        "images = []\n",
        "\n",
        "for batch_img, batch_label in test_dataset:\n",
        "  y_test = np.concatenate([y_test, batch_label])\n",
        "  pred  = np.concatenate([pred, model.predict(batch_img, verbose=0).reshape(-1,)])\n",
        "  images.append(batch_img)"
      ],
      "metadata": {
        "id": "bcYTGi8L07_h"
      },
      "execution_count": null,
      "outputs": []
    },
    {
      "cell_type": "code",
      "source": [
        "test_images = np.concatenate(images)"
      ],
      "metadata": {
        "id": "Qu4YnYRz08Cc"
      },
      "execution_count": null,
      "outputs": []
    },
    {
      "cell_type": "code",
      "source": [
        "plt.hist(pred)\n",
        "plt.show()"
      ],
      "metadata": {
        "id": "GQfLaUvW7VrO"
      },
      "execution_count": null,
      "outputs": []
    },
    {
      "cell_type": "code",
      "source": [
        "predictions = np.where(pred>0.5,1,0).reshape(-1,)"
      ],
      "metadata": {
        "id": "N7hoAH2r8Kom",
        "colab": {
          "base_uri": "https://localhost:8080/",
          "height": 146
        },
        "outputId": "ee82e70b-86b8-4599-a40f-0a1d90625730"
      },
      "execution_count": 3,
      "outputs": [
        {
          "output_type": "error",
          "ename": "NameError",
          "evalue": "name 'np' is not defined",
          "traceback": [
            "\u001b[0;31m---------------------------------------------------------------------------\u001b[0m",
            "\u001b[0;31mNameError\u001b[0m                                 Traceback (most recent call last)",
            "\u001b[0;32m<ipython-input-3-b35982804532>\u001b[0m in \u001b[0;36m<cell line: 1>\u001b[0;34m()\u001b[0m\n\u001b[0;32m----> 1\u001b[0;31m \u001b[0mpredictions\u001b[0m \u001b[0;34m=\u001b[0m \u001b[0mnp\u001b[0m\u001b[0;34m.\u001b[0m\u001b[0mwhere\u001b[0m\u001b[0;34m(\u001b[0m\u001b[0mpred\u001b[0m\u001b[0;34m>\u001b[0m\u001b[0;36m0.5\u001b[0m\u001b[0;34m,\u001b[0m\u001b[0;36m1\u001b[0m\u001b[0;34m,\u001b[0m\u001b[0;36m0\u001b[0m\u001b[0;34m)\u001b[0m\u001b[0;34m.\u001b[0m\u001b[0mreshape\u001b[0m\u001b[0;34m(\u001b[0m\u001b[0;34m-\u001b[0m\u001b[0;36m1\u001b[0m\u001b[0;34m,\u001b[0m\u001b[0;34m)\u001b[0m\u001b[0;34m\u001b[0m\u001b[0;34m\u001b[0m\u001b[0m\n\u001b[0m",
            "\u001b[0;31mNameError\u001b[0m: name 'np' is not defined"
          ]
        }
      ]
    },
    {
      "cell_type": "code",
      "source": [
        "print(classification_report(y_test, predictions))"
      ],
      "metadata": {
        "id": "KJqo13e98Uj2"
      },
      "execution_count": null,
      "outputs": []
    },
    {
      "cell_type": "code",
      "source": [
        "confusion_matrix(y_test,predictions)"
      ],
      "metadata": {
        "id": "YtozpoyX8W17"
      },
      "execution_count": null,
      "outputs": []
    }
  ]
}