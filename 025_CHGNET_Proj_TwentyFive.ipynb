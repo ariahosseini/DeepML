{
  "nbformat": 4,
  "nbformat_minor": 0,
  "metadata": {
    "colab": {
      "provenance": [],
      "collapsed_sections": [
        "VE5XWhDM3_Iq",
        "aA3MiJZlsJBo",
        "-njyBtcIsVlN",
        "Sb9E88d-siOr",
        "VG8UP5Jd2CgM",
        "f7ggwfYL2L6N",
        "NRIg1XDo5b3U",
        "UCGeUTmY55JE",
        "zaEmKovI7cKY",
        "FQSNK2XV8EDP",
        "n115A3_A8wWH",
        "Fx8vgtIEDt20",
        "f3oVjFPn4aNf"
      ],
      "toc_visible": true,
      "authorship_tag": "ABX9TyPPYSeBXWo4aa8+QKVwlCa3",
      "include_colab_link": true
    },
    "kernelspec": {
      "name": "python3",
      "display_name": "Python 3"
    },
    "language_info": {
      "name": "python"
    }
  },
  "cells": [
    {
      "cell_type": "markdown",
      "metadata": {
        "id": "view-in-github",
        "colab_type": "text"
      },
      "source": [
        "<a href=\"https://colab.research.google.com/github/ariahosseini/DeepML/blob/main/025_CHGNET_Proj_TwentyFive.ipynb\" target=\"_parent\"><img src=\"https://colab.research.google.com/assets/colab-badge.svg\" alt=\"Open In Colab\"/></a>"
      ]
    },
    {
      "cell_type": "markdown",
      "source": [
        "# Libs"
      ],
      "metadata": {
        "id": "VE5XWhDM3_Iq"
      }
    },
    {
      "cell_type": "code",
      "source": [
        "!pip install requests==2.31.0"
      ],
      "metadata": {
        "colab": {
          "base_uri": "https://localhost:8080/"
        },
        "id": "nQ5mh-muMuT8",
        "outputId": "0c9909de-b452-4c7d-837f-38ed86d06fa0"
      },
      "execution_count": null,
      "outputs": [
        {
          "output_type": "stream",
          "name": "stdout",
          "text": [
            "Requirement already satisfied: requests==2.31.0 in /usr/local/lib/python3.10/dist-packages (2.31.0)\n",
            "Requirement already satisfied: charset-normalizer<4,>=2 in /usr/local/lib/python3.10/dist-packages (from requests==2.31.0) (3.3.2)\n",
            "Requirement already satisfied: idna<4,>=2.5 in /usr/local/lib/python3.10/dist-packages (from requests==2.31.0) (3.7)\n",
            "Requirement already satisfied: urllib3<3,>=1.21.1 in /usr/local/lib/python3.10/dist-packages (from requests==2.31.0) (2.0.7)\n",
            "Requirement already satisfied: certifi>=2017.4.17 in /usr/local/lib/python3.10/dist-packages (from requests==2.31.0) (2024.6.2)\n"
          ]
        }
      ]
    },
    {
      "cell_type": "code",
      "source": [
        "!pip install -q pymatgen"
      ],
      "metadata": {
        "id": "rM7l1nQ6FQ7C"
      },
      "execution_count": null,
      "outputs": []
    },
    {
      "cell_type": "code",
      "source": [
        "!pip install -q --upgrade git+https://gitlab.com/ase/ase.git@master"
      ],
      "metadata": {
        "id": "9k3kI7NQJbXY",
        "colab": {
          "base_uri": "https://localhost:8080/"
        },
        "outputId": "fb376556-1b34-423a-a4c6-fbeb9724a38f"
      },
      "execution_count": null,
      "outputs": [
        {
          "output_type": "stream",
          "name": "stdout",
          "text": [
            "  Installing build dependencies ... \u001b[?25l\u001b[?25hdone\n",
            "  Getting requirements to build wheel ... \u001b[?25l\u001b[?25hdone\n",
            "  Installing backend dependencies ... \u001b[?25l\u001b[?25hdone\n",
            "  Preparing metadata (pyproject.toml) ... \u001b[?25l\u001b[?25hdone\n"
          ]
        }
      ]
    },
    {
      "cell_type": "code",
      "source": [
        "!pip install -q crystal-toolkit"
      ],
      "metadata": {
        "id": "OP99DYRSDA16"
      },
      "execution_count": null,
      "outputs": []
    },
    {
      "cell_type": "code",
      "source": [
        "!pip install -q dash"
      ],
      "metadata": {
        "id": "FWRhr7JWDRa1"
      },
      "execution_count": null,
      "outputs": []
    },
    {
      "cell_type": "code",
      "source": [
        "!pip install -q matgl"
      ],
      "metadata": {
        "id": "22uBxYzU8c-S"
      },
      "execution_count": null,
      "outputs": []
    },
    {
      "cell_type": "code",
      "source": [
        "!pip install -q phonopy"
      ],
      "metadata": {
        "id": "IGJAUZBeKyLm"
      },
      "execution_count": null,
      "outputs": []
    },
    {
      "cell_type": "code",
      "source": [
        "!pip install -q seekpath"
      ],
      "metadata": {
        "id": "aLOKZTKD7pPc"
      },
      "execution_count": null,
      "outputs": []
    },
    {
      "cell_type": "code",
      "source": [
        "try:\n",
        "    import chgnet\n",
        "except ImportError:\n",
        "    !pip install -q chgnet"
      ],
      "metadata": {
        "id": "jv6Trb7nnygC"
      },
      "execution_count": null,
      "outputs": []
    },
    {
      "cell_type": "code",
      "source": [
        "%%capture\n",
        "!pip install git+https://github.com/materialsproject/atomate2.git@main"
      ],
      "metadata": {
        "id": "8y9tBqfyECix"
      },
      "execution_count": null,
      "outputs": []
    },
    {
      "cell_type": "code",
      "source": [
        "!pip install -q jobflow"
      ],
      "metadata": {
        "id": "rQ41_-rh5zkL"
      },
      "execution_count": null,
      "outputs": []
    },
    {
      "cell_type": "code",
      "execution_count": null,
      "metadata": {
        "id": "Z6pJmXC9Dnjj"
      },
      "outputs": [],
      "source": [
        "# utils\n",
        "from __future__ import print_function, division\n",
        "import os, sys, functools, shutil\n",
        "import time, warnings\n",
        "import csv, json, pickle\n",
        "import random\n",
        "import numpy as np\n",
        "import pandas as pd\n",
        "from jobflow import run_locally, SETTINGS as JFSet\n",
        "# url\n",
        "from urllib.request import urlopen\n",
        "# google\n",
        "from google.colab import drive\n",
        "# sklearn\n",
        "from sklearn import metrics\n",
        "# pymatgen\n",
        "from pymatgen.core.structure import Structure\n",
        "from pymatgen.entries.compatibility import MaterialsProject2020Compatibility\n",
        "from pymatgen.entries.computed_entries import ComputedStructureEntry\n",
        "from pymatgen.phonon.bandstructure import PhononBandStructureSymmLine\n",
        "from pymatgen.phonon.dos import PhononDos\n",
        "from pymatgen.phonon.plotter import PhononBSPlotter, PhononDosPlotter\n",
        "from pymatgen.symmetry.analyzer import SpacegroupAnalyzer\n",
        "from atomate2.forcefields.flows.elastic import ElasticMaker\n",
        "from atomate2.forcefields.jobs import M3GNetRelaxMaker\n",
        "# ase\n",
        "from ase.io import read\n",
        "# atomate\n",
        "from atomate2.forcefields.flows.phonons import PhononMaker\n",
        "from atomate2.forcefields.jobs import M3GNetRelaxMaker, M3GNetStaticMaker\n",
        "# torch\n",
        "import torch\n",
        "import torch.nn as nn\n",
        "import torch.optim as optim\n",
        "from torch.autograd import Variable\n",
        "from torch.optim.lr_scheduler import MultiStepLR\n",
        "from torch.utils.data import Dataset, DataLoader\n",
        "from torch.utils.data.dataloader import default_collate\n",
        "from torch.utils.data.sampler import SubsetRandomSampler\n",
        "# chgnet\n",
        "from chgnet import ROOT\n",
        "from chgnet.model import CHGNet, StructOptimizer\n",
        "from chgnet.model.dynamics import MolecularDynamics\n",
        "from chgnet.model.composition_model import AtomRef\n",
        "from chgnet.graph import CrystalGraphConverter\n",
        "from chgnet.data.dataset import StructureData, get_train_val_test_loader\n",
        "from chgnet.trainer import Trainer\n",
        "from chgnet.utils import write_json\n",
        "# from chgnet.utils import parse_vasp_dir # returns error\n",
        "# crystal_toolkit\n",
        "# import crystal_toolkit.components as ctc # returns error\n",
        "from crystal_toolkit.settings import SETTINGS\n",
        "# dash\n",
        "from dash import Dash, dcc, html\n",
        "from dash.dependencies import Input, Output\n",
        "# vis\n",
        "import plotly.graph_objects as go\n",
        "import matplotlib.pyplot as plt"
      ]
    },
    {
      "cell_type": "code",
      "source": [
        "drive.mount('/content/drive') # mount google drive"
      ],
      "metadata": {
        "colab": {
          "base_uri": "https://localhost:8080/"
        },
        "id": "hmGJIvrt_Fya",
        "outputId": "8a7f1bc6-185f-42bc-d270-d6982999a70a"
      },
      "execution_count": null,
      "outputs": [
        {
          "output_type": "stream",
          "name": "stdout",
          "text": [
            "Mounted at /content/drive\n"
          ]
        }
      ]
    },
    {
      "cell_type": "code",
      "source": [
        "working_dir = '/content/drive/MyDrive/DataSets'\n",
        "os.chdir(working_dir)\n",
        "assert os.getcwd() == working_dir"
      ],
      "metadata": {
        "id": "vDQw2sX_nnX0"
      },
      "execution_count": null,
      "outputs": []
    },
    {
      "cell_type": "markdown",
      "source": [
        "# Basics"
      ],
      "metadata": {
        "id": "OFB4mn-Syj6W"
      }
    },
    {
      "cell_type": "markdown",
      "source": [
        "## Understand Data"
      ],
      "metadata": {
        "id": "VjGA5u5oL5dk"
      }
    },
    {
      "cell_type": "code",
      "source": [
        "try:\n",
        "  structure = Structure.from_file(f\"{ROOT}/examples/mp-18767-LiMnO2.cif\")\n",
        "except Exception:\n",
        "  from urllib.request import urlopen\n",
        "  url = \"https://raw.githubusercontent.com/CederGroupHub/chgnet/main/examples/mp-18767-LiMnO2.cif\"\n",
        "  cif = urlopen(url).read().decode(\"utf-8\")\n",
        "  structure = Structure.from_str(cif, fmt=\"cif\")\n",
        "print(structure)"
      ],
      "metadata": {
        "colab": {
          "base_uri": "https://localhost:8080/"
        },
        "id": "QgR4o1c9IrvP",
        "outputId": "819e0b0b-1251-46a6-b1bd-a86f42555cb2"
      },
      "execution_count": null,
      "outputs": [
        {
          "output_type": "stream",
          "name": "stdout",
          "text": [
            "Full Formula (Li2 Mn2 O4)\n",
            "Reduced Formula: LiMnO2\n",
            "abc   :   2.868779   4.634475   5.832507\n",
            "angles:  90.000000  90.000000  90.000000\n",
            "pbc   :       True       True       True\n",
            "Sites (8)\n",
            "  #  SP      a    b         c\n",
            "---  ----  ---  ---  --------\n",
            "  0  Li+   0.5  0.5  0.37975\n",
            "  1  Li+   0    0    0.62025\n",
            "  2  Mn3+  0.5  0.5  0.863252\n",
            "  3  Mn3+  0    0    0.136747\n",
            "  4  O2-   0.5  0    0.360824\n",
            "  5  O2-   0    0.5  0.098514\n",
            "  6  O2-   0.5  0    0.901486\n",
            "  7  O2-   0    0.5  0.639176\n"
          ]
        }
      ]
    },
    {
      "cell_type": "markdown",
      "source": [
        "## Model Predict of Energy, Force, Stress and Magmom"
      ],
      "metadata": {
        "id": "KbJ8lVmwqBy6"
      }
    },
    {
      "cell_type": "code",
      "source": [
        "chgnet = CHGNet.load()\n",
        "# chgnet = CHGNet.from_file(model_path)"
      ],
      "metadata": {
        "colab": {
          "base_uri": "https://localhost:8080/"
        },
        "id": "54ocsaFtrOcC",
        "outputId": "a2c3d001-1599-409d-8598-1a4a525566bb"
      },
      "execution_count": null,
      "outputs": [
        {
          "output_type": "stream",
          "name": "stdout",
          "text": [
            "CHGNet v0.3.0 initialized with 412,525 parameters\n",
            "CHGNet will run on cpu\n"
          ]
        }
      ]
    },
    {
      "cell_type": "code",
      "source": [
        "chgnet"
      ],
      "metadata": {
        "colab": {
          "base_uri": "https://localhost:8080/"
        },
        "id": "iw_lZWJKKUhi",
        "outputId": "e518f96d-0df5-4e2e-ed06-5af5efbd5d87"
      },
      "execution_count": null,
      "outputs": [
        {
          "output_type": "execute_result",
          "data": {
            "text/plain": [
              "CHGNet(\n",
              "  (composition_model): AtomRef(\n",
              "    (fc): Linear(in_features=94, out_features=1, bias=False)\n",
              "  )\n",
              "  (graph_converter): CrystalGraphConverter(algorithm='fast', atom_graph_cutoff=6, bond_graph_cutoff=3)\n",
              "  (atom_embedding): AtomEmbedding(\n",
              "    (embedding): Embedding(94, 64)\n",
              "  )\n",
              "  (bond_basis_expansion): BondEncoder(\n",
              "    (rbf_expansion_ag): RadialBessel(\n",
              "      (smooth_cutoff): CutoffPolynomial()\n",
              "    )\n",
              "    (rbf_expansion_bg): RadialBessel(\n",
              "      (smooth_cutoff): CutoffPolynomial()\n",
              "    )\n",
              "  )\n",
              "  (bond_embedding): Linear(in_features=31, out_features=64, bias=False)\n",
              "  (bond_weights_ag): Linear(in_features=31, out_features=64, bias=False)\n",
              "  (bond_weights_bg): Linear(in_features=31, out_features=64, bias=False)\n",
              "  (angle_basis_expansion): AngleEncoder(\n",
              "    (fourier_expansion): Fourier()\n",
              "  )\n",
              "  (angle_embedding): Linear(in_features=31, out_features=64, bias=False)\n",
              "  (atom_conv_layers): ModuleList(\n",
              "    (0-3): 4 x AtomConv(\n",
              "      (activation): SiLU()\n",
              "      (twoBody_atom): GatedMLP(\n",
              "        (mlp_core): MLP(\n",
              "          (layers): Sequential(\n",
              "            (0): Linear(in_features=192, out_features=64, bias=True)\n",
              "            (1): SiLU()\n",
              "            (2): Dropout(p=0, inplace=False)\n",
              "            (3): Linear(in_features=64, out_features=64, bias=True)\n",
              "          )\n",
              "        )\n",
              "        (mlp_gate): MLP(\n",
              "          (layers): Sequential(\n",
              "            (0): Linear(in_features=192, out_features=64, bias=True)\n",
              "            (1): SiLU()\n",
              "            (2): Dropout(p=0, inplace=False)\n",
              "            (3): Linear(in_features=64, out_features=64, bias=True)\n",
              "          )\n",
              "        )\n",
              "        (activation): SiLU()\n",
              "        (sigmoid): Sigmoid()\n",
              "        (bn1): LayerNorm((64,), eps=1e-05, elementwise_affine=True)\n",
              "        (bn2): LayerNorm((64,), eps=1e-05, elementwise_affine=True)\n",
              "      )\n",
              "      (mlp_out): MLP(\n",
              "        (layers): Sequential(\n",
              "          (0): Dropout(p=0, inplace=False)\n",
              "          (1): Linear(in_features=64, out_features=64, bias=False)\n",
              "        )\n",
              "      )\n",
              "    )\n",
              "  )\n",
              "  (bond_conv_layers): ModuleList(\n",
              "    (0-2): 3 x BondConv(\n",
              "      (activation): SiLU()\n",
              "      (twoBody_bond): GatedMLP(\n",
              "        (mlp_core): MLP(\n",
              "          (layers): Sequential(\n",
              "            (0): Linear(in_features=256, out_features=64, bias=True)\n",
              "            (1): SiLU()\n",
              "            (2): Dropout(p=0, inplace=False)\n",
              "            (3): Linear(in_features=64, out_features=64, bias=True)\n",
              "          )\n",
              "        )\n",
              "        (mlp_gate): MLP(\n",
              "          (layers): Sequential(\n",
              "            (0): Linear(in_features=256, out_features=64, bias=True)\n",
              "            (1): SiLU()\n",
              "            (2): Dropout(p=0, inplace=False)\n",
              "            (3): Linear(in_features=64, out_features=64, bias=True)\n",
              "          )\n",
              "        )\n",
              "        (activation): SiLU()\n",
              "        (sigmoid): Sigmoid()\n",
              "        (bn1): LayerNorm((64,), eps=1e-05, elementwise_affine=True)\n",
              "        (bn2): LayerNorm((64,), eps=1e-05, elementwise_affine=True)\n",
              "      )\n",
              "      (mlp_out): MLP(\n",
              "        (layers): Sequential(\n",
              "          (0): Dropout(p=0, inplace=False)\n",
              "          (1): Linear(in_features=64, out_features=64, bias=False)\n",
              "        )\n",
              "      )\n",
              "    )\n",
              "  )\n",
              "  (angle_layers): ModuleList(\n",
              "    (0-2): 3 x AngleUpdate(\n",
              "      (activation): SiLU()\n",
              "      (twoBody_bond): GatedMLP(\n",
              "        (mlp_core): MLP(\n",
              "          (layers): Sequential(\n",
              "            (0): Dropout(p=0, inplace=False)\n",
              "            (1): Linear(in_features=256, out_features=64, bias=True)\n",
              "          )\n",
              "        )\n",
              "        (mlp_gate): MLP(\n",
              "          (layers): Sequential(\n",
              "            (0): Dropout(p=0, inplace=False)\n",
              "            (1): Linear(in_features=256, out_features=64, bias=True)\n",
              "          )\n",
              "        )\n",
              "        (activation): SiLU()\n",
              "        (sigmoid): Sigmoid()\n",
              "        (bn1): LayerNorm((64,), eps=1e-05, elementwise_affine=True)\n",
              "        (bn2): LayerNorm((64,), eps=1e-05, elementwise_affine=True)\n",
              "      )\n",
              "    )\n",
              "  )\n",
              "  (site_wise): Linear(in_features=64, out_features=1, bias=True)\n",
              "  (readout_norm): LayerNorm((64,), eps=1e-05, elementwise_affine=True)\n",
              "  (pooling): GraphPooling()\n",
              "  (mlp): MLP(\n",
              "    (layers): Sequential(\n",
              "      (0): Linear(in_features=64, out_features=64, bias=True)\n",
              "      (1): SiLU()\n",
              "      (2): Linear(in_features=64, out_features=64, bias=True)\n",
              "      (3): SiLU()\n",
              "      (4): Linear(in_features=64, out_features=64, bias=True)\n",
              "      (5): SiLU()\n",
              "      (6): Dropout(p=0, inplace=False)\n",
              "      (7): Linear(in_features=64, out_features=1, bias=True)\n",
              "    )\n",
              "  )\n",
              ")"
            ]
          },
          "metadata": {},
          "execution_count": 17
        }
      ]
    },
    {
      "cell_type": "code",
      "source": [
        "list(chgnet.children())"
      ],
      "metadata": {
        "colab": {
          "base_uri": "https://localhost:8080/"
        },
        "id": "XNO418FWPJN3",
        "outputId": "c4701a11-f740-473b-fae0-bd632a15ff4a"
      },
      "execution_count": null,
      "outputs": [
        {
          "output_type": "execute_result",
          "data": {
            "text/plain": [
              "[AtomRef(\n",
              "   (fc): Linear(in_features=94, out_features=1, bias=False)\n",
              " ),\n",
              " CrystalGraphConverter(algorithm='fast', atom_graph_cutoff=6, bond_graph_cutoff=3),\n",
              " AtomEmbedding(\n",
              "   (embedding): Embedding(94, 64)\n",
              " ),\n",
              " BondEncoder(\n",
              "   (rbf_expansion_ag): RadialBessel(\n",
              "     (smooth_cutoff): CutoffPolynomial()\n",
              "   )\n",
              "   (rbf_expansion_bg): RadialBessel(\n",
              "     (smooth_cutoff): CutoffPolynomial()\n",
              "   )\n",
              " ),\n",
              " Linear(in_features=31, out_features=64, bias=False),\n",
              " Linear(in_features=31, out_features=64, bias=False),\n",
              " Linear(in_features=31, out_features=64, bias=False),\n",
              " AngleEncoder(\n",
              "   (fourier_expansion): Fourier()\n",
              " ),\n",
              " Linear(in_features=31, out_features=64, bias=False),\n",
              " ModuleList(\n",
              "   (0-3): 4 x AtomConv(\n",
              "     (activation): SiLU()\n",
              "     (twoBody_atom): GatedMLP(\n",
              "       (mlp_core): MLP(\n",
              "         (layers): Sequential(\n",
              "           (0): Linear(in_features=192, out_features=64, bias=True)\n",
              "           (1): SiLU()\n",
              "           (2): Dropout(p=0, inplace=False)\n",
              "           (3): Linear(in_features=64, out_features=64, bias=True)\n",
              "         )\n",
              "       )\n",
              "       (mlp_gate): MLP(\n",
              "         (layers): Sequential(\n",
              "           (0): Linear(in_features=192, out_features=64, bias=True)\n",
              "           (1): SiLU()\n",
              "           (2): Dropout(p=0, inplace=False)\n",
              "           (3): Linear(in_features=64, out_features=64, bias=True)\n",
              "         )\n",
              "       )\n",
              "       (activation): SiLU()\n",
              "       (sigmoid): Sigmoid()\n",
              "       (bn1): LayerNorm((64,), eps=1e-05, elementwise_affine=True)\n",
              "       (bn2): LayerNorm((64,), eps=1e-05, elementwise_affine=True)\n",
              "     )\n",
              "     (mlp_out): MLP(\n",
              "       (layers): Sequential(\n",
              "         (0): Dropout(p=0, inplace=False)\n",
              "         (1): Linear(in_features=64, out_features=64, bias=False)\n",
              "       )\n",
              "     )\n",
              "   )\n",
              " ),\n",
              " ModuleList(\n",
              "   (0-2): 3 x BondConv(\n",
              "     (activation): SiLU()\n",
              "     (twoBody_bond): GatedMLP(\n",
              "       (mlp_core): MLP(\n",
              "         (layers): Sequential(\n",
              "           (0): Linear(in_features=256, out_features=64, bias=True)\n",
              "           (1): SiLU()\n",
              "           (2): Dropout(p=0, inplace=False)\n",
              "           (3): Linear(in_features=64, out_features=64, bias=True)\n",
              "         )\n",
              "       )\n",
              "       (mlp_gate): MLP(\n",
              "         (layers): Sequential(\n",
              "           (0): Linear(in_features=256, out_features=64, bias=True)\n",
              "           (1): SiLU()\n",
              "           (2): Dropout(p=0, inplace=False)\n",
              "           (3): Linear(in_features=64, out_features=64, bias=True)\n",
              "         )\n",
              "       )\n",
              "       (activation): SiLU()\n",
              "       (sigmoid): Sigmoid()\n",
              "       (bn1): LayerNorm((64,), eps=1e-05, elementwise_affine=True)\n",
              "       (bn2): LayerNorm((64,), eps=1e-05, elementwise_affine=True)\n",
              "     )\n",
              "     (mlp_out): MLP(\n",
              "       (layers): Sequential(\n",
              "         (0): Dropout(p=0, inplace=False)\n",
              "         (1): Linear(in_features=64, out_features=64, bias=False)\n",
              "       )\n",
              "     )\n",
              "   )\n",
              " ),\n",
              " ModuleList(\n",
              "   (0-2): 3 x AngleUpdate(\n",
              "     (activation): SiLU()\n",
              "     (twoBody_bond): GatedMLP(\n",
              "       (mlp_core): MLP(\n",
              "         (layers): Sequential(\n",
              "           (0): Dropout(p=0, inplace=False)\n",
              "           (1): Linear(in_features=256, out_features=64, bias=True)\n",
              "         )\n",
              "       )\n",
              "       (mlp_gate): MLP(\n",
              "         (layers): Sequential(\n",
              "           (0): Dropout(p=0, inplace=False)\n",
              "           (1): Linear(in_features=256, out_features=64, bias=True)\n",
              "         )\n",
              "       )\n",
              "       (activation): SiLU()\n",
              "       (sigmoid): Sigmoid()\n",
              "       (bn1): LayerNorm((64,), eps=1e-05, elementwise_affine=True)\n",
              "       (bn2): LayerNorm((64,), eps=1e-05, elementwise_affine=True)\n",
              "     )\n",
              "   )\n",
              " ),\n",
              " Linear(in_features=64, out_features=1, bias=True),\n",
              " LayerNorm((64,), eps=1e-05, elementwise_affine=True),\n",
              " GraphPooling(),\n",
              " MLP(\n",
              "   (layers): Sequential(\n",
              "     (0): Linear(in_features=64, out_features=64, bias=True)\n",
              "     (1): SiLU()\n",
              "     (2): Linear(in_features=64, out_features=64, bias=True)\n",
              "     (3): SiLU()\n",
              "     (4): Linear(in_features=64, out_features=64, bias=True)\n",
              "     (5): SiLU()\n",
              "     (6): Dropout(p=0, inplace=False)\n",
              "     (7): Linear(in_features=64, out_features=1, bias=True)\n",
              "   )\n",
              " )]"
            ]
          },
          "metadata": {},
          "execution_count": 31
        }
      ]
    },
    {
      "cell_type": "code",
      "source": [
        "prediction = chgnet.predict_structure(structure)\n",
        "for key, unit in [\n",
        "    (\"energy\", \"eV/atom\"),\n",
        "    (\"forces\", \"eV/A\"),\n",
        "    (\"stress\", \"GPa\"),\n",
        "    (\"magmom\", \"mu_B\"),\n",
        "    ]:\n",
        "    print(f\"CHGNet-predicted {key} ({unit}):\\n{prediction[key[0]]}\\n\")"
      ],
      "metadata": {
        "colab": {
          "base_uri": "https://localhost:8080/"
        },
        "id": "qvaoxeICrOfs",
        "outputId": "6955d47d-9e0a-43fe-a74e-ae1443bd50ca"
      },
      "execution_count": null,
      "outputs": [
        {
          "output_type": "stream",
          "name": "stdout",
          "text": [
            "CHGNet-predicted energy (eV/atom):\n",
            "-7.340123653411865\n",
            "\n",
            "CHGNet-predicted forces (eV/A):\n",
            "[[-0.04293664 -0.02978614 -0.22685434]\n",
            " [-0.08784267 -0.08406013  0.18419611]\n",
            " [-1.105804    0.5264675   0.86177063]\n",
            " [ 0.09648013 -0.4459046  -1.4921265 ]\n",
            " [ 0.03801006 -0.12903799  0.43026733]\n",
            " [ 0.45403957 -0.2258324  -0.26153243]\n",
            " [-0.12351727  0.43899187  0.8147239 ]\n",
            " [ 0.77157104 -0.05083788 -0.31044382]]\n",
            "\n",
            "CHGNet-predicted stress (GPa):\n",
            "[[-1.5445096  -0.06415848  0.42967317]\n",
            " [-0.064158    1.5260851   1.0443631 ]\n",
            " [ 0.42967778  1.0443634   0.21450236]]\n",
            "\n",
            "CHGNet-predicted magmom (mu_B):\n",
            "[3.2862574e-03 2.9201210e-03 3.8372707e+00 3.9001379e+00 3.2951847e-02\n",
            " 4.7907040e-02 6.1325356e-02 3.2906741e-02]\n",
            "\n"
          ]
        }
      ]
    },
    {
      "cell_type": "markdown",
      "source": [
        "## Structure Optimization"
      ],
      "metadata": {
        "id": "aA3MiJZlsJBo"
      }
    },
    {
      "cell_type": "code",
      "source": [
        "relaxer = StructOptimizer()\n",
        "structure.perturb(0.1)\n",
        "result = relaxer.relax(structure, verbose=True)\n",
        "print(\"Relaxed structure:\\n\")\n",
        "print(result[\"final_structure\"])"
      ],
      "metadata": {
        "colab": {
          "base_uri": "https://localhost:8080/"
        },
        "id": "UfU2pYYbsMo7",
        "outputId": "deba7fb2-549b-41c5-ccf8-51f0ec896197"
      },
      "execution_count": null,
      "outputs": [
        {
          "output_type": "stream",
          "name": "stdout",
          "text": [
            "CHGNet v0.3.0 initialized with 412,525 parameters\n",
            "CHGNet will run on cpu\n",
            "      Step     Time          Energy          fmax\n",
            "FIRE:    0 16:14:16      -58.720989        1.560314\n",
            "FIRE:    1 16:14:17      -58.781406        1.182815\n",
            "FIRE:    2 16:14:17      -58.852093        0.712389\n",
            "FIRE:    3 16:14:17      -58.889912        0.433596\n",
            "FIRE:    4 16:14:18      -58.892323        0.828314\n",
            "FIRE:    5 16:14:18      -58.895958        0.772439\n",
            "FIRE:    6 16:14:19      -58.902355        0.662479\n",
            "FIRE:    7 16:14:19      -58.910015        0.502124\n",
            "FIRE:    8 16:14:19      -58.917030        0.300984\n",
            "FIRE:    9 16:14:20      -58.921989        0.194035\n",
            "FIRE:   10 16:14:20      -58.924450        0.199374\n",
            "FIRE:   11 16:14:21      -58.925209        0.275158\n",
            "FIRE:   12 16:14:21      -58.925346        0.270478\n",
            "FIRE:   13 16:14:21      -58.925617        0.261289\n",
            "FIRE:   14 16:14:22      -58.926010        0.247876\n",
            "FIRE:   15 16:14:22      -58.926506        0.230529\n",
            "FIRE:   16 16:14:23      -58.927082        0.213659\n",
            "FIRE:   17 16:14:23      -58.927719        0.202829\n",
            "FIRE:   18 16:14:23      -58.928387        0.191160\n",
            "FIRE:   19 16:14:23      -58.929146        0.178467\n",
            "FIRE:   20 16:14:24      -58.929958        0.165895\n",
            "FIRE:   21 16:14:24      -58.930809        0.154540\n",
            "FIRE:   22 16:14:25      -58.931671        0.147372\n",
            "FIRE:   23 16:14:25      -58.932541        0.145619\n",
            "FIRE:   24 16:14:26      -58.933460        0.145634\n",
            "FIRE:   25 16:14:28      -58.934490        0.144450\n",
            "FIRE:   26 16:14:28      -58.935715        0.137819\n",
            "FIRE:   27 16:14:29      -58.937138        0.123990\n",
            "FIRE:   28 16:14:30      -58.938641        0.095090\n",
            "Relaxed structure:\n",
            "\n",
            "Full Formula (Li2 Mn2 O4)\n",
            "Reduced Formula: LiMnO2\n",
            "abc   :   2.872688   4.630496   5.834364\n",
            "angles:  90.104957  89.898821  89.981923\n",
            "pbc   :       True       True       True\n",
            "Sites (8)\n",
            "  #  SP           a          b         c      magmom\n",
            "---  ----  --------  ---------  --------  ----------\n",
            "  0  Li+   0.489285   0.5019    0.388983  0.00284743\n",
            "  1  Li+   0.008493   0.015554  0.621968  0.00276825\n",
            "  2  Mn3+  0.491394   0.497705  0.870198  3.87217\n",
            "  3  Mn3+  0.990034  -0.000521  0.137649  3.87348\n",
            "  4  O2-   0.489921   0.004715  0.362683  0.0465327\n",
            "  5  O2-   0.989074   0.499782  0.104308  0.0384445\n",
            "  6  O2-   0.490941   0.994573  0.903863  0.0376489\n",
            "  7  O2-   0.992882   0.486769  0.645614  0.0445044\n"
          ]
        }
      ]
    },
    {
      "cell_type": "markdown",
      "source": [
        "## Molecular Dynamics"
      ],
      "metadata": {
        "id": "-njyBtcIsVlN"
      }
    },
    {
      "cell_type": "code",
      "source": [
        "md = MolecularDynamics(\n",
        "    atoms=structure,\n",
        "    model=chgnet,\n",
        "    ensemble=\"nvt\",\n",
        "    temperature=1000,  # in k\n",
        "    timestep=2,  # in fs\n",
        "    trajectory=\"md_out.traj\",\n",
        "    logfile=\"md_out.log\",\n",
        "    loginterval=100,\n",
        "    )\n",
        "md.run(50)  # run a 0.1 ps MD simulation"
      ],
      "metadata": {
        "colab": {
          "base_uri": "https://localhost:8080/"
        },
        "id": "DlTSh6hVsY97",
        "outputId": "3e4998ac-9cc1-48e5-d565-01eda074c033"
      },
      "execution_count": null,
      "outputs": [
        {
          "output_type": "stream",
          "name": "stdout",
          "text": [
            "CHGNet will run on cpu\n",
            "NVT-Berendsen-MD created\n"
          ]
        }
      ]
    },
    {
      "cell_type": "markdown",
      "source": [
        "## Magmom Visualization"
      ],
      "metadata": {
        "id": "Sb9E88d-siOr"
      }
    },
    {
      "cell_type": "code",
      "source": [
        "supercell = structure.make_supercell([2, 2, 2], in_place=False)\n",
        "print(supercell.composition)"
      ],
      "metadata": {
        "colab": {
          "base_uri": "https://localhost:8080/"
        },
        "id": "rPWlpUBWslGx",
        "outputId": "6588a070-04c5-4df5-acf4-8d6cfa37bf46"
      },
      "execution_count": null,
      "outputs": [
        {
          "output_type": "stream",
          "name": "stdout",
          "text": [
            "Li+16 Mn3+16 O2-32\n"
          ]
        }
      ]
    },
    {
      "cell_type": "code",
      "source": [
        "n_Li = int(supercell.composition[\"Li+\"])\n",
        "remove_ids = random.sample(list(range(n_Li)), n_Li // 2)\n",
        "supercell.remove_sites(remove_ids)\n",
        "print(supercell.composition)"
      ],
      "metadata": {
        "colab": {
          "base_uri": "https://localhost:8080/"
        },
        "id": "onRhpd-EslPY",
        "outputId": "0ba533b5-f440-40e0-d753-587d6ea2223b"
      },
      "execution_count": null,
      "outputs": [
        {
          "output_type": "stream",
          "name": "stdout",
          "text": [
            "Li+8 Mn3+16 O2-32\n"
          ]
        }
      ]
    },
    {
      "cell_type": "code",
      "source": [
        "result = relaxer.relax(supercell)"
      ],
      "metadata": {
        "colab": {
          "base_uri": "https://localhost:8080/"
        },
        "id": "PoYgJPKzslSy",
        "outputId": "c0a0dd22-e207-42fa-b4e4-220ed869c1fa"
      },
      "execution_count": null,
      "outputs": [
        {
          "output_type": "stream",
          "name": "stdout",
          "text": [
            "      Step     Time          Energy          fmax\n",
            "FIRE:    0 16:14:43     -424.299992        2.241214\n",
            "FIRE:    1 16:14:44     -425.079742        1.897576\n",
            "FIRE:    2 16:14:46     -426.209221        1.298713\n",
            "FIRE:    3 16:14:47     -427.019039        0.802441\n",
            "FIRE:    4 16:14:48     -427.336456        1.061682\n",
            "FIRE:    5 16:14:49     -427.280060        1.116925\n",
            "FIRE:    6 16:14:51     -427.331356        1.040043\n",
            "FIRE:    7 16:14:52     -427.422253        0.908461\n",
            "FIRE:    8 16:14:53     -427.532722        0.735843\n",
            "FIRE:    9 16:14:54     -427.640148        0.566146\n",
            "FIRE:   10 16:14:55     -427.728268        0.471243\n",
            "FIRE:   11 16:14:56     -427.787521        0.390542\n",
            "FIRE:   12 16:14:58     -427.819778        0.362161\n",
            "FIRE:   13 16:15:00     -427.838898        0.450673\n",
            "FIRE:   14 16:15:01     -427.857243        0.511071\n",
            "FIRE:   15 16:15:02     -427.887791        0.526382\n",
            "FIRE:   16 16:15:03     -427.938847        0.489472\n",
            "FIRE:   17 16:15:04     -428.009369        0.418503\n",
            "FIRE:   18 16:15:05     -428.088196        0.488195\n",
            "FIRE:   19 16:15:07     -428.164352        0.644688\n",
            "FIRE:   20 16:15:08     -428.241364        0.822749\n",
            "FIRE:   21 16:15:09     -428.354450        0.895464\n",
            "FIRE:   22 16:15:10     -428.539448        0.693014\n",
            "FIRE:   23 16:15:12     -428.715580        0.650859\n",
            "FIRE:   24 16:15:13     -428.758492        1.120234\n",
            "FIRE:   25 16:15:15     -428.787411        1.007926\n",
            "FIRE:   26 16:15:16     -428.834888        0.835523\n",
            "FIRE:   27 16:15:17     -428.886772        0.612573\n",
            "FIRE:   28 16:15:18     -428.929470        0.347101\n",
            "FIRE:   29 16:15:20     -428.958042        0.307198\n",
            "FIRE:   30 16:15:21     -428.977295        0.310105\n",
            "FIRE:   31 16:15:22     -428.993797        0.335006\n",
            "FIRE:   32 16:15:23     -429.013557        0.427327\n",
            "FIRE:   33 16:15:24     -429.040874        0.444612\n",
            "FIRE:   34 16:15:25     -429.078766        0.405766\n",
            "FIRE:   35 16:15:27     -429.122372        0.387589\n",
            "FIRE:   36 16:15:28     -429.165684        0.313356\n",
            "FIRE:   37 16:15:30     -429.201012        0.246100\n",
            "FIRE:   38 16:15:31     -429.213642        0.394271\n",
            "FIRE:   39 16:15:32     -429.218475        0.367652\n",
            "FIRE:   40 16:15:33     -429.226967        0.314519\n",
            "FIRE:   41 16:15:35     -429.237221        0.247057\n",
            "FIRE:   42 16:15:36     -429.247341        0.228484\n",
            "FIRE:   43 16:15:37     -429.256046        0.234826\n",
            "FIRE:   44 16:15:38     -429.262829        0.240886\n",
            "FIRE:   45 16:15:39     -429.268116        0.246827\n",
            "FIRE:   46 16:15:41     -429.273617        0.251215\n",
            "FIRE:   47 16:15:42     -429.280373        0.255445\n",
            "FIRE:   48 16:15:44     -429.289158        0.258267\n",
            "FIRE:   49 16:15:45     -429.300293        0.258766\n",
            "FIRE:   50 16:15:47     -429.313110        0.255628\n",
            "FIRE:   51 16:15:48     -429.327637        0.250142\n",
            "FIRE:   52 16:15:49     -429.344139        0.241725\n",
            "FIRE:   53 16:15:50     -429.363979        0.234506\n",
            "FIRE:   54 16:15:51     -429.388466        0.228984\n",
            "FIRE:   55 16:15:52     -429.417545        0.226723\n",
            "FIRE:   56 16:15:54     -429.449722        0.223431\n",
            "FIRE:   57 16:15:55     -429.486706        0.217427\n",
            "FIRE:   58 16:15:56     -429.531513        0.205010\n",
            "FIRE:   59 16:15:58     -429.579311        0.198502\n",
            "FIRE:   60 16:16:00     -429.628071        0.384776\n",
            "FIRE:   61 16:16:01     -429.691383        0.499023\n",
            "FIRE:   62 16:16:02     -429.788769        0.516437\n",
            "FIRE:   63 16:16:03     -429.844898        0.500112\n",
            "FIRE:   64 16:16:05     -429.869091        0.301587\n",
            "FIRE:   65 16:16:06     -429.874405        0.182067\n",
            "FIRE:   66 16:16:07     -429.878998        0.166956\n",
            "FIRE:   67 16:16:08     -429.880173        0.244573\n",
            "FIRE:   68 16:16:10     -429.880974        0.216924\n",
            "FIRE:   69 16:16:11     -429.882362        0.166307\n",
            "FIRE:   70 16:16:12     -429.883858        0.166231\n",
            "FIRE:   71 16:16:16     -429.885033        0.166320\n",
            "FIRE:   72 16:16:18     -429.885941        0.166695\n",
            "FIRE:   73 16:16:19     -429.886875        0.167121\n",
            "FIRE:   74 16:16:20     -429.888103        0.167408\n",
            "FIRE:   75 16:16:21     -429.889946        0.167455\n",
            "FIRE:   76 16:16:22     -429.892403        0.167221\n",
            "FIRE:   77 16:16:24     -429.895153        0.166764\n",
            "FIRE:   78 16:16:25     -429.897850        0.166186\n",
            "FIRE:   79 16:16:26     -429.900974        0.165333\n",
            "FIRE:   80 16:16:28     -429.905220        0.164216\n",
            "FIRE:   81 16:16:30     -429.910187        0.163094\n",
            "FIRE:   82 16:16:31     -429.915741        0.162427\n",
            "FIRE:   83 16:16:32     -429.922577        0.160822\n",
            "FIRE:   84 16:16:35     -429.930721        0.158346\n",
            "FIRE:   85 16:16:37     -429.940308        0.155439\n",
            "FIRE:   86 16:16:40     -429.951763        0.154447\n",
            "FIRE:   87 16:16:41     -429.965782        0.155460\n",
            "FIRE:   88 16:16:42     -429.982365        0.155353\n",
            "FIRE:   89 16:16:45     -430.003407        0.158676\n",
            "FIRE:   90 16:16:48     -430.035717        0.229170\n",
            "FIRE:   91 16:16:50     -430.094704        0.436932\n",
            "FIRE:   92 16:16:52     -430.174625        0.199625\n",
            "FIRE:   93 16:16:55     -430.181114        0.564104\n",
            "FIRE:   94 16:16:56     -430.202076        0.379236\n",
            "FIRE:   95 16:16:58     -430.214973        0.213986\n",
            "FIRE:   96 16:16:59     -430.219780        0.207126\n",
            "FIRE:   97 16:17:01     -430.221462        0.168084\n",
            "FIRE:   98 16:17:02     -430.224026        0.140978\n",
            "FIRE:   99 16:17:04     -430.226536        0.140934\n",
            "FIRE:  100 16:17:05     -430.228405        0.140542\n",
            "FIRE:  101 16:17:06     -430.229900        0.139913\n",
            "FIRE:  102 16:17:07     -430.231529        0.139422\n",
            "FIRE:  103 16:17:09     -430.233452        0.138806\n",
            "FIRE:  104 16:17:10     -430.235989        0.138795\n",
            "FIRE:  105 16:17:11     -430.239540        0.139801\n",
            "FIRE:  106 16:17:13     -430.244747        0.140885\n",
            "FIRE:  107 16:17:15     -430.251476        0.141233\n",
            "FIRE:  108 16:17:16     -430.259487        0.141422\n",
            "FIRE:  109 16:17:18     -430.270542        0.142749\n",
            "FIRE:  110 16:17:19     -430.284428        0.140161\n",
            "FIRE:  111 16:17:20     -430.298500        0.135587\n",
            "FIRE:  112 16:17:22     -430.310570        0.128092\n",
            "FIRE:  113 16:17:23     -430.322132        0.172788\n",
            "FIRE:  114 16:17:24     -430.336765        0.201133\n",
            "FIRE:  115 16:17:25     -430.356499        0.160914\n",
            "FIRE:  116 16:17:26     -430.381172        0.114208\n",
            "FIRE:  117 16:17:28     -430.409584        0.149291\n",
            "FIRE:  118 16:17:30     -430.428917        0.331848\n",
            "FIRE:  119 16:17:31     -430.447021        0.121400\n",
            "FIRE:  120 16:17:33     -430.441254        0.305509\n",
            "FIRE:  121 16:17:34     -430.447235        0.226574\n",
            "FIRE:  122 16:17:35     -430.453831        0.118973\n",
            "FIRE:  123 16:17:36     -430.455780        0.119176\n",
            "FIRE:  124 16:17:38     -430.455967        0.119181\n",
            "FIRE:  125 16:17:39     -430.456367        0.119209\n",
            "FIRE:  126 16:17:40     -430.456955        0.120231\n",
            "FIRE:  127 16:17:42     -430.457596        0.122704\n",
            "FIRE:  128 16:17:43     -430.458370        0.124985\n",
            "FIRE:  129 16:17:45     -430.459171        0.124893\n",
            "FIRE:  130 16:17:46     -430.459999        0.125119\n",
            "FIRE:  131 16:17:48     -430.461040        0.121837\n",
            "FIRE:  132 16:17:49     -430.462376        0.120768\n",
            "FIRE:  133 16:17:51     -430.464111        0.119470\n",
            "FIRE:  134 16:17:52     -430.466221        0.119554\n",
            "FIRE:  135 16:17:53     -430.468704        0.119747\n",
            "FIRE:  136 16:17:54     -430.471508        0.120023\n",
            "FIRE:  137 16:17:56     -430.474606        0.120413\n",
            "FIRE:  138 16:17:57     -430.478024        0.120475\n",
            "FIRE:  139 16:17:59     -430.481815        0.120360\n",
            "FIRE:  140 16:18:00     -430.485874        0.120114\n",
            "FIRE:  141 16:18:02     -430.490547        0.119631\n",
            "FIRE:  142 16:18:03     -430.495754        0.119350\n",
            "FIRE:  143 16:18:04     -430.501308        0.119444\n",
            "FIRE:  144 16:18:06     -430.507931        0.119097\n",
            "FIRE:  145 16:18:07     -430.515915        0.117966\n",
            "FIRE:  146 16:18:08     -430.525768        0.117276\n",
            "FIRE:  147 16:18:09     -430.537357        0.117061\n",
            "FIRE:  148 16:18:11     -430.550709        0.114252\n",
            "FIRE:  149 16:18:12     -430.565796        0.115830\n",
            "FIRE:  150 16:18:13     -430.581577        0.194960\n",
            "FIRE:  151 16:18:15     -430.591751        0.509627\n",
            "FIRE:  152 16:18:17     -430.604221        0.113814\n",
            "FIRE:  153 16:18:18     -430.597118        0.404121\n",
            "FIRE:  154 16:18:19     -430.600723        0.330653\n",
            "FIRE:  155 16:18:20     -430.605183        0.174065\n",
            "FIRE:  156 16:18:22     -430.606758        0.114882\n",
            "FIRE:  157 16:18:23     -430.606838        0.114787\n",
            "FIRE:  158 16:18:25     -430.606945        0.114602\n",
            "FIRE:  159 16:18:26     -430.607105        0.114333\n",
            "FIRE:  160 16:18:27     -430.607265        0.114008\n",
            "FIRE:  161 16:18:29     -430.607479        0.113651\n",
            "FIRE:  162 16:18:31     -430.607719        0.113308\n",
            "FIRE:  163 16:18:33     -430.607960        0.113000\n",
            "FIRE:  164 16:18:34     -430.608280        0.112751\n",
            "FIRE:  165 16:18:35     -430.608654        0.112616\n",
            "FIRE:  166 16:18:36     -430.609161        0.112658\n",
            "FIRE:  167 16:18:38     -430.609776        0.112893\n",
            "FIRE:  168 16:18:39     -430.610577        0.113309\n",
            "FIRE:  169 16:18:40     -430.611485        0.113772\n",
            "FIRE:  170 16:18:42     -430.612526        0.114033\n",
            "FIRE:  171 16:18:44     -430.613861        0.113880\n",
            "FIRE:  172 16:18:46     -430.615517        0.113232\n",
            "FIRE:  173 16:18:48     -430.617466        0.112345\n",
            "FIRE:  174 16:18:49     -430.619789        0.111798\n",
            "FIRE:  175 16:18:51     -430.622673        0.111912\n",
            "FIRE:  176 16:18:52     -430.626118        0.111992\n",
            "FIRE:  177 16:18:53     -430.630283        0.110956\n",
            "FIRE:  178 16:18:55     -430.635330        0.109388\n",
            "FIRE:  179 16:18:56     -430.641445        0.109320\n",
            "FIRE:  180 16:18:58     -430.648815        0.108489\n",
            "FIRE:  181 16:19:00     -430.657627        0.105817\n",
            "FIRE:  182 16:19:01     -430.668041        0.106819\n",
            "FIRE:  183 16:19:03     -430.679684        0.121899\n",
            "FIRE:  184 16:19:04     -430.690231        0.296623\n",
            "FIRE:  185 16:19:06     -430.687241        0.743646\n",
            "FIRE:  186 16:19:08     -430.710339        0.098501\n"
          ]
        }
      ]
    },
    {
      "cell_type": "code",
      "source": [
        "result"
      ],
      "metadata": {
        "colab": {
          "base_uri": "https://localhost:8080/"
        },
        "id": "Kle5htBHl3f2",
        "outputId": "7d5232f0-0223-4f15-f315-fd62fc057d10"
      },
      "execution_count": null,
      "outputs": [
        {
          "output_type": "execute_result",
          "data": {
            "text/plain": [
              "{'final_structure': Structure Summary\n",
              " Lattice\n",
              "     abc : 5.787193261540743 8.496929304156444 12.463578571872494\n",
              "  angles : 90.26840692426829 90.19349629518996 89.99170894889954\n",
              "  volume : 612.8659608384035\n",
              "       A : 5.787184566398657 0.00039533550916022946 -0.010024199200492436\n",
              "       B : 0.0006103839957841055 8.496899857199896 -0.022361663182474765\n",
              "       C : -0.020501021297269707 -0.0255843722055762 12.463535452080354\n",
              "     pbc : True True True\n",
              " PeriodicSite: Li+ (1.495, 2.246, 2.516) [0.259, 0.2649, 0.2026]\n",
              " PeriodicSite: Li+ (1.846, 6.31, 2.662) [0.3196, 0.7433, 0.2151]\n",
              " PeriodicSite: Li+ (4.297, 2.325, 9.045) [0.7451, 0.2757, 0.7268]\n",
              " PeriodicSite: Li+ (4.298, 6.013, 8.817) [0.7451, 0.7098, 0.7093]\n",
              " PeriodicSite: Li+ (-0.1478, -0.134, 3.652) [-0.02451, -0.01489, 0.2929]\n",
              " PeriodicSite: Li+ (0.005853, 0.04572, 9.909) [0.003827, 0.007775, 0.7951]\n",
              " PeriodicSite: Li+ (-0.3524, 4.438, 3.625) [-0.05992, 0.5231, 0.2918]\n",
              " PeriodicSite: Li+ (2.801, 0.04788, 9.916) [0.4869, 0.008009, 0.796]\n",
              " PeriodicSite: Mn3+ (1.397, 2.075, 5.235) [0.2428, 0.2455, 0.4206]\n",
              " PeriodicSite: Mn3+ (1.42, 2.099, 11.72) [0.2486, 0.2499, 0.9409]\n",
              " PeriodicSite: Mn3+ (1.396, 6.346, 5.553) [0.2427, 0.7482, 0.4471]\n",
              " PeriodicSite: Mn3+ (1.412, 6.284, 11.37) [0.2471, 0.7423, 0.9137]\n",
              " PeriodicSite: Mn3+ (4.263, 2.09, 5.121) [0.7381, 0.2472, 0.4119]\n",
              " PeriodicSite: Mn3+ (4.308, 2.081, 11.82) [0.7477, 0.2477, 0.9491]\n",
              " PeriodicSite: Mn3+ (4.274, 6.35, 5.496) [0.74, 0.7486, 0.4429]\n",
              " PeriodicSite: Mn3+ (4.295, 6.343, 11.5) [0.7454, 0.7492, 0.9249]\n",
              " PeriodicSite: Mn3+ (2.902, -0.04804, 1.037) [0.5017, -0.005425, 0.08357]\n",
              " PeriodicSite: Mn3+ (2.835, 0.06242, 7.216) [0.4918, 0.009068, 0.5794]\n",
              " PeriodicSite: Mn3+ (2.894, 4.272, 0.8166) [0.5002, 0.5029, 0.06683]\n",
              " PeriodicSite: Mn3+ (2.829, 4.166, 6.978) [0.4908, 0.492, 0.5611]\n",
              " PeriodicSite: Mn3+ (5.786, -0.1167, 0.9297) [1.0, -0.01355, 0.07537]\n",
              " PeriodicSite: Mn3+ (5.743, 0.0644, 7.224) [0.9943, 0.009281, 0.5804]\n",
              " PeriodicSite: Mn3+ (5.78, 4.276, 0.7659) [0.9989, 0.5033, 0.06316]\n",
              " PeriodicSite: Mn3+ (5.75, 4.171, 6.98) [0.9955, 0.4925, 0.5617]\n",
              " PeriodicSite: O2- (1.403, -0.2561, 2.207) [0.2431, -0.02962, 0.1772]\n",
              " PeriodicSite: O2- (1.405, 0.1765, 8.464) [0.2451, 0.0228, 0.6793]\n",
              " PeriodicSite: O2- (1.405, 4.367, 2.055) [0.2434, 0.5144, 0.166]\n",
              " PeriodicSite: O2- (1.408, 4.054, 8.148) [0.2455, 0.479, 0.6548]\n",
              " PeriodicSite: O2- (4.384, -0.2522, 2.166) [0.7582, -0.02919, 0.1743]\n",
              " PeriodicSite: O2- (4.287, 0.2785, 8.476) [0.7431, 0.03479, 0.6808]\n",
              " PeriodicSite: O2- (4.372, 4.393, 1.985) [0.756, 0.5175, 0.1608]\n",
              " PeriodicSite: O2- (4.288, 4.095, 8.204) [0.7433, 0.4839, 0.6597]\n",
              " PeriodicSite: O2- (2.839, 2.276, 0.6818) [0.4907, 0.2681, 0.05558]\n",
              " PeriodicSite: O2- (2.875, 2.25, 6.547) [0.4986, 0.2664, 0.5262]\n",
              " PeriodicSite: O2- (2.832, 6.186, 0.3626) [0.4894, 0.7282, 0.03079]\n",
              " PeriodicSite: O2- (2.875, 6.165, 6.885) [0.4986, 0.7272, 0.5541]\n",
              " PeriodicSite: O2- (5.829, 2.288, 0.6525) [1.007, 0.2694, 0.05364]\n",
              " PeriodicSite: O2- (5.694, 2.252, 6.533) [0.9857, 0.2666, 0.5254]\n",
              " PeriodicSite: O2- (5.814, 6.179, 0.3128) [1.005, 0.7273, 0.02721]\n",
              " PeriodicSite: O2- (5.694, 6.167, 6.875) [0.9857, 0.7274, 0.5537]\n",
              " PeriodicSite: O2- (1.376, 4.376, 5.627) [0.2394, 0.5164, 0.4526]\n",
              " PeriodicSite: O2- (1.438, 4.064, 11.91) [0.2519, 0.4812, 0.9563]\n",
              " PeriodicSite: O2- (1.377, 8.291, 5.875) [0.2394, 0.9772, 0.4733]\n",
              " PeriodicSite: O2- (1.446, 8.642, 12.05) [0.2532, 1.02, 0.969]\n",
              " PeriodicSite: O2- (4.314, 4.381, 5.579) [0.747, 0.517, 0.4492]\n",
              " PeriodicSite: O2- (4.296, 4.051, 11.92) [0.7456, 0.4796, 0.9578]\n",
              " PeriodicSite: O2- (4.301, 8.295, 5.857) [0.7448, 0.9776, 0.4723]\n",
              " PeriodicSite: O2- (4.29, 8.645, 12.08) [0.7446, 1.02, 0.9716]\n",
              " PeriodicSite: O2- (2.78, 2.03, 3.974) [0.4816, 0.2399, 0.3197]\n",
              " PeriodicSite: O2- (2.926, 1.963, 10.56) [0.5086, 0.2335, 0.8477]\n",
              " PeriodicSite: O2- (2.798, 6.406, 4.339) [0.4846, 0.7549, 0.3499]\n",
              " PeriodicSite: O2- (2.918, 6.576, 10.23) [0.5071, 0.7764, 0.8227]\n",
              " PeriodicSite: O2- (5.779, 2.0, 3.939) [0.9997, 0.2363, 0.3173]\n",
              " PeriodicSite: O2- (5.686, 1.952, 10.55) [0.9855, 0.2323, 0.8479]\n",
              " PeriodicSite: O2- (5.768, 6.393, 4.277) [0.9978, 0.7534, 0.3453]\n",
              " PeriodicSite: O2- (5.679, 6.585, 10.23) [0.9841, 0.7775, 0.8227],\n",
              " 'trajectory': <chgnet.model.dynamics.TrajectoryObserver at 0x7a90816b98d0>}"
            ]
          },
          "metadata": {},
          "execution_count": 34
        }
      ]
    },
    {
      "cell_type": "code",
      "source": [
        "df_magmom = pd.DataFrame({\"Unrelaxed\": chgnet.predict_structure(supercell)[\"m\"]})\n",
        "df_magmom[\"CHGNet relaxed\"] = result[\"final_structure\"].site_properties[\"magmom\"]\n",
        "df_magmom.head()"
      ],
      "metadata": {
        "id": "mmYqfKMtslV5",
        "colab": {
          "base_uri": "https://localhost:8080/",
          "height": 206
        },
        "outputId": "7215bd04-eace-4233-dad7-035caed7ecad"
      },
      "execution_count": null,
      "outputs": [
        {
          "output_type": "execute_result",
          "data": {
            "text/plain": [
              "   Unrelaxed  CHGNet relaxed\n",
              "0   0.004477        0.004727\n",
              "1   0.004475        0.006871\n",
              "2   0.004385        0.007083\n",
              "3   0.005517        0.006651\n",
              "4   0.005410        0.006786"
            ],
            "text/html": [
              "\n",
              "  <div id=\"df-45617c81-b7e1-4c2a-bc08-575da50c03cf\" class=\"colab-df-container\">\n",
              "    <div>\n",
              "<style scoped>\n",
              "    .dataframe tbody tr th:only-of-type {\n",
              "        vertical-align: middle;\n",
              "    }\n",
              "\n",
              "    .dataframe tbody tr th {\n",
              "        vertical-align: top;\n",
              "    }\n",
              "\n",
              "    .dataframe thead th {\n",
              "        text-align: right;\n",
              "    }\n",
              "</style>\n",
              "<table border=\"1\" class=\"dataframe\">\n",
              "  <thead>\n",
              "    <tr style=\"text-align: right;\">\n",
              "      <th></th>\n",
              "      <th>Unrelaxed</th>\n",
              "      <th>CHGNet relaxed</th>\n",
              "    </tr>\n",
              "  </thead>\n",
              "  <tbody>\n",
              "    <tr>\n",
              "      <th>0</th>\n",
              "      <td>0.004477</td>\n",
              "      <td>0.004727</td>\n",
              "    </tr>\n",
              "    <tr>\n",
              "      <th>1</th>\n",
              "      <td>0.004475</td>\n",
              "      <td>0.006871</td>\n",
              "    </tr>\n",
              "    <tr>\n",
              "      <th>2</th>\n",
              "      <td>0.004385</td>\n",
              "      <td>0.007083</td>\n",
              "    </tr>\n",
              "    <tr>\n",
              "      <th>3</th>\n",
              "      <td>0.005517</td>\n",
              "      <td>0.006651</td>\n",
              "    </tr>\n",
              "    <tr>\n",
              "      <th>4</th>\n",
              "      <td>0.005410</td>\n",
              "      <td>0.006786</td>\n",
              "    </tr>\n",
              "  </tbody>\n",
              "</table>\n",
              "</div>\n",
              "    <div class=\"colab-df-buttons\">\n",
              "\n",
              "  <div class=\"colab-df-container\">\n",
              "    <button class=\"colab-df-convert\" onclick=\"convertToInteractive('df-45617c81-b7e1-4c2a-bc08-575da50c03cf')\"\n",
              "            title=\"Convert this dataframe to an interactive table.\"\n",
              "            style=\"display:none;\">\n",
              "\n",
              "  <svg xmlns=\"http://www.w3.org/2000/svg\" height=\"24px\" viewBox=\"0 -960 960 960\">\n",
              "    <path d=\"M120-120v-720h720v720H120Zm60-500h600v-160H180v160Zm220 220h160v-160H400v160Zm0 220h160v-160H400v160ZM180-400h160v-160H180v160Zm440 0h160v-160H620v160ZM180-180h160v-160H180v160Zm440 0h160v-160H620v160Z\"/>\n",
              "  </svg>\n",
              "    </button>\n",
              "\n",
              "  <style>\n",
              "    .colab-df-container {\n",
              "      display:flex;\n",
              "      gap: 12px;\n",
              "    }\n",
              "\n",
              "    .colab-df-convert {\n",
              "      background-color: #E8F0FE;\n",
              "      border: none;\n",
              "      border-radius: 50%;\n",
              "      cursor: pointer;\n",
              "      display: none;\n",
              "      fill: #1967D2;\n",
              "      height: 32px;\n",
              "      padding: 0 0 0 0;\n",
              "      width: 32px;\n",
              "    }\n",
              "\n",
              "    .colab-df-convert:hover {\n",
              "      background-color: #E2EBFA;\n",
              "      box-shadow: 0px 1px 2px rgba(60, 64, 67, 0.3), 0px 1px 3px 1px rgba(60, 64, 67, 0.15);\n",
              "      fill: #174EA6;\n",
              "    }\n",
              "\n",
              "    .colab-df-buttons div {\n",
              "      margin-bottom: 4px;\n",
              "    }\n",
              "\n",
              "    [theme=dark] .colab-df-convert {\n",
              "      background-color: #3B4455;\n",
              "      fill: #D2E3FC;\n",
              "    }\n",
              "\n",
              "    [theme=dark] .colab-df-convert:hover {\n",
              "      background-color: #434B5C;\n",
              "      box-shadow: 0px 1px 3px 1px rgba(0, 0, 0, 0.15);\n",
              "      filter: drop-shadow(0px 1px 2px rgba(0, 0, 0, 0.3));\n",
              "      fill: #FFFFFF;\n",
              "    }\n",
              "  </style>\n",
              "\n",
              "    <script>\n",
              "      const buttonEl =\n",
              "        document.querySelector('#df-45617c81-b7e1-4c2a-bc08-575da50c03cf button.colab-df-convert');\n",
              "      buttonEl.style.display =\n",
              "        google.colab.kernel.accessAllowed ? 'block' : 'none';\n",
              "\n",
              "      async function convertToInteractive(key) {\n",
              "        const element = document.querySelector('#df-45617c81-b7e1-4c2a-bc08-575da50c03cf');\n",
              "        const dataTable =\n",
              "          await google.colab.kernel.invokeFunction('convertToInteractive',\n",
              "                                                    [key], {});\n",
              "        if (!dataTable) return;\n",
              "\n",
              "        const docLinkHtml = 'Like what you see? Visit the ' +\n",
              "          '<a target=\"_blank\" href=https://colab.research.google.com/notebooks/data_table.ipynb>data table notebook</a>'\n",
              "          + ' to learn more about interactive tables.';\n",
              "        element.innerHTML = '';\n",
              "        dataTable['output_type'] = 'display_data';\n",
              "        await google.colab.output.renderOutput(dataTable, element);\n",
              "        const docLink = document.createElement('div');\n",
              "        docLink.innerHTML = docLinkHtml;\n",
              "        element.appendChild(docLink);\n",
              "      }\n",
              "    </script>\n",
              "  </div>\n",
              "\n",
              "\n",
              "<div id=\"df-19e3a51f-8dfc-4deb-8e17-6cec4061933f\">\n",
              "  <button class=\"colab-df-quickchart\" onclick=\"quickchart('df-19e3a51f-8dfc-4deb-8e17-6cec4061933f')\"\n",
              "            title=\"Suggest charts\"\n",
              "            style=\"display:none;\">\n",
              "\n",
              "<svg xmlns=\"http://www.w3.org/2000/svg\" height=\"24px\"viewBox=\"0 0 24 24\"\n",
              "     width=\"24px\">\n",
              "    <g>\n",
              "        <path d=\"M19 3H5c-1.1 0-2 .9-2 2v14c0 1.1.9 2 2 2h14c1.1 0 2-.9 2-2V5c0-1.1-.9-2-2-2zM9 17H7v-7h2v7zm4 0h-2V7h2v10zm4 0h-2v-4h2v4z\"/>\n",
              "    </g>\n",
              "</svg>\n",
              "  </button>\n",
              "\n",
              "<style>\n",
              "  .colab-df-quickchart {\n",
              "      --bg-color: #E8F0FE;\n",
              "      --fill-color: #1967D2;\n",
              "      --hover-bg-color: #E2EBFA;\n",
              "      --hover-fill-color: #174EA6;\n",
              "      --disabled-fill-color: #AAA;\n",
              "      --disabled-bg-color: #DDD;\n",
              "  }\n",
              "\n",
              "  [theme=dark] .colab-df-quickchart {\n",
              "      --bg-color: #3B4455;\n",
              "      --fill-color: #D2E3FC;\n",
              "      --hover-bg-color: #434B5C;\n",
              "      --hover-fill-color: #FFFFFF;\n",
              "      --disabled-bg-color: #3B4455;\n",
              "      --disabled-fill-color: #666;\n",
              "  }\n",
              "\n",
              "  .colab-df-quickchart {\n",
              "    background-color: var(--bg-color);\n",
              "    border: none;\n",
              "    border-radius: 50%;\n",
              "    cursor: pointer;\n",
              "    display: none;\n",
              "    fill: var(--fill-color);\n",
              "    height: 32px;\n",
              "    padding: 0;\n",
              "    width: 32px;\n",
              "  }\n",
              "\n",
              "  .colab-df-quickchart:hover {\n",
              "    background-color: var(--hover-bg-color);\n",
              "    box-shadow: 0 1px 2px rgba(60, 64, 67, 0.3), 0 1px 3px 1px rgba(60, 64, 67, 0.15);\n",
              "    fill: var(--button-hover-fill-color);\n",
              "  }\n",
              "\n",
              "  .colab-df-quickchart-complete:disabled,\n",
              "  .colab-df-quickchart-complete:disabled:hover {\n",
              "    background-color: var(--disabled-bg-color);\n",
              "    fill: var(--disabled-fill-color);\n",
              "    box-shadow: none;\n",
              "  }\n",
              "\n",
              "  .colab-df-spinner {\n",
              "    border: 2px solid var(--fill-color);\n",
              "    border-color: transparent;\n",
              "    border-bottom-color: var(--fill-color);\n",
              "    animation:\n",
              "      spin 1s steps(1) infinite;\n",
              "  }\n",
              "\n",
              "  @keyframes spin {\n",
              "    0% {\n",
              "      border-color: transparent;\n",
              "      border-bottom-color: var(--fill-color);\n",
              "      border-left-color: var(--fill-color);\n",
              "    }\n",
              "    20% {\n",
              "      border-color: transparent;\n",
              "      border-left-color: var(--fill-color);\n",
              "      border-top-color: var(--fill-color);\n",
              "    }\n",
              "    30% {\n",
              "      border-color: transparent;\n",
              "      border-left-color: var(--fill-color);\n",
              "      border-top-color: var(--fill-color);\n",
              "      border-right-color: var(--fill-color);\n",
              "    }\n",
              "    40% {\n",
              "      border-color: transparent;\n",
              "      border-right-color: var(--fill-color);\n",
              "      border-top-color: var(--fill-color);\n",
              "    }\n",
              "    60% {\n",
              "      border-color: transparent;\n",
              "      border-right-color: var(--fill-color);\n",
              "    }\n",
              "    80% {\n",
              "      border-color: transparent;\n",
              "      border-right-color: var(--fill-color);\n",
              "      border-bottom-color: var(--fill-color);\n",
              "    }\n",
              "    90% {\n",
              "      border-color: transparent;\n",
              "      border-bottom-color: var(--fill-color);\n",
              "    }\n",
              "  }\n",
              "</style>\n",
              "\n",
              "  <script>\n",
              "    async function quickchart(key) {\n",
              "      const quickchartButtonEl =\n",
              "        document.querySelector('#' + key + ' button');\n",
              "      quickchartButtonEl.disabled = true;  // To prevent multiple clicks.\n",
              "      quickchartButtonEl.classList.add('colab-df-spinner');\n",
              "      try {\n",
              "        const charts = await google.colab.kernel.invokeFunction(\n",
              "            'suggestCharts', [key], {});\n",
              "      } catch (error) {\n",
              "        console.error('Error during call to suggestCharts:', error);\n",
              "      }\n",
              "      quickchartButtonEl.classList.remove('colab-df-spinner');\n",
              "      quickchartButtonEl.classList.add('colab-df-quickchart-complete');\n",
              "    }\n",
              "    (() => {\n",
              "      let quickchartButtonEl =\n",
              "        document.querySelector('#df-19e3a51f-8dfc-4deb-8e17-6cec4061933f button');\n",
              "      quickchartButtonEl.style.display =\n",
              "        google.colab.kernel.accessAllowed ? 'block' : 'none';\n",
              "    })();\n",
              "  </script>\n",
              "</div>\n",
              "\n",
              "    </div>\n",
              "  </div>\n"
            ],
            "application/vnd.google.colaboratory.intrinsic+json": {
              "type": "dataframe",
              "variable_name": "df_magmom",
              "summary": "{\n  \"name\": \"df_magmom\",\n  \"rows\": 56,\n  \"fields\": [\n    {\n      \"column\": \"Unrelaxed\",\n      \"properties\": {\n        \"dtype\": \"float32\",\n        \"num_unique_values\": 56,\n        \"samples\": [\n          0.00447709858417511,\n          0.0006877332925796509,\n          0.13747240602970123\n        ],\n        \"semantic_type\": \"\",\n        \"description\": \"\"\n      }\n    },\n    {\n      \"column\": \"CHGNet relaxed\",\n      \"properties\": {\n        \"dtype\": \"number\",\n        \"std\": 1.5909291731219743,\n        \"min\": 0.0013124197721481323,\n        \"max\": 3.8927090167999268,\n        \"num_unique_values\": 56,\n        \"samples\": [\n          0.00472673773765564,\n          0.0018721520900726318,\n          0.06387197971343994\n        ],\n        \"semantic_type\": \"\",\n        \"description\": \"\"\n      }\n    }\n  ]\n}"
            }
          },
          "metadata": {},
          "execution_count": 32
        }
      ]
    },
    {
      "cell_type": "code",
      "source": [
        "fig = df_magmom.hist(\n",
        "    nbins=200,\n",
        "    sharex=True,\n",
        "    sharey=True,\n",
        "    backend=\"plotly\",\n",
        "    barmode=\"overlay\",\n",
        "    layout={\"title\": \"Magmom distribution\"},\n",
        "    opacity=0.7,\n",
        "    range_x=[3, 4],\n",
        "    template=\"plotly_white\",\n",
        "    )\n",
        "fig.layout.legend.update(title=\"\", x=1, y=1, xanchor=\"right\", yanchor=\"top\")\n",
        "fig.layout.xaxis.title = \"Magnetic moment\"\n",
        "fig.show()"
      ],
      "metadata": {
        "colab": {
          "base_uri": "https://localhost:8080/",
          "height": 542
        },
        "id": "BTAJOEbGslZB",
        "outputId": "ad269c67-6a34-4a3a-da97-7463a3fd9401"
      },
      "execution_count": null,
      "outputs": [
        {
          "output_type": "display_data",
          "data": {
            "text/html": [
              "<html>\n",
              "<head><meta charset=\"utf-8\" /></head>\n",
              "<body>\n",
              "    <div>            <script src=\"https://cdnjs.cloudflare.com/ajax/libs/mathjax/2.7.5/MathJax.js?config=TeX-AMS-MML_SVG\"></script><script type=\"text/javascript\">if (window.MathJax && window.MathJax.Hub && window.MathJax.Hub.Config) {window.MathJax.Hub.Config({SVG: {font: \"STIX-Web\"}});}</script>                <script type=\"text/javascript\">window.PlotlyConfig = {MathJaxConfig: 'local'};</script>\n",
              "        <script charset=\"utf-8\" src=\"https://cdn.plot.ly/plotly-2.24.1.min.js\"></script>                <div id=\"992b2777-d46e-4f8f-8d0e-ec39e1bb5312\" class=\"plotly-graph-div\" style=\"height:525px; width:100%;\"></div>            <script type=\"text/javascript\">                                    window.PLOTLYENV=window.PLOTLYENV || {};                                    if (document.getElementById(\"992b2777-d46e-4f8f-8d0e-ec39e1bb5312\")) {                    Plotly.newPlot(                        \"992b2777-d46e-4f8f-8d0e-ec39e1bb5312\",                        [{\"alignmentgroup\":\"True\",\"bingroup\":\"x\",\"hovertemplate\":\"variable=Unrelaxed\\u003cbr\\u003evalue=%{x}\\u003cbr\\u003ecount=%{y}\\u003cextra\\u003e\\u003c\\u002fextra\\u003e\",\"legendgroup\":\"Unrelaxed\",\"marker\":{\"color\":\"#636efa\",\"opacity\":0.7,\"pattern\":{\"shape\":\"\"}},\"name\":\"Unrelaxed\",\"nbinsx\":200,\"offsetgroup\":\"Unrelaxed\",\"orientation\":\"v\",\"showlegend\":true,\"x\":[0.00447709858417511,0.004474729299545288,0.004385411739349365,0.005517303943634033,0.005410194396972656,0.0006877332925796509,0.004910767078399658,0.0010384619235992432,3.7809524536132812,3.8124027252197266,3.7809648513793945,3.8170738220214844,3.8232944011688232,3.7871463298797607,3.823024272918701,3.792436122894287,3.9068098068237305,3.9074769020080566,3.89192533493042,3.840017795562744,3.83620023727417,3.888735055923462,3.822976589202881,3.817899703979492,0.125327467918396,0.14411604404449463,0.13106918334960938,0.4173107147216797,0.26882100105285645,0.06411248445510864,0.2810836136341095,0.23786261677742004,0.13127639889717102,0.13747240602970123,0.13201937079429626,0.13908174633979797,0.1268380582332611,0.12061235308647156,0.12780070304870605,0.12218013405799866,0.15669840574264526,0.2739247977733612,0.1508258879184723,0.08806215226650238,0.16008403897285461,0.2727755308151245,0.15526096522808075,0.08811050653457642,0.26729121804237366,0.17944931983947754,0.26866745948791504,0.2217290997505188,0.14055699110031128,0.173018217086792,0.14090308547019958,0.21523192524909973],\"xaxis\":\"x\",\"yaxis\":\"y\",\"type\":\"histogram\"},{\"alignmentgroup\":\"True\",\"bingroup\":\"x\",\"hovertemplate\":\"variable=CHGNet relaxed\\u003cbr\\u003evalue=%{x}\\u003cbr\\u003ecount=%{y}\\u003cextra\\u003e\\u003c\\u002fextra\\u003e\",\"legendgroup\":\"CHGNet relaxed\",\"marker\":{\"color\":\"#EF553B\",\"opacity\":0.7,\"pattern\":{\"shape\":\"\"}},\"name\":\"CHGNet relaxed\",\"nbinsx\":200,\"offsetgroup\":\"CHGNet relaxed\",\"orientation\":\"v\",\"showlegend\":true,\"x\":[0.00472673773765564,0.006871461868286133,0.007083296775817871,0.006651178002357483,0.0067858099937438965,0.0018721520900726318,0.0075636208057403564,0.0013124197721481323,3.7380409240722656,3.355280876159668,3.2132585048675537,3.8927090167999268,3.8492488861083984,3.1770946979522705,3.2649412155151367,3.7502236366271973,3.8429036140441895,3.861827850341797,3.3353118896484375,3.2692670822143555,3.7371981143951416,3.8308663368225098,3.2036638259887695,3.2356152534484863,0.0726509690284729,0.0842265784740448,0.08490687608718872,0.1349414587020874,0.10271802544593811,0.06143844127655029,0.10180899500846863,0.08454856276512146,0.06679116189479828,0.06387197971343994,0.062426626682281494,0.07076773047447205,0.06344017386436462,0.06371864676475525,0.056786224246025085,0.06676045060157776,0.06425425410270691,0.07593350112438202,0.05962878465652466,0.059252962470054626,0.06296688318252563,0.06855529546737671,0.06384336948394775,0.047912806272506714,0.09892930090427399,0.08522316813468933,0.09910339117050171,0.0714457631111145,0.07274934649467468,0.08709126710891724,0.08344653248786926,0.07480433583259583],\"xaxis\":\"x\",\"yaxis\":\"y\",\"type\":\"histogram\"}],                        {\"template\":{\"data\":{\"barpolar\":[{\"marker\":{\"line\":{\"color\":\"white\",\"width\":0.5},\"pattern\":{\"fillmode\":\"overlay\",\"size\":10,\"solidity\":0.2}},\"type\":\"barpolar\"}],\"bar\":[{\"error_x\":{\"color\":\"#2a3f5f\"},\"error_y\":{\"color\":\"#2a3f5f\"},\"marker\":{\"line\":{\"color\":\"white\",\"width\":0.5},\"pattern\":{\"fillmode\":\"overlay\",\"size\":10,\"solidity\":0.2}},\"type\":\"bar\"}],\"carpet\":[{\"aaxis\":{\"endlinecolor\":\"#2a3f5f\",\"gridcolor\":\"#C8D4E3\",\"linecolor\":\"#C8D4E3\",\"minorgridcolor\":\"#C8D4E3\",\"startlinecolor\":\"#2a3f5f\"},\"baxis\":{\"endlinecolor\":\"#2a3f5f\",\"gridcolor\":\"#C8D4E3\",\"linecolor\":\"#C8D4E3\",\"minorgridcolor\":\"#C8D4E3\",\"startlinecolor\":\"#2a3f5f\"},\"type\":\"carpet\"}],\"choropleth\":[{\"colorbar\":{\"outlinewidth\":0,\"ticks\":\"\"},\"type\":\"choropleth\"}],\"contourcarpet\":[{\"colorbar\":{\"outlinewidth\":0,\"ticks\":\"\"},\"type\":\"contourcarpet\"}],\"contour\":[{\"colorbar\":{\"outlinewidth\":0,\"ticks\":\"\"},\"colorscale\":[[0.0,\"#0d0887\"],[0.1111111111111111,\"#46039f\"],[0.2222222222222222,\"#7201a8\"],[0.3333333333333333,\"#9c179e\"],[0.4444444444444444,\"#bd3786\"],[0.5555555555555556,\"#d8576b\"],[0.6666666666666666,\"#ed7953\"],[0.7777777777777778,\"#fb9f3a\"],[0.8888888888888888,\"#fdca26\"],[1.0,\"#f0f921\"]],\"type\":\"contour\"}],\"heatmapgl\":[{\"colorbar\":{\"outlinewidth\":0,\"ticks\":\"\"},\"colorscale\":[[0.0,\"#0d0887\"],[0.1111111111111111,\"#46039f\"],[0.2222222222222222,\"#7201a8\"],[0.3333333333333333,\"#9c179e\"],[0.4444444444444444,\"#bd3786\"],[0.5555555555555556,\"#d8576b\"],[0.6666666666666666,\"#ed7953\"],[0.7777777777777778,\"#fb9f3a\"],[0.8888888888888888,\"#fdca26\"],[1.0,\"#f0f921\"]],\"type\":\"heatmapgl\"}],\"heatmap\":[{\"colorbar\":{\"outlinewidth\":0,\"ticks\":\"\"},\"colorscale\":[[0.0,\"#0d0887\"],[0.1111111111111111,\"#46039f\"],[0.2222222222222222,\"#7201a8\"],[0.3333333333333333,\"#9c179e\"],[0.4444444444444444,\"#bd3786\"],[0.5555555555555556,\"#d8576b\"],[0.6666666666666666,\"#ed7953\"],[0.7777777777777778,\"#fb9f3a\"],[0.8888888888888888,\"#fdca26\"],[1.0,\"#f0f921\"]],\"type\":\"heatmap\"}],\"histogram2dcontour\":[{\"colorbar\":{\"outlinewidth\":0,\"ticks\":\"\"},\"colorscale\":[[0.0,\"#0d0887\"],[0.1111111111111111,\"#46039f\"],[0.2222222222222222,\"#7201a8\"],[0.3333333333333333,\"#9c179e\"],[0.4444444444444444,\"#bd3786\"],[0.5555555555555556,\"#d8576b\"],[0.6666666666666666,\"#ed7953\"],[0.7777777777777778,\"#fb9f3a\"],[0.8888888888888888,\"#fdca26\"],[1.0,\"#f0f921\"]],\"type\":\"histogram2dcontour\"}],\"histogram2d\":[{\"colorbar\":{\"outlinewidth\":0,\"ticks\":\"\"},\"colorscale\":[[0.0,\"#0d0887\"],[0.1111111111111111,\"#46039f\"],[0.2222222222222222,\"#7201a8\"],[0.3333333333333333,\"#9c179e\"],[0.4444444444444444,\"#bd3786\"],[0.5555555555555556,\"#d8576b\"],[0.6666666666666666,\"#ed7953\"],[0.7777777777777778,\"#fb9f3a\"],[0.8888888888888888,\"#fdca26\"],[1.0,\"#f0f921\"]],\"type\":\"histogram2d\"}],\"histogram\":[{\"marker\":{\"pattern\":{\"fillmode\":\"overlay\",\"size\":10,\"solidity\":0.2}},\"type\":\"histogram\"}],\"mesh3d\":[{\"colorbar\":{\"outlinewidth\":0,\"ticks\":\"\"},\"type\":\"mesh3d\"}],\"parcoords\":[{\"line\":{\"colorbar\":{\"outlinewidth\":0,\"ticks\":\"\"}},\"type\":\"parcoords\"}],\"pie\":[{\"automargin\":true,\"type\":\"pie\"}],\"scatter3d\":[{\"line\":{\"colorbar\":{\"outlinewidth\":0,\"ticks\":\"\"}},\"marker\":{\"colorbar\":{\"outlinewidth\":0,\"ticks\":\"\"}},\"type\":\"scatter3d\"}],\"scattercarpet\":[{\"marker\":{\"colorbar\":{\"outlinewidth\":0,\"ticks\":\"\"}},\"type\":\"scattercarpet\"}],\"scattergeo\":[{\"marker\":{\"colorbar\":{\"outlinewidth\":0,\"ticks\":\"\"}},\"type\":\"scattergeo\"}],\"scattergl\":[{\"marker\":{\"colorbar\":{\"outlinewidth\":0,\"ticks\":\"\"}},\"type\":\"scattergl\"}],\"scattermapbox\":[{\"marker\":{\"colorbar\":{\"outlinewidth\":0,\"ticks\":\"\"}},\"type\":\"scattermapbox\"}],\"scatterpolargl\":[{\"marker\":{\"colorbar\":{\"outlinewidth\":0,\"ticks\":\"\"}},\"type\":\"scatterpolargl\"}],\"scatterpolar\":[{\"marker\":{\"colorbar\":{\"outlinewidth\":0,\"ticks\":\"\"}},\"type\":\"scatterpolar\"}],\"scatter\":[{\"fillpattern\":{\"fillmode\":\"overlay\",\"size\":10,\"solidity\":0.2},\"type\":\"scatter\"}],\"scatterternary\":[{\"marker\":{\"colorbar\":{\"outlinewidth\":0,\"ticks\":\"\"}},\"type\":\"scatterternary\"}],\"surface\":[{\"colorbar\":{\"outlinewidth\":0,\"ticks\":\"\"},\"colorscale\":[[0.0,\"#0d0887\"],[0.1111111111111111,\"#46039f\"],[0.2222222222222222,\"#7201a8\"],[0.3333333333333333,\"#9c179e\"],[0.4444444444444444,\"#bd3786\"],[0.5555555555555556,\"#d8576b\"],[0.6666666666666666,\"#ed7953\"],[0.7777777777777778,\"#fb9f3a\"],[0.8888888888888888,\"#fdca26\"],[1.0,\"#f0f921\"]],\"type\":\"surface\"}],\"table\":[{\"cells\":{\"fill\":{\"color\":\"#EBF0F8\"},\"line\":{\"color\":\"white\"}},\"header\":{\"fill\":{\"color\":\"#C8D4E3\"},\"line\":{\"color\":\"white\"}},\"type\":\"table\"}]},\"layout\":{\"annotationdefaults\":{\"arrowcolor\":\"#2a3f5f\",\"arrowhead\":0,\"arrowwidth\":1},\"autotypenumbers\":\"strict\",\"coloraxis\":{\"colorbar\":{\"outlinewidth\":0,\"ticks\":\"\"}},\"colorscale\":{\"diverging\":[[0,\"#8e0152\"],[0.1,\"#c51b7d\"],[0.2,\"#de77ae\"],[0.3,\"#f1b6da\"],[0.4,\"#fde0ef\"],[0.5,\"#f7f7f7\"],[0.6,\"#e6f5d0\"],[0.7,\"#b8e186\"],[0.8,\"#7fbc41\"],[0.9,\"#4d9221\"],[1,\"#276419\"]],\"sequential\":[[0.0,\"#0d0887\"],[0.1111111111111111,\"#46039f\"],[0.2222222222222222,\"#7201a8\"],[0.3333333333333333,\"#9c179e\"],[0.4444444444444444,\"#bd3786\"],[0.5555555555555556,\"#d8576b\"],[0.6666666666666666,\"#ed7953\"],[0.7777777777777778,\"#fb9f3a\"],[0.8888888888888888,\"#fdca26\"],[1.0,\"#f0f921\"]],\"sequentialminus\":[[0.0,\"#0d0887\"],[0.1111111111111111,\"#46039f\"],[0.2222222222222222,\"#7201a8\"],[0.3333333333333333,\"#9c179e\"],[0.4444444444444444,\"#bd3786\"],[0.5555555555555556,\"#d8576b\"],[0.6666666666666666,\"#ed7953\"],[0.7777777777777778,\"#fb9f3a\"],[0.8888888888888888,\"#fdca26\"],[1.0,\"#f0f921\"]]},\"colorway\":[\"#636efa\",\"#EF553B\",\"#00cc96\",\"#ab63fa\",\"#FFA15A\",\"#19d3f3\",\"#FF6692\",\"#B6E880\",\"#FF97FF\",\"#FECB52\"],\"font\":{\"color\":\"#2a3f5f\"},\"geo\":{\"bgcolor\":\"white\",\"lakecolor\":\"white\",\"landcolor\":\"white\",\"showlakes\":true,\"showland\":true,\"subunitcolor\":\"#C8D4E3\"},\"hoverlabel\":{\"align\":\"left\"},\"hovermode\":\"closest\",\"mapbox\":{\"style\":\"light\"},\"paper_bgcolor\":\"white\",\"plot_bgcolor\":\"white\",\"polar\":{\"angularaxis\":{\"gridcolor\":\"#EBF0F8\",\"linecolor\":\"#EBF0F8\",\"ticks\":\"\"},\"bgcolor\":\"white\",\"radialaxis\":{\"gridcolor\":\"#EBF0F8\",\"linecolor\":\"#EBF0F8\",\"ticks\":\"\"}},\"scene\":{\"xaxis\":{\"backgroundcolor\":\"white\",\"gridcolor\":\"#DFE8F3\",\"gridwidth\":2,\"linecolor\":\"#EBF0F8\",\"showbackground\":true,\"ticks\":\"\",\"zerolinecolor\":\"#EBF0F8\"},\"yaxis\":{\"backgroundcolor\":\"white\",\"gridcolor\":\"#DFE8F3\",\"gridwidth\":2,\"linecolor\":\"#EBF0F8\",\"showbackground\":true,\"ticks\":\"\",\"zerolinecolor\":\"#EBF0F8\"},\"zaxis\":{\"backgroundcolor\":\"white\",\"gridcolor\":\"#DFE8F3\",\"gridwidth\":2,\"linecolor\":\"#EBF0F8\",\"showbackground\":true,\"ticks\":\"\",\"zerolinecolor\":\"#EBF0F8\"}},\"shapedefaults\":{\"line\":{\"color\":\"#2a3f5f\"}},\"ternary\":{\"aaxis\":{\"gridcolor\":\"#DFE8F3\",\"linecolor\":\"#A2B1C6\",\"ticks\":\"\"},\"baxis\":{\"gridcolor\":\"#DFE8F3\",\"linecolor\":\"#A2B1C6\",\"ticks\":\"\"},\"bgcolor\":\"white\",\"caxis\":{\"gridcolor\":\"#DFE8F3\",\"linecolor\":\"#A2B1C6\",\"ticks\":\"\"}},\"title\":{\"x\":0.05},\"xaxis\":{\"automargin\":true,\"gridcolor\":\"#EBF0F8\",\"linecolor\":\"#EBF0F8\",\"ticks\":\"\",\"title\":{\"standoff\":15},\"zerolinecolor\":\"#EBF0F8\",\"zerolinewidth\":2},\"yaxis\":{\"automargin\":true,\"gridcolor\":\"#EBF0F8\",\"linecolor\":\"#EBF0F8\",\"ticks\":\"\",\"title\":{\"standoff\":15},\"zerolinecolor\":\"#EBF0F8\",\"zerolinewidth\":2}}},\"xaxis\":{\"anchor\":\"y\",\"domain\":[0.0,1.0],\"title\":{\"text\":\"Magnetic moment\"},\"range\":[3,4]},\"yaxis\":{\"anchor\":\"x\",\"domain\":[0.0,1.0],\"title\":{\"text\":\"count\"}},\"legend\":{\"title\":{\"text\":\"\"},\"tracegroupgap\":0,\"x\":1,\"y\":1,\"xanchor\":\"right\",\"yanchor\":\"top\"},\"margin\":{\"t\":60},\"barmode\":\"overlay\"},                        {\"responsive\": true}                    ).then(function(){\n",
              "                            \n",
              "var gd = document.getElementById('992b2777-d46e-4f8f-8d0e-ec39e1bb5312');\n",
              "var x = new MutationObserver(function (mutations, observer) {{\n",
              "        var display = window.getComputedStyle(gd).display;\n",
              "        if (!display || display === 'none') {{\n",
              "            console.log([gd, 'removed!']);\n",
              "            Plotly.purge(gd);\n",
              "            observer.disconnect();\n",
              "        }}\n",
              "}});\n",
              "\n",
              "// Listen for the removal of the full notebook cells\n",
              "var notebookContainer = gd.closest('#notebook-container');\n",
              "if (notebookContainer) {{\n",
              "    x.observe(notebookContainer, {childList: true});\n",
              "}}\n",
              "\n",
              "// Listen for the clearing of the current output cell\n",
              "var outputEl = gd.closest('.output');\n",
              "if (outputEl) {{\n",
              "    x.observe(outputEl, {childList: true});\n",
              "}}\n",
              "\n",
              "                        })                };                            </script>        </div>\n",
              "</body>\n",
              "</html>"
            ]
          },
          "metadata": {}
        }
      ]
    },
    {
      "cell_type": "markdown",
      "source": [
        "# Fine Tune Pretrained Models"
      ],
      "metadata": {
        "id": "_imRUYt5ym0A"
      }
    },
    {
      "cell_type": "markdown",
      "source": [
        "## Func: parse_vasp_dir"
      ],
      "metadata": {
        "id": "VG8UP5Jd2CgM"
      }
    },
    {
      "cell_type": "code",
      "source": [
        "from __future__ import annotations\n",
        "import os.path\n",
        "import re\n",
        "from typing import TYPE_CHECKING\n",
        "from monty.io import reverse_readfile\n",
        "from pymatgen.io.vasp.outputs import Oszicar, Vasprun\n",
        "if TYPE_CHECKING:\n",
        "    from pymatgen.core import Structure\n",
        "def parse_vasp_dir(\n",
        "    file_root: str, check_electronic_convergence: bool = True\n",
        ") -> dict[str, list]:\n",
        "    \"\"\"Parse VASP output files into structures and labels\n",
        "    By default, the magnetization is read from mag_x from VASP,\n",
        "    plz modify the code if magnetization is for (y) and (z).\n",
        "\n",
        "    Args:\n",
        "        file_root (str): the directory of the VASP calculation outputs\n",
        "        check_electronic_convergence (bool): if set to True, this function will raise\n",
        "            Exception to VASP calculation that did not achieve electronic convergence.\n",
        "    \"\"\"\n",
        "    if os.path.exists(file_root) is False:\n",
        "        raise FileNotFoundError(\"No such file or directory\")\n",
        "\n",
        "    if os.path.exists(f\"{file_root}/OSZICAR\"):\n",
        "        oszicar_path = f\"{file_root}/OSZICAR\"\n",
        "        vasprun_path = f\"{file_root}/vasprun.xml\"\n",
        "        outcar_path = f\"{file_root}/OUTCAR\"\n",
        "    elif os.path.exists(f\"{file_root}/OSZICAR.gz\"):\n",
        "        oszicar_path = f\"{file_root}/OSZICAR.gz\"\n",
        "        vasprun_path = f\"{file_root}/vasprun.xml.gz\"\n",
        "        outcar_path = f\"{file_root}/OUTCAR.gz\"\n",
        "    else:\n",
        "        raise RuntimeError(f\"No data parsed from {file_root}!\")\n",
        "    oszicar = Oszicar(oszicar_path)\n",
        "    vasprun_orig = Vasprun(\n",
        "        vasprun_path,\n",
        "        parse_dos=False,\n",
        "        parse_eigen=False,\n",
        "        parse_projected_eigen=False,\n",
        "        parse_potcar_file=False,\n",
        "        exception_on_bad_xml=False,\n",
        "        )\n",
        "    charge = []\n",
        "    mag_x = []\n",
        "    mag_y = []\n",
        "    mag_z = []\n",
        "    header = []\n",
        "    all_lines = []\n",
        "    for line in reverse_readfile(outcar_path):\n",
        "        clean = line.strip()\n",
        "        all_lines.append(clean)\n",
        "\n",
        "    all_lines.reverse()\n",
        "    # For single atom systems, VASP doesn't print a total line, so\n",
        "    # reverse parsing is very difficult\n",
        "    read_charge = False\n",
        "    read_mag_x = False\n",
        "    read_mag_y = False  # for SOC calculations only\n",
        "    read_mag_z = False\n",
        "    mag_x_all = []\n",
        "    ion_step_count = 0\n",
        "    for clean in all_lines:\n",
        "        if \"magnetization (x)\" in clean:\n",
        "            ion_step_count += 1\n",
        "        if read_charge or read_mag_x or read_mag_y or read_mag_z:\n",
        "            if clean.startswith(\"# of ion\"):\n",
        "                header = re.split(r\"\\s{2,}\", clean.strip())\n",
        "                header.pop(0)\n",
        "            else:\n",
        "                m = re.match(r\"\\s*(\\d+)\\s+(([\\d\\.\\-]+)\\s+)+\", clean)\n",
        "                if m:\n",
        "                    tokens = [float(token) for token in re.findall(r\"[\\d\\.\\-]+\", clean)]\n",
        "                    tokens.pop(0)\n",
        "                    if read_charge:\n",
        "                        charge.append(dict(zip(header, tokens)))\n",
        "                    elif read_mag_x:\n",
        "                        mag_x.append(dict(zip(header, tokens)))\n",
        "                    elif read_mag_y:\n",
        "                        mag_y.append(dict(zip(header, tokens)))\n",
        "                    elif read_mag_z:\n",
        "                        mag_z.append(dict(zip(header, tokens)))\n",
        "                elif clean.startswith(\"tot\"):\n",
        "                    if ion_step_count == (len(mag_x_all) + 1):\n",
        "                        mag_x_all.append(mag_x)\n",
        "                    read_charge = False\n",
        "                    read_mag_x = False\n",
        "                    read_mag_y = False\n",
        "                    read_mag_z = False\n",
        "        if clean == \"total charge\":\n",
        "            read_charge = True\n",
        "            read_mag_x, read_mag_y, read_mag_z = False, False, False\n",
        "        elif clean == \"magnetization (x)\":\n",
        "            mag_x = []\n",
        "            read_mag_x = True\n",
        "            read_charge, read_mag_y, read_mag_z = False, False, False\n",
        "        elif clean == \"magnetization (y)\":\n",
        "            mag_y = []\n",
        "            read_mag_y = True\n",
        "            read_charge, read_mag_x, read_mag_z = False, False, False\n",
        "        elif clean == \"magnetization (z)\":\n",
        "            mag_z = []\n",
        "            read_mag_z = True\n",
        "            read_charge, read_mag_x, read_mag_y = False, False, False\n",
        "        elif re.search(\"electrostatic\", clean):\n",
        "            read_charge, read_mag_x, read_mag_y, read_mag_z = (\n",
        "                False,\n",
        "                False,\n",
        "                False,\n",
        "                False,\n",
        "            )\n",
        "\n",
        "    if len(oszicar.ionic_steps) == len(mag_x_all):  # unfinished VASP job\n",
        "        print(\"Unfinished OUTCAR\")\n",
        "    elif len(oszicar.ionic_steps) == (len(mag_x_all) - 1):  # finished job\n",
        "        mag_x_all.pop(-1)\n",
        "\n",
        "    n_atoms = len(vasprun_orig.ionic_steps[0][\"structure\"])\n",
        "\n",
        "    dataset = {\n",
        "        \"structure\": [],\n",
        "        \"uncorrected_total_energy\": [],\n",
        "        \"energy_per_atom\": [],\n",
        "        \"force\": [],\n",
        "        \"magmom\": [],\n",
        "        \"stress\": None if \"stress\" not in vasprun_orig.ionic_steps[0] else [],\n",
        "    }\n",
        "\n",
        "    for index, ionic_step in enumerate(vasprun_orig.ionic_steps):\n",
        "        if (\n",
        "            check_electronic_convergence\n",
        "            and len(ionic_step[\"electronic_steps\"]) >= vasprun_orig.parameters[\"NELM\"]\n",
        "        ):\n",
        "            continue\n",
        "\n",
        "        dataset[\"structure\"].append(ionic_step[\"structure\"])\n",
        "        dataset[\"uncorrected_total_energy\"].append(ionic_step[\"e_0_energy\"])\n",
        "        dataset[\"energy_per_atom\"].append(ionic_step[\"e_0_energy\"] / n_atoms)\n",
        "        dataset[\"force\"].append(ionic_step[\"forces\"])\n",
        "        if mag_x_all != []:\n",
        "            dataset[\"magmom\"].append([site[\"tot\"] for site in mag_x_all[index]])\n",
        "        if \"stress\" in ionic_step:\n",
        "            dataset[\"stress\"].append(ionic_step[\"stress\"])\n",
        "\n",
        "    if dataset[\"uncorrected_total_energy\"] == []:\n",
        "        raise RuntimeError(f\"No data parsed from {file_root}!\")\n",
        "\n",
        "    return dataset\n",
        "\n",
        "\n",
        "def solve_charge_by_mag(\n",
        "    structure: Structure,\n",
        "    default_ox: dict[str, float] | None = None,\n",
        "    ox_ranges: dict[str, dict[tuple[float, float], int]] | None = None,\n",
        ") -> Structure | None:\n",
        "    \"\"\"Solve oxidation states by magmom.\n",
        "\n",
        "    Args:\n",
        "        structure (Structure): pymatgen structure with magmoms in site_properties. Dict\n",
        "            key must be either magmom or final_magmom.\n",
        "        default_ox (dict[str, float]): default oxidation state for elements.\n",
        "            Default = dict(Li=1, O=-2)\n",
        "        ox_ranges (dict[str, dict[tuple[float, float], int]]): user-defined range to\n",
        "            convert magmoms into formal valence.\n",
        "            Example for Mn (Default):\n",
        "                (\"Mn\": (\n",
        "                    (0.5, 1.5): 2,\n",
        "                    (1.5, 2.5): 3,\n",
        "                    (2.5, 3.5): 4,\n",
        "                    (3.5, 4.2): 3,\n",
        "                    (4.2, 5): 2\n",
        "                ))\n",
        "    \"\"\"\n",
        "    out_structure = structure.copy()\n",
        "    out_structure.remove_oxidation_states()\n",
        "    ox_list = []\n",
        "    solved_ox = True\n",
        "    default_ox = default_ox or {\"Li\": 1, \"O\": -2}\n",
        "    ox_ranges = ox_ranges or {\n",
        "        \"Mn\": {(0.5, 1.5): 2, (1.5, 2.5): 3, (2.5, 3.5): 4, (3.5, 4.2): 3, (4.2, 5): 2}\n",
        "    }\n",
        "\n",
        "    magmoms = structure.site_properties.get(\n",
        "        \"final_magmom\", structure.site_properties.get(\"magmom\")\n",
        "    )\n",
        "\n",
        "    for idx, site in enumerate(out_structure):\n",
        "        assigned = False\n",
        "        if site.species_string in ox_ranges:\n",
        "            for (min_mag, max_mag), mag_ox in ox_ranges[site.species_string].items():\n",
        "                if min_mag <= magmoms[idx] < max_mag:\n",
        "                    ox_list.append(mag_ox)\n",
        "                    assigned = True\n",
        "                    break\n",
        "        elif site.species_string in default_ox:\n",
        "            ox_list.append(default_ox[site.species_string])\n",
        "            assigned = True\n",
        "        if not assigned:\n",
        "            solved_ox = False\n",
        "\n",
        "    if solved_ox:\n",
        "        total_charge = sum(ox_list)\n",
        "        print(f\"Solved oxidation state, {total_charge=}\")\n",
        "        out_structure.add_oxidation_state_by_site(ox_list)\n",
        "        return out_structure\n",
        "    print(\"Failed to solve oxidation state\")\n",
        "    return None"
      ],
      "metadata": {
        "id": "Xd8NrFXh1jwa"
      },
      "execution_count": null,
      "outputs": []
    },
    {
      "cell_type": "markdown",
      "source": [
        "## Prepare DataSet"
      ],
      "metadata": {
        "id": "f7ggwfYL2L6N"
      }
    },
    {
      "cell_type": "code",
      "source": [
        "working_dir = '/content/drive/MyDrive/DataSets/CHGNET-Parse-VASP-No-Magmoms'\n",
        "os.chdir(working_dir)\n",
        "assert os.getcwd() == working_dir"
      ],
      "metadata": {
        "id": "Z5Gbg5gxzAK0"
      },
      "execution_count": null,
      "outputs": []
    },
    {
      "cell_type": "code",
      "source": [
        "dataset_dict = parse_vasp_dir(file_root=working_dir)\n",
        "print(list(dataset_dict))"
      ],
      "metadata": {
        "colab": {
          "base_uri": "https://localhost:8080/"
        },
        "id": "HhyQ5giJ0IFO",
        "outputId": "69032faf-b4cb-4e2e-a54a-804a885ec05a"
      },
      "execution_count": null,
      "outputs": [
        {
          "output_type": "stream",
          "name": "stdout",
          "text": [
            "['structure', 'uncorrected_total_energy', 'energy_per_atom', 'force', 'magmom', 'stress']\n"
          ]
        }
      ]
    },
    {
      "cell_type": "code",
      "source": [
        "dict_to_json = [struct.as_dict() for struct in dataset_dict[\"structure\"]]\n",
        "# write_json(dict_to_json, \"CHGNet_structures.json\")\n",
        "# with open(\"CHGNet_structures.p\", \"wb\") as f: # structure to pickle\n",
        "#     pickle.dump(dataset_dict, f)\n",
        "# for idx, struct in enumerate(dataset_dict[\"structure\"]): # structure to cif\n",
        "#     struct.to(filename=f\"{idx}.cif\")"
      ],
      "metadata": {
        "id": "c_M42vkEz_uh"
      },
      "execution_count": null,
      "outputs": []
    },
    {
      "cell_type": "code",
      "source": [
        "converter = CrystalGraphConverter() # structure to CHGNet graph\n",
        "for idx, struct in enumerate(dataset_dict[\"structure\"]):\n",
        "    graph = converter(struct)\n",
        "    graph.save(fname=f\"{idx}.pt\")"
      ],
      "metadata": {
        "id": "0IVkm1Wt0IIk"
      },
      "execution_count": null,
      "outputs": []
    },
    {
      "cell_type": "code",
      "source": [
        "try:\n",
        "  lmo = Structure.from_file(f\"{ROOT}/examples/mp-18767-LiMnO2.cif\")\n",
        "except Exception:\n",
        "  from urllib.request import urlopen\n",
        "  url = \"https://raw.githubusercontent.com/CederGroupHub/chgnet/main/examples/mp-18767-LiMnO2.cif\"\n",
        "  cif = urlopen(url).read().decode(\"utf-8\")\n",
        "  lmo = Structure.from_str(cif, fmt=\"cif\")\n",
        "structures, energies_per_atom, forces, stresses, magmoms = [], [], [], [], []\n",
        "for _ in range(100):\n",
        "    structure = lmo.copy()\n",
        "    structure.apply_strain(np.random.uniform(-0.1, 0.1, size=3))\n",
        "    structure.perturb(0.1)\n",
        "    pred = chgnet.predict_structure(structure)\n",
        "    structures.append(structure)\n",
        "    energies_per_atom.append(pred[\"e\"] + np.random.uniform(-0.1, 0.1, size=1))\n",
        "    forces.append(pred[\"f\"] + np.random.uniform(-0.01, 0.01, size=pred[\"f\"].shape))\n",
        "    stresses.append(pred[\"s\"] * -10 + np.random.uniform(-0.05, 0.05, size=pred[\"s\"].shape))\n",
        "    magmoms.append(pred[\"m\"] + np.random.uniform(-0.03, 0.03, size=pred[\"m\"].shape))"
      ],
      "metadata": {
        "id": "k3SS4Fnz0ILu"
      },
      "execution_count": null,
      "outputs": []
    },
    {
      "cell_type": "code",
      "source": [
        "dataset = StructureData(\n",
        "    structures=structures,\n",
        "    energies=energies_per_atom,\n",
        "    forces=forces,\n",
        "    stresses=stresses,  # can be None\n",
        "    magmoms=magmoms,  # can be None\n",
        "    )\n",
        "train_loader, val_loader, test_loader = get_train_val_test_loader(dataset, batch_size=8, train_ratio=0.9, val_ratio=0.05)"
      ],
      "metadata": {
        "colab": {
          "base_uri": "https://localhost:8080/"
        },
        "id": "mncQeoGz0IPZ",
        "outputId": "e45ce20d-c557-4f96-e158-8f7ca8674e00"
      },
      "execution_count": null,
      "outputs": [
        {
          "output_type": "stream",
          "name": "stdout",
          "text": [
            "StructureData imported 100 structures\n"
          ]
        }
      ]
    },
    {
      "cell_type": "markdown",
      "source": [
        "## Define Model"
      ],
      "metadata": {
        "id": "NRIg1XDo5b3U"
      }
    },
    {
      "cell_type": "code",
      "source": [
        "chgnet = CHGNet.load() # load pretrained CHGNet"
      ],
      "metadata": {
        "colab": {
          "base_uri": "https://localhost:8080/"
        },
        "id": "XILZgY820ITh",
        "outputId": "924a8525-5a27-4d91-9650-1310fd7b00ad"
      },
      "execution_count": null,
      "outputs": [
        {
          "output_type": "stream",
          "name": "stdout",
          "text": [
            "CHGNet v0.3.0 initialized with 412,525 parameters\n",
            "CHGNet will run on cpu\n"
          ]
        }
      ]
    },
    {
      "cell_type": "code",
      "source": [
        "# optionally fix the weights of some layers\n",
        "for layer in [\n",
        "    chgnet.atom_embedding,\n",
        "    chgnet.bond_embedding,\n",
        "    chgnet.angle_embedding,\n",
        "    chgnet.bond_basis_expansion,\n",
        "    chgnet.angle_basis_expansion,\n",
        "    chgnet.atom_conv_layers[:-1],\n",
        "    chgnet.bond_conv_layers,\n",
        "    chgnet.angle_layers,\n",
        "    ]:\n",
        "    for param in layer.parameters():\n",
        "      param.requires_grad = False"
      ],
      "metadata": {
        "id": "vo771fxj5tL9"
      },
      "execution_count": null,
      "outputs": []
    },
    {
      "cell_type": "code",
      "source": [
        "# define trainer\n",
        "trainer = Trainer(\n",
        "    model=chgnet,\n",
        "    targets=\"efsm\",\n",
        "    optimizer=\"Adam\",\n",
        "    scheduler=\"CosLR\",\n",
        "    criterion=\"MSE\",\n",
        "    epochs=2,\n",
        "    learning_rate=1e-2,\n",
        "    use_device=\"cpu\",\n",
        "    print_freq=6,\n",
        "    )"
      ],
      "metadata": {
        "id": "ujGAWi6s5tPZ"
      },
      "execution_count": null,
      "outputs": []
    },
    {
      "cell_type": "markdown",
      "source": [
        "## Train Model"
      ],
      "metadata": {
        "id": "UCGeUTmY55JE"
      }
    },
    {
      "cell_type": "code",
      "source": [
        "trainer.train(train_loader, val_loader, test_loader)"
      ],
      "metadata": {
        "colab": {
          "base_uri": "https://localhost:8080/"
        },
        "id": "eLBlqMpU5tS0",
        "outputId": "3b375543-5daa-45ef-cdac-b2cc5b2e89de"
      },
      "execution_count": null,
      "outputs": [
        {
          "output_type": "stream",
          "name": "stdout",
          "text": [
            "Begin Training: using cpu device\n",
            "training targets: efsm\n",
            "Epoch: [0][1/12] | Time (7.544)(0.067) | Loss 0.0025(0.0025) | MAE e 0.044(0.044)  f 0.005(0.005)  s 0.003(0.003)  m 0.014(0.014)  \n",
            "Epoch: [0][6/12] | Time (4.748)(0.075) | Loss 0.1440(0.1918) | MAE e 0.062(0.115)  f 0.045(0.049)  s 0.581(0.502)  m 0.199(0.201)  \n",
            "Epoch: [0][12/12] | Time (3.882)(0.065) | Loss 0.0458(0.1801) | MAE e 0.034(0.091)  f 0.051(0.050)  s 0.300(0.464)  m 0.076(0.173)  \n",
            "*   e_MAE (0.042) \tf_MAE (0.043) \ts_MAE (0.250) \tm_MAE (0.057) \t\n",
            "Epoch: [1][1/12] | Time (3.657)(0.001) | Loss 0.0402(0.0402) | MAE e 0.059(0.059)  f 0.043(0.043)  s 0.310(0.310)  m 0.044(0.044)  \n",
            "Epoch: [1][6/12] | Time (3.776)(0.001) | Loss 0.0325(0.1297) | MAE e 0.136(0.114)  f 0.031(0.045)  s 0.193(0.450)  m 0.071(0.098)  \n",
            "Epoch: [1][12/12] | Time (3.438)(0.001) | Loss 0.0290(0.0986) | MAE e 0.065(0.113)  f 0.032(0.045)  s 0.322(0.405)  m 0.074(0.083)  \n",
            "*   e_MAE (0.035) \tf_MAE (0.035) \ts_MAE (0.316) \tm_MAE (0.050) \t\n",
            "Epoch: [2][1/12] | Time (3.980)(0.001) | Loss 0.0851(0.0851) | MAE e 0.063(0.063)  f 0.044(0.044)  s 0.386(0.386)  m 0.049(0.049)  \n",
            "Epoch: [2][6/12] | Time (3.844)(0.001) | Loss 0.0334(0.0474) | MAE e 0.055(0.054)  f 0.038(0.038)  s 0.283(0.288)  m 0.048(0.038)  \n",
            "Epoch: [2][12/12] | Time (3.405)(0.001) | Loss 0.0089(0.0330) | MAE e 0.072(0.060)  f 0.016(0.032)  s 0.125(0.232)  m 0.022(0.039)  \n",
            "*   e_MAE (0.102) \tf_MAE (0.029) \ts_MAE (0.234) \tm_MAE (0.023) \t\n",
            "Epoch: [3][1/12] | Time (3.578)(0.001) | Loss 0.0238(0.0238) | MAE e 0.111(0.111)  f 0.021(0.021)  s 0.160(0.160)  m 0.022(0.022)  \n",
            "Epoch: [3][6/12] | Time (3.573)(0.001) | Loss 0.0130(0.0177) | MAE e 0.061(0.077)  f 0.025(0.024)  s 0.152(0.159)  m 0.030(0.027)  \n",
            "Epoch: [3][12/12] | Time (3.983)(0.001) | Loss 0.0106(0.0142) | MAE e 0.069(0.061)  f 0.027(0.024)  s 0.096(0.150)  m 0.012(0.024)  \n",
            "*   e_MAE (0.055) \tf_MAE (0.021) \ts_MAE (0.190) \tm_MAE (0.015) \t\n",
            "Epoch: [4][1/12] | Time (3.470)(0.001) | Loss 0.0168(0.0168) | MAE e 0.081(0.081)  f 0.021(0.021)  s 0.151(0.151)  m 0.016(0.016)  \n",
            "Epoch: [4][6/12] | Time (3.764)(0.001) | Loss 0.0062(0.0106) | MAE e 0.031(0.054)  f 0.021(0.021)  s 0.118(0.133)  m 0.016(0.016)  \n",
            "Epoch: [4][12/12] | Time (3.502)(0.001) | Loss 0.0271(0.0091) | MAE e 0.098(0.051)  f 0.034(0.022)  s 0.246(0.122)  m 0.017(0.016)  \n",
            "*   e_MAE (0.051) \tf_MAE (0.019) \ts_MAE (0.173) \tm_MAE (0.013) \t\n",
            "---------Evaluate Model on Test Set---------------\n",
            "**  e_MAE (0.072) \tf_MAE (0.041) \ts_MAE (0.389) \tm_MAE (0.049) \t\n"
          ]
        }
      ]
    },
    {
      "cell_type": "code",
      "source": [
        "model = trainer.model\n",
        "best_model = trainer.best_model  # best model based on validation energy MAE"
      ],
      "metadata": {
        "id": "GTypIgYw5tWu"
      },
      "execution_count": null,
      "outputs": []
    },
    {
      "cell_type": "markdown",
      "source": [
        "## Extras One GGA / GGA+U Compatibility"
      ],
      "metadata": {
        "id": "zaEmKovI7cKY"
      }
    },
    {
      "cell_type": "markdown",
      "source": [
        "The energy correction applied to each element:\n",
        "\n",
        "https://github.com/materialsproject/pymatgen/blob/v2023.2.28/pymatgen/entries/MP2020Compatibility.yaml"
      ],
      "metadata": {
        "id": "7Bvss8a-fvaf"
      }
    },
    {
      "cell_type": "code",
      "source": [
        "vasp_raw_energy = -58.97\n",
        "print(f\"The raw total energy from VASP of LMO is {vasp_raw_energy} eV\")"
      ],
      "metadata": {
        "colab": {
          "base_uri": "https://localhost:8080/"
        },
        "id": "EK4WBxcM5taK",
        "outputId": "f8b79618-ca24-4708-f3c3-cdbb0449f2d8"
      },
      "execution_count": null,
      "outputs": [
        {
          "output_type": "stream",
          "name": "stdout",
          "text": [
            "The raw total energy from VASP of LMO is -58.97 eV\n"
          ]
        }
      ]
    },
    {
      "cell_type": "code",
      "source": [
        "Mn_correction_in_TMO = -1.668\n",
        "oxide_correction = -0.687\n",
        "_, num_Mn, num_O = lmo.composition.values()\n",
        "corrected_energy = (vasp_raw_energy + num_Mn * Mn_correction_in_TMO + num_O * oxide_correction)\n",
        "print(f\"The corrected total energy after MP2020 = {corrected_energy:.4} eV\")"
      ],
      "metadata": {
        "colab": {
          "base_uri": "https://localhost:8080/"
        },
        "id": "W2xiV7Wm7lbz",
        "outputId": "8895b7fb-a8f6-4943-85e4-a74182432cf9"
      },
      "execution_count": null,
      "outputs": [
        {
          "output_type": "stream",
          "name": "stdout",
          "text": [
            "The corrected total energy after MP2020 = -65.05 eV\n"
          ]
        }
      ]
    },
    {
      "cell_type": "code",
      "source": [
        "params = {\"hubbards\": {\"Mn\": 3.9, \"O\": 0, \"Li\": 0}, \"run_type\": \"GGA+U\"}\n",
        "cse = ComputedStructureEntry(lmo, vasp_raw_energy, parameters=params)\n",
        "MaterialsProject2020Compatibility(check_potcar=False).process_entries(cse)\n",
        "print(f\"The total energy of LMO after MP2020Compatibility correction is {cse.energy:.4} eV\")"
      ],
      "metadata": {
        "colab": {
          "base_uri": "https://localhost:8080/"
        },
        "id": "AxkK7SRn7xMI",
        "outputId": "d76bc201-f235-4864-b19f-7bd2b8354b98"
      },
      "execution_count": null,
      "outputs": [
        {
          "output_type": "stream",
          "name": "stdout",
          "text": [
            "The total energy of LMO after MP2020Compatibility correction is -65.05 eV\n"
          ]
        }
      ]
    },
    {
      "cell_type": "markdown",
      "source": [
        "## Extras Two AtomRef"
      ],
      "metadata": {
        "id": "FQSNK2XV8EDP"
      }
    },
    {
      "cell_type": "code",
      "source": [
        "trainer.train(train_loader, val_loader, test_loader, train_composition_model=True)"
      ],
      "metadata": {
        "colab": {
          "base_uri": "https://localhost:8080/"
        },
        "id": "O1O5stAs7xUM",
        "outputId": "89a8f188-37a0-413c-bbe8-128eb8f46111"
      },
      "execution_count": null,
      "outputs": [
        {
          "output_type": "stream",
          "name": "stdout",
          "text": [
            "Begin Training: using cpu device\n",
            "training targets: efsm\n",
            "Epoch: [0][1/12] | Time (5.522)(0.002) | Loss 0.0026(0.0026) | MAE e 0.047(0.047)  f 0.005(0.005)  s 0.002(0.002)  m 0.015(0.015)  \n",
            "Epoch: [0][6/12] | Time (4.839)(0.001) | Loss 0.8700(1.5309) | MAE e 0.201(0.257)  f 0.163(0.121)  s 1.320(1.419)  m 0.347(0.281)  \n",
            "Epoch: [0][12/12] | Time (4.460)(0.001) | Loss 0.1499(1.5722) | MAE e 0.103(0.175)  f 0.129(0.156)  s 0.630(1.603)  m 0.197(0.240)  \n",
            "*   e_MAE (0.058) \tf_MAE (0.123) \ts_MAE (1.229) \tm_MAE (0.122) \t\n",
            "Epoch: [1][1/12] | Time (4.387)(0.001) | Loss 1.9453(1.9453) | MAE e 0.071(0.071)  f 0.146(0.146)  s 2.258(2.258)  m 0.168(0.168)  \n",
            "Epoch: [1][6/12] | Time (4.588)(0.001) | Loss 0.2780(0.7384) | MAE e 0.164(0.132)  f 0.155(0.145)  s 0.772(1.239)  m 0.179(0.132)  \n",
            "Epoch: [1][12/12] | Time (4.306)(0.001) | Loss 0.1515(0.5914) | MAE e 0.082(0.127)  f 0.115(0.144)  s 0.766(1.107)  m 0.096(0.117)  \n",
            "*   e_MAE (0.074) \tf_MAE (0.140) \ts_MAE (0.673) \tm_MAE (0.127) \t\n",
            "Epoch: [2][1/12] | Time (3.648)(0.001) | Loss 0.1038(0.1038) | MAE e 0.103(0.103)  f 0.109(0.109)  s 0.526(0.526)  m 0.122(0.122)  \n",
            "Epoch: [2][6/12] | Time (4.566)(0.001) | Loss 0.0812(0.1088) | MAE e 0.082(0.095)  f 0.103(0.113)  s 0.508(0.519)  m 0.049(0.090)  \n",
            "Epoch: [2][12/12] | Time (4.411)(0.001) | Loss 0.0248(0.1201) | MAE e 0.042(0.079)  f 0.056(0.112)  s 0.293(0.522)  m 0.068(0.081)  \n",
            "*   e_MAE (0.039) \tf_MAE (0.126) \ts_MAE (0.535) \tm_MAE (0.078) \t\n",
            "Epoch: [3][1/12] | Time (3.823)(0.001) | Loss 0.0471(0.0471) | MAE e 0.055(0.055)  f 0.085(0.085)  s 0.347(0.347)  m 0.071(0.071)  \n",
            "Epoch: [3][6/12] | Time (4.671)(0.001) | Loss 0.0769(0.0723) | MAE e 0.060(0.051)  f 0.098(0.099)  s 0.402(0.414)  m 0.044(0.049)  \n",
            "Epoch: [3][12/12] | Time (4.355)(0.001) | Loss 0.0408(0.0715) | MAE e 0.042(0.051)  f 0.098(0.098)  s 0.319(0.408)  m 0.032(0.045)  \n",
            "*   e_MAE (0.051) \tf_MAE (0.121) \ts_MAE (0.541) \tm_MAE (0.036) \t\n",
            "Epoch: [4][1/12] | Time (4.718)(0.001) | Loss 0.1191(0.1191) | MAE e 0.050(0.050)  f 0.128(0.128)  s 0.484(0.484)  m 0.048(0.048)  \n",
            "Epoch: [4][6/12] | Time (4.880)(0.001) | Loss 0.0568(0.0650) | MAE e 0.045(0.053)  f 0.094(0.095)  s 0.392(0.387)  m 0.038(0.039)  \n",
            "Epoch: [4][12/12] | Time (4.526)(0.001) | Loss 0.0154(0.0639) | MAE e 0.029(0.050)  f 0.063(0.096)  s 0.213(0.372)  m 0.045(0.038)  \n",
            "*   e_MAE (0.051) \tf_MAE (0.120) \ts_MAE (0.496) \tm_MAE (0.040) \t\n",
            "---------Evaluate Model on Test Set---------------\n",
            "**  e_MAE (0.058) \tf_MAE (0.076) \ts_MAE (0.388) \tm_MAE (0.057) \t\n"
          ]
        }
      ]
    },
    {
      "cell_type": "code",
      "source": [
        "print(\"The pretrained Atom_Ref (per atom reference energy):\")\n",
        "for param in chgnet.composition_model.parameters():\n",
        "    print(param)"
      ],
      "metadata": {
        "colab": {
          "base_uri": "https://localhost:8080/"
        },
        "id": "VKXONzoc7xXi",
        "outputId": "63d1957b-e626-4efe-81b0-f9af44f49564"
      },
      "execution_count": null,
      "outputs": [
        {
          "output_type": "stream",
          "name": "stdout",
          "text": [
            "The pretrained Atom_Ref (per atom reference energy):\n",
            "Parameter containing:\n",
            "tensor([[ -3.4431,  -0.1279,  -2.8624,  -3.4737,  -7.4946,  -8.2354,  -8.1611,\n",
            "          -8.4185,  -5.7498,  -0.0236,  -1.7406,  -1.6788,  -4.2833,  -6.2002,\n",
            "          -6.1315,  -5.8405,  -3.8795,  -0.0703,  -1.5668,  -3.4451,  -7.0549,\n",
            "          -9.1465,  -9.2594,  -9.3514,  -9.0167,  -8.0228,  -6.4955,  -5.6057,\n",
            "          -3.4002,  -0.9217,  -3.2499,  -4.9164,  -4.7810,  -5.0191,  -3.3316,\n",
            "           0.5130,  -1.4043,  -3.2175,  -7.4994,  -9.3816, -10.4386,  -9.9539,\n",
            "          -7.9555,  -8.5440,  -7.3245,  -5.2771,  -1.9014,  -0.4034,  -2.6002,\n",
            "          -4.0054,  -4.1156,  -3.9928,  -2.7003,   2.2170,  -1.9671,  -3.7180,\n",
            "          -6.8133,  -7.3502,  -6.0712,  -6.1699,  -5.1471,  -6.1925, -11.5829,\n",
            "         -15.8841,  -5.9994,  -6.0798,  -5.9513,  -6.0400,  -5.9773,  -2.5091,\n",
            "          -6.0767, -10.6666, -11.8761, -11.8491, -10.7397,  -9.6100,  -8.4755,\n",
            "          -6.2070,  -3.0337,   0.4726,  -1.6425,  -3.1295,  -3.3328,  -0.1221,\n",
            "          -0.3448,  -0.4364,  -0.1661,  -0.3680,  -4.1869,  -8.4233, -10.0467,\n",
            "         -12.0953, -12.5228, -14.2530]], requires_grad=True)\n"
          ]
        }
      ]
    },
    {
      "cell_type": "code",
      "source": [
        "# list of structures / graphs\n",
        "structures = [\n",
        "    lmo,\n",
        "    Structure(\n",
        "        species=[\"Li\", \"Mn\", \"Mn\", \"O\", \"O\", \"O\"],\n",
        "        lattice=np.random.rand(3, 3),\n",
        "        coords=np.random.rand(6, 3),\n",
        "        ),\n",
        "    Structure(\n",
        "        species=[\"Li\", \"Li\", \"Mn\", \"O\", \"O\", \"O\"],\n",
        "        lattice=np.random.rand(3, 3),\n",
        "        coords=np.random.rand(6, 3),\n",
        "        ),\n",
        "    Structure(\n",
        "        species=[\"Li\", \"Mn\", \"Mn\", \"O\", \"O\", \"O\", \"O\"],\n",
        "        lattice=np.random.rand(3, 3),\n",
        "        coords=np.random.rand(7, 3),\n",
        "        ),\n",
        "    ]\n",
        "# list of energy_per_atom values (random values here)\n",
        "energies_per_atom = [5.5, 6, 4.8, 5.6]"
      ],
      "metadata": {
        "id": "Y2g1Jgok7xbd"
      },
      "execution_count": null,
      "outputs": []
    },
    {
      "cell_type": "code",
      "source": [
        "print(\"We initialize another identical AtomRef layers\")\n",
        "new_atom_ref = AtomRef(is_intensive=True)\n",
        "new_atom_ref.initialize_from_MPtrj()\n",
        "for param in new_atom_ref.parameters():\n",
        "    print(param[:, :3])"
      ],
      "metadata": {
        "colab": {
          "base_uri": "https://localhost:8080/"
        },
        "id": "H4Nwu-ke7xez",
        "outputId": "7d5a7a4c-f1e8-4cbf-ba17-67d702531e1b"
      },
      "execution_count": null,
      "outputs": [
        {
          "output_type": "stream",
          "name": "stdout",
          "text": [
            "We initialize another identical AtomRef layers\n",
            "tensor([[-3.4431, -0.1279, -2.8300]], grad_fn=<SliceBackward0>)\n"
          ]
        }
      ]
    },
    {
      "cell_type": "code",
      "source": [
        "new_atom_ref.fit(structures, energies_per_atom)\n",
        "print(\"After refitting, the AtomRef looks like:\")\n",
        "for param in new_atom_ref.parameters():\n",
        "    print(param)"
      ],
      "metadata": {
        "colab": {
          "base_uri": "https://localhost:8080/"
        },
        "id": "-5Q527H57xiQ",
        "outputId": "e19a13b0-4ef5-4404-80a2-80e6bcad9da1"
      },
      "execution_count": null,
      "outputs": [
        {
          "output_type": "stream",
          "name": "stdout",
          "text": [
            "After refitting, the AtomRef looks like:\n",
            "Parameter containing:\n",
            "tensor([[0.0000e+00, 0.0000e+00, 4.2666e+00, 5.0829e-15, 0.0000e+00, 0.0000e+00,\n",
            "         0.0000e+00, 2.9999e+00, 0.0000e+00, 0.0000e+00, 0.0000e+00, 0.0000e+00,\n",
            "         0.0000e+00, 0.0000e+00, 0.0000e+00, 0.0000e+00, 0.0000e+00, 0.0000e+00,\n",
            "         0.0000e+00, 0.0000e+00, 0.0000e+00, 0.0000e+00, 0.0000e+00, 0.0000e+00,\n",
            "         1.1467e+01, 0.0000e+00, 0.0000e+00, 0.0000e+00, 0.0000e+00, 0.0000e+00,\n",
            "         0.0000e+00, 0.0000e+00, 0.0000e+00, 0.0000e+00, 0.0000e+00, 0.0000e+00,\n",
            "         0.0000e+00, 0.0000e+00, 0.0000e+00, 0.0000e+00, 0.0000e+00, 0.0000e+00,\n",
            "         0.0000e+00, 0.0000e+00, 0.0000e+00, 0.0000e+00, 0.0000e+00, 0.0000e+00,\n",
            "         0.0000e+00, 0.0000e+00, 0.0000e+00, 0.0000e+00, 0.0000e+00, 0.0000e+00,\n",
            "         0.0000e+00, 0.0000e+00, 0.0000e+00, 0.0000e+00, 0.0000e+00, 0.0000e+00,\n",
            "         0.0000e+00, 0.0000e+00, 0.0000e+00, 0.0000e+00, 0.0000e+00, 0.0000e+00,\n",
            "         0.0000e+00, 0.0000e+00, 0.0000e+00, 0.0000e+00, 0.0000e+00, 0.0000e+00,\n",
            "         0.0000e+00, 0.0000e+00, 0.0000e+00, 0.0000e+00, 0.0000e+00, 0.0000e+00,\n",
            "         0.0000e+00, 0.0000e+00, 0.0000e+00, 0.0000e+00, 0.0000e+00, 0.0000e+00,\n",
            "         0.0000e+00, 0.0000e+00, 0.0000e+00, 0.0000e+00, 0.0000e+00, 0.0000e+00,\n",
            "         0.0000e+00, 0.0000e+00, 0.0000e+00, 0.0000e+00]], requires_grad=True)\n"
          ]
        }
      ]
    },
    {
      "cell_type": "markdown",
      "source": [
        "# Crystaltoolkit Relaxation Viewer"
      ],
      "metadata": {
        "id": "n115A3_A8wWH"
      }
    },
    {
      "cell_type": "code",
      "source": [
        "working_dir = '/content/drive/MyDrive/DataSets'\n",
        "os.chdir(working_dir)\n",
        "assert os.getcwd() == working_dir"
      ],
      "metadata": {
        "id": "1lsJKuV-89hD"
      },
      "execution_count": null,
      "outputs": []
    },
    {
      "cell_type": "code",
      "source": [
        "url = \"https://raw.githubusercontent.com/CederGroupHub/chgnet/main/examples/mp-18767-LiMnO2.cif\"\n",
        "cif = urlopen(url).read().decode(\"utf-8\")\n",
        "structure = Structure.from_str(cif, fmt=\"cif\")"
      ],
      "metadata": {
        "id": "sflGGgclAr_1"
      },
      "execution_count": null,
      "outputs": []
    },
    {
      "cell_type": "code",
      "source": [
        "print(f\"original: {structure.get_space_group_info()}\")\n",
        "for site in structure:\n",
        "    site.coords += np.random.normal(size=3) * 0.3\n",
        "structure.scale_lattice(structure.volume * 1.1)\n",
        "print(f\"perturbed: {structure.get_space_group_info()}\")"
      ],
      "metadata": {
        "id": "7PWtTH0PCK4u"
      },
      "execution_count": null,
      "outputs": []
    },
    {
      "cell_type": "code",
      "source": [
        "trajectory = StructOptimizer().relax(structure)[\"trajectory\"]"
      ],
      "metadata": {
        "id": "IlLUcs0jBssT"
      },
      "execution_count": null,
      "outputs": []
    },
    {
      "cell_type": "code",
      "source": [
        "e_col = \"Energy (eV)\"\n",
        "force_col = \"Force (eV/Å)\"\n",
        "df_traj = pd.DataFrame(trajectory.energies, columns=[e_col])\n",
        "df_traj[force_col] = [\n",
        "    np.linalg.norm(force, axis=1).mean()  # mean of norm of force on each atom\n",
        "    for force in trajectory.forces]\n",
        "df_traj.index.name = \"step\""
      ],
      "metadata": {
        "id": "4U5wyUULBvf_"
      },
      "execution_count": null,
      "outputs": []
    },
    {
      "cell_type": "code",
      "source": [
        "mp_id = \"mp-18767\"\n",
        "dft_energy = -59.09\n",
        "print(f\"{dft_energy=:.2f} eV (see https://materialsproject.org/materials/{mp_id})\")"
      ],
      "metadata": {
        "id": "-7uuFEVDByPL"
      },
      "execution_count": null,
      "outputs": []
    },
    {
      "cell_type": "code",
      "source": [
        "app = Dash(prevent_initial_callbacks=True, assets_folder=SETTINGS.ASSETS_PATH)\n",
        "step_size = max(1, len(trajectory) // 20)  # ensure slider has max 20 steps\n",
        "slider = dcc.Slider(id=\"slider\", min=0, max=len(trajectory) - 1, step=step_size, updatemode=\"drag\")\n",
        "def plot_energy_and_forces(\n",
        "    df: pd.DataFrame, step: int, e_col: str, force_col: str, title: str) -> go.Figure:\n",
        "    \"\"\"Plot energy and forces as a function of relaxation step.\"\"\"\n",
        "    fig = go.Figure()\n",
        "    fig.add_trace(go.Scatter(x=df.index, y=df[e_col], mode=\"lines\", name=\"Energy\")) # energy trace = primary y-axis\n",
        "    line_color = fig.data[0].line.color # get energy line color\n",
        "    fig.add_trace(go.Scatter(x=df.index, y=df[force_col], mode=\"lines\", name=\"Forces\", yaxis=\"y2\")) # forces trace = secondary y-axis\n",
        "    fig.update_layout(\n",
        "        template=\"plotly_white\",\n",
        "        title=title,\n",
        "        xaxis=dict(title=\"Relaxation Step\"),\n",
        "        yaxis=dict(title=e_col),\n",
        "        yaxis2=dict(title=force_col, overlaying=\"y\", side=\"right\"),\n",
        "        legend=dict(yanchor=\"top\", y=1, xanchor=\"right\", x=1),\n",
        "        )\n",
        "    # vertical line at the specified step\n",
        "    fig.add_vline(x=step, line=dict(dash=\"dash\", width=1))\n",
        "    # horizontal line for DFT final energy\n",
        "    anno = dict(text=\"DFT final energy\", yanchor=\"top\")\n",
        "    fig.add_hline(\n",
        "        y=dft_energy,\n",
        "        line=dict(dash=\"dot\", width=1, color=line_color),\n",
        "        annotation=anno,\n",
        "        )\n",
        "    return fig\n",
        "\n",
        "def make_title(spg_symbol: str, spg_num: int) -> str:\n",
        "    \"\"\"Return a title for the figure.\"\"\"\n",
        "    href = f\"https://materialsproject.org/materials/{mp_id}/\"\n",
        "    return f\"<a {href=}>{mp_id}</a> - {spg_symbol} ({spg_num})\"\n",
        "\n",
        "title = make_title(*structure.get_space_group_info())\n",
        "graph = dcc.Graph(\n",
        "    id=\"fig\",\n",
        "    figure=plot_energy_and_forces(df_traj, 0, e_col, force_col, title),\n",
        "    style={\"maxWidth\": \"50%\"},\n",
        "    )\n",
        "struct_comp = ctc.StructureMoleculeComponent(id=\"structure\", struct_or_mol=structure)\n",
        "app.layout = html.Div(\n",
        "    [html.H1(\"Structure Relaxation Trajectory\", style=dict(margin=\"1em\", fontSize=\"2em\")),\n",
        "     html.P(\"Drag slider to see structure at different relaxation steps.\"),\n",
        "     slider,\n",
        "     html.Div([struct_comp.layout(), graph], style=dict(display=\"flex\", gap=\"2em\")),\n",
        "     ],\n",
        "    style=dict(margin=\"auto\", textAlign=\"center\", maxWidth=\"1200px\", padding=\"2em\"),\n",
        "    )\n",
        "\n",
        "ctc.register_crystal_toolkit(app=app, layout=app.layout)\n",
        "\n",
        "@app.callback(\n",
        "    Output(struct_comp.id(), \"data\"), Output(graph, \"figure\"), Input(slider, \"value\")\n",
        ")\n",
        "def update_structure(step: int) -> tuple[Structure, go.Figure]:\n",
        "    \"\"\"Update the structure displayed in the StructureMoleculeComponent and the\n",
        "    dashed vertical line in the figure when the slider is moved.\n",
        "    \"\"\"\n",
        "    lattice = trajectory.cells[step]\n",
        "    coords = trajectory.atom_positions[step]\n",
        "    structure.lattice = lattice  # update structure in place for efficiency\n",
        "    assert len(structure) == len(coords)\n",
        "    for site, coord in zip(structure, coords):\n",
        "        site.coords = coord\n",
        "    title = make_title(*structure.get_space_group_info())\n",
        "    fig = plot_energy_and_forces(df_traj, step, e_col, force_col, title)\n",
        "    return structure, fig\n",
        "\n",
        "app.run(height=800, use_reloader=False)"
      ],
      "metadata": {
        "id": "Q-V6IOCOByTy"
      },
      "execution_count": null,
      "outputs": []
    },
    {
      "cell_type": "markdown",
      "source": [
        "# Phonon"
      ],
      "metadata": {
        "id": "Fx8vgtIEDt20"
      }
    },
    {
      "cell_type": "code",
      "source": [
        "struct = Structure(\n",
        "        lattice=[[0, 2.73, 2.73], [2.73, 0, 2.73], [2.73, 2.73, 0]],\n",
        "        species=[\"Si\", \"Si\"],\n",
        "        coords=[[0, 0, 0], [0.25, 0.25, 0.25]],\n",
        "        )\n",
        "phonon_flow = PhononMaker(min_length=15.0, store_force_constants=False).make(structure=struct)"
      ],
      "metadata": {
        "id": "0qDtEbnoD8Cp"
      },
      "execution_count": null,
      "outputs": []
    },
    {
      "cell_type": "code",
      "source": [
        "phonon_flow.draw_graph().show()"
      ],
      "metadata": {
        "colab": {
          "base_uri": "https://localhost:8080/",
          "height": 653
        },
        "id": "mvCq2RNqLnkw",
        "outputId": "d60f58d7-2e8a-4e30-b647-c2891b08640f"
      },
      "execution_count": null,
      "outputs": [
        {
          "output_type": "display_data",
          "data": {
            "text/plain": [
              "<Figure size 1200x800 with 1 Axes>"
            ],
            "image/png": "[encoded data removed]"
          },
          "metadata": {}
        }
      ]
    },
    {
      "cell_type": "code",
      "source": [
        "%%capture\n",
        "run_locally(phonon_flow, create_folders=True)"
      ],
      "metadata": {
        "colab": {
          "base_uri": "https://localhost:8080/"
        },
        "id": "CKlZyPG2LnqU",
        "outputId": "17374c1d-2bc4-4558-9657-df3e2d9e1efb"
      },
      "execution_count": null,
      "outputs": [
        {
          "output_type": "stream",
          "name": "stderr",
          "text": [
            "INFO:jobflow.managers.local:Started executing jobs locally\n",
            "INFO:jobflow.core.job:Starting job - MLFF.CHGNet relax (6acaa59a-102f-4de4-90d5-5e5ce8bb4a02)\n",
            "INFO:jobflow.core.job:Finished job - MLFF.CHGNet relax (6acaa59a-102f-4de4-90d5-5e5ce8bb4a02)\n",
            "INFO:jobflow.core.job:Starting job - get_supercell_size (26bb6198-07ff-4728-8381-4a8aa42e40e9)\n",
            "INFO:jobflow.core.job:Finished job - get_supercell_size (26bb6198-07ff-4728-8381-4a8aa42e40e9)\n",
            "INFO:jobflow.core.job:Starting job - MLFF.CHGNet static (434e3891-70ea-4e12-9f9e-81d26a9a1823)\n",
            "INFO:jobflow.core.job:Finished job - MLFF.CHGNet static (434e3891-70ea-4e12-9f9e-81d26a9a1823)\n",
            "INFO:jobflow.core.job:Starting job - generate_phonon_displacements (2cdf678c-f5b8-479f-8f95-3e6c75ed3d75)\n",
            "INFO:jobflow.core.job:Finished job - generate_phonon_displacements (2cdf678c-f5b8-479f-8f95-3e6c75ed3d75)\n",
            "INFO:jobflow.core.job:Starting job - run_phonon_displacements (a2ef0305-9180-4440-a504-15b2cb0e1caa)\n",
            "INFO:jobflow.core.job:Finished job - run_phonon_displacements (a2ef0305-9180-4440-a504-15b2cb0e1caa)\n",
            "INFO:jobflow.core.job:Starting job - MLFF.CHGNet static 1/1 (b58b2a4d-21c7-4792-b02f-188b242d769a)\n",
            "INFO:jobflow.core.job:Finished job - MLFF.CHGNet static 1/1 (b58b2a4d-21c7-4792-b02f-188b242d769a)\n",
            "INFO:jobflow.core.job:Starting job - store_inputs (a2ef0305-9180-4440-a504-15b2cb0e1caa, 2)\n",
            "INFO:jobflow.core.job:Finished job - store_inputs (a2ef0305-9180-4440-a504-15b2cb0e1caa, 2)\n",
            "INFO:jobflow.core.job:Starting job - generate_frequencies_eigenvectors (02153bf7-9ac4-4538-bdeb-bccf1f5af842)\n",
            "WARNING:matplotlib.backends.backend_ps:The PostScript backend does not support transparency; partially transparent artists will be rendered opaque.\n",
            "INFO:jobflow.core.job:Finished job - generate_frequencies_eigenvectors (02153bf7-9ac4-4538-bdeb-bccf1f5af842)\n",
            "INFO:jobflow.managers.local:Finished executing jobs locally\n"
          ]
        }
      ]
    },
    {
      "cell_type": "code",
      "source": [
        "store = JFSet.JOB_STORE\n",
        "store.connect()\n",
        "result = store.query_one(\n",
        "    {\"name\": \"generate_frequencies_eigenvectors\"},\n",
        "    properties=[\n",
        "        \"output.phonon_dos\",\n",
        "        \"output.phonon_bandstructure\",\n",
        "        ],\n",
        "    load=True,\n",
        "    sort={\"completed_at\": -1} # to get the latest computation\n",
        "    )"
      ],
      "metadata": {
        "id": "HZNWgsu4Lnup"
      },
      "execution_count": null,
      "outputs": []
    },
    {
      "cell_type": "code",
      "source": [
        "ph_bs = PhononBandStructureSymmLine.from_dict(result['output']['phonon_bandstructure']) # get pymatgen bandstructure object\n",
        "ph_dos = PhononDos.from_dict(result['output']['phonon_dos']) # get pymatgen phonon dos object\n",
        "dos_plot = PhononDosPlotter()\n",
        "dos_plot.add_dos(label='a', dos=ph_dos)\n",
        "dos_plot.get_plot()\n",
        "bs_plot = PhononBSPlotter(bs=ph_bs)\n",
        "bs_plot.get_plot()"
      ],
      "metadata": {
        "colab": {
          "base_uri": "https://localhost:8080/",
          "height": 1000
        },
        "id": "Spmzz_QYLnyi",
        "outputId": "514193ec-fed7-44e6-ada3-7b87b8af2a84"
      },
      "execution_count": null,
      "outputs": [
        {
          "output_type": "execute_result",
          "data": {
            "text/plain": [
              "<Axes: xlabel='$\\\\mathrm{Wave\\\\ Vector}$', ylabel='$\\\\mathrm{Frequencies\\\\ (THz)}$'>"
            ]
          },
          "metadata": {},
          "execution_count": 24
        },
        {
          "output_type": "display_data",
          "data": {
            "text/plain": [
              "<Figure size 1200x800 with 1 Axes>"
            ],
            "image/png": "[encoded data removed]"
          },
          "metadata": {}
        },
        {
          "output_type": "display_data",
          "data": {
            "text/plain": [
              "<Figure size 1200x800 with 1 Axes>"
            ],
            "image/png": "[encoded data removed]"
          },
          "metadata": {}
        }
      ]
    },
    {
      "cell_type": "code",
      "source": [
        "struct = Structure(\n",
        "    lattice=[[0, 2.73, 2.73], [2.73, 0, 2.73], [2.73, 2.73, 0]],\n",
        "    species=[\"Si\", \"Si\"],\n",
        "    coords=[[0, 0, 0], [0.25, 0.25, 0.25]],\n",
        "    )\n",
        "phonon_flow = PhononMaker(min_length=15.0, store_force_constants=False,\n",
        "                          bulk_relax_maker=M3GNetRelaxMaker(relax_kwargs={\"fmax\": 0.00001}),\n",
        "                          phonon_displacement_maker=M3GNetStaticMaker(),\n",
        "                          static_energy_maker=None).make(structure=struct)"
      ],
      "metadata": {
        "id": "uBknanUX4OVg"
      },
      "execution_count": null,
      "outputs": []
    },
    {
      "cell_type": "code",
      "source": [
        "%%capture\n",
        "run_locally(phonon_flow, create_folders=True, store=JFSet.JOB_STORE)"
      ],
      "metadata": {
        "colab": {
          "base_uri": "https://localhost:8080/"
        },
        "id": "4wAQn5-34Pc4",
        "outputId": "f8786707-57c1-48a8-b663-ce81427ec6fa"
      },
      "execution_count": null,
      "outputs": [
        {
          "output_type": "stream",
          "name": "stderr",
          "text": [
            "INFO:jobflow.managers.local:Started executing jobs locally\n",
            "INFO:jobflow.core.job:Starting job - MLFF.M3GNet relax (9a6d8309-ff19-4d05-8355-6b283d621635)\n",
            "INFO:jobflow.core.job:Finished job - MLFF.M3GNet relax (9a6d8309-ff19-4d05-8355-6b283d621635)\n",
            "INFO:jobflow.core.job:Starting job - get_supercell_size (6edfbeb3-47f9-45a4-bd53-00e2d0180ba7)\n",
            "INFO:jobflow.core.job:Finished job - get_supercell_size (6edfbeb3-47f9-45a4-bd53-00e2d0180ba7)\n",
            "INFO:jobflow.core.job:Starting job - generate_phonon_displacements (f6200e2f-f760-42bb-95be-bdf0995b305b)\n",
            "INFO:jobflow.core.job:Finished job - generate_phonon_displacements (f6200e2f-f760-42bb-95be-bdf0995b305b)\n",
            "INFO:jobflow.core.job:Starting job - run_phonon_displacements (3d705366-8a1e-4534-867e-d6daacb87421)\n",
            "INFO:jobflow.core.job:Finished job - run_phonon_displacements (3d705366-8a1e-4534-867e-d6daacb87421)\n",
            "INFO:jobflow.core.job:Starting job - MLFF.M3GNet static 1/1 (fe15d354-3d6d-4f59-a8d6-1652ce492f4c)\n",
            "INFO:jobflow.core.job:Finished job - MLFF.M3GNet static 1/1 (fe15d354-3d6d-4f59-a8d6-1652ce492f4c)\n",
            "INFO:jobflow.core.job:Starting job - store_inputs (3d705366-8a1e-4534-867e-d6daacb87421, 2)\n",
            "INFO:jobflow.core.job:Finished job - store_inputs (3d705366-8a1e-4534-867e-d6daacb87421, 2)\n",
            "INFO:jobflow.core.job:Starting job - generate_frequencies_eigenvectors (34c98dab-9b93-4aec-80c4-36989eb77057)\n",
            "WARNING:matplotlib.backends.backend_ps:The PostScript backend does not support transparency; partially transparent artists will be rendered opaque.\n",
            "INFO:jobflow.core.job:Finished job - generate_frequencies_eigenvectors (34c98dab-9b93-4aec-80c4-36989eb77057)\n",
            "INFO:jobflow.managers.local:Finished executing jobs locally\n"
          ]
        }
      ]
    },
    {
      "cell_type": "code",
      "source": [
        "store = JFSet.JOB_STORE\n",
        "store.connect()\n",
        "result = store.query_one(\n",
        "    {\"name\": \"generate_frequencies_eigenvectors\"},\n",
        "    properties=[\n",
        "        \"output.phonon_dos\",\n",
        "        \"output.phonon_bandstructure\",\n",
        "        ],\n",
        "    load=True,\n",
        "    sort={\"completed_at\": -1} # to get the latest computation\n",
        "    )\n",
        "\n",
        "ph_bs = PhononBandStructureSymmLine.from_dict(\n",
        "    result['output']['phonon_bandstructure'])  # get pymatgen bandstructure object\n",
        "ph_dos = PhononDos.from_dict(result['output']['phonon_dos'])  # get pymatgen phonon dos object"
      ],
      "metadata": {
        "id": "tZhZiG614RYh"
      },
      "execution_count": null,
      "outputs": []
    },
    {
      "cell_type": "code",
      "source": [
        "dos_plot = PhononDosPlotter()\n",
        "dos_plot.add_dos(label='a', dos=ph_dos)\n",
        "dos_plot.get_plot()"
      ],
      "metadata": {
        "colab": {
          "base_uri": "https://localhost:8080/",
          "height": 779
        },
        "id": "53A_i5kw5Y_J",
        "outputId": "38049dbc-932e-401e-ce3c-38c093758e04"
      },
      "execution_count": null,
      "outputs": [
        {
          "output_type": "execute_result",
          "data": {
            "text/plain": [
              "<Axes: xlabel='$\\\\mathrm{Frequencies\\\\ (THz)}$', ylabel='$\\\\mathrm{Density\\\\ of\\\\ states}$'>"
            ]
          },
          "metadata": {},
          "execution_count": 29
        },
        {
          "output_type": "display_data",
          "data": {
            "text/plain": [
              "<Figure size 1200x800 with 1 Axes>"
            ],
            "image/png": "[encoded data removed]"
          },
          "metadata": {}
        }
      ]
    },
    {
      "cell_type": "code",
      "source": [
        "bs_plot = PhononBSPlotter(bs=ph_bs)\n",
        "bs_plot.get_plot()"
      ],
      "metadata": {
        "colab": {
          "base_uri": "https://localhost:8080/",
          "height": 771
        },
        "id": "cOuq-qhx5Zmu",
        "outputId": "9b22e620-428e-4193-9dfc-de4a92cfbd22"
      },
      "execution_count": null,
      "outputs": [
        {
          "output_type": "execute_result",
          "data": {
            "text/plain": [
              "<Axes: xlabel='$\\\\mathrm{Wave\\\\ Vector}$', ylabel='$\\\\mathrm{Frequencies\\\\ (THz)}$'>"
            ]
          },
          "metadata": {},
          "execution_count": 30
        },
        {
          "output_type": "display_data",
          "data": {
            "text/plain": [
              "<Figure size 1200x800 with 1 Axes>"
            ],
            "image/png": "[encoded data removed]"
          },
          "metadata": {}
        }
      ]
    },
    {
      "cell_type": "markdown",
      "source": [
        "# Elastic"
      ],
      "metadata": {
        "id": "f3oVjFPn4aNf"
      }
    },
    {
      "cell_type": "code",
      "source": [
        "structure = Structure(\n",
        "    lattice=[[0, 2.73, 2.73], [2.73, 0, 2.73], [2.73, 2.73, 0]],\n",
        "    species=[\"Si\", \"Si\"],\n",
        "    coords=[[0, 0, 0], [0.25, 0.25, 0.25]],\n",
        "    )\n",
        "structure= SpacegroupAnalyzer(structure).get_primitive_standard_structure()\n",
        "elastic_flow = ElasticMaker(\n",
        "    bulk_relax_maker=M3GNetRelaxMaker(\n",
        "        relax_cell=True, relax_kwargs={\"fmax\": 0.00001}\n",
        "        ),\n",
        "    elastic_relax_maker=M3GNetRelaxMaker(\n",
        "        relax_cell=False, relax_kwargs={\"fmax\": 0.00001}\n",
        "        ),\n",
        "    ).make(structure)"
      ],
      "metadata": {
        "id": "ah6nrSLn4cQ5"
      },
      "execution_count": null,
      "outputs": []
    },
    {
      "cell_type": "code",
      "source": [
        "# elastic_flow.draw_graph().show()"
      ],
      "metadata": {
        "id": "i0PiR0HZ4ceq"
      },
      "execution_count": null,
      "outputs": []
    },
    {
      "cell_type": "code",
      "source": [
        "responses = run_locally(elastic_flow,  create_folders=True)"
      ],
      "metadata": {
        "colab": {
          "base_uri": "https://localhost:8080/"
        },
        "id": "DbpEp8MX4clw",
        "outputId": "f5765248-7d74-459b-b6ed-189c49f8ba7c"
      },
      "execution_count": null,
      "outputs": [
        {
          "output_type": "stream",
          "name": "stdout",
          "text": [
            "2024-04-02 18:12:00,951 INFO Started executing jobs locally\n"
          ]
        },
        {
          "output_type": "stream",
          "name": "stderr",
          "text": [
            "INFO:jobflow.managers.local:Started executing jobs locally\n"
          ]
        },
        {
          "output_type": "stream",
          "name": "stdout",
          "text": [
            "2024-04-02 18:12:00,963 INFO Starting job - MLFF.M3GNet relax (a28e4089-2655-4786-b98e-632e136cc978)\n"
          ]
        },
        {
          "output_type": "stream",
          "name": "stderr",
          "text": [
            "INFO:jobflow.core.job:Starting job - MLFF.M3GNet relax (a28e4089-2655-4786-b98e-632e136cc978)\n"
          ]
        },
        {
          "output_type": "stream",
          "name": "stdout",
          "text": [
            "2024-04-02 18:12:04,781 INFO Finished job - MLFF.M3GNet relax (a28e4089-2655-4786-b98e-632e136cc978)\n"
          ]
        },
        {
          "output_type": "stream",
          "name": "stderr",
          "text": [
            "INFO:jobflow.core.job:Finished job - MLFF.M3GNet relax (a28e4089-2655-4786-b98e-632e136cc978)\n"
          ]
        },
        {
          "output_type": "stream",
          "name": "stdout",
          "text": [
            "2024-04-02 18:12:04,799 INFO Starting job - generate_elastic_deformations (27f5f2f1-2646-4f5d-86eb-3ada76edf8d8)\n"
          ]
        },
        {
          "output_type": "stream",
          "name": "stderr",
          "text": [
            "INFO:jobflow.core.job:Starting job - generate_elastic_deformations (27f5f2f1-2646-4f5d-86eb-3ada76edf8d8)\n"
          ]
        },
        {
          "output_type": "stream",
          "name": "stdout",
          "text": [
            "2024-04-02 18:12:06,133 INFO Finished job - generate_elastic_deformations (27f5f2f1-2646-4f5d-86eb-3ada76edf8d8)\n"
          ]
        },
        {
          "output_type": "stream",
          "name": "stderr",
          "text": [
            "INFO:jobflow.core.job:Finished job - generate_elastic_deformations (27f5f2f1-2646-4f5d-86eb-3ada76edf8d8)\n"
          ]
        },
        {
          "output_type": "stream",
          "name": "stdout",
          "text": [
            "2024-04-02 18:12:06,148 INFO Starting job - run_elastic_deformations (fcfc4e0d-31f2-40c7-8d75-4239bda6edbd)\n"
          ]
        },
        {
          "output_type": "stream",
          "name": "stderr",
          "text": [
            "INFO:jobflow.core.job:Starting job - run_elastic_deformations (fcfc4e0d-31f2-40c7-8d75-4239bda6edbd)\n"
          ]
        },
        {
          "output_type": "stream",
          "name": "stdout",
          "text": [
            "2024-04-02 18:12:06,498 INFO Finished job - run_elastic_deformations (fcfc4e0d-31f2-40c7-8d75-4239bda6edbd)\n"
          ]
        },
        {
          "output_type": "stream",
          "name": "stderr",
          "text": [
            "INFO:jobflow.core.job:Finished job - run_elastic_deformations (fcfc4e0d-31f2-40c7-8d75-4239bda6edbd)\n"
          ]
        },
        {
          "output_type": "stream",
          "name": "stdout",
          "text": [
            "2024-04-02 18:12:06,528 INFO Starting job - MLFF.M3GNet relax 1/6 (22a2e629-9f5e-465f-bc4a-25cb42e91792)\n"
          ]
        },
        {
          "output_type": "stream",
          "name": "stderr",
          "text": [
            "INFO:jobflow.core.job:Starting job - MLFF.M3GNet relax 1/6 (22a2e629-9f5e-465f-bc4a-25cb42e91792)\n"
          ]
        },
        {
          "output_type": "stream",
          "name": "stdout",
          "text": [
            "2024-04-02 18:12:06,803 INFO Finished job - MLFF.M3GNet relax 1/6 (22a2e629-9f5e-465f-bc4a-25cb42e91792)\n"
          ]
        },
        {
          "output_type": "stream",
          "name": "stderr",
          "text": [
            "INFO:jobflow.core.job:Finished job - MLFF.M3GNet relax 1/6 (22a2e629-9f5e-465f-bc4a-25cb42e91792)\n"
          ]
        },
        {
          "output_type": "stream",
          "name": "stdout",
          "text": [
            "2024-04-02 18:12:06,823 INFO Starting job - MLFF.M3GNet relax 2/6 (81b5d19f-789f-4e51-a4f7-39bbb0471ef2)\n"
          ]
        },
        {
          "output_type": "stream",
          "name": "stderr",
          "text": [
            "INFO:jobflow.core.job:Starting job - MLFF.M3GNet relax 2/6 (81b5d19f-789f-4e51-a4f7-39bbb0471ef2)\n"
          ]
        },
        {
          "output_type": "stream",
          "name": "stdout",
          "text": [
            "2024-04-02 18:12:07,072 INFO Finished job - MLFF.M3GNet relax 2/6 (81b5d19f-789f-4e51-a4f7-39bbb0471ef2)\n"
          ]
        },
        {
          "output_type": "stream",
          "name": "stderr",
          "text": [
            "INFO:jobflow.core.job:Finished job - MLFF.M3GNet relax 2/6 (81b5d19f-789f-4e51-a4f7-39bbb0471ef2)\n"
          ]
        },
        {
          "output_type": "stream",
          "name": "stdout",
          "text": [
            "2024-04-02 18:12:07,084 INFO Starting job - MLFF.M3GNet relax 3/6 (b9894e25-cd01-43eb-a8b1-2a5b06bfc3c4)\n"
          ]
        },
        {
          "output_type": "stream",
          "name": "stderr",
          "text": [
            "INFO:jobflow.core.job:Starting job - MLFF.M3GNet relax 3/6 (b9894e25-cd01-43eb-a8b1-2a5b06bfc3c4)\n"
          ]
        },
        {
          "output_type": "stream",
          "name": "stdout",
          "text": [
            "2024-04-02 18:12:07,355 INFO Finished job - MLFF.M3GNet relax 3/6 (b9894e25-cd01-43eb-a8b1-2a5b06bfc3c4)\n"
          ]
        },
        {
          "output_type": "stream",
          "name": "stderr",
          "text": [
            "INFO:jobflow.core.job:Finished job - MLFF.M3GNet relax 3/6 (b9894e25-cd01-43eb-a8b1-2a5b06bfc3c4)\n"
          ]
        },
        {
          "output_type": "stream",
          "name": "stdout",
          "text": [
            "2024-04-02 18:12:07,369 INFO Starting job - MLFF.M3GNet relax 4/6 (9192407e-e491-43ae-8a4a-9e5454f391e6)\n"
          ]
        },
        {
          "output_type": "stream",
          "name": "stderr",
          "text": [
            "INFO:jobflow.core.job:Starting job - MLFF.M3GNet relax 4/6 (9192407e-e491-43ae-8a4a-9e5454f391e6)\n"
          ]
        },
        {
          "output_type": "stream",
          "name": "stdout",
          "text": [
            "2024-04-02 18:12:07,670 INFO Finished job - MLFF.M3GNet relax 4/6 (9192407e-e491-43ae-8a4a-9e5454f391e6)\n"
          ]
        },
        {
          "output_type": "stream",
          "name": "stderr",
          "text": [
            "INFO:jobflow.core.job:Finished job - MLFF.M3GNet relax 4/6 (9192407e-e491-43ae-8a4a-9e5454f391e6)\n"
          ]
        },
        {
          "output_type": "stream",
          "name": "stdout",
          "text": [
            "2024-04-02 18:12:07,686 INFO Starting job - MLFF.M3GNet relax 5/6 (8d9a8635-89a5-476f-ac66-c4b2b86be14a)\n"
          ]
        },
        {
          "output_type": "stream",
          "name": "stderr",
          "text": [
            "INFO:jobflow.core.job:Starting job - MLFF.M3GNet relax 5/6 (8d9a8635-89a5-476f-ac66-c4b2b86be14a)\n"
          ]
        },
        {
          "output_type": "stream",
          "name": "stdout",
          "text": [
            "2024-04-02 18:12:10,434 INFO Finished job - MLFF.M3GNet relax 5/6 (8d9a8635-89a5-476f-ac66-c4b2b86be14a)\n"
          ]
        },
        {
          "output_type": "stream",
          "name": "stderr",
          "text": [
            "INFO:jobflow.core.job:Finished job - MLFF.M3GNet relax 5/6 (8d9a8635-89a5-476f-ac66-c4b2b86be14a)\n"
          ]
        },
        {
          "output_type": "stream",
          "name": "stdout",
          "text": [
            "2024-04-02 18:12:10,446 INFO Starting job - MLFF.M3GNet relax 6/6 (c7a9c7a0-05a0-4651-b9d4-208c41f1724e)\n"
          ]
        },
        {
          "output_type": "stream",
          "name": "stderr",
          "text": [
            "INFO:jobflow.core.job:Starting job - MLFF.M3GNet relax 6/6 (c7a9c7a0-05a0-4651-b9d4-208c41f1724e)\n"
          ]
        },
        {
          "output_type": "stream",
          "name": "stdout",
          "text": [
            "2024-04-02 18:12:12,083 INFO Finished job - MLFF.M3GNet relax 6/6 (c7a9c7a0-05a0-4651-b9d4-208c41f1724e)\n"
          ]
        },
        {
          "output_type": "stream",
          "name": "stderr",
          "text": [
            "INFO:jobflow.core.job:Finished job - MLFF.M3GNet relax 6/6 (c7a9c7a0-05a0-4651-b9d4-208c41f1724e)\n"
          ]
        },
        {
          "output_type": "stream",
          "name": "stdout",
          "text": [
            "2024-04-02 18:12:12,098 INFO Starting job - store_inputs (fcfc4e0d-31f2-40c7-8d75-4239bda6edbd, 2)\n"
          ]
        },
        {
          "output_type": "stream",
          "name": "stderr",
          "text": [
            "INFO:jobflow.core.job:Starting job - store_inputs (fcfc4e0d-31f2-40c7-8d75-4239bda6edbd, 2)\n"
          ]
        },
        {
          "output_type": "stream",
          "name": "stdout",
          "text": [
            "2024-04-02 18:12:12,110 INFO Finished job - store_inputs (fcfc4e0d-31f2-40c7-8d75-4239bda6edbd, 2)\n"
          ]
        },
        {
          "output_type": "stream",
          "name": "stderr",
          "text": [
            "INFO:jobflow.core.job:Finished job - store_inputs (fcfc4e0d-31f2-40c7-8d75-4239bda6edbd, 2)\n"
          ]
        },
        {
          "output_type": "stream",
          "name": "stdout",
          "text": [
            "2024-04-02 18:12:12,121 INFO Starting job - fit_elastic_tensor (888ab72b-d790-4d8a-8d5b-81e1cd52002a)\n"
          ]
        },
        {
          "output_type": "stream",
          "name": "stderr",
          "text": [
            "INFO:jobflow.core.job:Starting job - fit_elastic_tensor (888ab72b-d790-4d8a-8d5b-81e1cd52002a)\n"
          ]
        },
        {
          "output_type": "stream",
          "name": "stdout",
          "text": [
            "2024-04-02 18:12:13,076 INFO Finished job - fit_elastic_tensor (888ab72b-d790-4d8a-8d5b-81e1cd52002a)\n"
          ]
        },
        {
          "output_type": "stream",
          "name": "stderr",
          "text": [
            "INFO:jobflow.core.job:Finished job - fit_elastic_tensor (888ab72b-d790-4d8a-8d5b-81e1cd52002a)\n"
          ]
        },
        {
          "output_type": "stream",
          "name": "stdout",
          "text": [
            "2024-04-02 18:12:13,095 INFO Finished executing jobs locally\n"
          ]
        },
        {
          "output_type": "stream",
          "name": "stderr",
          "text": [
            "INFO:jobflow.managers.local:Finished executing jobs locally\n"
          ]
        }
      ]
    },
    {
      "cell_type": "code",
      "source": [
        "store = JFSet.JOB_STORE\n",
        "store.connect()\n",
        "result = store.query_one(\n",
        "    {\"name\": \"fit_elastic_tensor\"},\n",
        "    properties=[\n",
        "        \"output.elastic_tensor\",\n",
        "        \"output.derived_properties\",\n",
        "        ],\n",
        "    load=True,\n",
        "    sort={\"completed_at\": -1} # to get the latest computation\n",
        "    )"
      ],
      "metadata": {
        "id": "GFmoM3UT4ctf"
      },
      "execution_count": null,
      "outputs": []
    },
    {
      "cell_type": "code",
      "source": [
        "print(result[\"output\"][\"elastic_tensor\"][\"ieee_format\"])"
      ],
      "metadata": {
        "colab": {
          "base_uri": "https://localhost:8080/"
        },
        "id": "tJ_poeQt5DsF",
        "outputId": "9d0ee900-2333-4801-ceb0-99597af87dcd"
      },
      "execution_count": null,
      "outputs": [
        {
          "output_type": "stream",
          "name": "stdout",
          "text": [
            "[[-14947.216835237865, 80.13047875910887, 80.13052437787397, -2.76583262387022e-05, -7.21405306303102e-05, 3.0049381220303704e-05], [80.13047875910888, -14947.192911777216, 80.13046025665534, -3.8582815190816994e-05, -5.1714289621303814e-05, -0.004018173007223767], [80.13052437787398, 80.13046025665534, -14947.209932769807, 0.0051592664573979485, 0.009646572565591949, 2.153770859891377e-05], [-2.7658326238698442e-05, -3.858281519081522e-05, 0.00515926645739795, 15.825024462918872, 4.250826073841568e-06, -1.021310201757925e-05], [-7.214053063031258e-05, -5.1714289621304376e-05, 0.009646572565591949, 4.250826073841486e-06, 15.825037122699207, -5.4622790748180385e-06], [3.0049381220303056e-05, -0.004018173007223769, 2.1537708598913186e-05, -1.0213102017579179e-05, -5.462279074818057e-06, 15.82502811754451]]\n"
          ]
        }
      ]
    },
    {
      "cell_type": "code",
      "source": [
        "print(result[\"output\"][\"derived_properties\"])"
      ],
      "metadata": {
        "colab": {
          "base_uri": "https://localhost:8080/"
        },
        "id": "C3qljJPz5D1-",
        "outputId": "c5b102d1-1740-4e08-b7e0-7de165a5e1da"
      },
      "execution_count": null,
      "outputs": [
        {
          "output_type": "stream",
          "name": "stdout",
          "text": [
            "{'k_voigt': -4928.981861444179, 'k_reuss': -4928.981862371242, 'k_vrh': -4928.9818619077105, 'g_voigt': -2995.9723916046028, 'g_reuss': 26.412135393475516, 'g_vrh': -1484.7801281055636, 'universal_anisotropy': -572.1583056373547, 'homogeneous_poisson': 0.3631263683196453, 'y_mod': -4047885887555.4287, 'trans_v': None, 'long_v': None, 'snyder_ac': None, 'snyder_opt': None, 'snyder_total': None, 'clark_thermalcond': None, 'cahill_thermalcond': None, 'debye_temperature': None}\n"
          ]
        }
      ]
    }
  ]
}