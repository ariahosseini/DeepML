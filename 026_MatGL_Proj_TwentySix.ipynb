{
  "nbformat": 4,
  "nbformat_minor": 0,
  "metadata": {
    "colab": {
      "provenance": [],
      "collapsed_sections": [
        "0tXdmOXOyDWm",
        "VPS_ZJVzyGL4",
        "3tQ6Td6I5SjF",
        "rua8GjXr7VDK",
        "d3gX2VjaRmEY",
        "v6xJOBRSSD-a",
        "IWGAC2w_StNX",
        "neBhT2NDU_bv"
      ],
      "toc_visible": true,
      "authorship_tag": "ABX9TyNrJac7FZ9rR1fbEQW+5qOK",
      "include_colab_link": true
    },
    "kernelspec": {
      "name": "python3",
      "display_name": "Python 3"
    },
    "language_info": {
      "name": "python"
    }
  },
  "cells": [
    {
      "cell_type": "markdown",
      "metadata": {
        "id": "view-in-github",
        "colab_type": "text"
      },
      "source": [
        "<a href=\"https://colab.research.google.com/github/ariahosseini/DeepML/blob/main/026_MatGL_Proj_TwentySix.ipynb\" target=\"_parent\"><img src=\"https://colab.research.google.com/assets/colab-badge.svg\" alt=\"Open In Colab\"/></a>"
      ]
    },
    {
      "cell_type": "markdown",
      "source": [
        "## Installation"
      ],
      "metadata": {
        "id": "VE5XWhDM3_Iq"
      }
    },
    {
      "cell_type": "code",
      "source": [
        "!pip install -q torch torchvision torchaudio --index-url https://download.pytorch.org/whl/cu118\n",
        "!pip install -q dgl -f https://data.dgl.ai/wheels/cu118/repo.html\n",
        "!pip install -q dglgo -f https://data.dgl.ai/wheels-test/repo.html"
      ],
      "metadata": {
        "colab": {
          "base_uri": "https://localhost:8080/"
        },
        "id": "bEC6fSfTxcaS",
        "outputId": "44ded7c7-046f-4c78-e2ec-78e28d74d575"
      },
      "execution_count": null,
      "outputs": [
        {
          "output_type": "stream",
          "name": "stdout",
          "text": [
            "\u001b[2K     \u001b[90m━━━━━━━━━━━━━━━━━━━━━━━━━━━━━━━━━━━━━━━━\u001b[0m \u001b[32m819.2/819.2 MB\u001b[0m \u001b[31m669.3 kB/s\u001b[0m eta \u001b[36m0:00:00\u001b[0m\n",
            "\u001b[2K     \u001b[90m━━━━━━━━━━━━━━━━━━━━━━━━━━━━━━━━━━━━━━━━\u001b[0m \u001b[32m23.2/23.2 MB\u001b[0m \u001b[31m20.4 MB/s\u001b[0m eta \u001b[36m0:00:00\u001b[0m\n",
            "\u001b[2K     \u001b[90m━━━━━━━━━━━━━━━━━━━━━━━━━━━━━━━━━━━━━━━━\u001b[0m \u001b[32m875.6/875.6 kB\u001b[0m \u001b[31m23.9 MB/s\u001b[0m eta \u001b[36m0:00:00\u001b[0m\n",
            "\u001b[2K     \u001b[90m━━━━━━━━━━━━━━━━━━━━━━━━━━━━━━━━━━━━━━━━\u001b[0m \u001b[32m13.1/13.1 MB\u001b[0m \u001b[31m26.3 MB/s\u001b[0m eta \u001b[36m0:00:00\u001b[0m\n",
            "\u001b[2K     \u001b[90m━━━━━━━━━━━━━━━━━━━━━━━━━━━━━━━━━━━━━━━━\u001b[0m \u001b[32m728.5/728.5 MB\u001b[0m \u001b[31m681.9 kB/s\u001b[0m eta \u001b[36m0:00:00\u001b[0m\n",
            "\u001b[2K     \u001b[90m━━━━━━━━━━━━━━━━━━━━━━━━━━━━━━━━━━━━━━━━\u001b[0m \u001b[32m417.9/417.9 MB\u001b[0m \u001b[31m1.1 MB/s\u001b[0m eta \u001b[36m0:00:00\u001b[0m\n",
            "\u001b[2K     \u001b[90m━━━━━━━━━━━━━━━━━━━━━━━━━━━━━━━━━━━━━━━━\u001b[0m \u001b[32m168.4/168.4 MB\u001b[0m \u001b[31m4.8 MB/s\u001b[0m eta \u001b[36m0:00:00\u001b[0m\n",
            "\u001b[2K     \u001b[90m━━━━━━━━━━━━━━━━━━━━━━━━━━━━━━━━━━━━━━━━\u001b[0m \u001b[32m58.1/58.1 MB\u001b[0m \u001b[31m6.3 MB/s\u001b[0m eta \u001b[36m0:00:00\u001b[0m\n",
            "\u001b[2K     \u001b[90m━━━━━━━━━━━━━━━━━━━━━━━━━━━━━━━━━━━━━━━━\u001b[0m \u001b[32m128.2/128.2 MB\u001b[0m \u001b[31m4.6 MB/s\u001b[0m eta \u001b[36m0:00:00\u001b[0m\n",
            "\u001b[2K     \u001b[90m━━━━━━━━━━━━━━━━━━━━━━━━━━━━━━━━━━━━━━━━\u001b[0m \u001b[32m204.1/204.1 MB\u001b[0m \u001b[31m3.5 MB/s\u001b[0m eta \u001b[36m0:00:00\u001b[0m\n",
            "\u001b[2K     \u001b[90m━━━━━━━━━━━━━━━━━━━━━━━━━━━━━━━━━━━━━━━━\u001b[0m \u001b[32m135.3/135.3 MB\u001b[0m \u001b[31m7.6 MB/s\u001b[0m eta \u001b[36m0:00:00\u001b[0m\n",
            "\u001b[2K     \u001b[90m━━━━━━━━━━━━━━━━━━━━━━━━━━━━━━━━━━━━━━━━\u001b[0m \u001b[32m99.1/99.1 kB\u001b[0m \u001b[31m11.3 MB/s\u001b[0m eta \u001b[36m0:00:00\u001b[0m\n",
            "\u001b[2K     \u001b[90m━━━━━━━━━━━━━━━━━━━━━━━━━━━━━━━━━━━━━━━━\u001b[0m \u001b[32m819.2/819.2 MB\u001b[0m \u001b[31m1.2 MB/s\u001b[0m eta \u001b[36m0:00:00\u001b[0m\n",
            "\u001b[2K     \u001b[90m━━━━━━━━━━━━━━━━━━━━━━━━━━━━━━━━━━━━━━━━\u001b[0m \u001b[32m748.2/748.2 MB\u001b[0m \u001b[31m1.8 MB/s\u001b[0m eta \u001b[36m0:00:00\u001b[0m\n",
            "\u001b[2K     \u001b[90m━━━━━━━━━━━━━━━━━━━━━━━━━━━━━━━━━━━━━━━━\u001b[0m \u001b[32m63.5/63.5 kB\u001b[0m \u001b[31m1.8 MB/s\u001b[0m eta \u001b[36m0:00:00\u001b[0m\n",
            "\u001b[2K     \u001b[90m━━━━━━━━━━━━━━━━━━━━━━━━━━━━━━━━━━━━━━━━\u001b[0m \u001b[32m92.3/92.3 kB\u001b[0m \u001b[31m3.6 MB/s\u001b[0m eta \u001b[36m0:00:00\u001b[0m\n",
            "\u001b[2K     \u001b[90m━━━━━━━━━━━━━━━━━━━━━━━━━━━━━━━━━━━━━━━━\u001b[0m \u001b[32m45.0/45.0 kB\u001b[0m \u001b[31m4.7 MB/s\u001b[0m eta \u001b[36m0:00:00\u001b[0m\n",
            "\u001b[2K     \u001b[90m━━━━━━━━━━━━━━━━━━━━━━━━━━━━━━━━━━━━━━━━\u001b[0m \u001b[32m62.8/62.8 kB\u001b[0m \u001b[31m5.7 MB/s\u001b[0m eta \u001b[36m0:00:00\u001b[0m\n",
            "\u001b[2K     \u001b[90m━━━━━━━━━━━━━━━━━━━━━━━━━━━━━━━━━━━━━━━━\u001b[0m \u001b[32m78.8/78.8 kB\u001b[0m \u001b[31m4.4 MB/s\u001b[0m eta \u001b[36m0:00:00\u001b[0m\n",
            "\u001b[2K     \u001b[90m━━━━━━━━━━━━━━━━━━━━━━━━━━━━━━━━━━━━━━━━\u001b[0m \u001b[32m29.4/29.4 MB\u001b[0m \u001b[31m33.8 MB/s\u001b[0m eta \u001b[36m0:00:00\u001b[0m\n",
            "\u001b[2K     \u001b[90m━━━━━━━━━━━━━━━━━━━━━━━━━━━━━━━━━━━━━━━━\u001b[0m \u001b[32m3.2/3.2 MB\u001b[0m \u001b[31m54.4 MB/s\u001b[0m eta \u001b[36m0:00:00\u001b[0m\n",
            "\u001b[?25h  Preparing metadata (setup.py) ... \u001b[?25l\u001b[?25hdone\n",
            "  Building wheel for littleutils (setup.py) ... \u001b[?25l\u001b[?25hdone\n"
          ]
        }
      ]
    },
    {
      "cell_type": "code",
      "source": [
        "!pip install -q pymatgen"
      ],
      "metadata": {
        "id": "rM7l1nQ6FQ7C"
      },
      "execution_count": null,
      "outputs": []
    },
    {
      "cell_type": "code",
      "source": [
        "!pip install -q --upgrade git+https://gitlab.com/ase/ase.git@master"
      ],
      "metadata": {
        "id": "9k3kI7NQJbXY",
        "colab": {
          "base_uri": "https://localhost:8080/"
        },
        "outputId": "0ab2c252-c0ea-414e-e970-c94c7b6e1377"
      },
      "execution_count": null,
      "outputs": [
        {
          "output_type": "stream",
          "name": "stdout",
          "text": [
            "  Installing build dependencies ... \u001b[?25l\u001b[?25hdone\n",
            "  Getting requirements to build wheel ... \u001b[?25l\u001b[?25hdone\n",
            "  Installing backend dependencies ... \u001b[?25l\u001b[?25hdone\n",
            "  Preparing metadata (pyproject.toml) ... \u001b[?25l\u001b[?25hdone\n",
            "  Building wheel for ase (pyproject.toml) ... \u001b[?25l\u001b[?25hdone\n"
          ]
        }
      ]
    },
    {
      "cell_type": "code",
      "source": [
        "!pip install -q matgl"
      ],
      "metadata": {
        "id": "22uBxYzU8c-S",
        "colab": {
          "base_uri": "https://localhost:8080/"
        },
        "outputId": "5593014f-cdb0-47df-f60f-32af24cca4e2"
      },
      "execution_count": null,
      "outputs": [
        {
          "output_type": "stream",
          "name": "stdout",
          "text": [
            "\u001b[2K     \u001b[90m━━━━━━━━━━━━━━━━━━━━━━━━━━━━━━━━━━━━━━━━\u001b[0m \u001b[32m211.3/211.3 kB\u001b[0m \u001b[31m4.5 MB/s\u001b[0m eta \u001b[36m0:00:00\u001b[0m\n",
            "\u001b[2K     \u001b[90m━━━━━━━━━━━━━━━━━━━━━━━━━━━━━━━━━━━━━━━━\u001b[0m \u001b[32m801.6/801.6 kB\u001b[0m \u001b[31m27.2 MB/s\u001b[0m eta \u001b[36m0:00:00\u001b[0m\n",
            "\u001b[2K     \u001b[90m━━━━━━━━━━━━━━━━━━━━━━━━━━━━━━━━━━━━━━━━\u001b[0m \u001b[32m841.5/841.5 kB\u001b[0m \u001b[31m47.4 MB/s\u001b[0m eta \u001b[36m0:00:00\u001b[0m\n",
            "\u001b[?25h"
          ]
        }
      ]
    },
    {
      "cell_type": "code",
      "source": [
        "!pip install -q m3gnet"
      ],
      "metadata": {
        "id": "JVNIuD5GbH5Z"
      },
      "execution_count": null,
      "outputs": []
    },
    {
      "cell_type": "code",
      "source": [
        "!pip install -q --upgrade mp-api"
      ],
      "metadata": {
        "id": "Puo5TVmrbNiq"
      },
      "execution_count": null,
      "outputs": []
    },
    {
      "cell_type": "code",
      "source": [
        "%%capture\n",
        "!pip install git+https://github.com/materialsproject/atomate2.git@main"
      ],
      "metadata": {
        "id": "8y9tBqfyECix"
      },
      "execution_count": null,
      "outputs": []
    },
    {
      "cell_type": "code",
      "source": [
        "!pip install -q phonopy"
      ],
      "metadata": {
        "colab": {
          "base_uri": "https://localhost:8080/"
        },
        "id": "n7SS-3VreESB",
        "outputId": "d35a6bb3-cc81-488e-ed14-ebe23a53940f"
      },
      "execution_count": null,
      "outputs": [
        {
          "output_type": "stream",
          "name": "stdout",
          "text": [
            "\u001b[2K     \u001b[90m━━━━━━━━━━━━━━━━━━━━━━━━━━━━━━━━━━━━━━━━\u001b[0m \u001b[32m4.0/4.0 MB\u001b[0m \u001b[31m9.2 MB/s\u001b[0m eta \u001b[36m0:00:00\u001b[0m\n",
            "\u001b[?25h  Installing build dependencies ... \u001b[?25l\u001b[?25hdone\n",
            "  Getting requirements to build wheel ... \u001b[?25l\u001b[?25hdone\n",
            "  Preparing metadata (pyproject.toml) ... \u001b[?25l\u001b[?25hdone\n",
            "  Building wheel for phonopy (pyproject.toml) ... \u001b[?25l\u001b[?25hdone\n"
          ]
        }
      ]
    },
    {
      "cell_type": "code",
      "source": [
        "# !pip install -q crystal-toolkit\n",
        "# !pip install -q dash\n",
        "# !pip install -q seekpath\n",
        "# !pip install -q jobflow"
      ],
      "metadata": {
        "id": "OP99DYRSDA16"
      },
      "execution_count": null,
      "outputs": []
    },
    {
      "cell_type": "markdown",
      "source": [
        "## Libs"
      ],
      "metadata": {
        "id": "5LIWWhqsx12T"
      }
    },
    {
      "cell_type": "code",
      "execution_count": null,
      "metadata": {
        "id": "Z6pJmXC9Dnjj"
      },
      "outputs": [],
      "source": [
        "# utils\n",
        "from __future__ import print_function, division, annotations\n",
        "import os, sys, functools, shutil, zipfile\n",
        "import time, warnings\n",
        "import csv, json\n",
        "import random\n",
        "import numpy as np\n",
        "import pandas as pd\n",
        "from tqdm import tqdm\n",
        "from functools import partial\n",
        "from mp_api.client import MPRester\n",
        "# url\n",
        "from urllib.request import urlopen\n",
        "# google\n",
        "from google.colab import drive\n",
        "# sklearn\n",
        "from sklearn import metrics\n",
        "# pymatgen\n",
        "from pymatgen.core.structure import Composition, Lattice, Structure\n",
        "from pymatgen.ext.matproj import MPRester\n",
        "from pymatgen.symmetry.analyzer import SpacegroupAnalyzer\n",
        "from pymatgen.io.ase import AseAtomsAdaptor\n",
        "# ase\n",
        "from ase.io import read\n",
        "# atomate\n",
        "from atomate2.forcefields.flows.phonons import PhononMaker\n",
        "from atomate2.forcefields.jobs import M3GNetRelaxMaker, M3GNetStaticMaker\n",
        "# torch\n",
        "import torch\n",
        "import torch.nn as nn\n",
        "import torch.optim as optim\n",
        "# import pytorch_lightning as pl\n",
        "from torch.autograd import Variable\n",
        "from torch.optim.lr_scheduler import MultiStepLR\n",
        "from torch.utils.data import Dataset, DataLoader\n",
        "from torch.utils.data.dataloader import default_collate\n",
        "from torch.utils.data.sampler import SubsetRandomSampler\n",
        "from pytorch_lightning.loggers import CSVLogger\n",
        "# dgl\n",
        "from dgl.data.utils import split_dataset\n",
        "# matgl\n",
        "import matgl\n",
        "from matgl.ext.ase import Relaxer\n",
        "from matgl.ext.pymatgen import Structure2Graph, get_element_list\n",
        "from matgl.graph.data import MGLDataset, MGLDataLoader, collate_fn, collate_fn_efs\n",
        "from matgl.models import M3GNet\n",
        "from matgl.utils.io import RemoteFile\n",
        "from matgl.utils.training import ModelLightningModule, PotentialLightningModule\n",
        "# m3gnet\n",
        "from m3gnet.models import M3GNet as M3GNet_tf\n",
        "from m3gnet.models import M3GNetCalculator as M3GNetCalculator_tf\n",
        "from m3gnet.models import Potential as Potential_tf\n",
        "# vis\n",
        "import matplotlib.pyplot as plt\n",
        "import plotly.graph_objects as go"
      ]
    },
    {
      "cell_type": "code",
      "source": [
        "# warnings.filterwarnings(\"ignore\")\n",
        "warnings.simplefilter(\"ignore\")"
      ],
      "metadata": {
        "id": "g38KuXj25dkG"
      },
      "execution_count": null,
      "outputs": []
    },
    {
      "cell_type": "markdown",
      "source": [
        "## Working Dir"
      ],
      "metadata": {
        "id": "0tXdmOXOyDWm"
      }
    },
    {
      "cell_type": "code",
      "source": [
        "drive.mount('/content/drive') # mount google drive"
      ],
      "metadata": {
        "colab": {
          "base_uri": "https://localhost:8080/"
        },
        "id": "hmGJIvrt_Fya",
        "outputId": "7e2b58e0-9036-43c7-cd22-ea87d7c57fee"
      },
      "execution_count": null,
      "outputs": [
        {
          "output_type": "stream",
          "name": "stdout",
          "text": [
            "Drive already mounted at /content/drive; to attempt to forcibly remount, call drive.mount(\"/content/drive\", force_remount=True).\n"
          ]
        }
      ]
    },
    {
      "cell_type": "code",
      "source": [
        "working_dir = '/content/drive/MyDrive/DataSets'\n",
        "os.chdir(working_dir)\n",
        "assert os.getcwd() == working_dir"
      ],
      "metadata": {
        "id": "vDQw2sX_nnX0"
      },
      "execution_count": null,
      "outputs": []
    },
    {
      "cell_type": "markdown",
      "source": [
        "## Benchmark M3GNet Predictions of Cubic Lattice Parameters"
      ],
      "metadata": {
        "id": "VPS_ZJVzyGL4"
      }
    },
    {
      "cell_type": "code",
      "source": [
        "data = pd.read_html(\"http://en.wikipedia.org/wiki/Lattice_constant\")[0]\n",
        "struct_types = [\n",
        "    \"Hexagonal\",\n",
        "    \"Wurtzite\",\n",
        "    \"Wurtzite (HCP)\",\n",
        "    \"Orthorhombic\",\n",
        "    \"Tetragonal perovskite\",\n",
        "    \"Orthorhombic perovskite\",\n",
        "]\n",
        "data = data[~data[\"Crystal structure\"].isin(struct_types)]\n",
        "data = data.rename(columns={\"Lattice constant (Å)\": \"a (Å)\"})\n",
        "data = data.drop(columns=[\"Ref.\"])\n",
        "data[\"a (Å)\"] = data[\"a (Å)\"].map(float)\n",
        "data = data[[\"Material\", \"Crystal structure\", \"a (Å)\"]]\n",
        "\n",
        "\n",
        "additional_fcc = \"\"\"10 Ne 4.43 54 Xe 6.20\n",
        "13 Al 4.05 58 Ce 5.16\n",
        "18 Ar 5.26 70 Yb 5.49\n",
        "20 Ca 5.58 77 Ir 3.84\n",
        "28 Ni 3.52 78 Pt 3.92\n",
        "29 Cu 3.61 79 Au 4.08\n",
        "36 Kr 5.72 82 Pb 4.95\n",
        "38 Sr 6.08 47 Ag 4.09\n",
        "45 Rh 3.80 89 Ac 5.31\n",
        "46 Pd 3.89 90 Th 5.08\"\"\"\n",
        "\n",
        "additional_bcc = \"\"\"3 Li 3.49 42 Mo 3.15\n",
        "11 Na 4.23 55 Cs 6.05\n",
        "19 K 5.23 56 Ba 5.02\n",
        "23 V 3.02 63 Eu 4.61\n",
        "24 Cr 2.88 73 Ta 3.31\n",
        "26 Fe 2.87 74 W 3.16\n",
        "37 Rb 5.59 41 Nb 3.30\"\"\"\n",
        "\n",
        "\n",
        "def add_new(str_, structure_type, df):\n",
        "    tokens = str_.split()\n",
        "    new_crystals = []\n",
        "    for i in range(int(len(tokens) / 3)):\n",
        "        el = tokens[3 * i + 1].strip()\n",
        "        if el not in df[\"Material\"].to_numpy():\n",
        "            new_crystals.append([tokens[3 * i + 1], structure_type, float(tokens[3 * i + 2])])\n",
        "    df2 = pd.DataFrame(new_crystals, columns=data.columns)\n",
        "    return pd.concat([df, df2])\n",
        "\n",
        "\n",
        "data = add_new(additional_fcc, \"FCC\", data)\n",
        "data = add_new(additional_bcc, \"BCC\", data)\n",
        "data = data[data[\"Material\"] != \"NC0.99\"]\n",
        "data = data[data[\"Material\"] != \"Xe\"]\n",
        "data = data[data[\"Material\"] != \"Kr\"]\n",
        "data = data[data[\"Material\"] != \"Rb\"]\n",
        "data = data.set_index(\"Material\")\n",
        "print(data[61:80])"
      ],
      "metadata": {
        "colab": {
          "base_uri": "https://localhost:8080/"
        },
        "id": "St0Y6qU44p7_",
        "outputId": "5833fe2b-29be-49a5-c8f9-3ef05d33e1ce"
      },
      "execution_count": null,
      "outputs": [
        {
          "output_type": "stream",
          "name": "stdout",
          "text": [
            "                                                  Crystal structure    a (Å)\n",
            "Material                                                                    \n",
            "NbN                                                          Halite  4.39200\n",
            "TiC                                                          Halite  4.32800\n",
            "'\"`UNIQ--templatestyles-00000034-QINU`\"'ZrC0.97            Halite  4.69800\n",
            "HfC0.99                                                      Halite  4.64000\n",
            "VC0.97                                                       Halite  4.16600\n",
            "NbC0.99                                                      Halite  4.47000\n",
            "TaC0.99                                                      Halite  4.45600\n",
            "ScN                                                          Halite  4.52000\n",
            "KTaO3                                              Cubic perovskite  3.98850\n",
            "SrTiO3                                             Cubic perovskite  3.98805\n",
            "EuTiO3                                             Cubic perovskite  7.81000\n",
            "SrVO3                                              Cubic perovskite  3.83800\n",
            "CaVO3                                              Cubic perovskite  3.76700\n",
            "Ne                                                              FCC  4.43000\n",
            "Ce                                                              FCC  5.16000\n",
            "Ar                                                              FCC  5.26000\n",
            "Yb                                                              FCC  5.49000\n",
            "Ca                                                              FCC  5.58000\n",
            "Ir                                                              FCC  3.84000\n"
          ]
        }
      ]
    },
    {
      "cell_type": "code",
      "source": [
        "predicted = []\n",
        "mp = []\n",
        "os.environ[\"MPRESTER_MUTE_PROGRESS_BARS\"] = \"true\"\n",
        "mpr = MPRester(\"FwTXcju8unkI2VbInEgZDTN8coDB6S6U\")\n",
        "pot = matgl.load_model(\"M3GNet-MP-2021.2.8-PES\") # load the pre-trained M3GNet Potential\n",
        "relaxer = Relaxer(potential=pot) # create the M3GNet Relaxer\n",
        "for formula, v in data.iterrows():\n",
        "    formula = formula.split()[0]\n",
        "    c = Composition(formula)\n",
        "    els = sorted(c.elements)\n",
        "    cs = v[\"Crystal structure\"]\n",
        "    # initialize all the crystals with an arbitrary lattice constant of 5 angstroms.\n",
        "    if \"Zinc blende\" in cs:\n",
        "        s = Structure.from_spacegroup(\"F-43m\", Lattice.cubic(4.5), [els[0], els[1]], [[0, 0, 0], [0.25, 0.25, 0.75]])\n",
        "    elif \"Halite\" in cs:\n",
        "        s = Structure.from_spacegroup(\"Fm-3m\", Lattice.cubic(4.5), [els[0], els[1]], [[0, 0, 0], [0.5, 0, 0]])\n",
        "    elif \"Caesium chloride\" in cs:\n",
        "        s = Structure.from_spacegroup(\"Pm-3m\", Lattice.cubic(4.5), [els[0], els[1]], [[0, 0, 0], [0.5, 0.5, 0.5]])\n",
        "    elif \"Cubic perovskite\" in cs:\n",
        "        s = Structure(\n",
        "            Lattice.cubic(5),\n",
        "            [els[0], els[1], els[2], els[2], els[2]],\n",
        "            [[0.0, 0.0, 0.0], [0.5, 0.5, 0.5], [0.5, 0.5, 0], [0.0, 0.5, 0.5], [0.5, 0, 0.5]],\n",
        "        )\n",
        "    elif \"Diamond\" in cs:\n",
        "        s = Structure.from_spacegroup(\"Fd-3m\", Lattice.cubic(5), [els[0]], [[0.25, 0.75, 0.25]])\n",
        "    elif \"BCC\" in cs:\n",
        "        s = Structure(Lattice.cubic(4.5), [els[0]] * 2, [[0.0, 0.0, 0.0], [0.5, 0.5, 0.5]])\n",
        "    elif \"FCC\" in cs:\n",
        "        s = Structure(\n",
        "            Lattice.cubic(4.5), [els[0]] * 4, [[0.0, 0.0, 0.0], [0.5, 0.5, 0], [0.0, 0.5, 0.5], [0.5, 0, 0.5]]\n",
        "        )\n",
        "    else:\n",
        "        predicted.append(0)\n",
        "        mp.append(0)\n",
        "        continue\n",
        "    # print(s.composition.reduced_formula)\n",
        "    relax_results = relaxer.relax(s, fmax=0.01)\n",
        "    final_structure = relax_results[\"final_structure\"]\n",
        "    predicted.append(final_structure.lattice.a)\n",
        "    try:\n",
        "        mids = mpr.get_material_ids(s.composition.reduced_formula)\n",
        "        for i in mids:\n",
        "            try:\n",
        "                structure = mpr.get_structure_by_material_id(i)\n",
        "                sga = SpacegroupAnalyzer(structure)\n",
        "                sga2 = SpacegroupAnalyzer(final_structure)\n",
        "                if sga.get_space_group_number() == sga2.get_space_group_number():\n",
        "                    conv = sga.get_conventional_standard_structure()\n",
        "                    mp.append(conv.lattice.a)\n",
        "                    break\n",
        "            except Exception:\n",
        "                pass\n",
        "        else:\n",
        "            raise RuntimeError\n",
        "    except Exception:\n",
        "        mp.append(0)\n",
        "data[\"MP a (Å)\"] = mp\n",
        "data[\"Predicted a (Å)\"] = predicted"
      ],
      "metadata": {
        "colab": {
          "base_uri": "https://localhost:8080/",
          "height": 534
        },
        "id": "HlUtGa0u4qBc",
        "outputId": "6080cd34-07cc-43b6-a54f-27041ed5e55d"
      },
      "execution_count": null,
      "outputs": [
        {
          "output_type": "error",
          "ename": "ValueError",
          "evalue": "Bad serialized model or bad model name. It is possible that you have an older model cached. Please clear your cache by running `python -c \"import matgl; matgl.clear_cache()\"`",
          "traceback": [
            "\u001b[0;31m---------------------------------------------------------------------------\u001b[0m",
            "\u001b[0;31mOSError\u001b[0m                                   Traceback (most recent call last)",
            "\u001b[0;32m/usr/local/lib/python3.10/dist-packages/dgl/graphbolt/__init__.py\u001b[0m in \u001b[0;36mload_graphbolt\u001b[0;34m()\u001b[0m\n\u001b[1;32m     49\u001b[0m     \u001b[0;32mtry\u001b[0m\u001b[0;34m:\u001b[0m\u001b[0;34m\u001b[0m\u001b[0;34m\u001b[0m\u001b[0m\n\u001b[0;32m---> 50\u001b[0;31m         \u001b[0mtorch\u001b[0m\u001b[0;34m.\u001b[0m\u001b[0mclasses\u001b[0m\u001b[0;34m.\u001b[0m\u001b[0mload_library\u001b[0m\u001b[0;34m(\u001b[0m\u001b[0mpath\u001b[0m\u001b[0;34m)\u001b[0m\u001b[0;34m\u001b[0m\u001b[0;34m\u001b[0m\u001b[0m\n\u001b[0m\u001b[1;32m     51\u001b[0m     \u001b[0;32mexcept\u001b[0m \u001b[0mException\u001b[0m\u001b[0;34m:\u001b[0m  \u001b[0;31m# pylint: disable=W0703\u001b[0m\u001b[0;34m\u001b[0m\u001b[0;34m\u001b[0m\u001b[0m\n",
            "\u001b[0;32m/usr/local/lib/python3.10/dist-packages/torch/_classes.py\u001b[0m in \u001b[0;36mload_library\u001b[0;34m(self, path)\u001b[0m\n\u001b[1;32m     50\u001b[0m         \"\"\"\n\u001b[0;32m---> 51\u001b[0;31m         \u001b[0mtorch\u001b[0m\u001b[0;34m.\u001b[0m\u001b[0mops\u001b[0m\u001b[0;34m.\u001b[0m\u001b[0mload_library\u001b[0m\u001b[0;34m(\u001b[0m\u001b[0mpath\u001b[0m\u001b[0;34m)\u001b[0m\u001b[0;34m\u001b[0m\u001b[0;34m\u001b[0m\u001b[0m\n\u001b[0m\u001b[1;32m     52\u001b[0m \u001b[0;34m\u001b[0m\u001b[0m\n",
            "\u001b[0;32m/usr/local/lib/python3.10/dist-packages/torch/_ops.py\u001b[0m in \u001b[0;36mload_library\u001b[0;34m(self, path)\u001b[0m\n\u001b[1;32m    932\u001b[0m             \u001b[0;31m# operators with the JIT.\u001b[0m\u001b[0;34m\u001b[0m\u001b[0;34m\u001b[0m\u001b[0m\n\u001b[0;32m--> 933\u001b[0;31m             \u001b[0mctypes\u001b[0m\u001b[0;34m.\u001b[0m\u001b[0mCDLL\u001b[0m\u001b[0;34m(\u001b[0m\u001b[0mpath\u001b[0m\u001b[0;34m)\u001b[0m\u001b[0;34m\u001b[0m\u001b[0;34m\u001b[0m\u001b[0m\n\u001b[0m\u001b[1;32m    934\u001b[0m         \u001b[0mself\u001b[0m\u001b[0;34m.\u001b[0m\u001b[0mloaded_libraries\u001b[0m\u001b[0;34m.\u001b[0m\u001b[0madd\u001b[0m\u001b[0;34m(\u001b[0m\u001b[0mpath\u001b[0m\u001b[0;34m)\u001b[0m\u001b[0;34m\u001b[0m\u001b[0;34m\u001b[0m\u001b[0m\n",
            "\u001b[0;32m/usr/lib/python3.10/ctypes/__init__.py\u001b[0m in \u001b[0;36m__init__\u001b[0;34m(self, name, mode, handle, use_errno, use_last_error, winmode)\u001b[0m\n\u001b[1;32m    373\u001b[0m         \u001b[0;32mif\u001b[0m \u001b[0mhandle\u001b[0m \u001b[0;32mis\u001b[0m \u001b[0;32mNone\u001b[0m\u001b[0;34m:\u001b[0m\u001b[0;34m\u001b[0m\u001b[0;34m\u001b[0m\u001b[0m\n\u001b[0;32m--> 374\u001b[0;31m             \u001b[0mself\u001b[0m\u001b[0;34m.\u001b[0m\u001b[0m_handle\u001b[0m \u001b[0;34m=\u001b[0m \u001b[0m_dlopen\u001b[0m\u001b[0;34m(\u001b[0m\u001b[0mself\u001b[0m\u001b[0;34m.\u001b[0m\u001b[0m_name\u001b[0m\u001b[0;34m,\u001b[0m \u001b[0mmode\u001b[0m\u001b[0;34m)\u001b[0m\u001b[0;34m\u001b[0m\u001b[0;34m\u001b[0m\u001b[0m\n\u001b[0m\u001b[1;32m    375\u001b[0m         \u001b[0;32melse\u001b[0m\u001b[0;34m:\u001b[0m\u001b[0;34m\u001b[0m\u001b[0;34m\u001b[0m\u001b[0m\n",
            "\u001b[0;31mOSError\u001b[0m: libcuda.so.1: cannot open shared object file: No such file or directory",
            "\nDuring handling of the above exception, another exception occurred:\n",
            "\u001b[0;31mImportError\u001b[0m                               Traceback (most recent call last)",
            "\u001b[0;32m/usr/local/lib/python3.10/dist-packages/matgl/utils/io.py\u001b[0m in \u001b[0;36mload_model\u001b[0;34m(path, **kwargs)\u001b[0m\n\u001b[1;32m    209\u001b[0m \u001b[0;34m\u001b[0m\u001b[0m\n\u001b[0;32m--> 210\u001b[0;31m             \u001b[0mmod\u001b[0m \u001b[0;34m=\u001b[0m \u001b[0m__import__\u001b[0m\u001b[0;34m(\u001b[0m\u001b[0mmodname\u001b[0m\u001b[0;34m,\u001b[0m \u001b[0mglobals\u001b[0m\u001b[0;34m(\u001b[0m\u001b[0;34m)\u001b[0m\u001b[0;34m,\u001b[0m \u001b[0mlocals\u001b[0m\u001b[0;34m(\u001b[0m\u001b[0;34m)\u001b[0m\u001b[0;34m,\u001b[0m \u001b[0;34m[\u001b[0m\u001b[0mclassname\u001b[0m\u001b[0;34m]\u001b[0m\u001b[0;34m,\u001b[0m \u001b[0;36m0\u001b[0m\u001b[0;34m)\u001b[0m\u001b[0;34m\u001b[0m\u001b[0;34m\u001b[0m\u001b[0m\n\u001b[0m\u001b[1;32m    211\u001b[0m             \u001b[0mcls_\u001b[0m \u001b[0;34m=\u001b[0m \u001b[0mgetattr\u001b[0m\u001b[0;34m(\u001b[0m\u001b[0mmod\u001b[0m\u001b[0;34m,\u001b[0m \u001b[0mclassname\u001b[0m\u001b[0;34m)\u001b[0m\u001b[0;34m\u001b[0m\u001b[0;34m\u001b[0m\u001b[0m\n",
            "\u001b[0;32m/usr/local/lib/python3.10/dist-packages/matgl/apps/pes.py\u001b[0m in \u001b[0;36m<module>\u001b[0;34m\u001b[0m\n\u001b[1;32m     11\u001b[0m \u001b[0;32mimport\u001b[0m \u001b[0mmatgl\u001b[0m\u001b[0;34m\u001b[0m\u001b[0;34m\u001b[0m\u001b[0m\n\u001b[0;32m---> 12\u001b[0;31m \u001b[0;32mfrom\u001b[0m \u001b[0mmatgl\u001b[0m\u001b[0;34m.\u001b[0m\u001b[0mlayers\u001b[0m \u001b[0;32mimport\u001b[0m \u001b[0mAtomRef\u001b[0m\u001b[0;34m,\u001b[0m \u001b[0mNuclearRepulsion\u001b[0m\u001b[0;34m\u001b[0m\u001b[0;34m\u001b[0m\u001b[0m\n\u001b[0m\u001b[1;32m     13\u001b[0m \u001b[0;32mfrom\u001b[0m \u001b[0mmatgl\u001b[0m\u001b[0;34m.\u001b[0m\u001b[0mutils\u001b[0m\u001b[0;34m.\u001b[0m\u001b[0mio\u001b[0m \u001b[0;32mimport\u001b[0m \u001b[0mIOMixIn\u001b[0m\u001b[0;34m\u001b[0m\u001b[0;34m\u001b[0m\u001b[0m\n",
            "\u001b[0;32m/usr/local/lib/python3.10/dist-packages/matgl/layers/__init__.py\u001b[0m in \u001b[0;36m<module>\u001b[0;34m\u001b[0m\n\u001b[1;32m      5\u001b[0m \u001b[0;32mfrom\u001b[0m \u001b[0mmatgl\u001b[0m\u001b[0;34m.\u001b[0m\u001b[0mlayers\u001b[0m\u001b[0;34m.\u001b[0m\u001b[0m_activations\u001b[0m \u001b[0;32mimport\u001b[0m \u001b[0mActivationFunction\u001b[0m\u001b[0;34m\u001b[0m\u001b[0;34m\u001b[0m\u001b[0m\n\u001b[0;32m----> 6\u001b[0;31m \u001b[0;32mfrom\u001b[0m \u001b[0mmatgl\u001b[0m\u001b[0;34m.\u001b[0m\u001b[0mlayers\u001b[0m\u001b[0;34m.\u001b[0m\u001b[0m_atom_ref\u001b[0m \u001b[0;32mimport\u001b[0m \u001b[0mAtomRef\u001b[0m\u001b[0;34m\u001b[0m\u001b[0;34m\u001b[0m\u001b[0m\n\u001b[0m\u001b[1;32m      7\u001b[0m \u001b[0;32mfrom\u001b[0m \u001b[0mmatgl\u001b[0m\u001b[0;34m.\u001b[0m\u001b[0mlayers\u001b[0m\u001b[0;34m.\u001b[0m\u001b[0m_basis\u001b[0m \u001b[0;32mimport\u001b[0m \u001b[0mFourierExpansion\u001b[0m\u001b[0;34m,\u001b[0m \u001b[0mRadialBesselFunction\u001b[0m\u001b[0;34m,\u001b[0m \u001b[0mSphericalBesselWithHarmonics\u001b[0m\u001b[0;34m\u001b[0m\u001b[0;34m\u001b[0m\u001b[0m\n",
            "\u001b[0;32m/usr/local/lib/python3.10/dist-packages/matgl/layers/_atom_ref.py\u001b[0m in \u001b[0;36m<module>\u001b[0;34m\u001b[0m\n\u001b[1;32m      2\u001b[0m \u001b[0;34m\u001b[0m\u001b[0m\n\u001b[0;32m----> 3\u001b[0;31m \u001b[0;32mimport\u001b[0m \u001b[0mdgl\u001b[0m\u001b[0;34m\u001b[0m\u001b[0;34m\u001b[0m\u001b[0m\n\u001b[0m\u001b[1;32m      4\u001b[0m \u001b[0;32mimport\u001b[0m \u001b[0mnumpy\u001b[0m \u001b[0;32mas\u001b[0m \u001b[0mnp\u001b[0m\u001b[0;34m\u001b[0m\u001b[0;34m\u001b[0m\u001b[0m\n",
            "\u001b[0;32m/usr/local/lib/python3.10/dist-packages/dgl/__init__.py\u001b[0m in \u001b[0;36m<module>\u001b[0;34m\u001b[0m\n\u001b[1;32m     15\u001b[0m \u001b[0;34m\u001b[0m\u001b[0m\n\u001b[0;32m---> 16\u001b[0;31m from . import (\n\u001b[0m\u001b[1;32m     17\u001b[0m     \u001b[0mcontainer\u001b[0m\u001b[0;34m,\u001b[0m\u001b[0;34m\u001b[0m\u001b[0;34m\u001b[0m\u001b[0m\n",
            "\u001b[0;32m/usr/local/lib/python3.10/dist-packages/dgl/dataloading/__init__.py\u001b[0m in \u001b[0;36m<module>\u001b[0;34m\u001b[0m\n\u001b[1;32m     12\u001b[0m     \u001b[0;32mfrom\u001b[0m \u001b[0;34m.\u001b[0m\u001b[0mspot_target\u001b[0m \u001b[0;32mimport\u001b[0m \u001b[0;34m*\u001b[0m\u001b[0;34m\u001b[0m\u001b[0;34m\u001b[0m\u001b[0m\n\u001b[0;32m---> 13\u001b[0;31m     \u001b[0;32mfrom\u001b[0m \u001b[0;34m.\u001b[0m\u001b[0mdataloader\u001b[0m \u001b[0;32mimport\u001b[0m \u001b[0;34m*\u001b[0m\u001b[0;34m\u001b[0m\u001b[0;34m\u001b[0m\u001b[0m\n\u001b[0m\u001b[1;32m     14\u001b[0m     \u001b[0;32mfrom\u001b[0m \u001b[0;34m.\u001b[0m\u001b[0mdist_dataloader\u001b[0m \u001b[0;32mimport\u001b[0m \u001b[0;34m*\u001b[0m\u001b[0;34m\u001b[0m\u001b[0;34m\u001b[0m\u001b[0m\n",
            "\u001b[0;32m/usr/local/lib/python3.10/dist-packages/dgl/dataloading/dataloader.py\u001b[0m in \u001b[0;36m<module>\u001b[0;34m\u001b[0m\n\u001b[1;32m     26\u001b[0m \u001b[0;32mfrom\u001b[0m \u001b[0;34m.\u001b[0m\u001b[0;34m.\u001b[0m\u001b[0mcuda\u001b[0m \u001b[0;32mimport\u001b[0m \u001b[0mGPUCache\u001b[0m\u001b[0;34m\u001b[0m\u001b[0;34m\u001b[0m\u001b[0m\n\u001b[0;32m---> 27\u001b[0;31m \u001b[0;32mfrom\u001b[0m \u001b[0;34m.\u001b[0m\u001b[0;34m.\u001b[0m\u001b[0mdistributed\u001b[0m \u001b[0;32mimport\u001b[0m \u001b[0mDistGraph\u001b[0m\u001b[0;34m\u001b[0m\u001b[0;34m\u001b[0m\u001b[0m\n\u001b[0m\u001b[1;32m     28\u001b[0m \u001b[0;32mfrom\u001b[0m \u001b[0;34m.\u001b[0m\u001b[0;34m.\u001b[0m\u001b[0mframe\u001b[0m \u001b[0;32mimport\u001b[0m \u001b[0mLazyFeature\u001b[0m\u001b[0;34m\u001b[0m\u001b[0;34m\u001b[0m\u001b[0m\n",
            "\u001b[0;32m/usr/local/lib/python3.10/dist-packages/dgl/distributed/__init__.py\u001b[0m in \u001b[0;36m<module>\u001b[0;34m\u001b[0m\n\u001b[1;32m      4\u001b[0m \u001b[0;32mfrom\u001b[0m \u001b[0;34m.\u001b[0m\u001b[0mdist_dataloader\u001b[0m \u001b[0;32mimport\u001b[0m \u001b[0mDistDataLoader\u001b[0m\u001b[0;34m\u001b[0m\u001b[0;34m\u001b[0m\u001b[0m\n\u001b[0;32m----> 5\u001b[0;31m \u001b[0;32mfrom\u001b[0m \u001b[0;34m.\u001b[0m\u001b[0mdist_graph\u001b[0m \u001b[0;32mimport\u001b[0m \u001b[0mDistGraph\u001b[0m\u001b[0;34m,\u001b[0m \u001b[0mDistGraphServer\u001b[0m\u001b[0;34m,\u001b[0m \u001b[0medge_split\u001b[0m\u001b[0;34m,\u001b[0m \u001b[0mnode_split\u001b[0m\u001b[0;34m\u001b[0m\u001b[0;34m\u001b[0m\u001b[0m\n\u001b[0m\u001b[1;32m      6\u001b[0m \u001b[0;32mfrom\u001b[0m \u001b[0;34m.\u001b[0m\u001b[0mdist_tensor\u001b[0m \u001b[0;32mimport\u001b[0m \u001b[0mDistTensor\u001b[0m\u001b[0;34m\u001b[0m\u001b[0;34m\u001b[0m\u001b[0m\n",
            "\u001b[0;32m/usr/local/lib/python3.10/dist-packages/dgl/distributed/dist_graph.py\u001b[0m in \u001b[0;36m<module>\u001b[0;34m\u001b[0m\n\u001b[1;32m     10\u001b[0m \u001b[0;34m\u001b[0m\u001b[0m\n\u001b[0;32m---> 11\u001b[0;31m \u001b[0;32mfrom\u001b[0m \u001b[0;34m.\u001b[0m\u001b[0;34m.\u001b[0m \u001b[0;32mimport\u001b[0m \u001b[0mbackend\u001b[0m \u001b[0;32mas\u001b[0m \u001b[0mF\u001b[0m\u001b[0;34m,\u001b[0m \u001b[0mgraphbolt\u001b[0m \u001b[0;32mas\u001b[0m \u001b[0mgb\u001b[0m\u001b[0;34m,\u001b[0m \u001b[0mheterograph_index\u001b[0m\u001b[0;34m\u001b[0m\u001b[0;34m\u001b[0m\u001b[0m\n\u001b[0m\u001b[1;32m     12\u001b[0m \u001b[0;32mfrom\u001b[0m \u001b[0;34m.\u001b[0m\u001b[0;34m.\u001b[0m\u001b[0m_ffi\u001b[0m\u001b[0;34m.\u001b[0m\u001b[0mndarray\u001b[0m \u001b[0;32mimport\u001b[0m \u001b[0mempty_shared_mem\u001b[0m\u001b[0;34m\u001b[0m\u001b[0;34m\u001b[0m\u001b[0m\n",
            "\u001b[0;32m/usr/local/lib/python3.10/dist-packages/dgl/graphbolt/__init__.py\u001b[0m in \u001b[0;36m<module>\u001b[0;34m\u001b[0m\n\u001b[1;32m     54\u001b[0m \u001b[0;34m\u001b[0m\u001b[0m\n\u001b[0;32m---> 55\u001b[0;31m \u001b[0mload_graphbolt\u001b[0m\u001b[0;34m(\u001b[0m\u001b[0;34m)\u001b[0m\u001b[0;34m\u001b[0m\u001b[0;34m\u001b[0m\u001b[0m\n\u001b[0m",
            "\u001b[0;32m/usr/local/lib/python3.10/dist-packages/dgl/graphbolt/__init__.py\u001b[0m in \u001b[0;36mload_graphbolt\u001b[0;34m()\u001b[0m\n\u001b[1;32m     51\u001b[0m     \u001b[0;32mexcept\u001b[0m \u001b[0mException\u001b[0m\u001b[0;34m:\u001b[0m  \u001b[0;31m# pylint: disable=W0703\u001b[0m\u001b[0;34m\u001b[0m\u001b[0;34m\u001b[0m\u001b[0m\n\u001b[0;32m---> 52\u001b[0;31m         \u001b[0;32mraise\u001b[0m \u001b[0mImportError\u001b[0m\u001b[0;34m(\u001b[0m\u001b[0;34m\"Cannot load Graphbolt C++ library\"\u001b[0m\u001b[0;34m)\u001b[0m\u001b[0;34m\u001b[0m\u001b[0;34m\u001b[0m\u001b[0m\n\u001b[0m\u001b[1;32m     53\u001b[0m \u001b[0;34m\u001b[0m\u001b[0m\n",
            "\u001b[0;31mImportError\u001b[0m: Cannot load Graphbolt C++ library",
            "\nThe above exception was the direct cause of the following exception:\n",
            "\u001b[0;31mValueError\u001b[0m                                Traceback (most recent call last)",
            "\u001b[0;32m<ipython-input-12-b4673c2e1781>\u001b[0m in \u001b[0;36m<cell line: 5>\u001b[0;34m()\u001b[0m\n\u001b[1;32m      3\u001b[0m \u001b[0mos\u001b[0m\u001b[0;34m.\u001b[0m\u001b[0menviron\u001b[0m\u001b[0;34m[\u001b[0m\u001b[0;34m\"MPRESTER_MUTE_PROGRESS_BARS\"\u001b[0m\u001b[0;34m]\u001b[0m \u001b[0;34m=\u001b[0m \u001b[0;34m\"true\"\u001b[0m\u001b[0;34m\u001b[0m\u001b[0;34m\u001b[0m\u001b[0m\n\u001b[1;32m      4\u001b[0m \u001b[0mmpr\u001b[0m \u001b[0;34m=\u001b[0m \u001b[0mMPRester\u001b[0m\u001b[0;34m(\u001b[0m\u001b[0;34m\"FwTXcju8unkI2VbInEgZDTN8coDB6S6U\"\u001b[0m\u001b[0;34m)\u001b[0m\u001b[0;34m\u001b[0m\u001b[0;34m\u001b[0m\u001b[0m\n\u001b[0;32m----> 5\u001b[0;31m \u001b[0mpot\u001b[0m \u001b[0;34m=\u001b[0m \u001b[0mmatgl\u001b[0m\u001b[0;34m.\u001b[0m\u001b[0mload_model\u001b[0m\u001b[0;34m(\u001b[0m\u001b[0;34m\"M3GNet-MP-2021.2.8-PES\"\u001b[0m\u001b[0;34m)\u001b[0m \u001b[0;31m# load the pre-trained M3GNet Potential\u001b[0m\u001b[0;34m\u001b[0m\u001b[0;34m\u001b[0m\u001b[0m\n\u001b[0m\u001b[1;32m      6\u001b[0m \u001b[0mrelaxer\u001b[0m \u001b[0;34m=\u001b[0m \u001b[0mRelaxer\u001b[0m\u001b[0;34m(\u001b[0m\u001b[0mpotential\u001b[0m\u001b[0;34m=\u001b[0m\u001b[0mpot\u001b[0m\u001b[0;34m)\u001b[0m \u001b[0;31m# create the M3GNet Relaxer\u001b[0m\u001b[0;34m\u001b[0m\u001b[0;34m\u001b[0m\u001b[0m\n\u001b[1;32m      7\u001b[0m \u001b[0;32mfor\u001b[0m \u001b[0mformula\u001b[0m\u001b[0;34m,\u001b[0m \u001b[0mv\u001b[0m \u001b[0;32min\u001b[0m \u001b[0mdata\u001b[0m\u001b[0;34m.\u001b[0m\u001b[0miterrows\u001b[0m\u001b[0;34m(\u001b[0m\u001b[0;34m)\u001b[0m\u001b[0;34m:\u001b[0m\u001b[0;34m\u001b[0m\u001b[0;34m\u001b[0m\u001b[0m\n",
            "\u001b[0;32m/usr/local/lib/python3.10/dist-packages/matgl/utils/io.py\u001b[0m in \u001b[0;36mload_model\u001b[0;34m(path, **kwargs)\u001b[0m\n\u001b[1;32m    212\u001b[0m             \u001b[0;32mreturn\u001b[0m \u001b[0mcls_\u001b[0m\u001b[0;34m.\u001b[0m\u001b[0mload\u001b[0m\u001b[0;34m(\u001b[0m\u001b[0mfpaths\u001b[0m\u001b[0;34m,\u001b[0m \u001b[0;34m**\u001b[0m\u001b[0mkwargs\u001b[0m\u001b[0;34m)\u001b[0m\u001b[0;34m\u001b[0m\u001b[0;34m\u001b[0m\u001b[0m\n\u001b[1;32m    213\u001b[0m     \u001b[0;32mexcept\u001b[0m \u001b[0mBaseException\u001b[0m \u001b[0;32mas\u001b[0m \u001b[0merr\u001b[0m\u001b[0;34m:\u001b[0m\u001b[0;34m\u001b[0m\u001b[0;34m\u001b[0m\u001b[0m\n\u001b[0;32m--> 214\u001b[0;31m         raise ValueError(\n\u001b[0m\u001b[1;32m    215\u001b[0m             \u001b[0;34m\"Bad serialized model or bad model name. It is possible that you have an older model cached. Please \"\u001b[0m\u001b[0;34m\u001b[0m\u001b[0;34m\u001b[0m\u001b[0m\n\u001b[1;32m    216\u001b[0m             \u001b[0;34m'clear your cache by running `python -c \"import matgl; matgl.clear_cache()\"`'\u001b[0m\u001b[0;34m\u001b[0m\u001b[0;34m\u001b[0m\u001b[0m\n",
            "\u001b[0;31mValueError\u001b[0m: Bad serialized model or bad model name. It is possible that you have an older model cached. Please clear your cache by running `python -c \"import matgl; matgl.clear_cache()\"`"
          ]
        }
      ]
    },
    {
      "cell_type": "code",
      "source": [
        "data[\"% error vs Expt\"] = (data[\"Predicted a (Å)\"] - data[\"a (Å)\"]) / data[\"a (Å)\"]\n",
        "data[\"% error vs MP\"] = (data[\"Predicted a (Å)\"] - data[\"MP a (Å)\"]) / data[\"MP a (Å)\"]"
      ],
      "metadata": {
        "id": "WKmgfy064qHw"
      },
      "execution_count": null,
      "outputs": []
    },
    {
      "cell_type": "code",
      "source": [
        "data.sort_index().style.format({\"% error vs Expt\": \"{:,.2%}\", \"% error vs MP\": \"{:,.2%}\"}).background_gradient()"
      ],
      "metadata": {
        "id": "WrTeZHZf4qO3"
      },
      "execution_count": null,
      "outputs": []
    },
    {
      "cell_type": "code",
      "source": [
        "data[\"% error vs MP\"].replace([np.inf, -np.inf], np.nan).dropna().hist(bins=20)"
      ],
      "metadata": {
        "id": "Ce_dIDHN5DPn"
      },
      "execution_count": null,
      "outputs": []
    },
    {
      "cell_type": "code",
      "source": [
        "# generate markdown table output\n",
        "df = data.sort_values(\"% error vs MP\", key=abs).replace([np.inf, -np.inf], np.nan).dropna()\n",
        "df[\"% error vs MP\"] = [f\"{v*100:.3f}%\" for v in df[\"% error vs MP\"]]\n",
        "df[\"% error vs Expt\"] = [f\"{v*100:.3f}%\" for v in df[\"% error vs Expt\"]]\n",
        "print(df.to_markdown())"
      ],
      "metadata": {
        "id": "kEUxQNIW5FYk"
      },
      "execution_count": null,
      "outputs": []
    },
    {
      "cell_type": "markdown",
      "source": [
        "## Combine the M3GNet Universal Potential with Property Prediction Models"
      ],
      "metadata": {
        "id": "3tQ6Td6I5SjF"
      }
    },
    {
      "cell_type": "code",
      "source": [
        "sto = Structure.from_spacegroup(\"Pm-3m\", Lattice.cubic(4.5), [\"Sr\", \"Ti\", \"O\"], [[0, 0, 0], [0.5, 0.5, 0.5], [0.5, 0.5, 0]])\n",
        "print(sto)"
      ],
      "metadata": {
        "id": "qJxiSwjq61Uu"
      },
      "execution_count": null,
      "outputs": []
    },
    {
      "cell_type": "code",
      "source": [
        "mpr = MPRester()\n",
        "doc = mpr.summary.search(material_ids=[\"mp-5229\"])[0]\n",
        "sto_dft = doc.structure\n",
        "sto_dft_bandgap = doc.band_gap\n",
        "sto_dft_forme = doc.formation_energy_per_atom"
      ],
      "metadata": {
        "id": "rG97Buwq61Yp"
      },
      "execution_count": null,
      "outputs": []
    },
    {
      "cell_type": "code",
      "source": [
        "pot = matgl.load_model(\"M3GNet-MP-2021.2.8-PES\")"
      ],
      "metadata": {
        "id": "HR88dxcW61b9"
      },
      "execution_count": null,
      "outputs": []
    },
    {
      "cell_type": "code",
      "source": [
        "relaxer = Relaxer(potential=pot)\n",
        "relax_results = relaxer.relax(sto, fmax=0.01)\n",
        "relaxed_sto = relax_results[\"final_structure\"]\n",
        "print(relaxed_sto)"
      ],
      "metadata": {
        "id": "gscd1BbL61iO"
      },
      "execution_count": null,
      "outputs": []
    },
    {
      "cell_type": "code",
      "source": [
        "print(sto_dft)"
      ],
      "metadata": {
        "id": "2MMLIJcN7FXA"
      },
      "execution_count": null,
      "outputs": []
    },
    {
      "cell_type": "code",
      "source": [
        "# load the pre-trained MEGNet formation energy model\n",
        "model = matgl.load_model(\"M3GNet-MP-2018.6.1-Eform\")\n",
        "eform_sto = model.predict_structure(sto)\n",
        "eform_relaxed_sto = model.predict_structure(relaxed_sto)\n",
        "print(f\"The predicted formation energy for the unrelaxed SrTiO3 is {float(eform_sto):.3f} eV/atom.\")\n",
        "print(f\"The predicted formation energy for the relaxed SrTiO3 is {float(eform_relaxed_sto):.3f} eV/atom.\")\n",
        "print(f\"The Materials Project formation energy for DFT-relaxed SrTiO3 is {sto_dft_forme:.3f} eV/atom.\")"
      ],
      "metadata": {
        "id": "wp1rfrCA7FhE"
      },
      "execution_count": null,
      "outputs": []
    },
    {
      "cell_type": "code",
      "source": [
        "model = matgl.load_model(\"MEGNet-MP-2019.4.1-BandGap-mfi\")\n",
        "# for multi-fidelity models, one needs to define graph label (\"0\": PBE, \"1\": GLLB-SC, \"2\": HSE, \"3\": SCAN)\n",
        "for i, method in ((0, \"PBE\"), (1, \"GLLB-SC\"), (2, \"HSE\"), (3, \"SCAN\")):\n",
        "    graph_attrs = torch.tensor([i])\n",
        "    bandgap_sto = model.predict_structure(structure=sto, state_attr=graph_attrs)\n",
        "    bandgap_relaxed_sto = model.predict_structure(structure=relaxed_sto, state_attr=graph_attrs)\n",
        "    print(f\"{method} band gap\")\n",
        "    print(f\"\\tUnrelaxed STO = {float(bandgap_sto):.2f} eV.\")\n",
        "    print(f\"\\tRelaxed STO = {float(bandgap_relaxed_sto):.2f} eV.\")\n",
        "print(f\"The PBE band gap for STO from Materials Project is {sto_dft_bandgap:.2f} eV.\")"
      ],
      "metadata": {
        "id": "NHMZVGcW7MnU"
      },
      "execution_count": null,
      "outputs": []
    },
    {
      "cell_type": "markdown",
      "source": [
        "## Property Predictions using MEGNet or M3GNet Models"
      ],
      "metadata": {
        "id": "rua8GjXr7VDK"
      }
    },
    {
      "cell_type": "code",
      "source": [
        "struct = Structure.from_spacegroup(\"Pm-3m\", Lattice.cubic(4.1437), [\"Cs\", \"Cl\"], [[0, 0, 0], [0.5, 0.5, 0.5]])"
      ],
      "metadata": {
        "id": "PQgGCrFr7M1v"
      },
      "execution_count": null,
      "outputs": []
    },
    {
      "cell_type": "code",
      "source": [
        "model = matgl.load_model(\"MEGNet-MP-2018.6.1-Eform\") # load the pre-trained MEGNet formation energy model\n",
        "eform = model.predict_structure(struct)\n",
        "print(f\"The predicted formation energy for CsCl is {float(eform):.3f} eV/atom.\")"
      ],
      "metadata": {
        "id": "WvdcJ6nO7NB6"
      },
      "execution_count": null,
      "outputs": []
    },
    {
      "cell_type": "code",
      "source": [
        "model = matgl.load_model(\"M3GNet-MP-2018.6.1-Eform\") # load the pre-trained M3GNet formation energy model\n",
        "eform = model.predict_structure(struct)\n",
        "print(f\"The predicted formation energy for CsCl is {float(eform):.3f} eV/atom.\")"
      ],
      "metadata": {
        "id": "8TDxr1nZRYVw"
      },
      "execution_count": null,
      "outputs": []
    },
    {
      "cell_type": "code",
      "source": [
        "model = matgl.load_model(\"MEGNet-MP-2019.4.1-BandGap-mfi\")\n",
        "# for multi-fidelity models, we need to define graph label (\"0\": PBE, \"1\": GLLB-SC, \"2\": HSE, \"3\": SCAN)\n",
        "for i, method in ((0, \"PBE\"), (1, \"GLLB-SC\"), (2, \"HSE\"), (3, \"SCAN\")):\n",
        "    graph_attrs = torch.tensor([i])\n",
        "    bandgap = model.predict_structure(structure=struct, state_attr=graph_attrs)\n",
        "    print(f\"The predicted {method} band gap for CsCl is {float(bandgap):.3f} eV.\")"
      ],
      "metadata": {
        "id": "Fd2D1eGPRYeH"
      },
      "execution_count": null,
      "outputs": []
    },
    {
      "cell_type": "markdown",
      "source": [
        "## Relaxations and Simulations using the M3GNet Universal Potential"
      ],
      "metadata": {
        "id": "d3gX2VjaRmEY"
      }
    },
    {
      "cell_type": "code",
      "source": [
        "pot = matgl.load_model(\"M3GNet-MP-2021.2.8-PES\")"
      ],
      "metadata": {
        "id": "z8bDgbpcRYkJ"
      },
      "execution_count": null,
      "outputs": []
    },
    {
      "cell_type": "code",
      "source": [
        "relaxer = Relaxer(potential=pot)\n",
        "struct = Structure.from_spacegroup(\"Pm-3m\", Lattice.cubic(4.5), [\"Cs\", \"Cl\"], [[0, 0, 0], [0.5, 0.5, 0.5]])\n",
        "relax_results = relaxer.relax(struct, fmax=0.01)\n",
        "final_structure = relax_results[\"final_structure\"] # extract results\n",
        "final_energy = relax_results[\"trajectory\"].energies[-1]\n",
        "print(final_structure) # print out the final relaxed structure and energy\n",
        "print(f\"The final energy is {float(final_energy):.3f} eV.\")"
      ],
      "metadata": {
        "id": "zntPN_APRYrw"
      },
      "execution_count": null,
      "outputs": []
    },
    {
      "cell_type": "code",
      "source": [
        "# molecular dynamics\n",
        "ase_adaptor = AseAtomsAdaptor()\n",
        "atoms = ase_adaptor.get_atoms(final_structure)\n",
        "MaxwellBoltzmannDistribution(atoms, temperature_K=300)\n",
        "driver = MolecularDynamics(atoms, potential=pot, temperature=300, logfile=\"md_trial.log\")\n",
        "driver.run(100)\n",
        "print(f\"The potential energy of CsCl at 300 K after 100 steps is {float(atoms.get_potential_energy()):.3f} eV.\")"
      ],
      "metadata": {
        "id": "9QAlgnHcRvip"
      },
      "execution_count": null,
      "outputs": []
    },
    {
      "cell_type": "code",
      "source": [
        "calc = PESCalculator(pot) # define the M3GNet calculator\n",
        "atoms.set_calculator(calc) # set up the calculator for atoms object\n",
        "print(f\"The calculated potential energy is {atoms.get_potential_energy():.3f} eV.\")"
      ],
      "metadata": {
        "id": "l8Us7xlBRvqF"
      },
      "execution_count": null,
      "outputs": []
    },
    {
      "cell_type": "markdown",
      "source": [
        "## Training a M3GNet Formation Energy Model with PyTorch Lightning"
      ],
      "metadata": {
        "id": "v6xJOBRSSD-a"
      }
    },
    {
      "cell_type": "code",
      "source": [
        "def load_dataset() -> tuple[list[Structure], list[str], list[float]]:\n",
        "    \"\"\"Raw data loading function.\n",
        "    Returns:\n",
        "        tuple[list[Structure], list[str], list[float]]: structures, mp_id, Eform_per_atom\n",
        "    \"\"\"\n",
        "    if not os.path.exists(\"mp.2018.6.1.json\"):\n",
        "        f = RemoteFile(\"https://figshare.com/ndownloader/files/15087992\")\n",
        "        with zipfile.ZipFile(f.local_path) as zf:\n",
        "            zf.extractall(\".\")\n",
        "    data = pd.read_json(\"mp.2018.6.1.json\")\n",
        "    structures = []\n",
        "    mp_ids = []\n",
        "    i = 0\n",
        "    for mid, structure_str in tqdm(zip(data[\"material_id\"], data[\"structure\"])):\n",
        "        struct = Structure.from_str(structure_str, fmt=\"cif\")\n",
        "        structures.append(struct)\n",
        "        mp_ids.append(mid)\n",
        "        i = i + 1\n",
        "        if i > 1000:\n",
        "            break\n",
        "    return structures, mp_ids, data[\"formation_energy_per_atom\"].tolist()\n",
        "structures, mp_ids, eform_per_atom = load_dataset()"
      ],
      "metadata": {
        "id": "qp3foUNIRvu2"
      },
      "execution_count": null,
      "outputs": []
    },
    {
      "cell_type": "code",
      "source": [
        "structures = structures[:100]\n",
        "eform_per_atom = eform_per_atom[:100]"
      ],
      "metadata": {
        "id": "jFK597_TSSJ_"
      },
      "execution_count": null,
      "outputs": []
    },
    {
      "cell_type": "code",
      "source": [
        "elem_list = get_element_list(structures) # get element types in the dataset\n",
        "converter = Structure2Graph(element_types=elem_list, cutoff=4.0) # setup a graph converter\n",
        "mp_dataset = MGLDataset(\n",
        "    threebody_cutoff=4.0,\n",
        "    structures=structures,\n",
        "    converter=converter,\n",
        "    labels={\"eform\": eform_per_atom},\n",
        "    include_line_graph=True,\n",
        "    ) # convert the raw dataset into M3GNetDataset"
      ],
      "metadata": {
        "id": "x6CamB6ZSSSB"
      },
      "execution_count": null,
      "outputs": []
    },
    {
      "cell_type": "code",
      "source": [
        "train_data, val_data, test_data = split_dataset(\n",
        "    mp_dataset,\n",
        "    frac_list=[0.8, 0.1, 0.1],\n",
        "    shuffle=True,\n",
        "    random_state=42,\n",
        "    )\n",
        "collate_fn = partial(collate_fn, include_line_graph=True)\n",
        "train_loader, val_loader, test_loader = MGLDataLoader(\n",
        "    train_data=train_data,\n",
        "    val_data=val_data,\n",
        "    test_data=test_data,\n",
        "    collate_fn=collate_fn,\n",
        "    batch_size=2,\n",
        "    num_workers=1,\n",
        "    )"
      ],
      "metadata": {
        "id": "jIg2MYhHSSW9"
      },
      "execution_count": null,
      "outputs": []
    },
    {
      "cell_type": "code",
      "source": [
        "model = M3GNet(\n",
        "    element_types=elem_list,\n",
        "    is_intensive=True,\n",
        "    readout_type=\"set2set\",\n",
        ") # setup the architecture of M3GNet model\n",
        "lit_module = ModelLightningModule(model=model, include_line_graph=True) # setup the M3GNetTrainer"
      ],
      "metadata": {
        "colab": {
          "base_uri": "https://localhost:8080/",
          "height": 219
        },
        "id": "WiLkvLzHSScn",
        "outputId": "20cfd1e8-72a5-4972-aa82-3085e67027ee"
      },
      "execution_count": null,
      "outputs": [
        {
          "output_type": "error",
          "ename": "NameError",
          "evalue": "name 'M3GNet' is not defined",
          "traceback": [
            "\u001b[0;31m---------------------------------------------------------------------------\u001b[0m",
            "\u001b[0;31mNameError\u001b[0m                                 Traceback (most recent call last)",
            "\u001b[0;32m<ipython-input-1-22ef7fc2c6c4>\u001b[0m in \u001b[0;36m<cell line: 2>\u001b[0;34m()\u001b[0m\n\u001b[1;32m      1\u001b[0m \u001b[0;31m# setup the architecture of M3GNet model\u001b[0m\u001b[0;34m\u001b[0m\u001b[0;34m\u001b[0m\u001b[0m\n\u001b[0;32m----> 2\u001b[0;31m model = M3GNet(\n\u001b[0m\u001b[1;32m      3\u001b[0m     \u001b[0melement_types\u001b[0m\u001b[0;34m=\u001b[0m\u001b[0melem_list\u001b[0m\u001b[0;34m,\u001b[0m\u001b[0;34m\u001b[0m\u001b[0;34m\u001b[0m\u001b[0m\n\u001b[1;32m      4\u001b[0m     \u001b[0mis_intensive\u001b[0m\u001b[0;34m=\u001b[0m\u001b[0;32mTrue\u001b[0m\u001b[0;34m,\u001b[0m\u001b[0;34m\u001b[0m\u001b[0;34m\u001b[0m\u001b[0m\n\u001b[1;32m      5\u001b[0m     \u001b[0mreadout_type\u001b[0m\u001b[0;34m=\u001b[0m\u001b[0;34m\"set2set\"\u001b[0m\u001b[0;34m,\u001b[0m\u001b[0;34m\u001b[0m\u001b[0;34m\u001b[0m\u001b[0m\n",
            "\u001b[0;31mNameError\u001b[0m: name 'M3GNet' is not defined"
          ]
        }
      ]
    },
    {
      "cell_type": "code",
      "source": [
        "logger = CSVLogger(\"logs\", name=\"M3GNet_training\")\n",
        "trainer = pl.Trainer(max_epochs=20, accelerator=\"cpu\", logger=logger)\n",
        "trainer.fit(model=lit_module, train_dataloaders=train_loader, val_dataloaders=val_loader)"
      ],
      "metadata": {
        "id": "-Kbs1WQwSSiX"
      },
      "execution_count": null,
      "outputs": []
    },
    {
      "cell_type": "code",
      "source": [
        "metrics = pd.read_csv(\"logs/M3GNet_training/version_0/metrics.csv\")\n",
        "metrics[\"train_MAE\"].dropna().plot()\n",
        "metrics[\"val_MAE\"].dropna().plot()\n",
        "_ = plt.legend()"
      ],
      "metadata": {
        "id": "uQX4QS1QRv2t"
      },
      "execution_count": null,
      "outputs": []
    },
    {
      "cell_type": "code",
      "source": [
        "# This code just performs cleanup for this notebook.\n",
        "\n",
        "for fn in (\"dgl_graph.bin\", \"lattice.pt\", \"dgl_line_graph.bin\", \"state_attr.pt\", \"labels.json\"):\n",
        "    try:\n",
        "        os.remove(fn)\n",
        "    except FileNotFoundError:\n",
        "        pass\n",
        "\n",
        "shutil.rmtree(\"logs\")"
      ],
      "metadata": {
        "id": "b9LHbTO6Sq5u"
      },
      "execution_count": null,
      "outputs": []
    },
    {
      "cell_type": "markdown",
      "source": [
        "## Training a M3GNet Potential with PyTorch Lightning"
      ],
      "metadata": {
        "id": "IWGAC2w_StNX"
      }
    },
    {
      "cell_type": "markdown",
      "source": [
        "Obtain an API key here: https://next-gen.materialsproject.org/api"
      ],
      "metadata": {
        "id": "Am12xkkaT_4I"
      }
    },
    {
      "cell_type": "code",
      "source": [
        "mpr = MPRester(api_key=\"YOUR_API_KEY\")\n",
        "entries = mpr.get_entries_in_chemsys([\"Si\", \"O\"])\n",
        "structures = [e.structure for e in entries]\n",
        "energies = [e.energy for e in entries]\n",
        "forces = [np.zeros((len(s), 3)).tolist() for s in structures]\n",
        "stresses = [np.zeros((3, 3)).tolist() for s in structures]\n",
        "labels = {\n",
        "    \"energies\": energies,\n",
        "    \"forces\": forces,\n",
        "    \"stresses\": stresses,\n",
        "    }\n",
        "print(f\"{len(structures)} downloaded from MP.\")"
      ],
      "metadata": {
        "id": "9dYijijAS6en"
      },
      "execution_count": null,
      "outputs": []
    },
    {
      "cell_type": "code",
      "source": [
        "element_types = get_element_list(structures)\n",
        "converter = Structure2Graph(element_types=element_types, cutoff=5.0)\n",
        "dataset = MGLDataset(threebody_cutoff=4.0, structures=structures, converter=converter, labels=labels, include_line_graph=True)\n",
        "train_data, val_data, test_data = split_dataset(\n",
        "    dataset,\n",
        "    frac_list=[0.8, 0.1, 0.1],\n",
        "    shuffle=True,\n",
        "    random_state=42,\n",
        "    )\n",
        "my_collate_fn = partial(collate_fn_efs, include_line_graph=True)\n",
        "train_loader, val_loader, test_loader = MGLDataLoader(\n",
        "    train_data=train_data,\n",
        "    val_data=val_data,\n",
        "    test_data=test_data,\n",
        "    collate_fn=my_collate_fn,\n",
        "    batch_size=2,\n",
        "    num_workers=0,\n",
        "    )\n",
        "model = M3GNet(\n",
        "    element_types=element_types,\n",
        "    is_intensive=False,\n",
        "    )\n",
        "lit_module = PotentialLightningModule(model=model, include_line_graph=True)"
      ],
      "metadata": {
        "id": "I9sUVT33S6of"
      },
      "execution_count": null,
      "outputs": []
    },
    {
      "cell_type": "code",
      "source": [
        "logger = CSVLogger(\"logs\", name=\"M3GNet_training\") # If one wishs to disable GPU or MPS (M1 mac) training, use the accelerator=\"cpu\" kwarg\n",
        "trainer = pl.Trainer(max_epochs=1, accelerator=\"cpu\", logger=logger, inference_mode=False) # inference mode = False is required for calculating forces, stress in test mode and prediction mode\n",
        "trainer.fit(model=lit_module, train_dataloaders=train_loader, val_dataloaders=val_loader)"
      ],
      "metadata": {
        "id": "NlbMlaGQS60Q"
      },
      "execution_count": null,
      "outputs": []
    },
    {
      "cell_type": "code",
      "source": [
        "trainer.test(dataloaders=test_loader) # test the model, remember to set inference_mode=False in trainer (see above)"
      ],
      "metadata": {
        "id": "-RdSMqtUS7C7"
      },
      "execution_count": null,
      "outputs": []
    },
    {
      "cell_type": "code",
      "source": [
        "# save trained model\n",
        "model_export_path = \"./trained_model/\"\n",
        "model.save(model_export_path)\n",
        "model = matgl.load_model(path=model_export_path) # load trained model"
      ],
      "metadata": {
        "id": "Vcc9uuUjS7QH"
      },
      "execution_count": null,
      "outputs": []
    },
    {
      "cell_type": "code",
      "source": [
        "# fine tuning a pre-trained M3GNet\n",
        "m3gnet_nnp = matgl.load_model(\"M3GNet-MP-2021.2.8-PES\") # download a pre-trained M3GNet\n",
        "model_pretrained = m3gnet_nnp.model\n",
        "lit_module_finetune = PotentialLightningModule(model=model_pretrained, lr=1e-4, include_line_graph=True)"
      ],
      "metadata": {
        "id": "U4Yw0pTaUoBo"
      },
      "execution_count": null,
      "outputs": []
    },
    {
      "cell_type": "code",
      "source": [
        "logger = CSVLogger(\"logs\", name=\"M3GNet_finetuning\")\n",
        "trainer = pl.Trainer(max_epochs=1, accelerator=\"cpu\", logger=logger, inference_mode=False)\n",
        "trainer.fit(model=lit_module_finetune, train_dataloaders=train_loader, val_dataloaders=val_loader)"
      ],
      "metadata": {
        "id": "Jd1qhsbVUvgY"
      },
      "execution_count": null,
      "outputs": []
    },
    {
      "cell_type": "code",
      "source": [
        "model_save_path = \"./finetuned_model/\"\n",
        "model_pretrained.save(model_save_path)\n",
        "trained_model = matgl.load_model(path=model_save_path)"
      ],
      "metadata": {
        "id": "RukcCcKJUvwp"
      },
      "execution_count": null,
      "outputs": []
    },
    {
      "cell_type": "code",
      "source": [
        "# this code just performs cleanup for this notebook\n",
        "for fn in (\"dgl_graph.bin\", \"lattice.pt\", \"dgl_line_graph.bin\", \"state_attr.pt\", \"labels.json\"):\n",
        "    try:\n",
        "        os.remove(fn)\n",
        "    except FileNotFoundError:\n",
        "        pass\n",
        "shutil.rmtree(\"logs\")\n",
        "shutil.rmtree(\"trained_model\")\n",
        "shutil.rmtree(\"finetuned_model\")"
      ],
      "metadata": {
        "id": "rg2p6mBvU0NA"
      },
      "execution_count": null,
      "outputs": []
    },
    {
      "cell_type": "markdown",
      "source": [
        "## Validation of Refitted MatGL versus Original TF M3GNet"
      ],
      "metadata": {
        "id": "neBhT2NDU_bv"
      }
    },
    {
      "cell_type": "code",
      "source": [
        "data = pd.read_html(\"http://en.wikipedia.org/wiki/Lattice_constant\")[0]\n",
        "struct_types = [\n",
        "    \"Hexagonal\",\n",
        "    \"Wurtzite\",\n",
        "    \"Wurtzite (HCP)\",\n",
        "    \"Orthorhombic\",\n",
        "    \"Tetragonal perovskite\",\n",
        "    \"Orthorhombic perovskite\",\n",
        "    ]\n",
        "data = data[~data[\"Crystal structure\"].isin(struct_types)]\n",
        "data = data.rename(columns={\"Lattice constant (Å)\": \"a (Å)\"})\n",
        "data = data.drop(columns=[\"Ref.\"])\n",
        "data[\"a (Å)\"] = data[\"a (Å)\"].map(float)\n",
        "data = data[[\"Material\", \"Crystal structure\", \"a (Å)\"]]\n",
        "additional_fcc = \"\"\"10 Ne 4.43 54 Xe 6.20\n",
        "13 Al 4.05 58 Ce 5.16\n",
        "18 Ar 5.26 70 Yb 5.49\n",
        "20 Ca 5.58 77 Ir 3.84\n",
        "28 Ni 3.52 78 Pt 3.92\n",
        "29 Cu 3.61 79 Au 4.08\n",
        "36 Kr 5.72 82 Pb 4.95\n",
        "38 Sr 6.08 47 Ag 4.09\n",
        "45 Rh 3.80 89 Ac 5.31\n",
        "46 Pd 3.89 90 Th 5.08\"\"\"\n",
        "\n",
        "additional_bcc = \"\"\"3 Li 3.49 42 Mo 3.15\n",
        "11 Na 4.23 55 Cs 6.05\n",
        "19 K 5.23 56 Ba 5.02\n",
        "23 V 3.02 63 Eu 4.61\n",
        "24 Cr 2.88 73 Ta 3.31\n",
        "26 Fe 2.87 74 W 3.16\n",
        "37 Rb 5.59 41 Nb 3.30\"\"\"\n",
        "\n",
        "def add_new(str_, structure_type, df):\n",
        "    tokens = str_.split()\n",
        "    new_crystals = []\n",
        "    for i in range(int(len(tokens) / 3)):\n",
        "        el = tokens[3 * i + 1].strip()\n",
        "        if el not in df[\"Material\"].to_numpy():\n",
        "            new_crystals.append([tokens[3 * i + 1], structure_type, float(tokens[3 * i + 2])])\n",
        "    df2 = pd.DataFrame(new_crystals, columns=data.columns)\n",
        "    return pd.concat([df, df2])\n",
        "\n",
        "data = add_new(additional_fcc, \"FCC\", data)\n",
        "data = add_new(additional_bcc, \"BCC\", data)\n",
        "data = data[data[\"Material\"] != \"NC0.99\"]\n",
        "data = data[data[\"Material\"] != \"Xe\"]\n",
        "data = data[data[\"Material\"] != \"Kr\"]\n",
        "data = data[data[\"Material\"] != \"Rb\"]\n",
        "data = data.set_index(\"Material\")\n",
        "print(data)"
      ],
      "metadata": {
        "id": "p5aena1FVKfU"
      },
      "execution_count": null,
      "outputs": []
    },
    {
      "cell_type": "code",
      "source": [
        "potential_matgl = matgl.load_model(\"M3GNet-MP-2021.2.8-PES\") # MatGL\n",
        "calc_matgl = M3GNetCalculator_matgl(potential_matgl)\n",
        "model_tf = M3GNet_tf.load(\"MP-2021.2.8-EFS\") # TF-M3Gnet\n",
        "potential_tf = Potential_tf(model_tf)\n",
        "calc_tf = M3GNetCalculator_tf(potential_tf)\n",
        "adapter = AseAtomsAdaptor()"
      ],
      "metadata": {
        "id": "bktKuu16VKrm"
      },
      "execution_count": null,
      "outputs": []
    },
    {
      "cell_type": "code",
      "source": [
        "os.environ[\"MPRESTER_MUTE_PROGRESS_BARS\"] = \"true\"  # Mute progress bars for cleaner output.\n",
        "mpr = MPRester()\n",
        "\n",
        "structures = {}\n",
        "results = []\n",
        "\n",
        "for formula, v in data.iterrows():\n",
        "    formula = formula.split()[0]\n",
        "    c = Composition(formula)\n",
        "    els = sorted(c.elements)\n",
        "    cs = v[\"Crystal structure\"]\n",
        "\n",
        "    # We initialize all the crystals with an arbitrary lattice constant of 5 angstroms.\n",
        "    if \"Zinc blende\" in cs:\n",
        "        s = Structure.from_spacegroup(\"F-43m\", Lattice.cubic(5), [els[0], els[1]], [[0, 0, 0], [0.25, 0.25, 0.75]])\n",
        "    elif \"Halite\" in cs:\n",
        "        s = Structure.from_spacegroup(\"Fm-3m\", Lattice.cubic(5), [els[0], els[1]], [[0, 0, 0], [0.5, 0, 0]])\n",
        "    elif \"Caesium chloride\" in cs:\n",
        "        s = Structure.from_spacegroup(\"Pm-3m\", Lattice.cubic(5), [els[0], els[1]], [[0, 0, 0], [0.5, 0.5, 0.5]])\n",
        "    elif \"Cubic perovskite\" in cs:\n",
        "        s = Structure(\n",
        "            Lattice.cubic(5),\n",
        "            [els[0], els[1], els[2], els[2], els[2]],\n",
        "            [[0.0, 0.0, 0.0], [0.5, 0.5, 0.5], [0.5, 0.5, 0], [0.0, 0.5, 0.5], [0.5, 0, 0.5]],\n",
        "        )\n",
        "    elif \"Diamond\" in cs:\n",
        "        s = Structure.from_spacegroup(\"Fd-3m\", Lattice.cubic(5), [els[0]], [[0.25, 0.75, 0.25]])\n",
        "    elif \"BCC\" in cs:\n",
        "        s = Structure(Lattice.cubic(5), [els[0]] * 2, [[0.0, 0.0, 0.0], [0.5, 0.5, 0.5]])\n",
        "    elif \"FCC\" in cs:\n",
        "        s = Structure(Lattice.cubic(5), [els[0]] * 4, [[0.0, 0.0, 0.0], [0.5, 0.5, 0], [0.0, 0.5, 0.5], [0.5, 0, 0.5]])\n",
        "    else:\n",
        "        continue\n",
        "    try:\n",
        "        mids = mpr.get_material_ids(s.composition.reduced_formula)\n",
        "        for i in mids:\n",
        "            try:\n",
        "                structure = mpr.get_structure_by_material_id(i)\n",
        "                sga = SpacegroupAnalyzer(structure)\n",
        "                sga2 = SpacegroupAnalyzer(s)\n",
        "                if sga.get_space_group_number() == sga2.get_space_group_number():\n",
        "                    conv = sga.get_conventional_standard_structure()\n",
        "                    structures[s.composition.reduced_formula] = conv\n",
        "                    atoms_tf = adapter.get_atoms(conv)\n",
        "                    atoms_matgl = adapter.get_atoms(conv)\n",
        "                    atoms_tf.calc = calc_tf\n",
        "                    atoms_matgl.calc = calc_matgl\n",
        "                    results.append(\n",
        "                        [\n",
        "                            s.composition.reduced_formula,\n",
        "                            atoms_tf.get_potential_energy() / len(s),\n",
        "                            float(atoms_matgl.get_potential_energy() / len(s)),\n",
        "                        ]\n",
        "                    )\n",
        "                    break\n",
        "            except Exception:\n",
        "                pass\n",
        "    except Exception:\n",
        "        pass"
      ],
      "metadata": {
        "id": "1kbC21n3VK0b"
      },
      "execution_count": null,
      "outputs": []
    },
    {
      "cell_type": "code",
      "source": [
        "df = pd.DataFrame(results, columns=[\"Formula\", \"MatGL Energy per Atom\", \"TF Energy per Atom\"])\n",
        "df[\"Difference\"] = df[\"MatGL Energy per Atom\"] - df[\"TF Energy per Atom\"]\n",
        "df = df.set_index(\"Formula\")\n",
        "df.sort_index().style.background_gradient()"
      ],
      "metadata": {
        "id": "5a8urxF8VK9Y"
      },
      "execution_count": null,
      "outputs": []
    },
    {
      "cell_type": "code",
      "source": [
        "_ = df.plot(x=\"MatGL Energy per Atom\", y=\"TF Energy per Atom\", kind=\"scatter\")"
      ],
      "metadata": {
        "id": "-pJOKDtwVLJd"
      },
      "execution_count": null,
      "outputs": []
    },
    {
      "cell_type": "code",
      "source": [
        "mae = df[\"Difference\"].abs().mean()\n",
        "print(f\"The mean absolute difference between the MatGL and TF energy per atom is {mae:.5f} eV/atom.\")"
      ],
      "metadata": {
        "id": "hstjm7xGcAYv"
      },
      "execution_count": null,
      "outputs": []
    },
    {
      "cell_type": "markdown",
      "source": [
        "# New Section"
      ],
      "metadata": {
        "id": "hEkCNw_6cCVN"
      }
    },
    {
      "cell_type": "code",
      "source": [],
      "metadata": {
        "id": "v66j-WofVLTm"
      },
      "execution_count": null,
      "outputs": []
    },
    {
      "cell_type": "code",
      "source": [],
      "metadata": {
        "id": "yww4pb7aVLfr"
      },
      "execution_count": null,
      "outputs": []
    }
  ]
}