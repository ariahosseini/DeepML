{
  "nbformat": 4,
  "nbformat_minor": 0,
  "metadata": {
    "colab": {
      "provenance": [],
      "gpuType": "T4",
      "toc_visible": true,
      "authorship_tag": "ABX9TyOYjPaQLn1pWA1yvBhRY/g7",
      "include_colab_link": true
    },
    "kernelspec": {
      "name": "python3",
      "display_name": "Python 3"
    },
    "language_info": {
      "name": "python"
    },
    "accelerator": "GPU"
  },
  "cells": [
    {
      "cell_type": "markdown",
      "metadata": {
        "id": "view-in-github",
        "colab_type": "text"
      },
      "source": [
        "<a href=\"https://colab.research.google.com/github/ariahosseini/DeepML/blob/main/001_TensorFlow_Proj_One_FFNN_RandomSamples.ipynb\" target=\"_parent\"><img src=\"https://colab.research.google.com/assets/colab-badge.svg\" alt=\"Open In Colab\"/></a>"
      ]
    },
    {
      "cell_type": "markdown",
      "source": [
        "# Sequential Model"
      ],
      "metadata": {
        "id": "81XOhpcF3ATc"
      }
    },
    {
      "cell_type": "code",
      "execution_count": 1,
      "metadata": {
        "id": "L0RSVZvWcO7Z"
      },
      "outputs": [],
      "source": [
        "# utils\n",
        "import itertools\n",
        "import os.path\n",
        "import numpy as np\n",
        "from random import randint\n",
        "# sklearn\n",
        "from sklearn.utils import shuffle\n",
        "from sklearn.preprocessing import MinMaxScaler\n",
        "from sklearn.metrics import confusion_matrix\n",
        "# tensorflow\n",
        "import tensorflow as tf\n",
        "from tensorflow import keras\n",
        "from tensorflow.keras.models import (Sequential, load_model)\n",
        "from tensorflow.keras.layers import (Dense, Activation)\n",
        "from tensorflow.keras.optimizers import Adam\n",
        "from tensorflow.keras.metrics import (CategoricalCrossentropy, SparseCategoricalCrossentropy)\n",
        "# matplotlib\n",
        "import matplotlib.pyplot as plt"
      ]
    },
    {
      "cell_type": "code",
      "source": [
        "# GPU\n",
        "physical_devices = tf.config.experimental.list_physical_devices(device_type='GPU')\n",
        "print(\"No. GPUs available: \", len(physical_devices))\n",
        "tf.config.experimental.set_memory_growth(device=physical_devices[0], enable=True)"
      ],
      "metadata": {
        "colab": {
          "base_uri": "https://localhost:8080/"
        },
        "id": "FAODXjLxmim8",
        "outputId": "f4e3d978-5b5c-46b9-c12e-59ab910ace41"
      },
      "execution_count": 2,
      "outputs": [
        {
          "output_type": "stream",
          "name": "stdout",
          "text": [
            "No. GPUs available:  1\n"
          ]
        }
      ]
    },
    {
      "cell_type": "code",
      "source": [
        "# generate a train set\n",
        "train_labels = []\n",
        "train_samples = []\n",
        "for i in range(50): # outliers\n",
        "  random_younger = randint(13, 64)\n",
        "  train_samples.append(random_younger)\n",
        "  train_labels.append(1)\n",
        "  random_older = randint(65, 100)\n",
        "  train_samples.append(random_older)\n",
        "  train_labels.append(0)\n",
        "for i in range(1000): # inliners\n",
        "  random_younger = randint(13, 64)\n",
        "  train_samples.append(random_younger)\n",
        "  train_labels.append(0)\n",
        "  random_older = randint(65, 100)\n",
        "  train_samples.append(random_older)\n",
        "  train_labels.append(1)\n",
        "# train set\n",
        "train_labels = np.asarray(train_labels)\n",
        "train_samples = np.asarray(train_samples)\n",
        "train_labels, train_samples = shuffle(train_labels, train_samples)"
      ],
      "metadata": {
        "id": "LY54iNDNcxUu"
      },
      "execution_count": 3,
      "outputs": []
    },
    {
      "cell_type": "code",
      "source": [
        "# generate a test case\n",
        "test_labels = []\n",
        "test_samples = []\n",
        "for i in range(10): # outliers\n",
        "  random_younger = randint(13, 64)\n",
        "  test_samples.append(random_younger)\n",
        "  test_labels.append(1)\n",
        "  random_older = randint(65, 100)\n",
        "  test_samples.append(random_older)\n",
        "  test_labels.append(0)\n",
        "for i in range(200): # inliners\n",
        "  random_younger = randint(13, 64)\n",
        "  test_samples.append(random_younger)\n",
        "  test_labels.append(0)\n",
        "  random_older = randint(65, 100)\n",
        "  test_samples.append(random_older)\n",
        "  test_labels.append(1)\n",
        "# test set\n",
        "test_labels = np.asarray(test_labels)\n",
        "test_samples = np.asarray(test_samples)\n",
        "test_labels, test_samples = shuffle(test_labels, test_samples)"
      ],
      "metadata": {
        "id": "p5oQ2lX_M258"
      },
      "execution_count": 4,
      "outputs": []
    },
    {
      "cell_type": "code",
      "source": [
        "plt.figure(figsize=(10,4))\n",
        "plt.plot(train_labels[train_samples<65], 'o', markersize=2, alpha=.8)\n",
        "plt.plot(train_labels[train_samples>=65], 's', markersize=3, alpha=.2)\n",
        "plt.xlabel(\"Sample index\")\n",
        "plt.ylabel(\"Categoty\")"
      ],
      "metadata": {
        "colab": {
          "base_uri": "https://localhost:8080/",
          "height": 406
        },
        "id": "ZabJXp9Pwz4E",
        "outputId": "1132a082-3359-4541-8346-af6478d6eecf"
      },
      "execution_count": 5,
      "outputs": [
        {
          "output_type": "execute_result",
          "data": {
            "text/plain": [
              "Text(0, 0.5, 'Categoty')"
            ]
          },
          "metadata": {},
          "execution_count": 5
        },
        {
          "output_type": "display_data",
          "data": {
            "text/plain": [
              "<Figure size 1000x400 with 1 Axes>"
            ],
            "image/png": "[encoded data removed]"
          },
          "metadata": {}
        }
      ]
    },
    {
      "cell_type": "code",
      "source": [
        "plt.figure(figsize=(10,4))\n",
        "plt.plot(test_labels[test_samples<65], 'o', markersize=2, alpha=.8)\n",
        "plt.plot(test_labels[test_samples>=65], 's', markersize=3, alpha=.2)\n",
        "plt.xlabel(\"Sample index\")\n",
        "plt.ylabel(\"Categoty\")"
      ],
      "metadata": {
        "colab": {
          "base_uri": "https://localhost:8080/",
          "height": 406
        },
        "id": "tQxdYKGIzQQM",
        "outputId": "b825aae1-6293-4c12-eacf-5606bd6a553c"
      },
      "execution_count": 6,
      "outputs": [
        {
          "output_type": "execute_result",
          "data": {
            "text/plain": [
              "Text(0, 0.5, 'Categoty')"
            ]
          },
          "metadata": {},
          "execution_count": 6
        },
        {
          "output_type": "display_data",
          "data": {
            "text/plain": [
              "<Figure size 1000x400 with 1 Axes>"
            ],
            "image/png": "[encoded data removed]"
          },
          "metadata": {}
        }
      ]
    },
    {
      "cell_type": "code",
      "source": [
        "# scale data\n",
        "scaler = MinMaxScaler(feature_range=(0,1))\n",
        "scaled_train_samples = scaler.fit_transform(train_samples.reshape(-1,1))\n",
        "scaled_test_samples = scaler.transform(test_samples.reshape(-1,1))"
      ],
      "metadata": {
        "id": "IuIEZtpOsVcX"
      },
      "execution_count": 7,
      "outputs": []
    },
    {
      "cell_type": "code",
      "source": [
        "# sequential model\n",
        "model = Sequential(\n",
        "    [Dense(units=16, input_shape=(1,), activation=\"relu\"),\n",
        "     Dense(units=32, activation=\"relu\"),\n",
        "     Dense(units=2, activation=\"softmax\")]\n",
        "    )\n",
        "model.summary()\n",
        "model.compile(optimizer=Adam(learning_rate=1e-4), loss=\"sparse_categorical_crossentropy\", metrics=[\"accuracy\"]) # compile\n",
        "model.fit(x=scaled_train_samples, y=train_labels, batch_size=10, epochs=10, shuffle=True, verbose=2) # fit"
      ],
      "metadata": {
        "colab": {
          "base_uri": "https://localhost:8080/",
          "height": 677
        },
        "id": "z72hiJuSfANZ",
        "outputId": "feb8556c-794e-4c7e-d859-f48b060b7346"
      },
      "execution_count": 8,
      "outputs": [
        {
          "output_type": "stream",
          "name": "stderr",
          "text": [
            "/usr/local/lib/python3.10/dist-packages/keras/src/layers/core/dense.py:87: UserWarning: Do not pass an `input_shape`/`input_dim` argument to a layer. When using Sequential models, prefer using an `Input(shape)` object as the first layer in the model instead.\n",
            "  super().__init__(activity_regularizer=activity_regularizer, **kwargs)\n"
          ]
        },
        {
          "output_type": "display_data",
          "data": {
            "text/plain": [
              "\u001b[1mModel: \"sequential\"\u001b[0m\n"
            ],
            "text/html": [
              "<pre style=\"white-space:pre;overflow-x:auto;line-height:normal;font-family:Menlo,'DejaVu Sans Mono',consolas,'Courier New',monospace\"><span style=\"font-weight: bold\">Model: \"sequential\"</span>\n",
              "</pre>\n"
            ]
          },
          "metadata": {}
        },
        {
          "output_type": "display_data",
          "data": {
            "text/plain": [
              "┏━━━━━━━━━━━━━━━━━━━━━━━━━━━━━━━━━━━━━━┳━━━━━━━━━━━━━━━━━━━━━━━━━━━━━┳━━━━━━━━━━━━━━━━━┓\n",
              "┃\u001b[1m \u001b[0m\u001b[1mLayer (type)                        \u001b[0m\u001b[1m \u001b[0m┃\u001b[1m \u001b[0m\u001b[1mOutput Shape               \u001b[0m\u001b[1m \u001b[0m┃\u001b[1m \u001b[0m\u001b[1m        Param #\u001b[0m\u001b[1m \u001b[0m┃\n",
              "┡━━━━━━━━━━━━━━━━━━━━━━━━━━━━━━━━━━━━━━╇━━━━━━━━━━━━━━━━━━━━━━━━━━━━━╇━━━━━━━━━━━━━━━━━┩\n",
              "│ dense (\u001b[38;5;33mDense\u001b[0m)                        │ (\u001b[38;5;45mNone\u001b[0m, \u001b[38;5;34m16\u001b[0m)                  │              \u001b[38;5;34m32\u001b[0m │\n",
              "├──────────────────────────────────────┼─────────────────────────────┼─────────────────┤\n",
              "│ dense_1 (\u001b[38;5;33mDense\u001b[0m)                      │ (\u001b[38;5;45mNone\u001b[0m, \u001b[38;5;34m32\u001b[0m)                  │             \u001b[38;5;34m544\u001b[0m │\n",
              "├──────────────────────────────────────┼─────────────────────────────┼─────────────────┤\n",
              "│ dense_2 (\u001b[38;5;33mDense\u001b[0m)                      │ (\u001b[38;5;45mNone\u001b[0m, \u001b[38;5;34m2\u001b[0m)                   │              \u001b[38;5;34m66\u001b[0m │\n",
              "└──────────────────────────────────────┴─────────────────────────────┴─────────────────┘\n"
            ],
            "text/html": [
              "<pre style=\"white-space:pre;overflow-x:auto;line-height:normal;font-family:Menlo,'DejaVu Sans Mono',consolas,'Courier New',monospace\">┏━━━━━━━━━━━━━━━━━━━━━━━━━━━━━━━━━━━━━━┳━━━━━━━━━━━━━━━━━━━━━━━━━━━━━┳━━━━━━━━━━━━━━━━━┓\n",
              "┃<span style=\"font-weight: bold\"> Layer (type)                         </span>┃<span style=\"font-weight: bold\"> Output Shape                </span>┃<span style=\"font-weight: bold\">         Param # </span>┃\n",
              "┡━━━━━━━━━━━━━━━━━━━━━━━━━━━━━━━━━━━━━━╇━━━━━━━━━━━━━━━━━━━━━━━━━━━━━╇━━━━━━━━━━━━━━━━━┩\n",
              "│ dense (<span style=\"color: #0087ff; text-decoration-color: #0087ff\">Dense</span>)                        │ (<span style=\"color: #00d7ff; text-decoration-color: #00d7ff\">None</span>, <span style=\"color: #00af00; text-decoration-color: #00af00\">16</span>)                  │              <span style=\"color: #00af00; text-decoration-color: #00af00\">32</span> │\n",
              "├──────────────────────────────────────┼─────────────────────────────┼─────────────────┤\n",
              "│ dense_1 (<span style=\"color: #0087ff; text-decoration-color: #0087ff\">Dense</span>)                      │ (<span style=\"color: #00d7ff; text-decoration-color: #00d7ff\">None</span>, <span style=\"color: #00af00; text-decoration-color: #00af00\">32</span>)                  │             <span style=\"color: #00af00; text-decoration-color: #00af00\">544</span> │\n",
              "├──────────────────────────────────────┼─────────────────────────────┼─────────────────┤\n",
              "│ dense_2 (<span style=\"color: #0087ff; text-decoration-color: #0087ff\">Dense</span>)                      │ (<span style=\"color: #00d7ff; text-decoration-color: #00d7ff\">None</span>, <span style=\"color: #00af00; text-decoration-color: #00af00\">2</span>)                   │              <span style=\"color: #00af00; text-decoration-color: #00af00\">66</span> │\n",
              "└──────────────────────────────────────┴─────────────────────────────┴─────────────────┘\n",
              "</pre>\n"
            ]
          },
          "metadata": {}
        },
        {
          "output_type": "display_data",
          "data": {
            "text/plain": [
              "\u001b[1m Total params: \u001b[0m\u001b[38;5;34m642\u001b[0m (2.51 KB)\n"
            ],
            "text/html": [
              "<pre style=\"white-space:pre;overflow-x:auto;line-height:normal;font-family:Menlo,'DejaVu Sans Mono',consolas,'Courier New',monospace\"><span style=\"font-weight: bold\"> Total params: </span><span style=\"color: #00af00; text-decoration-color: #00af00\">642</span> (2.51 KB)\n",
              "</pre>\n"
            ]
          },
          "metadata": {}
        },
        {
          "output_type": "display_data",
          "data": {
            "text/plain": [
              "\u001b[1m Trainable params: \u001b[0m\u001b[38;5;34m642\u001b[0m (2.51 KB)\n"
            ],
            "text/html": [
              "<pre style=\"white-space:pre;overflow-x:auto;line-height:normal;font-family:Menlo,'DejaVu Sans Mono',consolas,'Courier New',monospace\"><span style=\"font-weight: bold\"> Trainable params: </span><span style=\"color: #00af00; text-decoration-color: #00af00\">642</span> (2.51 KB)\n",
              "</pre>\n"
            ]
          },
          "metadata": {}
        },
        {
          "output_type": "display_data",
          "data": {
            "text/plain": [
              "\u001b[1m Non-trainable params: \u001b[0m\u001b[38;5;34m0\u001b[0m (0.00 B)\n"
            ],
            "text/html": [
              "<pre style=\"white-space:pre;overflow-x:auto;line-height:normal;font-family:Menlo,'DejaVu Sans Mono',consolas,'Courier New',monospace\"><span style=\"font-weight: bold\"> Non-trainable params: </span><span style=\"color: #00af00; text-decoration-color: #00af00\">0</span> (0.00 B)\n",
              "</pre>\n"
            ]
          },
          "metadata": {}
        },
        {
          "output_type": "stream",
          "name": "stdout",
          "text": [
            "Epoch 1/10\n",
            "210/210 - 6s - 27ms/step - accuracy: 0.4714 - loss: 0.7031\n",
            "Epoch 2/10\n",
            "210/210 - 1s - 3ms/step - accuracy: 0.6033 - loss: 0.6797\n",
            "Epoch 3/10\n",
            "210/210 - 1s - 6ms/step - accuracy: 0.6281 - loss: 0.6614\n",
            "Epoch 4/10\n",
            "210/210 - 1s - 3ms/step - accuracy: 0.6957 - loss: 0.6384\n",
            "Epoch 5/10\n",
            "210/210 - 1s - 4ms/step - accuracy: 0.7224 - loss: 0.6150\n",
            "Epoch 6/10\n",
            "210/210 - 1s - 4ms/step - accuracy: 0.7614 - loss: 0.5897\n",
            "Epoch 7/10\n",
            "210/210 - 0s - 2ms/step - accuracy: 0.7876 - loss: 0.5625\n",
            "Epoch 8/10\n",
            "210/210 - 1s - 2ms/step - accuracy: 0.8124 - loss: 0.5369\n",
            "Epoch 9/10\n",
            "210/210 - 1s - 3ms/step - accuracy: 0.8267 - loss: 0.5114\n",
            "Epoch 10/10\n",
            "210/210 - 0s - 1ms/step - accuracy: 0.8386 - loss: 0.4864\n"
          ]
        },
        {
          "output_type": "execute_result",
          "data": {
            "text/plain": [
              "<keras.src.callbacks.history.History at 0x7f6d21b195a0>"
            ]
          },
          "metadata": {},
          "execution_count": 8
        }
      ]
    },
    {
      "cell_type": "code",
      "source": [
        "model.fit(x=scaled_train_samples, y=train_labels, validation_split=0.1,\n",
        "          batch_size=10, epochs=10, shuffle=True, verbose=2) # fit and validate\n",
        "pred = model.predict(x=scaled_test_samples, batch_size=100, verbose=2)\n",
        "pred = np.argmax(pred, axis=-1) # predictions"
      ],
      "metadata": {
        "colab": {
          "base_uri": "https://localhost:8080/"
        },
        "id": "VNYt3ekSs_AG",
        "outputId": "84349a86-b461-445f-886f-a35c4d911061"
      },
      "execution_count": 9,
      "outputs": [
        {
          "output_type": "stream",
          "name": "stdout",
          "text": [
            "Epoch 1/10\n",
            "189/189 - 1s - 5ms/step - accuracy: 0.8561 - loss: 0.4663 - val_accuracy: 0.8714 - val_loss: 0.4317\n",
            "Epoch 2/10\n",
            "189/189 - 0s - 2ms/step - accuracy: 0.8582 - loss: 0.4468 - val_accuracy: 0.8857 - val_loss: 0.4097\n",
            "Epoch 3/10\n",
            "189/189 - 1s - 4ms/step - accuracy: 0.8677 - loss: 0.4283 - val_accuracy: 0.9048 - val_loss: 0.3886\n",
            "Epoch 4/10\n",
            "189/189 - 1s - 3ms/step - accuracy: 0.8847 - loss: 0.4113 - val_accuracy: 0.9048 - val_loss: 0.3694\n",
            "Epoch 5/10\n",
            "189/189 - 1s - 6ms/step - accuracy: 0.8878 - loss: 0.3958 - val_accuracy: 0.9238 - val_loss: 0.3516\n",
            "Epoch 6/10\n",
            "189/189 - 1s - 3ms/step - accuracy: 0.8947 - loss: 0.3815 - val_accuracy: 0.9238 - val_loss: 0.3352\n",
            "Epoch 7/10\n",
            "189/189 - 0s - 3ms/step - accuracy: 0.8926 - loss: 0.3690 - val_accuracy: 0.9286 - val_loss: 0.3201\n",
            "Epoch 8/10\n",
            "189/189 - 1s - 3ms/step - accuracy: 0.9032 - loss: 0.3578 - val_accuracy: 0.9286 - val_loss: 0.3074\n",
            "Epoch 9/10\n",
            "189/189 - 1s - 3ms/step - accuracy: 0.9032 - loss: 0.3480 - val_accuracy: 0.9381 - val_loss: 0.2952\n",
            "Epoch 10/10\n",
            "189/189 - 1s - 3ms/step - accuracy: 0.9101 - loss: 0.3392 - val_accuracy: 0.9381 - val_loss: 0.2847\n",
            "5/5 - 1s - 141ms/step\n"
          ]
        }
      ]
    },
    {
      "cell_type": "code",
      "source": [
        "# confusion matrix\n",
        "def plot_conf_matrix(cm, classes, normalize=False, title=\"Confusion matrix\", cmap=plt.cm.Blues):\n",
        "  plt.imshow(cm, interpolation=\"nearest\", cmap=cmap)\n",
        "  plt.title(title)\n",
        "  plt.colorbar()\n",
        "  tick_marks = np.arange(len(classes))\n",
        "  plt.xticks(tick_marks, classes, rotation=45)\n",
        "  plt.yticks(tick_marks, classes)\n",
        "\n",
        "  if normalize:\n",
        "    cm = cm.astype(\"float\")/ cm.sum(axis=1)[:, np.newaxis]\n",
        "    print(\"Normalized confusion matrix\")\n",
        "  else:\n",
        "    print(\"Confusion matrix no normalization\")\n",
        "  print(cm)\n",
        "  thresh = cm.max()/2.\n",
        "  for i, j in itertools.product(range(cm.shape[0]), range(cm.shape[1])):\n",
        "    plt.text(j, i, cm[i, j], horizontalalignment=\"center\", color=\"white\" if cm[i, j] > thresh else \"black\")\n",
        "  plt.tight_layout()\n",
        "  plt.ylabel(\"True label\")\n",
        "  plt.xlabel(\"Predicted label\")\n",
        "\n",
        "cm = confusion_matrix(y_true = test_labels, y_pred = pred)\n",
        "cm_plot_labels = [\"No side effects\", \"Had side effects\"]\n",
        "plot_conf_matrix(cm=cm, classes=cm_plot_labels)\n",
        "\n",
        "# if os.path.isfile(\"model.h5\") is False:\n",
        "#   model.save(\"model.h5\") # # save model, use load_model(\"model.h5\") for loading the model"
      ],
      "metadata": {
        "colab": {
          "base_uri": "https://localhost:8080/",
          "height": 561
        },
        "id": "tT53c4PHO5KY",
        "outputId": "1af55487-a873-42ba-b67a-a5dab1ecd551"
      },
      "execution_count": 10,
      "outputs": [
        {
          "output_type": "stream",
          "name": "stdout",
          "text": [
            "Confusion matrix no normalization\n",
            "[[188  22]\n",
            " [ 10 200]]\n"
          ]
        },
        {
          "output_type": "display_data",
          "data": {
            "text/plain": [
              "<Figure size 640x480 with 2 Axes>"
            ],
            "image/png": "[encoded data removed]"
          },
          "metadata": {}
        }
      ]
    }
  ]
}