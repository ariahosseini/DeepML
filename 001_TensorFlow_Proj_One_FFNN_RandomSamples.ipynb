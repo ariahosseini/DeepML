{
  "nbformat": 4,
  "nbformat_minor": 0,
  "metadata": {
    "colab": {
      "provenance": [],
      "gpuType": "T4",
      "authorship_tag": "ABX9TyNSOZ2lfTKeN6rFI1JvSgyB",
      "include_colab_link": true
    },
    "kernelspec": {
      "name": "python3",
      "display_name": "Python 3"
    },
    "language_info": {
      "name": "python"
    },
    "accelerator": "GPU"
  },
  "cells": [
    {
      "cell_type": "markdown",
      "metadata": {
        "id": "view-in-github",
        "colab_type": "text"
      },
      "source": [
        "<a href=\"https://colab.research.google.com/github/ariahosseini/DeepML/blob/main/001_TensorFlow_Proj_One_FFNN_RandomSamples.ipynb\" target=\"_parent\"><img src=\"https://colab.research.google.com/assets/colab-badge.svg\" alt=\"Open In Colab\"/></a>"
      ]
    },
    {
      "cell_type": "code",
      "execution_count": null,
      "metadata": {
        "id": "L0RSVZvWcO7Z"
      },
      "outputs": [],
      "source": [
        "# util\n",
        "import itertools\n",
        "import numpy as np\n",
        "import os.path\n",
        "from random import randint\n",
        "# sklearn\n",
        "from sklearn.utils import shuffle\n",
        "from sklearn.preprocessing import MinMaxScaler\n",
        "from sklearn.metrics import confusion_matrix\n",
        "# tensorflow\n",
        "import tensorflow as tf\n",
        "from tensorflow import keras\n",
        "from tensorflow.keras.models import (Sequential, load_model)\n",
        "from tensorflow.keras.layers import (Dense, Activation)\n",
        "from tensorflow.keras.optimizers import Adam\n",
        "from tensorflow.keras.metrics import (CategoricalCrossentropy, SparseCategoricalCrossentropy)\n",
        "# matplotlib\n",
        "import matplotlib.pyplot as plt"
      ]
    },
    {
      "cell_type": "code",
      "source": [
        "# Set GPU\n",
        "physical_devices = tf.config.experimental.list_physical_devices(device_type='GPU')\n",
        "print(\"No. GPUs available: \", len(physical_devices))\n",
        "tf.config.experimental.set_memory_growth(device=physical_devices[0], enable=True)"
      ],
      "metadata": {
        "colab": {
          "base_uri": "https://localhost:8080/"
        },
        "id": "FAODXjLxmim8",
        "outputId": "23cf23bb-ece6-45c6-aed3-d9b29c36f180"
      },
      "execution_count": null,
      "outputs": [
        {
          "output_type": "stream",
          "name": "stdout",
          "text": [
            "No. GPUs available:  1\n"
          ]
        }
      ]
    },
    {
      "cell_type": "code",
      "source": [
        "# Generate a sample\n",
        "train_labels = []\n",
        "train_samples = []\n",
        "\n",
        "for i in range(50): # outliers\n",
        "\n",
        "  random_younger = randint(13, 64)\n",
        "  train_samples.append(random_younger)\n",
        "  train_labels.append(1)\n",
        "\n",
        "  random_older = randint(65, 100)\n",
        "  train_samples.append(random_older)\n",
        "  train_labels.append(0)\n",
        "\n",
        "for i in range(1000): # inliners\n",
        "\n",
        "  random_younger = randint(13, 64)\n",
        "  train_samples.append(random_younger)\n",
        "  train_labels.append(0)\n",
        "\n",
        "  random_older = randint(65, 100)\n",
        "  train_samples.append(random_older)\n",
        "  train_labels.append(1)"
      ],
      "metadata": {
        "id": "LY54iNDNcxUu"
      },
      "execution_count": null,
      "outputs": []
    },
    {
      "cell_type": "code",
      "source": [
        "# Generate a test case\n",
        "test_labels = []\n",
        "test_samples = []\n",
        "\n",
        "for i in range(10): # outliers\n",
        "\n",
        "  random_younger = randint(13, 64)\n",
        "  test_samples.append(random_younger)\n",
        "  test_labels.append(1)\n",
        "\n",
        "  random_older = randint(65, 100)\n",
        "  test_samples.append(random_older)\n",
        "  test_labels.append(0)\n",
        "\n",
        "for i in range(200): # inliners\n",
        "\n",
        "  random_younger = randint(13, 64)\n",
        "  test_samples.append(random_younger)\n",
        "  test_labels.append(0)\n",
        "\n",
        "  random_older = randint(65, 100)\n",
        "  test_samples.append(random_older)\n",
        "  test_labels.append(1)"
      ],
      "metadata": {
        "id": "p5oQ2lX_M258"
      },
      "execution_count": null,
      "outputs": []
    },
    {
      "cell_type": "code",
      "source": [
        "# Convert to np.array\n",
        "# train\n",
        "train_labels = np.asarray(train_labels)\n",
        "train_samples = np.asarray(train_samples)\n",
        "train_labels, train_samples = shuffle(train_labels, train_samples)\n",
        "# test\n",
        "test_labels = np.asarray(test_labels)\n",
        "test_samples = np.asarray(test_samples)\n",
        "test_labels, test_samples = shuffle(test_labels, test_samples)\n",
        "# plot\n",
        "plt.figure(figsize=(10,4))\n",
        "plt.plot(train_labels[train_samples<65], 'o', markersize=2, alpha=.8)\n",
        "plt.plot(train_labels[train_samples>=65], 's', markersize=3, alpha=.2)\n",
        "plt.xlabel(\"Sample index\")\n",
        "plt.ylabel(\"Categoty\")\n",
        "\n",
        "plt.figure(figsize=(10,4))\n",
        "plt.plot(test_labels[test_samples<65], 'o', markersize=2, alpha=.8)\n",
        "plt.plot(test_labels[test_samples>=65], 's', markersize=3, alpha=.2)\n",
        "plt.xlabel(\"Sample index\")\n",
        "plt.ylabel(\"Categoty\")"
      ],
      "metadata": {
        "colab": {
          "base_uri": "https://localhost:8080/",
          "height": 777
        },
        "id": "ObVvSj7opc4v",
        "outputId": "62eec1a1-bd58-4c15-8b9f-da565b5e3c20"
      },
      "execution_count": null,
      "outputs": [
        {
          "output_type": "execute_result",
          "data": {
            "text/plain": [
              "Text(0, 0.5, 'Categoty')"
            ]
          },
          "metadata": {},
          "execution_count": 5
        },
        {
          "output_type": "display_data",
          "data": {
            "text/plain": [
              "<Figure size 1000x400 with 1 Axes>"
            ],
            "image/png": "[encoded data removed]"
          },
          "metadata": {}
        },
        {
          "output_type": "display_data",
          "data": {
            "text/plain": [
              "<Figure size 1000x400 with 1 Axes>"
            ],
            "image/png": "[encoded data removed]"
          },
          "metadata": {}
        }
      ]
    },
    {
      "cell_type": "code",
      "source": [
        "# Scaled data\n",
        "scaler = MinMaxScaler(feature_range=(0,1))\n",
        "# train\n",
        "scaled_train_samples = scaler.fit_transform(train_samples.reshape(-1,1))\n",
        "# test\n",
        "scaled_test_samples = scaler.transform(test_samples.reshape(-1,1))"
      ],
      "metadata": {
        "id": "IuIEZtpOsVcX"
      },
      "execution_count": null,
      "outputs": []
    },
    {
      "cell_type": "code",
      "source": [
        "# Model\n",
        "model = Sequential(\n",
        "    [\n",
        "        Dense(units=16, input_shape=(1,), activation=\"relu\"),\n",
        "        Dense(units=32, activation=\"relu\"),\n",
        "        Dense(units=2, activation=\"softmax\")\n",
        "\n",
        "    ]\n",
        ")\n",
        "model.summary()"
      ],
      "metadata": {
        "colab": {
          "base_uri": "https://localhost:8080/"
        },
        "id": "z72hiJuSfANZ",
        "outputId": "5c5d8a24-c1a9-46c3-bb84-44d8d0e80a72"
      },
      "execution_count": null,
      "outputs": [
        {
          "output_type": "stream",
          "name": "stdout",
          "text": [
            "Model: \"sequential\"\n",
            "_________________________________________________________________\n",
            " Layer (type)                Output Shape              Param #   \n",
            "=================================================================\n",
            " dense (Dense)               (None, 16)                32        \n",
            "                                                                 \n",
            " dense_1 (Dense)             (None, 32)                544       \n",
            "                                                                 \n",
            " dense_2 (Dense)             (None, 2)                 66        \n",
            "                                                                 \n",
            "=================================================================\n",
            "Total params: 642 (2.51 KB)\n",
            "Trainable params: 642 (2.51 KB)\n",
            "Non-trainable params: 0 (0.00 Byte)\n",
            "_________________________________________________________________\n"
          ]
        }
      ]
    },
    {
      "cell_type": "code",
      "source": [
        "# Compile\n",
        "model.compile(optimizer=Adam(learning_rate=1e-4), loss=\"sparse_categorical_crossentropy\", metrics=[\"accuracy\"])"
      ],
      "metadata": {
        "id": "Fa7GTS8xtLnf"
      },
      "execution_count": null,
      "outputs": []
    },
    {
      "cell_type": "code",
      "source": [
        "# Fit\n",
        "model.fit(x=scaled_train_samples, y=train_labels, batch_size=10, epochs=10, shuffle=True, verbose=2)"
      ],
      "metadata": {
        "colab": {
          "base_uri": "https://localhost:8080/"
        },
        "id": "m7K6n3OQd9lT",
        "outputId": "202c0ff8-058b-4f7d-fd81-0df05c0f8c5d"
      },
      "execution_count": null,
      "outputs": [
        {
          "output_type": "stream",
          "name": "stdout",
          "text": [
            "Epoch 1/10\n",
            "210/210 - 7s - loss: 0.6643 - accuracy: 0.5600 - 7s/epoch - 31ms/step\n",
            "Epoch 2/10\n",
            "210/210 - 1s - loss: 0.6282 - accuracy: 0.6810 - 689ms/epoch - 3ms/step\n",
            "Epoch 3/10\n",
            "210/210 - 1s - loss: 0.5912 - accuracy: 0.7229 - 794ms/epoch - 4ms/step\n",
            "Epoch 4/10\n",
            "210/210 - 1s - loss: 0.5564 - accuracy: 0.7600 - 1s/epoch - 6ms/step\n",
            "Epoch 5/10\n",
            "210/210 - 1s - loss: 0.5217 - accuracy: 0.7929 - 672ms/epoch - 3ms/step\n",
            "Epoch 6/10\n",
            "210/210 - 1s - loss: 0.4872 - accuracy: 0.8305 - 581ms/epoch - 3ms/step\n",
            "Epoch 7/10\n",
            "210/210 - 1s - loss: 0.4540 - accuracy: 0.8557 - 779ms/epoch - 4ms/step\n",
            "Epoch 8/10\n",
            "210/210 - 1s - loss: 0.4228 - accuracy: 0.8771 - 769ms/epoch - 4ms/step\n",
            "Epoch 9/10\n",
            "210/210 - 0s - loss: 0.3944 - accuracy: 0.8900 - 472ms/epoch - 2ms/step\n",
            "Epoch 10/10\n",
            "210/210 - 0s - loss: 0.3701 - accuracy: 0.9062 - 464ms/epoch - 2ms/step\n"
          ]
        },
        {
          "output_type": "execute_result",
          "data": {
            "text/plain": [
              "<keras.src.callbacks.History at 0x7d944913e560>"
            ]
          },
          "metadata": {},
          "execution_count": 10
        }
      ]
    },
    {
      "cell_type": "code",
      "source": [
        "# Fit and validate\n",
        "model.fit(x=scaled_train_samples, y=train_labels, validation_split=0.1,\n",
        "          batch_size=10, epochs=10, shuffle=True, verbose=2)"
      ],
      "metadata": {
        "colab": {
          "base_uri": "https://localhost:8080/"
        },
        "id": "VNYt3ekSs_AG",
        "outputId": "e6112da6-e251-4587-d01b-9d96820e4f42"
      },
      "execution_count": null,
      "outputs": [
        {
          "output_type": "stream",
          "name": "stdout",
          "text": [
            "Epoch 1/10\n",
            "189/189 - 1s - loss: 0.2732 - accuracy: 0.9344 - val_loss: 0.2615 - val_accuracy: 0.9286 - 728ms/epoch - 4ms/step\n",
            "Epoch 2/10\n",
            "189/189 - 1s - loss: 0.2704 - accuracy: 0.9370 - val_loss: 0.2588 - val_accuracy: 0.9286 - 503ms/epoch - 3ms/step\n",
            "Epoch 3/10\n",
            "189/189 - 0s - loss: 0.2681 - accuracy: 0.9376 - val_loss: 0.2567 - val_accuracy: 0.9286 - 460ms/epoch - 2ms/step\n",
            "Epoch 4/10\n",
            "189/189 - 0s - loss: 0.2662 - accuracy: 0.9392 - val_loss: 0.2549 - val_accuracy: 0.9381 - 450ms/epoch - 2ms/step\n",
            "Epoch 5/10\n",
            "189/189 - 1s - loss: 0.2642 - accuracy: 0.9429 - val_loss: 0.2528 - val_accuracy: 0.9286 - 504ms/epoch - 3ms/step\n",
            "Epoch 6/10\n",
            "189/189 - 0s - loss: 0.2628 - accuracy: 0.9402 - val_loss: 0.2513 - val_accuracy: 0.9286 - 465ms/epoch - 2ms/step\n",
            "Epoch 7/10\n",
            "189/189 - 0s - loss: 0.2611 - accuracy: 0.9413 - val_loss: 0.2501 - val_accuracy: 0.9286 - 484ms/epoch - 3ms/step\n",
            "Epoch 8/10\n",
            "189/189 - 0s - loss: 0.2596 - accuracy: 0.9402 - val_loss: 0.2488 - val_accuracy: 0.9286 - 483ms/epoch - 3ms/step\n",
            "Epoch 9/10\n",
            "189/189 - 0s - loss: 0.2589 - accuracy: 0.9407 - val_loss: 0.2477 - val_accuracy: 0.9286 - 468ms/epoch - 2ms/step\n",
            "Epoch 10/10\n",
            "189/189 - 0s - loss: 0.2571 - accuracy: 0.9392 - val_loss: 0.2470 - val_accuracy: 0.9381 - 467ms/epoch - 2ms/step\n"
          ]
        },
        {
          "output_type": "execute_result",
          "data": {
            "text/plain": [
              "<keras.src.callbacks.History at 0x7d9470381480>"
            ]
          },
          "metadata": {},
          "execution_count": 12
        }
      ]
    },
    {
      "cell_type": "code",
      "source": [
        "# Predictions\n",
        "pred = model.predict(x=scaled_test_samples, batch_size=100, verbose=2)\n",
        "pred = np.argmax(pred, axis=-1)"
      ],
      "metadata": {
        "colab": {
          "base_uri": "https://localhost:8080/"
        },
        "id": "Xa51ti-jMXSP",
        "outputId": "dd26c031-d90d-41bd-d3de-f16b92ba4f66"
      },
      "execution_count": null,
      "outputs": [
        {
          "output_type": "stream",
          "name": "stdout",
          "text": [
            "5/5 - 0s - 126ms/epoch - 25ms/step\n"
          ]
        }
      ]
    },
    {
      "cell_type": "code",
      "source": [
        "# Confusion matrix\n",
        "def plot_conf_matrix(cm, classes, normalize=False, title=\"Confusion matrix\", cmap=plt.cm.Blues):\n",
        "  plt.imshow(cm, interpolation=\"nearest\", cmap=cmap)\n",
        "  plt.title(title)\n",
        "  plt.colorbar()\n",
        "  tick_marks = np.arange(len(classes))\n",
        "  plt.xticks(tick_marks, classes, rotation=45)\n",
        "  plt.yticks(tick_marks, classes)\n",
        "\n",
        "  if normalize:\n",
        "    cm = cm.astype(\"float\")/ cm.sum(axis=1)[:, np.newaxis]\n",
        "    print(\"Normalized confusion matrix\")\n",
        "  else:\n",
        "    print(\"Confusion matrix no normalization\")\n",
        "  print(cm)\n",
        "  thresh = cm.max()/2.\n",
        "  for i, j in itertools.product(range(cm.shape[0]), range(cm.shape[1])):\n",
        "    plt.text(j, i, cm[i, j], horizontalalignment=\"center\", color=\"white\" if cm[i, j] > thresh else \"black\")\n",
        "  plt.tight_layout()\n",
        "  plt.ylabel(\"True label\")\n",
        "  plt.xlabel(\"Predicted label\")\n",
        "\n",
        "cm = confusion_matrix(y_true = test_labels, y_pred = pred)\n",
        "cm_plot_labels = [\"No side effects\", \"Had side effects\"]\n",
        "plot_conf_matrix(cm=cm, classes=cm_plot_labels)"
      ],
      "metadata": {
        "colab": {
          "base_uri": "https://localhost:8080/",
          "height": 561
        },
        "id": "tT53c4PHO5KY",
        "outputId": "09b31a41-c719-4b91-8b69-180507e5216d"
      },
      "execution_count": null,
      "outputs": [
        {
          "output_type": "stream",
          "name": "stdout",
          "text": [
            "Confusion matrix no normalization\n",
            "[[196  14]\n",
            " [ 10 200]]\n"
          ]
        },
        {
          "output_type": "display_data",
          "data": {
            "text/plain": [
              "<Figure size 640x480 with 2 Axes>"
            ],
            "image/png": "[encoded data removed]"
          },
          "metadata": {}
        }
      ]
    },
    {
      "cell_type": "code",
      "source": [
        "# Save\n",
        "# if os.path.isfile(\"model.h5\") is False:\n",
        "#   model.save(\"model.h5\") # use model = load_model(\"model.h5\") for loading the model"
      ],
      "metadata": {
        "id": "agDNsCSFPNaq"
      },
      "execution_count": null,
      "outputs": []
    }
  ]
}